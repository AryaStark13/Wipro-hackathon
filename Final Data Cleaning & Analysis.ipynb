{
 "cells": [
  {
   "cell_type": "code",
   "execution_count": 1,
   "id": "12713e4b",
   "metadata": {
    "ExecuteTime": {
     "end_time": "2022-02-12T09:20:01.526809Z",
     "start_time": "2022-02-12T09:20:00.312808Z"
    }
   },
   "outputs": [],
   "source": [
    "import pandas as pd\n",
    "import numpy as np\n",
    "import matplotlib.pyplot as plt\n",
    "from sklearn.preprocessing import MinMaxScaler"
   ]
  },
  {
   "cell_type": "markdown",
   "id": "80547776",
   "metadata": {},
   "source": [
    "# Complete EDA of *train* excel sheet"
   ]
  },
  {
   "cell_type": "code",
   "execution_count": 2,
   "id": "8f36aaa0",
   "metadata": {
    "ExecuteTime": {
     "end_time": "2022-02-12T09:20:01.761179Z",
     "start_time": "2022-02-12T09:20:01.527804Z"
    }
   },
   "outputs": [
    {
     "data": {
      "text/html": [
       "<div>\n",
       "<style scoped>\n",
       "    .dataframe tbody tr th:only-of-type {\n",
       "        vertical-align: middle;\n",
       "    }\n",
       "\n",
       "    .dataframe tbody tr th {\n",
       "        vertical-align: top;\n",
       "    }\n",
       "\n",
       "    .dataframe thead th {\n",
       "        text-align: right;\n",
       "    }\n",
       "</style>\n",
       "<table border=\"1\" class=\"dataframe\">\n",
       "  <thead>\n",
       "    <tr style=\"text-align: right;\">\n",
       "      <th></th>\n",
       "      <th>Year</th>\n",
       "      <th>Month</th>\n",
       "      <th>Day</th>\n",
       "      <th>Hour</th>\n",
       "      <th>Minute</th>\n",
       "      <th>Clearsky DHI</th>\n",
       "      <th>Clearsky DNI</th>\n",
       "      <th>Clearsky GHI</th>\n",
       "      <th>Cloud Type</th>\n",
       "      <th>Dew Point</th>\n",
       "      <th>Temperature</th>\n",
       "      <th>Pressure</th>\n",
       "      <th>Relative Humidity</th>\n",
       "      <th>Solar Zenith Angle</th>\n",
       "      <th>Precipitable Water</th>\n",
       "      <th>Wind Direction</th>\n",
       "      <th>Wind Speed</th>\n",
       "      <th>Fill Flag</th>\n",
       "    </tr>\n",
       "  </thead>\n",
       "  <tbody>\n",
       "    <tr>\n",
       "      <th>0</th>\n",
       "      <td>2009</td>\n",
       "      <td>1</td>\n",
       "      <td>1</td>\n",
       "      <td>0</td>\n",
       "      <td>0</td>\n",
       "      <td>0</td>\n",
       "      <td>0</td>\n",
       "      <td>0</td>\n",
       "      <td>0</td>\n",
       "      <td>0.0</td>\n",
       "      <td>5.0</td>\n",
       "      <td>1010</td>\n",
       "      <td>75.34</td>\n",
       "      <td>106.15</td>\n",
       "      <td>0.499</td>\n",
       "      <td>346.1</td>\n",
       "      <td>3.1</td>\n",
       "      <td>0</td>\n",
       "    </tr>\n",
       "    <tr>\n",
       "      <th>1</th>\n",
       "      <td>2009</td>\n",
       "      <td>1</td>\n",
       "      <td>1</td>\n",
       "      <td>0</td>\n",
       "      <td>30</td>\n",
       "      <td>0</td>\n",
       "      <td>0</td>\n",
       "      <td>0</td>\n",
       "      <td>0</td>\n",
       "      <td>1.0</td>\n",
       "      <td>5.0</td>\n",
       "      <td>1010</td>\n",
       "      <td>80.81</td>\n",
       "      <td>112.28</td>\n",
       "      <td>0.490</td>\n",
       "      <td>346.1</td>\n",
       "      <td>3.1</td>\n",
       "      <td>0</td>\n",
       "    </tr>\n",
       "    <tr>\n",
       "      <th>2</th>\n",
       "      <td>2009</td>\n",
       "      <td>1</td>\n",
       "      <td>1</td>\n",
       "      <td>1</td>\n",
       "      <td>0</td>\n",
       "      <td>0</td>\n",
       "      <td>0</td>\n",
       "      <td>0</td>\n",
       "      <td>4</td>\n",
       "      <td>0.0</td>\n",
       "      <td>5.0</td>\n",
       "      <td>1010</td>\n",
       "      <td>78.27</td>\n",
       "      <td>118.50</td>\n",
       "      <td>0.482</td>\n",
       "      <td>347.9</td>\n",
       "      <td>3.2</td>\n",
       "      <td>0</td>\n",
       "    </tr>\n",
       "    <tr>\n",
       "      <th>3</th>\n",
       "      <td>2009</td>\n",
       "      <td>1</td>\n",
       "      <td>1</td>\n",
       "      <td>1</td>\n",
       "      <td>30</td>\n",
       "      <td>0</td>\n",
       "      <td>0</td>\n",
       "      <td>0</td>\n",
       "      <td>4</td>\n",
       "      <td>0.0</td>\n",
       "      <td>4.0</td>\n",
       "      <td>1010</td>\n",
       "      <td>78.27</td>\n",
       "      <td>124.78</td>\n",
       "      <td>0.478</td>\n",
       "      <td>347.9</td>\n",
       "      <td>3.1</td>\n",
       "      <td>0</td>\n",
       "    </tr>\n",
       "    <tr>\n",
       "      <th>4</th>\n",
       "      <td>2009</td>\n",
       "      <td>1</td>\n",
       "      <td>1</td>\n",
       "      <td>2</td>\n",
       "      <td>0</td>\n",
       "      <td>0</td>\n",
       "      <td>0</td>\n",
       "      <td>0</td>\n",
       "      <td>4</td>\n",
       "      <td>0.0</td>\n",
       "      <td>4.0</td>\n",
       "      <td>1010</td>\n",
       "      <td>76.45</td>\n",
       "      <td>131.12</td>\n",
       "      <td>0.475</td>\n",
       "      <td>350.0</td>\n",
       "      <td>3.0</td>\n",
       "      <td>0</td>\n",
       "    </tr>\n",
       "  </tbody>\n",
       "</table>\n",
       "</div>"
      ],
      "text/plain": [
       "   Year  Month  Day  Hour  Minute  Clearsky DHI  Clearsky DNI  Clearsky GHI  \\\n",
       "0  2009      1    1     0       0             0             0             0   \n",
       "1  2009      1    1     0      30             0             0             0   \n",
       "2  2009      1    1     1       0             0             0             0   \n",
       "3  2009      1    1     1      30             0             0             0   \n",
       "4  2009      1    1     2       0             0             0             0   \n",
       "\n",
       "   Cloud Type  Dew Point  Temperature  Pressure  Relative Humidity  \\\n",
       "0           0        0.0          5.0      1010              75.34   \n",
       "1           0        1.0          5.0      1010              80.81   \n",
       "2           4        0.0          5.0      1010              78.27   \n",
       "3           4        0.0          4.0      1010              78.27   \n",
       "4           4        0.0          4.0      1010              76.45   \n",
       "\n",
       "   Solar Zenith Angle  Precipitable Water  Wind Direction  Wind Speed  \\\n",
       "0              106.15               0.499           346.1         3.1   \n",
       "1              112.28               0.490           346.1         3.1   \n",
       "2              118.50               0.482           347.9         3.2   \n",
       "3              124.78               0.478           347.9         3.1   \n",
       "4              131.12               0.475           350.0         3.0   \n",
       "\n",
       "   Fill Flag  \n",
       "0          0  \n",
       "1          0  \n",
       "2          0  \n",
       "3          0  \n",
       "4          0  "
      ]
     },
     "execution_count": 2,
     "metadata": {},
     "output_type": "execute_result"
    }
   ],
   "source": [
    "train = pd.read_csv(r\"C:\\Users\\ariha\\Desktop\\Hackathons & Projects\\Wipro Hackathon\\train.csv\")\n",
    "train.head()"
   ]
  },
  {
   "cell_type": "code",
   "execution_count": 3,
   "id": "ce7c4ae7",
   "metadata": {
    "ExecuteTime": {
     "end_time": "2022-02-12T09:20:01.776140Z",
     "start_time": "2022-02-12T09:20:01.763174Z"
    }
   },
   "outputs": [
    {
     "data": {
      "text/plain": [
       "(175296, 18)"
      ]
     },
     "execution_count": 3,
     "metadata": {},
     "output_type": "execute_result"
    }
   ],
   "source": [
    "train.shape"
   ]
  },
  {
   "cell_type": "code",
   "execution_count": 4,
   "id": "ce999e06",
   "metadata": {
    "ExecuteTime": {
     "end_time": "2022-02-12T09:20:01.838972Z",
     "start_time": "2022-02-12T09:20:01.778136Z"
    }
   },
   "outputs": [],
   "source": [
    "train['Date'] = pd.to_datetime(train[['Year', 'Month', 'Day', 'Hour', 'Minute']])"
   ]
  },
  {
   "cell_type": "code",
   "execution_count": 5,
   "id": "de9deb9d",
   "metadata": {
    "ExecuteTime": {
     "end_time": "2022-02-12T09:20:01.854929Z",
     "start_time": "2022-02-12T09:20:01.840969Z"
    }
   },
   "outputs": [
    {
     "data": {
      "text/html": [
       "<div>\n",
       "<style scoped>\n",
       "    .dataframe tbody tr th:only-of-type {\n",
       "        vertical-align: middle;\n",
       "    }\n",
       "\n",
       "    .dataframe tbody tr th {\n",
       "        vertical-align: top;\n",
       "    }\n",
       "\n",
       "    .dataframe thead th {\n",
       "        text-align: right;\n",
       "    }\n",
       "</style>\n",
       "<table border=\"1\" class=\"dataframe\">\n",
       "  <thead>\n",
       "    <tr style=\"text-align: right;\">\n",
       "      <th></th>\n",
       "      <th>Clearsky DHI</th>\n",
       "      <th>Clearsky DNI</th>\n",
       "      <th>Clearsky GHI</th>\n",
       "    </tr>\n",
       "  </thead>\n",
       "  <tbody>\n",
       "    <tr>\n",
       "      <th>0</th>\n",
       "      <td>0</td>\n",
       "      <td>0</td>\n",
       "      <td>0</td>\n",
       "    </tr>\n",
       "    <tr>\n",
       "      <th>1</th>\n",
       "      <td>0</td>\n",
       "      <td>0</td>\n",
       "      <td>0</td>\n",
       "    </tr>\n",
       "    <tr>\n",
       "      <th>2</th>\n",
       "      <td>0</td>\n",
       "      <td>0</td>\n",
       "      <td>0</td>\n",
       "    </tr>\n",
       "    <tr>\n",
       "      <th>3</th>\n",
       "      <td>0</td>\n",
       "      <td>0</td>\n",
       "      <td>0</td>\n",
       "    </tr>\n",
       "    <tr>\n",
       "      <th>4</th>\n",
       "      <td>0</td>\n",
       "      <td>0</td>\n",
       "      <td>0</td>\n",
       "    </tr>\n",
       "  </tbody>\n",
       "</table>\n",
       "</div>"
      ],
      "text/plain": [
       "   Clearsky DHI  Clearsky DNI  Clearsky GHI\n",
       "0             0             0             0\n",
       "1             0             0             0\n",
       "2             0             0             0\n",
       "3             0             0             0\n",
       "4             0             0             0"
      ]
     },
     "execution_count": 5,
     "metadata": {},
     "output_type": "execute_result"
    }
   ],
   "source": [
    "y = pd.DataFrame(train[['Clearsky DHI', 'Clearsky DNI', 'Clearsky GHI']])\n",
    "y.head()"
   ]
  },
  {
   "cell_type": "code",
   "execution_count": 6,
   "id": "ad56f061",
   "metadata": {
    "ExecuteTime": {
     "end_time": "2022-02-12T09:20:01.869889Z",
     "start_time": "2022-02-12T09:20:01.855926Z"
    }
   },
   "outputs": [
    {
     "data": {
      "text/plain": [
       "(175296, 3)"
      ]
     },
     "execution_count": 6,
     "metadata": {},
     "output_type": "execute_result"
    }
   ],
   "source": [
    "y.shape"
   ]
  },
  {
   "cell_type": "code",
   "execution_count": 7,
   "id": "d2af5b90",
   "metadata": {
    "ExecuteTime": {
     "end_time": "2022-02-12T09:20:01.916764Z",
     "start_time": "2022-02-12T09:20:01.870886Z"
    }
   },
   "outputs": [
    {
     "data": {
      "text/html": [
       "<div>\n",
       "<style scoped>\n",
       "    .dataframe tbody tr th:only-of-type {\n",
       "        vertical-align: middle;\n",
       "    }\n",
       "\n",
       "    .dataframe tbody tr th {\n",
       "        vertical-align: top;\n",
       "    }\n",
       "\n",
       "    .dataframe thead th {\n",
       "        text-align: right;\n",
       "    }\n",
       "</style>\n",
       "<table border=\"1\" class=\"dataframe\">\n",
       "  <thead>\n",
       "    <tr style=\"text-align: right;\">\n",
       "      <th></th>\n",
       "      <th>Year</th>\n",
       "      <th>Month</th>\n",
       "      <th>Day</th>\n",
       "      <th>Hour</th>\n",
       "      <th>Minute</th>\n",
       "      <th>Cloud Type</th>\n",
       "      <th>Dew Point</th>\n",
       "      <th>Temperature</th>\n",
       "      <th>Pressure</th>\n",
       "      <th>Relative Humidity</th>\n",
       "      <th>Solar Zenith Angle</th>\n",
       "      <th>Precipitable Water</th>\n",
       "      <th>Wind Direction</th>\n",
       "      <th>Wind Speed</th>\n",
       "      <th>Fill Flag</th>\n",
       "      <th>Date</th>\n",
       "    </tr>\n",
       "  </thead>\n",
       "  <tbody>\n",
       "    <tr>\n",
       "      <th>0</th>\n",
       "      <td>2009</td>\n",
       "      <td>1</td>\n",
       "      <td>1</td>\n",
       "      <td>0</td>\n",
       "      <td>0</td>\n",
       "      <td>0</td>\n",
       "      <td>0.0</td>\n",
       "      <td>5.0</td>\n",
       "      <td>1010</td>\n",
       "      <td>75.34</td>\n",
       "      <td>106.15</td>\n",
       "      <td>0.499</td>\n",
       "      <td>346.1</td>\n",
       "      <td>3.1</td>\n",
       "      <td>0</td>\n",
       "      <td>2009-01-01 00:00:00</td>\n",
       "    </tr>\n",
       "    <tr>\n",
       "      <th>1</th>\n",
       "      <td>2009</td>\n",
       "      <td>1</td>\n",
       "      <td>1</td>\n",
       "      <td>0</td>\n",
       "      <td>30</td>\n",
       "      <td>0</td>\n",
       "      <td>1.0</td>\n",
       "      <td>5.0</td>\n",
       "      <td>1010</td>\n",
       "      <td>80.81</td>\n",
       "      <td>112.28</td>\n",
       "      <td>0.490</td>\n",
       "      <td>346.1</td>\n",
       "      <td>3.1</td>\n",
       "      <td>0</td>\n",
       "      <td>2009-01-01 00:30:00</td>\n",
       "    </tr>\n",
       "    <tr>\n",
       "      <th>2</th>\n",
       "      <td>2009</td>\n",
       "      <td>1</td>\n",
       "      <td>1</td>\n",
       "      <td>1</td>\n",
       "      <td>0</td>\n",
       "      <td>4</td>\n",
       "      <td>0.0</td>\n",
       "      <td>5.0</td>\n",
       "      <td>1010</td>\n",
       "      <td>78.27</td>\n",
       "      <td>118.50</td>\n",
       "      <td>0.482</td>\n",
       "      <td>347.9</td>\n",
       "      <td>3.2</td>\n",
       "      <td>0</td>\n",
       "      <td>2009-01-01 01:00:00</td>\n",
       "    </tr>\n",
       "    <tr>\n",
       "      <th>3</th>\n",
       "      <td>2009</td>\n",
       "      <td>1</td>\n",
       "      <td>1</td>\n",
       "      <td>1</td>\n",
       "      <td>30</td>\n",
       "      <td>4</td>\n",
       "      <td>0.0</td>\n",
       "      <td>4.0</td>\n",
       "      <td>1010</td>\n",
       "      <td>78.27</td>\n",
       "      <td>124.78</td>\n",
       "      <td>0.478</td>\n",
       "      <td>347.9</td>\n",
       "      <td>3.1</td>\n",
       "      <td>0</td>\n",
       "      <td>2009-01-01 01:30:00</td>\n",
       "    </tr>\n",
       "    <tr>\n",
       "      <th>4</th>\n",
       "      <td>2009</td>\n",
       "      <td>1</td>\n",
       "      <td>1</td>\n",
       "      <td>2</td>\n",
       "      <td>0</td>\n",
       "      <td>4</td>\n",
       "      <td>0.0</td>\n",
       "      <td>4.0</td>\n",
       "      <td>1010</td>\n",
       "      <td>76.45</td>\n",
       "      <td>131.12</td>\n",
       "      <td>0.475</td>\n",
       "      <td>350.0</td>\n",
       "      <td>3.0</td>\n",
       "      <td>0</td>\n",
       "      <td>2009-01-01 02:00:00</td>\n",
       "    </tr>\n",
       "  </tbody>\n",
       "</table>\n",
       "</div>"
      ],
      "text/plain": [
       "   Year  Month  Day  Hour  Minute  Cloud Type  Dew Point  Temperature  \\\n",
       "0  2009      1    1     0       0           0        0.0          5.0   \n",
       "1  2009      1    1     0      30           0        1.0          5.0   \n",
       "2  2009      1    1     1       0           4        0.0          5.0   \n",
       "3  2009      1    1     1      30           4        0.0          4.0   \n",
       "4  2009      1    1     2       0           4        0.0          4.0   \n",
       "\n",
       "   Pressure  Relative Humidity  Solar Zenith Angle  Precipitable Water  \\\n",
       "0      1010              75.34              106.15               0.499   \n",
       "1      1010              80.81              112.28               0.490   \n",
       "2      1010              78.27              118.50               0.482   \n",
       "3      1010              78.27              124.78               0.478   \n",
       "4      1010              76.45              131.12               0.475   \n",
       "\n",
       "   Wind Direction  Wind Speed  Fill Flag                Date  \n",
       "0           346.1         3.1          0 2009-01-01 00:00:00  \n",
       "1           346.1         3.1          0 2009-01-01 00:30:00  \n",
       "2           347.9         3.2          0 2009-01-01 01:00:00  \n",
       "3           347.9         3.1          0 2009-01-01 01:30:00  \n",
       "4           350.0         3.0          0 2009-01-01 02:00:00  "
      ]
     },
     "execution_count": 7,
     "metadata": {},
     "output_type": "execute_result"
    }
   ],
   "source": [
    "x = train.drop(columns=['Clearsky DHI', 'Clearsky DNI', 'Clearsky GHI'], axis=1)\n",
    "x.head()"
   ]
  },
  {
   "cell_type": "code",
   "execution_count": 8,
   "id": "368b9444",
   "metadata": {
    "ExecuteTime": {
     "end_time": "2022-02-12T09:20:01.932721Z",
     "start_time": "2022-02-12T09:20:01.918759Z"
    }
   },
   "outputs": [
    {
     "data": {
      "text/plain": [
       "(175296, 16)"
      ]
     },
     "execution_count": 8,
     "metadata": {},
     "output_type": "execute_result"
    }
   ],
   "source": [
    "x.shape"
   ]
  },
  {
   "cell_type": "code",
   "execution_count": 9,
   "id": "a2c2b2c4",
   "metadata": {
    "ExecuteTime": {
     "end_time": "2022-02-12T09:20:01.964636Z",
     "start_time": "2022-02-12T09:20:01.934715Z"
    }
   },
   "outputs": [
    {
     "data": {
      "text/html": [
       "<div>\n",
       "<style scoped>\n",
       "    .dataframe tbody tr th:only-of-type {\n",
       "        vertical-align: middle;\n",
       "    }\n",
       "\n",
       "    .dataframe tbody tr th {\n",
       "        vertical-align: top;\n",
       "    }\n",
       "\n",
       "    .dataframe thead th {\n",
       "        text-align: right;\n",
       "    }\n",
       "</style>\n",
       "<table border=\"1\" class=\"dataframe\">\n",
       "  <thead>\n",
       "    <tr style=\"text-align: right;\">\n",
       "      <th></th>\n",
       "      <th>Cloud Type</th>\n",
       "      <th>Dew Point</th>\n",
       "      <th>Temperature</th>\n",
       "      <th>Pressure</th>\n",
       "      <th>Relative Humidity</th>\n",
       "      <th>Solar Zenith Angle</th>\n",
       "      <th>Precipitable Water</th>\n",
       "      <th>Wind Direction</th>\n",
       "      <th>Wind Speed</th>\n",
       "      <th>Fill Flag</th>\n",
       "      <th>Date</th>\n",
       "    </tr>\n",
       "  </thead>\n",
       "  <tbody>\n",
       "    <tr>\n",
       "      <th>0</th>\n",
       "      <td>0</td>\n",
       "      <td>0.0</td>\n",
       "      <td>5.0</td>\n",
       "      <td>1010</td>\n",
       "      <td>75.34</td>\n",
       "      <td>106.15</td>\n",
       "      <td>0.499</td>\n",
       "      <td>346.1</td>\n",
       "      <td>3.1</td>\n",
       "      <td>0</td>\n",
       "      <td>2009-01-01 00:00:00</td>\n",
       "    </tr>\n",
       "    <tr>\n",
       "      <th>1</th>\n",
       "      <td>0</td>\n",
       "      <td>1.0</td>\n",
       "      <td>5.0</td>\n",
       "      <td>1010</td>\n",
       "      <td>80.81</td>\n",
       "      <td>112.28</td>\n",
       "      <td>0.490</td>\n",
       "      <td>346.1</td>\n",
       "      <td>3.1</td>\n",
       "      <td>0</td>\n",
       "      <td>2009-01-01 00:30:00</td>\n",
       "    </tr>\n",
       "    <tr>\n",
       "      <th>2</th>\n",
       "      <td>4</td>\n",
       "      <td>0.0</td>\n",
       "      <td>5.0</td>\n",
       "      <td>1010</td>\n",
       "      <td>78.27</td>\n",
       "      <td>118.50</td>\n",
       "      <td>0.482</td>\n",
       "      <td>347.9</td>\n",
       "      <td>3.2</td>\n",
       "      <td>0</td>\n",
       "      <td>2009-01-01 01:00:00</td>\n",
       "    </tr>\n",
       "    <tr>\n",
       "      <th>3</th>\n",
       "      <td>4</td>\n",
       "      <td>0.0</td>\n",
       "      <td>4.0</td>\n",
       "      <td>1010</td>\n",
       "      <td>78.27</td>\n",
       "      <td>124.78</td>\n",
       "      <td>0.478</td>\n",
       "      <td>347.9</td>\n",
       "      <td>3.1</td>\n",
       "      <td>0</td>\n",
       "      <td>2009-01-01 01:30:00</td>\n",
       "    </tr>\n",
       "    <tr>\n",
       "      <th>4</th>\n",
       "      <td>4</td>\n",
       "      <td>0.0</td>\n",
       "      <td>4.0</td>\n",
       "      <td>1010</td>\n",
       "      <td>76.45</td>\n",
       "      <td>131.12</td>\n",
       "      <td>0.475</td>\n",
       "      <td>350.0</td>\n",
       "      <td>3.0</td>\n",
       "      <td>0</td>\n",
       "      <td>2009-01-01 02:00:00</td>\n",
       "    </tr>\n",
       "  </tbody>\n",
       "</table>\n",
       "</div>"
      ],
      "text/plain": [
       "   Cloud Type  Dew Point  Temperature  Pressure  Relative Humidity  \\\n",
       "0           0        0.0          5.0      1010              75.34   \n",
       "1           0        1.0          5.0      1010              80.81   \n",
       "2           4        0.0          5.0      1010              78.27   \n",
       "3           4        0.0          4.0      1010              78.27   \n",
       "4           4        0.0          4.0      1010              76.45   \n",
       "\n",
       "   Solar Zenith Angle  Precipitable Water  Wind Direction  Wind Speed  \\\n",
       "0              106.15               0.499           346.1         3.1   \n",
       "1              112.28               0.490           346.1         3.1   \n",
       "2              118.50               0.482           347.9         3.2   \n",
       "3              124.78               0.478           347.9         3.1   \n",
       "4              131.12               0.475           350.0         3.0   \n",
       "\n",
       "   Fill Flag                Date  \n",
       "0          0 2009-01-01 00:00:00  \n",
       "1          0 2009-01-01 00:30:00  \n",
       "2          0 2009-01-01 01:00:00  \n",
       "3          0 2009-01-01 01:30:00  \n",
       "4          0 2009-01-01 02:00:00  "
      ]
     },
     "execution_count": 9,
     "metadata": {},
     "output_type": "execute_result"
    }
   ],
   "source": [
    "x.drop(columns=['Year', 'Month', 'Day', 'Hour', 'Minute'], axis=1, inplace=True)\n",
    "x.head()"
   ]
  },
  {
   "cell_type": "code",
   "execution_count": 10,
   "id": "fe348b4f",
   "metadata": {
    "ExecuteTime": {
     "end_time": "2022-02-12T09:20:01.980593Z",
     "start_time": "2022-02-12T09:20:01.967629Z"
    }
   },
   "outputs": [
    {
     "data": {
      "text/plain": [
       "(175296, 11)"
      ]
     },
     "execution_count": 10,
     "metadata": {},
     "output_type": "execute_result"
    }
   ],
   "source": [
    "x.shape"
   ]
  },
  {
   "cell_type": "code",
   "execution_count": 11,
   "id": "ac9ac9a2",
   "metadata": {
    "ExecuteTime": {
     "end_time": "2022-02-12T09:20:01.995553Z",
     "start_time": "2022-02-12T09:20:01.982589Z"
    }
   },
   "outputs": [
    {
     "data": {
      "text/plain": [
       "['Cloud Type',\n",
       " 'Dew Point',\n",
       " 'Temperature',\n",
       " 'Pressure',\n",
       " 'Relative Humidity',\n",
       " 'Solar Zenith Angle',\n",
       " 'Precipitable Water',\n",
       " 'Wind Direction',\n",
       " 'Wind Speed',\n",
       " 'Fill Flag',\n",
       " 'Date']"
      ]
     },
     "execution_count": 11,
     "metadata": {},
     "output_type": "execute_result"
    }
   ],
   "source": [
    "columns_list = []\n",
    "for cols in x.columns:\n",
    "    columns_list.append(cols)\n",
    "columns_list"
   ]
  },
  {
   "cell_type": "code",
   "execution_count": 12,
   "id": "469f68c8",
   "metadata": {
    "ExecuteTime": {
     "end_time": "2022-02-12T09:20:02.010514Z",
     "start_time": "2022-02-12T09:20:01.996550Z"
    }
   },
   "outputs": [
    {
     "data": {
      "text/plain": [
       "['Date',\n",
       " 'Cloud Type',\n",
       " 'Dew Point',\n",
       " 'Temperature',\n",
       " 'Pressure',\n",
       " 'Relative Humidity',\n",
       " 'Solar Zenith Angle',\n",
       " 'Precipitable Water',\n",
       " 'Wind Direction',\n",
       " 'Wind Speed',\n",
       " 'Fill Flag']"
      ]
     },
     "execution_count": 12,
     "metadata": {},
     "output_type": "execute_result"
    }
   ],
   "source": [
    "columns_list.pop()\n",
    "columns_list.insert(0, 'Date')\n",
    "columns_list"
   ]
  },
  {
   "cell_type": "code",
   "execution_count": 13,
   "id": "e198093f",
   "metadata": {
    "ExecuteTime": {
     "end_time": "2022-02-12T09:20:02.042428Z",
     "start_time": "2022-02-12T09:20:02.012519Z"
    }
   },
   "outputs": [
    {
     "data": {
      "text/html": [
       "<div>\n",
       "<style scoped>\n",
       "    .dataframe tbody tr th:only-of-type {\n",
       "        vertical-align: middle;\n",
       "    }\n",
       "\n",
       "    .dataframe tbody tr th {\n",
       "        vertical-align: top;\n",
       "    }\n",
       "\n",
       "    .dataframe thead th {\n",
       "        text-align: right;\n",
       "    }\n",
       "</style>\n",
       "<table border=\"1\" class=\"dataframe\">\n",
       "  <thead>\n",
       "    <tr style=\"text-align: right;\">\n",
       "      <th></th>\n",
       "      <th>Date</th>\n",
       "      <th>Cloud Type</th>\n",
       "      <th>Dew Point</th>\n",
       "      <th>Temperature</th>\n",
       "      <th>Pressure</th>\n",
       "      <th>Relative Humidity</th>\n",
       "      <th>Solar Zenith Angle</th>\n",
       "      <th>Precipitable Water</th>\n",
       "      <th>Wind Direction</th>\n",
       "      <th>Wind Speed</th>\n",
       "      <th>Fill Flag</th>\n",
       "    </tr>\n",
       "  </thead>\n",
       "  <tbody>\n",
       "    <tr>\n",
       "      <th>0</th>\n",
       "      <td>2009-01-01 00:00:00</td>\n",
       "      <td>0</td>\n",
       "      <td>0.0</td>\n",
       "      <td>5.0</td>\n",
       "      <td>1010</td>\n",
       "      <td>75.34</td>\n",
       "      <td>106.15</td>\n",
       "      <td>0.499</td>\n",
       "      <td>346.1</td>\n",
       "      <td>3.1</td>\n",
       "      <td>0</td>\n",
       "    </tr>\n",
       "    <tr>\n",
       "      <th>1</th>\n",
       "      <td>2009-01-01 00:30:00</td>\n",
       "      <td>0</td>\n",
       "      <td>1.0</td>\n",
       "      <td>5.0</td>\n",
       "      <td>1010</td>\n",
       "      <td>80.81</td>\n",
       "      <td>112.28</td>\n",
       "      <td>0.490</td>\n",
       "      <td>346.1</td>\n",
       "      <td>3.1</td>\n",
       "      <td>0</td>\n",
       "    </tr>\n",
       "    <tr>\n",
       "      <th>2</th>\n",
       "      <td>2009-01-01 01:00:00</td>\n",
       "      <td>4</td>\n",
       "      <td>0.0</td>\n",
       "      <td>5.0</td>\n",
       "      <td>1010</td>\n",
       "      <td>78.27</td>\n",
       "      <td>118.50</td>\n",
       "      <td>0.482</td>\n",
       "      <td>347.9</td>\n",
       "      <td>3.2</td>\n",
       "      <td>0</td>\n",
       "    </tr>\n",
       "    <tr>\n",
       "      <th>3</th>\n",
       "      <td>2009-01-01 01:30:00</td>\n",
       "      <td>4</td>\n",
       "      <td>0.0</td>\n",
       "      <td>4.0</td>\n",
       "      <td>1010</td>\n",
       "      <td>78.27</td>\n",
       "      <td>124.78</td>\n",
       "      <td>0.478</td>\n",
       "      <td>347.9</td>\n",
       "      <td>3.1</td>\n",
       "      <td>0</td>\n",
       "    </tr>\n",
       "    <tr>\n",
       "      <th>4</th>\n",
       "      <td>2009-01-01 02:00:00</td>\n",
       "      <td>4</td>\n",
       "      <td>0.0</td>\n",
       "      <td>4.0</td>\n",
       "      <td>1010</td>\n",
       "      <td>76.45</td>\n",
       "      <td>131.12</td>\n",
       "      <td>0.475</td>\n",
       "      <td>350.0</td>\n",
       "      <td>3.0</td>\n",
       "      <td>0</td>\n",
       "    </tr>\n",
       "  </tbody>\n",
       "</table>\n",
       "</div>"
      ],
      "text/plain": [
       "                 Date  Cloud Type  Dew Point  Temperature  Pressure  \\\n",
       "0 2009-01-01 00:00:00           0        0.0          5.0      1010   \n",
       "1 2009-01-01 00:30:00           0        1.0          5.0      1010   \n",
       "2 2009-01-01 01:00:00           4        0.0          5.0      1010   \n",
       "3 2009-01-01 01:30:00           4        0.0          4.0      1010   \n",
       "4 2009-01-01 02:00:00           4        0.0          4.0      1010   \n",
       "\n",
       "   Relative Humidity  Solar Zenith Angle  Precipitable Water  Wind Direction  \\\n",
       "0              75.34              106.15               0.499           346.1   \n",
       "1              80.81              112.28               0.490           346.1   \n",
       "2              78.27              118.50               0.482           347.9   \n",
       "3              78.27              124.78               0.478           347.9   \n",
       "4              76.45              131.12               0.475           350.0   \n",
       "\n",
       "   Wind Speed  Fill Flag  \n",
       "0         3.1          0  \n",
       "1         3.1          0  \n",
       "2         3.2          0  \n",
       "3         3.1          0  \n",
       "4         3.0          0  "
      ]
     },
     "execution_count": 13,
     "metadata": {},
     "output_type": "execute_result"
    }
   ],
   "source": [
    "x = x[columns_list]\n",
    "x.head()"
   ]
  },
  {
   "cell_type": "code",
   "execution_count": 14,
   "id": "e9626833",
   "metadata": {
    "ExecuteTime": {
     "end_time": "2022-02-12T09:20:02.153132Z",
     "start_time": "2022-02-12T09:20:02.044423Z"
    }
   },
   "outputs": [
    {
     "data": {
      "text/html": [
       "<div>\n",
       "<style scoped>\n",
       "    .dataframe tbody tr th:only-of-type {\n",
       "        vertical-align: middle;\n",
       "    }\n",
       "\n",
       "    .dataframe tbody tr th {\n",
       "        vertical-align: top;\n",
       "    }\n",
       "\n",
       "    .dataframe thead th {\n",
       "        text-align: right;\n",
       "    }\n",
       "</style>\n",
       "<table border=\"1\" class=\"dataframe\">\n",
       "  <thead>\n",
       "    <tr style=\"text-align: right;\">\n",
       "      <th></th>\n",
       "      <th>Cloud Type</th>\n",
       "      <th>Dew Point</th>\n",
       "      <th>Temperature</th>\n",
       "      <th>Pressure</th>\n",
       "      <th>Relative Humidity</th>\n",
       "      <th>Solar Zenith Angle</th>\n",
       "      <th>Precipitable Water</th>\n",
       "      <th>Wind Direction</th>\n",
       "      <th>Wind Speed</th>\n",
       "      <th>Fill Flag</th>\n",
       "    </tr>\n",
       "  </thead>\n",
       "  <tbody>\n",
       "    <tr>\n",
       "      <th>Cloud Type</th>\n",
       "      <td>1.000000</td>\n",
       "      <td>0.202096</td>\n",
       "      <td>0.066777</td>\n",
       "      <td>-0.137158</td>\n",
       "      <td>0.235374</td>\n",
       "      <td>0.026873</td>\n",
       "      <td>0.326904</td>\n",
       "      <td>-0.081565</td>\n",
       "      <td>0.072632</td>\n",
       "      <td>0.090161</td>\n",
       "    </tr>\n",
       "    <tr>\n",
       "      <th>Dew Point</th>\n",
       "      <td>0.202096</td>\n",
       "      <td>1.000000</td>\n",
       "      <td>0.848948</td>\n",
       "      <td>-0.419534</td>\n",
       "      <td>0.193455</td>\n",
       "      <td>-0.222336</td>\n",
       "      <td>0.881881</td>\n",
       "      <td>-0.076357</td>\n",
       "      <td>-0.140699</td>\n",
       "      <td>0.036851</td>\n",
       "    </tr>\n",
       "    <tr>\n",
       "      <th>Temperature</th>\n",
       "      <td>0.066777</td>\n",
       "      <td>0.848948</td>\n",
       "      <td>1.000000</td>\n",
       "      <td>-0.371395</td>\n",
       "      <td>-0.341914</td>\n",
       "      <td>-0.526548</td>\n",
       "      <td>0.742449</td>\n",
       "      <td>-0.066673</td>\n",
       "      <td>-0.046694</td>\n",
       "      <td>0.015734</td>\n",
       "    </tr>\n",
       "    <tr>\n",
       "      <th>Pressure</th>\n",
       "      <td>-0.137158</td>\n",
       "      <td>-0.419534</td>\n",
       "      <td>-0.371395</td>\n",
       "      <td>1.000000</td>\n",
       "      <td>-0.085004</td>\n",
       "      <td>0.078900</td>\n",
       "      <td>-0.365342</td>\n",
       "      <td>-0.182006</td>\n",
       "      <td>-0.122674</td>\n",
       "      <td>0.052521</td>\n",
       "    </tr>\n",
       "    <tr>\n",
       "      <th>Relative Humidity</th>\n",
       "      <td>0.235374</td>\n",
       "      <td>0.193455</td>\n",
       "      <td>-0.341914</td>\n",
       "      <td>-0.085004</td>\n",
       "      <td>1.000000</td>\n",
       "      <td>0.607108</td>\n",
       "      <td>0.182658</td>\n",
       "      <td>-0.019108</td>\n",
       "      <td>-0.172248</td>\n",
       "      <td>0.023674</td>\n",
       "    </tr>\n",
       "    <tr>\n",
       "      <th>Solar Zenith Angle</th>\n",
       "      <td>0.026873</td>\n",
       "      <td>-0.222336</td>\n",
       "      <td>-0.526548</td>\n",
       "      <td>0.078900</td>\n",
       "      <td>0.607108</td>\n",
       "      <td>1.000000</td>\n",
       "      <td>-0.182529</td>\n",
       "      <td>0.003802</td>\n",
       "      <td>-0.295927</td>\n",
       "      <td>-0.029150</td>\n",
       "    </tr>\n",
       "    <tr>\n",
       "      <th>Precipitable Water</th>\n",
       "      <td>0.326904</td>\n",
       "      <td>0.881881</td>\n",
       "      <td>0.742449</td>\n",
       "      <td>-0.365342</td>\n",
       "      <td>0.182658</td>\n",
       "      <td>-0.182529</td>\n",
       "      <td>1.000000</td>\n",
       "      <td>-0.105735</td>\n",
       "      <td>-0.106892</td>\n",
       "      <td>0.044106</td>\n",
       "    </tr>\n",
       "    <tr>\n",
       "      <th>Wind Direction</th>\n",
       "      <td>-0.081565</td>\n",
       "      <td>-0.076357</td>\n",
       "      <td>-0.066673</td>\n",
       "      <td>-0.182006</td>\n",
       "      <td>-0.019108</td>\n",
       "      <td>0.003802</td>\n",
       "      <td>-0.105735</td>\n",
       "      <td>1.000000</td>\n",
       "      <td>0.035634</td>\n",
       "      <td>-0.017124</td>\n",
       "    </tr>\n",
       "    <tr>\n",
       "      <th>Wind Speed</th>\n",
       "      <td>0.072632</td>\n",
       "      <td>-0.140699</td>\n",
       "      <td>-0.046694</td>\n",
       "      <td>-0.122674</td>\n",
       "      <td>-0.172248</td>\n",
       "      <td>-0.295927</td>\n",
       "      <td>-0.106892</td>\n",
       "      <td>0.035634</td>\n",
       "      <td>1.000000</td>\n",
       "      <td>0.000447</td>\n",
       "    </tr>\n",
       "    <tr>\n",
       "      <th>Fill Flag</th>\n",
       "      <td>0.090161</td>\n",
       "      <td>0.036851</td>\n",
       "      <td>0.015734</td>\n",
       "      <td>0.052521</td>\n",
       "      <td>0.023674</td>\n",
       "      <td>-0.029150</td>\n",
       "      <td>0.044106</td>\n",
       "      <td>-0.017124</td>\n",
       "      <td>0.000447</td>\n",
       "      <td>1.000000</td>\n",
       "    </tr>\n",
       "  </tbody>\n",
       "</table>\n",
       "</div>"
      ],
      "text/plain": [
       "                    Cloud Type  Dew Point  Temperature  Pressure  \\\n",
       "Cloud Type            1.000000   0.202096     0.066777 -0.137158   \n",
       "Dew Point             0.202096   1.000000     0.848948 -0.419534   \n",
       "Temperature           0.066777   0.848948     1.000000 -0.371395   \n",
       "Pressure             -0.137158  -0.419534    -0.371395  1.000000   \n",
       "Relative Humidity     0.235374   0.193455    -0.341914 -0.085004   \n",
       "Solar Zenith Angle    0.026873  -0.222336    -0.526548  0.078900   \n",
       "Precipitable Water    0.326904   0.881881     0.742449 -0.365342   \n",
       "Wind Direction       -0.081565  -0.076357    -0.066673 -0.182006   \n",
       "Wind Speed            0.072632  -0.140699    -0.046694 -0.122674   \n",
       "Fill Flag             0.090161   0.036851     0.015734  0.052521   \n",
       "\n",
       "                    Relative Humidity  Solar Zenith Angle  Precipitable Water  \\\n",
       "Cloud Type                   0.235374            0.026873            0.326904   \n",
       "Dew Point                    0.193455           -0.222336            0.881881   \n",
       "Temperature                 -0.341914           -0.526548            0.742449   \n",
       "Pressure                    -0.085004            0.078900           -0.365342   \n",
       "Relative Humidity            1.000000            0.607108            0.182658   \n",
       "Solar Zenith Angle           0.607108            1.000000           -0.182529   \n",
       "Precipitable Water           0.182658           -0.182529            1.000000   \n",
       "Wind Direction              -0.019108            0.003802           -0.105735   \n",
       "Wind Speed                  -0.172248           -0.295927           -0.106892   \n",
       "Fill Flag                    0.023674           -0.029150            0.044106   \n",
       "\n",
       "                    Wind Direction  Wind Speed  Fill Flag  \n",
       "Cloud Type               -0.081565    0.072632   0.090161  \n",
       "Dew Point                -0.076357   -0.140699   0.036851  \n",
       "Temperature              -0.066673   -0.046694   0.015734  \n",
       "Pressure                 -0.182006   -0.122674   0.052521  \n",
       "Relative Humidity        -0.019108   -0.172248   0.023674  \n",
       "Solar Zenith Angle        0.003802   -0.295927  -0.029150  \n",
       "Precipitable Water       -0.105735   -0.106892   0.044106  \n",
       "Wind Direction            1.000000    0.035634  -0.017124  \n",
       "Wind Speed                0.035634    1.000000   0.000447  \n",
       "Fill Flag                -0.017124    0.000447   1.000000  "
      ]
     },
     "execution_count": 14,
     "metadata": {},
     "output_type": "execute_result"
    }
   ],
   "source": [
    "corr_matrix = x.corr()\n",
    "corr_matrix"
   ]
  },
  {
   "cell_type": "code",
   "execution_count": 15,
   "id": "b02a539d",
   "metadata": {
    "ExecuteTime": {
     "end_time": "2022-02-12T09:20:02.169089Z",
     "start_time": "2022-02-12T09:20:02.154129Z"
    }
   },
   "outputs": [
    {
     "name": "stderr",
     "output_type": "stream",
     "text": [
      "C:\\Users\\ariha\\AppData\\Local\\Temp/ipykernel_10000/2621372733.py:1: DeprecationWarning: `np.bool` is a deprecated alias for the builtin `bool`. To silence this warning, use `bool` by itself. Doing this will not modify any behavior and is safe. If you specifically wanted the numpy scalar type, use `np.bool_` here.\n",
      "Deprecated in NumPy 1.20; for more details and guidance: https://numpy.org/devdocs/release/1.20.0-notes.html#deprecations\n",
      "  upper = corr_matrix.where(np.triu(np.ones(corr_matrix.shape), k=1).astype(np.bool))\n"
     ]
    },
    {
     "data": {
      "text/html": [
       "<div>\n",
       "<style scoped>\n",
       "    .dataframe tbody tr th:only-of-type {\n",
       "        vertical-align: middle;\n",
       "    }\n",
       "\n",
       "    .dataframe tbody tr th {\n",
       "        vertical-align: top;\n",
       "    }\n",
       "\n",
       "    .dataframe thead th {\n",
       "        text-align: right;\n",
       "    }\n",
       "</style>\n",
       "<table border=\"1\" class=\"dataframe\">\n",
       "  <thead>\n",
       "    <tr style=\"text-align: right;\">\n",
       "      <th></th>\n",
       "      <th>Cloud Type</th>\n",
       "      <th>Dew Point</th>\n",
       "      <th>Temperature</th>\n",
       "      <th>Pressure</th>\n",
       "      <th>Relative Humidity</th>\n",
       "      <th>Solar Zenith Angle</th>\n",
       "      <th>Precipitable Water</th>\n",
       "      <th>Wind Direction</th>\n",
       "      <th>Wind Speed</th>\n",
       "      <th>Fill Flag</th>\n",
       "    </tr>\n",
       "  </thead>\n",
       "  <tbody>\n",
       "    <tr>\n",
       "      <th>Cloud Type</th>\n",
       "      <td>NaN</td>\n",
       "      <td>0.202096</td>\n",
       "      <td>0.066777</td>\n",
       "      <td>-0.137158</td>\n",
       "      <td>0.235374</td>\n",
       "      <td>0.026873</td>\n",
       "      <td>0.326904</td>\n",
       "      <td>-0.081565</td>\n",
       "      <td>0.072632</td>\n",
       "      <td>0.090161</td>\n",
       "    </tr>\n",
       "    <tr>\n",
       "      <th>Dew Point</th>\n",
       "      <td>NaN</td>\n",
       "      <td>NaN</td>\n",
       "      <td>0.848948</td>\n",
       "      <td>-0.419534</td>\n",
       "      <td>0.193455</td>\n",
       "      <td>-0.222336</td>\n",
       "      <td>0.881881</td>\n",
       "      <td>-0.076357</td>\n",
       "      <td>-0.140699</td>\n",
       "      <td>0.036851</td>\n",
       "    </tr>\n",
       "    <tr>\n",
       "      <th>Temperature</th>\n",
       "      <td>NaN</td>\n",
       "      <td>NaN</td>\n",
       "      <td>NaN</td>\n",
       "      <td>-0.371395</td>\n",
       "      <td>-0.341914</td>\n",
       "      <td>-0.526548</td>\n",
       "      <td>0.742449</td>\n",
       "      <td>-0.066673</td>\n",
       "      <td>-0.046694</td>\n",
       "      <td>0.015734</td>\n",
       "    </tr>\n",
       "    <tr>\n",
       "      <th>Pressure</th>\n",
       "      <td>NaN</td>\n",
       "      <td>NaN</td>\n",
       "      <td>NaN</td>\n",
       "      <td>NaN</td>\n",
       "      <td>-0.085004</td>\n",
       "      <td>0.078900</td>\n",
       "      <td>-0.365342</td>\n",
       "      <td>-0.182006</td>\n",
       "      <td>-0.122674</td>\n",
       "      <td>0.052521</td>\n",
       "    </tr>\n",
       "    <tr>\n",
       "      <th>Relative Humidity</th>\n",
       "      <td>NaN</td>\n",
       "      <td>NaN</td>\n",
       "      <td>NaN</td>\n",
       "      <td>NaN</td>\n",
       "      <td>NaN</td>\n",
       "      <td>0.607108</td>\n",
       "      <td>0.182658</td>\n",
       "      <td>-0.019108</td>\n",
       "      <td>-0.172248</td>\n",
       "      <td>0.023674</td>\n",
       "    </tr>\n",
       "    <tr>\n",
       "      <th>Solar Zenith Angle</th>\n",
       "      <td>NaN</td>\n",
       "      <td>NaN</td>\n",
       "      <td>NaN</td>\n",
       "      <td>NaN</td>\n",
       "      <td>NaN</td>\n",
       "      <td>NaN</td>\n",
       "      <td>-0.182529</td>\n",
       "      <td>0.003802</td>\n",
       "      <td>-0.295927</td>\n",
       "      <td>-0.029150</td>\n",
       "    </tr>\n",
       "    <tr>\n",
       "      <th>Precipitable Water</th>\n",
       "      <td>NaN</td>\n",
       "      <td>NaN</td>\n",
       "      <td>NaN</td>\n",
       "      <td>NaN</td>\n",
       "      <td>NaN</td>\n",
       "      <td>NaN</td>\n",
       "      <td>NaN</td>\n",
       "      <td>-0.105735</td>\n",
       "      <td>-0.106892</td>\n",
       "      <td>0.044106</td>\n",
       "    </tr>\n",
       "    <tr>\n",
       "      <th>Wind Direction</th>\n",
       "      <td>NaN</td>\n",
       "      <td>NaN</td>\n",
       "      <td>NaN</td>\n",
       "      <td>NaN</td>\n",
       "      <td>NaN</td>\n",
       "      <td>NaN</td>\n",
       "      <td>NaN</td>\n",
       "      <td>NaN</td>\n",
       "      <td>0.035634</td>\n",
       "      <td>-0.017124</td>\n",
       "    </tr>\n",
       "    <tr>\n",
       "      <th>Wind Speed</th>\n",
       "      <td>NaN</td>\n",
       "      <td>NaN</td>\n",
       "      <td>NaN</td>\n",
       "      <td>NaN</td>\n",
       "      <td>NaN</td>\n",
       "      <td>NaN</td>\n",
       "      <td>NaN</td>\n",
       "      <td>NaN</td>\n",
       "      <td>NaN</td>\n",
       "      <td>0.000447</td>\n",
       "    </tr>\n",
       "    <tr>\n",
       "      <th>Fill Flag</th>\n",
       "      <td>NaN</td>\n",
       "      <td>NaN</td>\n",
       "      <td>NaN</td>\n",
       "      <td>NaN</td>\n",
       "      <td>NaN</td>\n",
       "      <td>NaN</td>\n",
       "      <td>NaN</td>\n",
       "      <td>NaN</td>\n",
       "      <td>NaN</td>\n",
       "      <td>NaN</td>\n",
       "    </tr>\n",
       "  </tbody>\n",
       "</table>\n",
       "</div>"
      ],
      "text/plain": [
       "                    Cloud Type  Dew Point  Temperature  Pressure  \\\n",
       "Cloud Type                 NaN   0.202096     0.066777 -0.137158   \n",
       "Dew Point                  NaN        NaN     0.848948 -0.419534   \n",
       "Temperature                NaN        NaN          NaN -0.371395   \n",
       "Pressure                   NaN        NaN          NaN       NaN   \n",
       "Relative Humidity          NaN        NaN          NaN       NaN   \n",
       "Solar Zenith Angle         NaN        NaN          NaN       NaN   \n",
       "Precipitable Water         NaN        NaN          NaN       NaN   \n",
       "Wind Direction             NaN        NaN          NaN       NaN   \n",
       "Wind Speed                 NaN        NaN          NaN       NaN   \n",
       "Fill Flag                  NaN        NaN          NaN       NaN   \n",
       "\n",
       "                    Relative Humidity  Solar Zenith Angle  Precipitable Water  \\\n",
       "Cloud Type                   0.235374            0.026873            0.326904   \n",
       "Dew Point                    0.193455           -0.222336            0.881881   \n",
       "Temperature                 -0.341914           -0.526548            0.742449   \n",
       "Pressure                    -0.085004            0.078900           -0.365342   \n",
       "Relative Humidity                 NaN            0.607108            0.182658   \n",
       "Solar Zenith Angle                NaN                 NaN           -0.182529   \n",
       "Precipitable Water                NaN                 NaN                 NaN   \n",
       "Wind Direction                    NaN                 NaN                 NaN   \n",
       "Wind Speed                        NaN                 NaN                 NaN   \n",
       "Fill Flag                         NaN                 NaN                 NaN   \n",
       "\n",
       "                    Wind Direction  Wind Speed  Fill Flag  \n",
       "Cloud Type               -0.081565    0.072632   0.090161  \n",
       "Dew Point                -0.076357   -0.140699   0.036851  \n",
       "Temperature              -0.066673   -0.046694   0.015734  \n",
       "Pressure                 -0.182006   -0.122674   0.052521  \n",
       "Relative Humidity        -0.019108   -0.172248   0.023674  \n",
       "Solar Zenith Angle        0.003802   -0.295927  -0.029150  \n",
       "Precipitable Water       -0.105735   -0.106892   0.044106  \n",
       "Wind Direction                 NaN    0.035634  -0.017124  \n",
       "Wind Speed                     NaN         NaN   0.000447  \n",
       "Fill Flag                      NaN         NaN        NaN  "
      ]
     },
     "execution_count": 15,
     "metadata": {},
     "output_type": "execute_result"
    }
   ],
   "source": [
    "upper = corr_matrix.where(np.triu(np.ones(corr_matrix.shape), k=1).astype(np.bool))\n",
    "upper"
   ]
  },
  {
   "cell_type": "code",
   "execution_count": 16,
   "id": "3f76609d",
   "metadata": {
    "ExecuteTime": {
     "end_time": "2022-02-12T09:20:02.185047Z",
     "start_time": "2022-02-12T09:20:02.170087Z"
    }
   },
   "outputs": [
    {
     "data": {
      "text/plain": [
       "['Temperature', 'Precipitable Water']"
      ]
     },
     "execution_count": 16,
     "metadata": {},
     "output_type": "execute_result"
    }
   ],
   "source": [
    "columns_to_drop = []\n",
    "for cols in upper.columns:\n",
    "    if any (upper[cols] > 0.75):\n",
    "        columns_to_drop.append(cols)\n",
    "columns_to_drop"
   ]
  },
  {
   "cell_type": "code",
   "execution_count": 17,
   "id": "3c11480a",
   "metadata": {
    "ExecuteTime": {
     "end_time": "2022-02-12T09:20:02.215964Z",
     "start_time": "2022-02-12T09:20:02.187042Z"
    }
   },
   "outputs": [
    {
     "data": {
      "text/html": [
       "<div>\n",
       "<style scoped>\n",
       "    .dataframe tbody tr th:only-of-type {\n",
       "        vertical-align: middle;\n",
       "    }\n",
       "\n",
       "    .dataframe tbody tr th {\n",
       "        vertical-align: top;\n",
       "    }\n",
       "\n",
       "    .dataframe thead th {\n",
       "        text-align: right;\n",
       "    }\n",
       "</style>\n",
       "<table border=\"1\" class=\"dataframe\">\n",
       "  <thead>\n",
       "    <tr style=\"text-align: right;\">\n",
       "      <th></th>\n",
       "      <th>Date</th>\n",
       "      <th>Cloud Type</th>\n",
       "      <th>Dew Point</th>\n",
       "      <th>Pressure</th>\n",
       "      <th>Relative Humidity</th>\n",
       "      <th>Solar Zenith Angle</th>\n",
       "      <th>Wind Direction</th>\n",
       "      <th>Wind Speed</th>\n",
       "      <th>Fill Flag</th>\n",
       "    </tr>\n",
       "  </thead>\n",
       "  <tbody>\n",
       "    <tr>\n",
       "      <th>0</th>\n",
       "      <td>2009-01-01 00:00:00</td>\n",
       "      <td>0</td>\n",
       "      <td>0.0</td>\n",
       "      <td>1010</td>\n",
       "      <td>75.34</td>\n",
       "      <td>106.15</td>\n",
       "      <td>346.1</td>\n",
       "      <td>3.1</td>\n",
       "      <td>0</td>\n",
       "    </tr>\n",
       "    <tr>\n",
       "      <th>1</th>\n",
       "      <td>2009-01-01 00:30:00</td>\n",
       "      <td>0</td>\n",
       "      <td>1.0</td>\n",
       "      <td>1010</td>\n",
       "      <td>80.81</td>\n",
       "      <td>112.28</td>\n",
       "      <td>346.1</td>\n",
       "      <td>3.1</td>\n",
       "      <td>0</td>\n",
       "    </tr>\n",
       "    <tr>\n",
       "      <th>2</th>\n",
       "      <td>2009-01-01 01:00:00</td>\n",
       "      <td>4</td>\n",
       "      <td>0.0</td>\n",
       "      <td>1010</td>\n",
       "      <td>78.27</td>\n",
       "      <td>118.50</td>\n",
       "      <td>347.9</td>\n",
       "      <td>3.2</td>\n",
       "      <td>0</td>\n",
       "    </tr>\n",
       "    <tr>\n",
       "      <th>3</th>\n",
       "      <td>2009-01-01 01:30:00</td>\n",
       "      <td>4</td>\n",
       "      <td>0.0</td>\n",
       "      <td>1010</td>\n",
       "      <td>78.27</td>\n",
       "      <td>124.78</td>\n",
       "      <td>347.9</td>\n",
       "      <td>3.1</td>\n",
       "      <td>0</td>\n",
       "    </tr>\n",
       "    <tr>\n",
       "      <th>4</th>\n",
       "      <td>2009-01-01 02:00:00</td>\n",
       "      <td>4</td>\n",
       "      <td>0.0</td>\n",
       "      <td>1010</td>\n",
       "      <td>76.45</td>\n",
       "      <td>131.12</td>\n",
       "      <td>350.0</td>\n",
       "      <td>3.0</td>\n",
       "      <td>0</td>\n",
       "    </tr>\n",
       "  </tbody>\n",
       "</table>\n",
       "</div>"
      ],
      "text/plain": [
       "                 Date  Cloud Type  Dew Point  Pressure  Relative Humidity  \\\n",
       "0 2009-01-01 00:00:00           0        0.0      1010              75.34   \n",
       "1 2009-01-01 00:30:00           0        1.0      1010              80.81   \n",
       "2 2009-01-01 01:00:00           4        0.0      1010              78.27   \n",
       "3 2009-01-01 01:30:00           4        0.0      1010              78.27   \n",
       "4 2009-01-01 02:00:00           4        0.0      1010              76.45   \n",
       "\n",
       "   Solar Zenith Angle  Wind Direction  Wind Speed  Fill Flag  \n",
       "0              106.15           346.1         3.1          0  \n",
       "1              112.28           346.1         3.1          0  \n",
       "2              118.50           347.9         3.2          0  \n",
       "3              124.78           347.9         3.1          0  \n",
       "4              131.12           350.0         3.0          0  "
      ]
     },
     "execution_count": 17,
     "metadata": {},
     "output_type": "execute_result"
    }
   ],
   "source": [
    "x.drop(columns_to_drop, axis=1, inplace=True)\n",
    "x.head()"
   ]
  },
  {
   "cell_type": "code",
   "execution_count": 18,
   "id": "f0d9aaf3",
   "metadata": {
    "ExecuteTime": {
     "end_time": "2022-02-12T09:20:02.231921Z",
     "start_time": "2022-02-12T09:20:02.219953Z"
    }
   },
   "outputs": [
    {
     "data": {
      "text/plain": [
       "(175296, 9)"
      ]
     },
     "execution_count": 18,
     "metadata": {},
     "output_type": "execute_result"
    }
   ],
   "source": [
    "x.shape"
   ]
  },
  {
   "cell_type": "code",
   "execution_count": 19,
   "id": "f6a47e02",
   "metadata": {
    "ExecuteTime": {
     "end_time": "2022-02-12T09:20:02.247878Z",
     "start_time": "2022-02-12T09:20:02.233917Z"
    }
   },
   "outputs": [
    {
     "data": {
      "text/plain": [
       "(175296, 3)"
      ]
     },
     "execution_count": 19,
     "metadata": {},
     "output_type": "execute_result"
    }
   ],
   "source": [
    "y.shape"
   ]
  },
  {
   "cell_type": "code",
   "execution_count": 20,
   "id": "1352c192",
   "metadata": {
    "ExecuteTime": {
     "end_time": "2022-02-12T09:20:02.263836Z",
     "start_time": "2022-02-12T09:20:02.249876Z"
    }
   },
   "outputs": [
    {
     "data": {
      "text/html": [
       "<div>\n",
       "<style scoped>\n",
       "    .dataframe tbody tr th:only-of-type {\n",
       "        vertical-align: middle;\n",
       "    }\n",
       "\n",
       "    .dataframe tbody tr th {\n",
       "        vertical-align: top;\n",
       "    }\n",
       "\n",
       "    .dataframe thead th {\n",
       "        text-align: right;\n",
       "    }\n",
       "</style>\n",
       "<table border=\"1\" class=\"dataframe\">\n",
       "  <thead>\n",
       "    <tr style=\"text-align: right;\">\n",
       "      <th></th>\n",
       "      <th>Cloud Type</th>\n",
       "      <th>Dew Point</th>\n",
       "      <th>Pressure</th>\n",
       "      <th>Relative Humidity</th>\n",
       "      <th>Solar Zenith Angle</th>\n",
       "      <th>Wind Direction</th>\n",
       "      <th>Wind Speed</th>\n",
       "      <th>Fill Flag</th>\n",
       "    </tr>\n",
       "  </thead>\n",
       "  <tbody>\n",
       "    <tr>\n",
       "      <th>0</th>\n",
       "      <td>0</td>\n",
       "      <td>0.0</td>\n",
       "      <td>1010</td>\n",
       "      <td>75.34</td>\n",
       "      <td>106.15</td>\n",
       "      <td>346.1</td>\n",
       "      <td>3.1</td>\n",
       "      <td>0</td>\n",
       "    </tr>\n",
       "  </tbody>\n",
       "</table>\n",
       "</div>"
      ],
      "text/plain": [
       "   Cloud Type  Dew Point  Pressure  Relative Humidity  Solar Zenith Angle  \\\n",
       "0           0        0.0      1010              75.34              106.15   \n",
       "\n",
       "   Wind Direction  Wind Speed  Fill Flag  \n",
       "0           346.1         3.1          0  "
      ]
     },
     "execution_count": 20,
     "metadata": {},
     "output_type": "execute_result"
    }
   ],
   "source": [
    "x.iloc[:1, 1:]"
   ]
  },
  {
   "cell_type": "code",
   "execution_count": 21,
   "id": "6bfb4f61",
   "metadata": {
    "ExecuteTime": {
     "end_time": "2022-02-12T09:20:02.278796Z",
     "start_time": "2022-02-12T09:20:02.266828Z"
    }
   },
   "outputs": [
    {
     "data": {
      "text/plain": [
       "['Date',\n",
       " 'Cloud Type',\n",
       " 'Dew Point',\n",
       " 'Temperature',\n",
       " 'Pressure',\n",
       " 'Relative Humidity',\n",
       " 'Solar Zenith Angle',\n",
       " 'Precipitable Water',\n",
       " 'Wind Direction',\n",
       " 'Wind Speed',\n",
       " 'Fill Flag']"
      ]
     },
     "execution_count": 21,
     "metadata": {},
     "output_type": "execute_result"
    }
   ],
   "source": [
    "columns_list"
   ]
  },
  {
   "cell_type": "code",
   "execution_count": 22,
   "id": "66c67f4f",
   "metadata": {
    "ExecuteTime": {
     "end_time": "2022-02-12T09:20:02.294753Z",
     "start_time": "2022-02-12T09:20:02.281789Z"
    }
   },
   "outputs": [],
   "source": [
    "columns_list.remove('Date')\n",
    "columns_list.remove('Temperature')\n",
    "columns_list.remove('Precipitable Water')"
   ]
  },
  {
   "cell_type": "code",
   "execution_count": 23,
   "id": "6955db77",
   "metadata": {
    "ExecuteTime": {
     "end_time": "2022-02-12T09:20:02.309713Z",
     "start_time": "2022-02-12T09:20:02.295751Z"
    }
   },
   "outputs": [
    {
     "data": {
      "text/plain": [
       "['Cloud Type',\n",
       " 'Dew Point',\n",
       " 'Pressure',\n",
       " 'Relative Humidity',\n",
       " 'Solar Zenith Angle',\n",
       " 'Wind Direction',\n",
       " 'Wind Speed',\n",
       " 'Fill Flag']"
      ]
     },
     "execution_count": 23,
     "metadata": {},
     "output_type": "execute_result"
    }
   ],
   "source": [
    "columns_list"
   ]
  },
  {
   "cell_type": "code",
   "execution_count": 24,
   "id": "b9064495",
   "metadata": {
    "ExecuteTime": {
     "end_time": "2022-02-12T09:20:02.324673Z",
     "start_time": "2022-02-12T09:20:02.310711Z"
    }
   },
   "outputs": [
    {
     "data": {
      "text/html": [
       "<div>\n",
       "<style scoped>\n",
       "    .dataframe tbody tr th:only-of-type {\n",
       "        vertical-align: middle;\n",
       "    }\n",
       "\n",
       "    .dataframe tbody tr th {\n",
       "        vertical-align: top;\n",
       "    }\n",
       "\n",
       "    .dataframe thead th {\n",
       "        text-align: right;\n",
       "    }\n",
       "</style>\n",
       "<table border=\"1\" class=\"dataframe\">\n",
       "  <thead>\n",
       "    <tr style=\"text-align: right;\">\n",
       "      <th></th>\n",
       "      <th>Date</th>\n",
       "      <th>Cloud Type</th>\n",
       "      <th>Dew Point</th>\n",
       "      <th>Pressure</th>\n",
       "      <th>Relative Humidity</th>\n",
       "      <th>Solar Zenith Angle</th>\n",
       "      <th>Wind Direction</th>\n",
       "      <th>Wind Speed</th>\n",
       "      <th>Fill Flag</th>\n",
       "    </tr>\n",
       "  </thead>\n",
       "  <tbody>\n",
       "    <tr>\n",
       "      <th>0</th>\n",
       "      <td>2009-01-01 00:00:00</td>\n",
       "      <td>0</td>\n",
       "      <td>0.0</td>\n",
       "      <td>1010</td>\n",
       "      <td>75.34</td>\n",
       "      <td>106.15</td>\n",
       "      <td>346.1</td>\n",
       "      <td>3.1</td>\n",
       "      <td>0</td>\n",
       "    </tr>\n",
       "    <tr>\n",
       "      <th>1</th>\n",
       "      <td>2009-01-01 00:30:00</td>\n",
       "      <td>0</td>\n",
       "      <td>1.0</td>\n",
       "      <td>1010</td>\n",
       "      <td>80.81</td>\n",
       "      <td>112.28</td>\n",
       "      <td>346.1</td>\n",
       "      <td>3.1</td>\n",
       "      <td>0</td>\n",
       "    </tr>\n",
       "    <tr>\n",
       "      <th>2</th>\n",
       "      <td>2009-01-01 01:00:00</td>\n",
       "      <td>4</td>\n",
       "      <td>0.0</td>\n",
       "      <td>1010</td>\n",
       "      <td>78.27</td>\n",
       "      <td>118.50</td>\n",
       "      <td>347.9</td>\n",
       "      <td>3.2</td>\n",
       "      <td>0</td>\n",
       "    </tr>\n",
       "    <tr>\n",
       "      <th>3</th>\n",
       "      <td>2009-01-01 01:30:00</td>\n",
       "      <td>4</td>\n",
       "      <td>0.0</td>\n",
       "      <td>1010</td>\n",
       "      <td>78.27</td>\n",
       "      <td>124.78</td>\n",
       "      <td>347.9</td>\n",
       "      <td>3.1</td>\n",
       "      <td>0</td>\n",
       "    </tr>\n",
       "    <tr>\n",
       "      <th>4</th>\n",
       "      <td>2009-01-01 02:00:00</td>\n",
       "      <td>4</td>\n",
       "      <td>0.0</td>\n",
       "      <td>1010</td>\n",
       "      <td>76.45</td>\n",
       "      <td>131.12</td>\n",
       "      <td>350.0</td>\n",
       "      <td>3.0</td>\n",
       "      <td>0</td>\n",
       "    </tr>\n",
       "  </tbody>\n",
       "</table>\n",
       "</div>"
      ],
      "text/plain": [
       "                 Date  Cloud Type  Dew Point  Pressure  Relative Humidity  \\\n",
       "0 2009-01-01 00:00:00           0        0.0      1010              75.34   \n",
       "1 2009-01-01 00:30:00           0        1.0      1010              80.81   \n",
       "2 2009-01-01 01:00:00           4        0.0      1010              78.27   \n",
       "3 2009-01-01 01:30:00           4        0.0      1010              78.27   \n",
       "4 2009-01-01 02:00:00           4        0.0      1010              76.45   \n",
       "\n",
       "   Solar Zenith Angle  Wind Direction  Wind Speed  Fill Flag  \n",
       "0              106.15           346.1         3.1          0  \n",
       "1              112.28           346.1         3.1          0  \n",
       "2              118.50           347.9         3.2          0  \n",
       "3              124.78           347.9         3.1          0  \n",
       "4              131.12           350.0         3.0          0  "
      ]
     },
     "execution_count": 24,
     "metadata": {},
     "output_type": "execute_result"
    }
   ],
   "source": [
    "x.head()"
   ]
  },
  {
   "cell_type": "code",
   "execution_count": 25,
   "id": "af65bc81",
   "metadata": {
    "ExecuteTime": {
     "end_time": "2022-02-12T09:20:02.387505Z",
     "start_time": "2022-02-12T09:20:02.326671Z"
    }
   },
   "outputs": [],
   "source": [
    "# Scaling dataframes x & y to (0, 1)\n",
    "scaler_x = MinMaxScaler((0, 1))\n",
    "scaler_y = MinMaxScaler((0, 1))\n",
    "x = pd.DataFrame(scaler_x.fit_transform(x.iloc[:, 1:]), columns=columns_list)\n",
    "y = pd.DataFrame(scaler_y.fit_transform(y), columns=['Clearsky DHI', 'Clearsky DNI', 'Clearsky GHI'])"
   ]
  },
  {
   "cell_type": "code",
   "execution_count": 26,
   "id": "879b581a",
   "metadata": {
    "ExecuteTime": {
     "end_time": "2022-02-12T09:20:02.403462Z",
     "start_time": "2022-02-12T09:20:02.388503Z"
    }
   },
   "outputs": [
    {
     "data": {
      "text/html": [
       "<div>\n",
       "<style scoped>\n",
       "    .dataframe tbody tr th:only-of-type {\n",
       "        vertical-align: middle;\n",
       "    }\n",
       "\n",
       "    .dataframe tbody tr th {\n",
       "        vertical-align: top;\n",
       "    }\n",
       "\n",
       "    .dataframe thead th {\n",
       "        text-align: right;\n",
       "    }\n",
       "</style>\n",
       "<table border=\"1\" class=\"dataframe\">\n",
       "  <thead>\n",
       "    <tr style=\"text-align: right;\">\n",
       "      <th></th>\n",
       "      <th>Cloud Type</th>\n",
       "      <th>Dew Point</th>\n",
       "      <th>Pressure</th>\n",
       "      <th>Relative Humidity</th>\n",
       "      <th>Solar Zenith Angle</th>\n",
       "      <th>Wind Direction</th>\n",
       "      <th>Wind Speed</th>\n",
       "      <th>Fill Flag</th>\n",
       "    </tr>\n",
       "  </thead>\n",
       "  <tbody>\n",
       "    <tr>\n",
       "      <th>0</th>\n",
       "      <td>0.0</td>\n",
       "      <td>0.387244</td>\n",
       "      <td>0.740741</td>\n",
       "      <td>0.734296</td>\n",
       "      <td>0.598773</td>\n",
       "      <td>0.961389</td>\n",
       "      <td>0.240310</td>\n",
       "      <td>0.0</td>\n",
       "    </tr>\n",
       "    <tr>\n",
       "      <th>1</th>\n",
       "      <td>0.0</td>\n",
       "      <td>0.410023</td>\n",
       "      <td>0.740741</td>\n",
       "      <td>0.793233</td>\n",
       "      <td>0.636380</td>\n",
       "      <td>0.961389</td>\n",
       "      <td>0.240310</td>\n",
       "      <td>0.0</td>\n",
       "    </tr>\n",
       "    <tr>\n",
       "      <th>2</th>\n",
       "      <td>0.4</td>\n",
       "      <td>0.387244</td>\n",
       "      <td>0.740741</td>\n",
       "      <td>0.765866</td>\n",
       "      <td>0.674540</td>\n",
       "      <td>0.966389</td>\n",
       "      <td>0.248062</td>\n",
       "      <td>0.0</td>\n",
       "    </tr>\n",
       "    <tr>\n",
       "      <th>3</th>\n",
       "      <td>0.4</td>\n",
       "      <td>0.387244</td>\n",
       "      <td>0.740741</td>\n",
       "      <td>0.765866</td>\n",
       "      <td>0.713067</td>\n",
       "      <td>0.966389</td>\n",
       "      <td>0.240310</td>\n",
       "      <td>0.0</td>\n",
       "    </tr>\n",
       "    <tr>\n",
       "      <th>4</th>\n",
       "      <td>0.4</td>\n",
       "      <td>0.387244</td>\n",
       "      <td>0.740741</td>\n",
       "      <td>0.746256</td>\n",
       "      <td>0.751963</td>\n",
       "      <td>0.972222</td>\n",
       "      <td>0.232558</td>\n",
       "      <td>0.0</td>\n",
       "    </tr>\n",
       "  </tbody>\n",
       "</table>\n",
       "</div>"
      ],
      "text/plain": [
       "   Cloud Type  Dew Point  Pressure  Relative Humidity  Solar Zenith Angle  \\\n",
       "0         0.0   0.387244  0.740741           0.734296            0.598773   \n",
       "1         0.0   0.410023  0.740741           0.793233            0.636380   \n",
       "2         0.4   0.387244  0.740741           0.765866            0.674540   \n",
       "3         0.4   0.387244  0.740741           0.765866            0.713067   \n",
       "4         0.4   0.387244  0.740741           0.746256            0.751963   \n",
       "\n",
       "   Wind Direction  Wind Speed  Fill Flag  \n",
       "0        0.961389    0.240310        0.0  \n",
       "1        0.961389    0.240310        0.0  \n",
       "2        0.966389    0.248062        0.0  \n",
       "3        0.966389    0.240310        0.0  \n",
       "4        0.972222    0.232558        0.0  "
      ]
     },
     "execution_count": 26,
     "metadata": {},
     "output_type": "execute_result"
    }
   ],
   "source": [
    "x.head()"
   ]
  },
  {
   "cell_type": "code",
   "execution_count": 27,
   "id": "a032bf8e",
   "metadata": {
    "ExecuteTime": {
     "end_time": "2022-02-12T09:20:02.419420Z",
     "start_time": "2022-02-12T09:20:02.404462Z"
    }
   },
   "outputs": [
    {
     "data": {
      "text/plain": [
       "(175296, 8)"
      ]
     },
     "execution_count": 27,
     "metadata": {},
     "output_type": "execute_result"
    }
   ],
   "source": [
    "x.shape"
   ]
  },
  {
   "cell_type": "code",
   "execution_count": 28,
   "id": "c8b07c23",
   "metadata": {
    "ExecuteTime": {
     "end_time": "2022-02-12T09:20:02.434380Z",
     "start_time": "2022-02-12T09:20:02.423409Z"
    }
   },
   "outputs": [
    {
     "data": {
      "text/html": [
       "<div>\n",
       "<style scoped>\n",
       "    .dataframe tbody tr th:only-of-type {\n",
       "        vertical-align: middle;\n",
       "    }\n",
       "\n",
       "    .dataframe tbody tr th {\n",
       "        vertical-align: top;\n",
       "    }\n",
       "\n",
       "    .dataframe thead th {\n",
       "        text-align: right;\n",
       "    }\n",
       "</style>\n",
       "<table border=\"1\" class=\"dataframe\">\n",
       "  <thead>\n",
       "    <tr style=\"text-align: right;\">\n",
       "      <th></th>\n",
       "      <th>Clearsky DHI</th>\n",
       "      <th>Clearsky DNI</th>\n",
       "      <th>Clearsky GHI</th>\n",
       "    </tr>\n",
       "  </thead>\n",
       "  <tbody>\n",
       "    <tr>\n",
       "      <th>0</th>\n",
       "      <td>0.0</td>\n",
       "      <td>0.0</td>\n",
       "      <td>0.0</td>\n",
       "    </tr>\n",
       "    <tr>\n",
       "      <th>1</th>\n",
       "      <td>0.0</td>\n",
       "      <td>0.0</td>\n",
       "      <td>0.0</td>\n",
       "    </tr>\n",
       "    <tr>\n",
       "      <th>2</th>\n",
       "      <td>0.0</td>\n",
       "      <td>0.0</td>\n",
       "      <td>0.0</td>\n",
       "    </tr>\n",
       "    <tr>\n",
       "      <th>3</th>\n",
       "      <td>0.0</td>\n",
       "      <td>0.0</td>\n",
       "      <td>0.0</td>\n",
       "    </tr>\n",
       "    <tr>\n",
       "      <th>4</th>\n",
       "      <td>0.0</td>\n",
       "      <td>0.0</td>\n",
       "      <td>0.0</td>\n",
       "    </tr>\n",
       "  </tbody>\n",
       "</table>\n",
       "</div>"
      ],
      "text/plain": [
       "   Clearsky DHI  Clearsky DNI  Clearsky GHI\n",
       "0           0.0           0.0           0.0\n",
       "1           0.0           0.0           0.0\n",
       "2           0.0           0.0           0.0\n",
       "3           0.0           0.0           0.0\n",
       "4           0.0           0.0           0.0"
      ]
     },
     "execution_count": 28,
     "metadata": {},
     "output_type": "execute_result"
    }
   ],
   "source": [
    "y.head()"
   ]
  },
  {
   "cell_type": "code",
   "execution_count": 29,
   "id": "a85868d2",
   "metadata": {
    "ExecuteTime": {
     "end_time": "2022-02-12T09:20:02.450337Z",
     "start_time": "2022-02-12T09:20:02.435377Z"
    }
   },
   "outputs": [
    {
     "data": {
      "text/plain": [
       "(175296, 3)"
      ]
     },
     "execution_count": 29,
     "metadata": {},
     "output_type": "execute_result"
    }
   ],
   "source": [
    "y.shape"
   ]
  },
  {
   "cell_type": "code",
   "execution_count": 30,
   "id": "ef4e7c70",
   "metadata": {
    "ExecuteTime": {
     "end_time": "2022-02-12T09:20:02.466295Z",
     "start_time": "2022-02-12T09:20:02.451335Z"
    }
   },
   "outputs": [
    {
     "data": {
      "text/html": [
       "<div>\n",
       "<style scoped>\n",
       "    .dataframe tbody tr th:only-of-type {\n",
       "        vertical-align: middle;\n",
       "    }\n",
       "\n",
       "    .dataframe tbody tr th {\n",
       "        vertical-align: top;\n",
       "    }\n",
       "\n",
       "    .dataframe thead th {\n",
       "        text-align: right;\n",
       "    }\n",
       "</style>\n",
       "<table border=\"1\" class=\"dataframe\">\n",
       "  <thead>\n",
       "    <tr style=\"text-align: right;\">\n",
       "      <th></th>\n",
       "      <th>Cloud Type</th>\n",
       "      <th>Dew Point</th>\n",
       "      <th>Pressure</th>\n",
       "      <th>Relative Humidity</th>\n",
       "      <th>Solar Zenith Angle</th>\n",
       "      <th>Wind Direction</th>\n",
       "      <th>Wind Speed</th>\n",
       "      <th>Fill Flag</th>\n",
       "    </tr>\n",
       "  </thead>\n",
       "  <tbody>\n",
       "    <tr>\n",
       "      <th>0</th>\n",
       "      <td>0.0</td>\n",
       "      <td>0.387244</td>\n",
       "      <td>0.740741</td>\n",
       "      <td>0.734296</td>\n",
       "      <td>0.598773</td>\n",
       "      <td>0.961389</td>\n",
       "      <td>0.240310</td>\n",
       "      <td>0.0</td>\n",
       "    </tr>\n",
       "    <tr>\n",
       "      <th>1</th>\n",
       "      <td>0.0</td>\n",
       "      <td>0.410023</td>\n",
       "      <td>0.740741</td>\n",
       "      <td>0.793233</td>\n",
       "      <td>0.636380</td>\n",
       "      <td>0.961389</td>\n",
       "      <td>0.240310</td>\n",
       "      <td>0.0</td>\n",
       "    </tr>\n",
       "    <tr>\n",
       "      <th>2</th>\n",
       "      <td>0.4</td>\n",
       "      <td>0.387244</td>\n",
       "      <td>0.740741</td>\n",
       "      <td>0.765866</td>\n",
       "      <td>0.674540</td>\n",
       "      <td>0.966389</td>\n",
       "      <td>0.248062</td>\n",
       "      <td>0.0</td>\n",
       "    </tr>\n",
       "    <tr>\n",
       "      <th>3</th>\n",
       "      <td>0.4</td>\n",
       "      <td>0.387244</td>\n",
       "      <td>0.740741</td>\n",
       "      <td>0.765866</td>\n",
       "      <td>0.713067</td>\n",
       "      <td>0.966389</td>\n",
       "      <td>0.240310</td>\n",
       "      <td>0.0</td>\n",
       "    </tr>\n",
       "    <tr>\n",
       "      <th>4</th>\n",
       "      <td>0.4</td>\n",
       "      <td>0.387244</td>\n",
       "      <td>0.740741</td>\n",
       "      <td>0.746256</td>\n",
       "      <td>0.751963</td>\n",
       "      <td>0.972222</td>\n",
       "      <td>0.232558</td>\n",
       "      <td>0.0</td>\n",
       "    </tr>\n",
       "  </tbody>\n",
       "</table>\n",
       "</div>"
      ],
      "text/plain": [
       "   Cloud Type  Dew Point  Pressure  Relative Humidity  Solar Zenith Angle  \\\n",
       "0         0.0   0.387244  0.740741           0.734296            0.598773   \n",
       "1         0.0   0.410023  0.740741           0.793233            0.636380   \n",
       "2         0.4   0.387244  0.740741           0.765866            0.674540   \n",
       "3         0.4   0.387244  0.740741           0.765866            0.713067   \n",
       "4         0.4   0.387244  0.740741           0.746256            0.751963   \n",
       "\n",
       "   Wind Direction  Wind Speed  Fill Flag  \n",
       "0        0.961389    0.240310        0.0  \n",
       "1        0.961389    0.240310        0.0  \n",
       "2        0.966389    0.248062        0.0  \n",
       "3        0.966389    0.240310        0.0  \n",
       "4        0.972222    0.232558        0.0  "
      ]
     },
     "execution_count": 30,
     "metadata": {},
     "output_type": "execute_result"
    }
   ],
   "source": [
    "x_train = pd.DataFrame(x.iloc[:int(len(x) * 0.90), :])\n",
    "x_train.head()"
   ]
  },
  {
   "cell_type": "code",
   "execution_count": 31,
   "id": "54d100b4",
   "metadata": {
    "ExecuteTime": {
     "end_time": "2022-02-12T09:20:02.482252Z",
     "start_time": "2022-02-12T09:20:02.468294Z"
    }
   },
   "outputs": [
    {
     "data": {
      "text/plain": [
       "(157766, 8)"
      ]
     },
     "execution_count": 31,
     "metadata": {},
     "output_type": "execute_result"
    }
   ],
   "source": [
    "x_train.shape"
   ]
  },
  {
   "cell_type": "code",
   "execution_count": 32,
   "id": "31b22087",
   "metadata": {
    "ExecuteTime": {
     "end_time": "2022-02-12T09:20:02.498209Z",
     "start_time": "2022-02-12T09:20:02.483249Z"
    }
   },
   "outputs": [
    {
     "data": {
      "text/html": [
       "<div>\n",
       "<style scoped>\n",
       "    .dataframe tbody tr th:only-of-type {\n",
       "        vertical-align: middle;\n",
       "    }\n",
       "\n",
       "    .dataframe tbody tr th {\n",
       "        vertical-align: top;\n",
       "    }\n",
       "\n",
       "    .dataframe thead th {\n",
       "        text-align: right;\n",
       "    }\n",
       "</style>\n",
       "<table border=\"1\" class=\"dataframe\">\n",
       "  <thead>\n",
       "    <tr style=\"text-align: right;\">\n",
       "      <th></th>\n",
       "      <th>Clearsky DHI</th>\n",
       "      <th>Clearsky DNI</th>\n",
       "      <th>Clearsky GHI</th>\n",
       "    </tr>\n",
       "  </thead>\n",
       "  <tbody>\n",
       "    <tr>\n",
       "      <th>0</th>\n",
       "      <td>0.0</td>\n",
       "      <td>0.0</td>\n",
       "      <td>0.0</td>\n",
       "    </tr>\n",
       "    <tr>\n",
       "      <th>1</th>\n",
       "      <td>0.0</td>\n",
       "      <td>0.0</td>\n",
       "      <td>0.0</td>\n",
       "    </tr>\n",
       "    <tr>\n",
       "      <th>2</th>\n",
       "      <td>0.0</td>\n",
       "      <td>0.0</td>\n",
       "      <td>0.0</td>\n",
       "    </tr>\n",
       "    <tr>\n",
       "      <th>3</th>\n",
       "      <td>0.0</td>\n",
       "      <td>0.0</td>\n",
       "      <td>0.0</td>\n",
       "    </tr>\n",
       "    <tr>\n",
       "      <th>4</th>\n",
       "      <td>0.0</td>\n",
       "      <td>0.0</td>\n",
       "      <td>0.0</td>\n",
       "    </tr>\n",
       "  </tbody>\n",
       "</table>\n",
       "</div>"
      ],
      "text/plain": [
       "   Clearsky DHI  Clearsky DNI  Clearsky GHI\n",
       "0           0.0           0.0           0.0\n",
       "1           0.0           0.0           0.0\n",
       "2           0.0           0.0           0.0\n",
       "3           0.0           0.0           0.0\n",
       "4           0.0           0.0           0.0"
      ]
     },
     "execution_count": 32,
     "metadata": {},
     "output_type": "execute_result"
    }
   ],
   "source": [
    "y_train = pd.DataFrame(y.iloc[:int(len(y) * 0.90), :])\n",
    "y_train.head()"
   ]
  },
  {
   "cell_type": "code",
   "execution_count": 33,
   "id": "c73c69cd",
   "metadata": {
    "ExecuteTime": {
     "end_time": "2022-02-12T09:20:02.513170Z",
     "start_time": "2022-02-12T09:20:02.499208Z"
    }
   },
   "outputs": [
    {
     "data": {
      "text/plain": [
       "(157766, 3)"
      ]
     },
     "execution_count": 33,
     "metadata": {},
     "output_type": "execute_result"
    }
   ],
   "source": [
    "y_train.shape"
   ]
  },
  {
   "cell_type": "code",
   "execution_count": 34,
   "id": "5093496b",
   "metadata": {
    "ExecuteTime": {
     "end_time": "2022-02-12T09:20:02.528130Z",
     "start_time": "2022-02-12T09:20:02.515164Z"
    }
   },
   "outputs": [
    {
     "data": {
      "text/html": [
       "<div>\n",
       "<style scoped>\n",
       "    .dataframe tbody tr th:only-of-type {\n",
       "        vertical-align: middle;\n",
       "    }\n",
       "\n",
       "    .dataframe tbody tr th {\n",
       "        vertical-align: top;\n",
       "    }\n",
       "\n",
       "    .dataframe thead th {\n",
       "        text-align: right;\n",
       "    }\n",
       "</style>\n",
       "<table border=\"1\" class=\"dataframe\">\n",
       "  <thead>\n",
       "    <tr style=\"text-align: right;\">\n",
       "      <th></th>\n",
       "      <th>Cloud Type</th>\n",
       "      <th>Dew Point</th>\n",
       "      <th>Pressure</th>\n",
       "      <th>Relative Humidity</th>\n",
       "      <th>Solar Zenith Angle</th>\n",
       "      <th>Wind Direction</th>\n",
       "      <th>Wind Speed</th>\n",
       "      <th>Fill Flag</th>\n",
       "    </tr>\n",
       "  </thead>\n",
       "  <tbody>\n",
       "    <tr>\n",
       "      <th>157766</th>\n",
       "      <td>0.4</td>\n",
       "      <td>0.410023</td>\n",
       "      <td>0.740741</td>\n",
       "      <td>0.635492</td>\n",
       "      <td>0.304785</td>\n",
       "      <td>0.919722</td>\n",
       "      <td>0.155039</td>\n",
       "      <td>0.00</td>\n",
       "    </tr>\n",
       "    <tr>\n",
       "      <th>157767</th>\n",
       "      <td>0.1</td>\n",
       "      <td>0.410023</td>\n",
       "      <td>0.740741</td>\n",
       "      <td>0.686348</td>\n",
       "      <td>0.321779</td>\n",
       "      <td>0.919722</td>\n",
       "      <td>0.162791</td>\n",
       "      <td>0.00</td>\n",
       "    </tr>\n",
       "    <tr>\n",
       "      <th>157768</th>\n",
       "      <td>0.1</td>\n",
       "      <td>0.410023</td>\n",
       "      <td>0.740741</td>\n",
       "      <td>0.713501</td>\n",
       "      <td>0.342945</td>\n",
       "      <td>0.909722</td>\n",
       "      <td>0.178295</td>\n",
       "      <td>0.00</td>\n",
       "    </tr>\n",
       "    <tr>\n",
       "      <th>157769</th>\n",
       "      <td>0.2</td>\n",
       "      <td>0.410023</td>\n",
       "      <td>0.740741</td>\n",
       "      <td>0.770499</td>\n",
       "      <td>0.367607</td>\n",
       "      <td>0.909722</td>\n",
       "      <td>0.186047</td>\n",
       "      <td>0.04</td>\n",
       "    </tr>\n",
       "    <tr>\n",
       "      <th>157770</th>\n",
       "      <td>0.0</td>\n",
       "      <td>0.410023</td>\n",
       "      <td>0.740741</td>\n",
       "      <td>0.792048</td>\n",
       "      <td>0.395276</td>\n",
       "      <td>0.925000</td>\n",
       "      <td>0.193798</td>\n",
       "      <td>0.00</td>\n",
       "    </tr>\n",
       "  </tbody>\n",
       "</table>\n",
       "</div>"
      ],
      "text/plain": [
       "        Cloud Type  Dew Point  Pressure  Relative Humidity  \\\n",
       "157766         0.4   0.410023  0.740741           0.635492   \n",
       "157767         0.1   0.410023  0.740741           0.686348   \n",
       "157768         0.1   0.410023  0.740741           0.713501   \n",
       "157769         0.2   0.410023  0.740741           0.770499   \n",
       "157770         0.0   0.410023  0.740741           0.792048   \n",
       "\n",
       "        Solar Zenith Angle  Wind Direction  Wind Speed  Fill Flag  \n",
       "157766            0.304785        0.919722    0.155039       0.00  \n",
       "157767            0.321779        0.919722    0.162791       0.00  \n",
       "157768            0.342945        0.909722    0.178295       0.00  \n",
       "157769            0.367607        0.909722    0.186047       0.04  \n",
       "157770            0.395276        0.925000    0.193798       0.00  "
      ]
     },
     "execution_count": 34,
     "metadata": {},
     "output_type": "execute_result"
    }
   ],
   "source": [
    "x_val = pd.DataFrame(x.iloc[int(len(x) * 0.90):, :])\n",
    "x_val.head()"
   ]
  },
  {
   "cell_type": "code",
   "execution_count": 35,
   "id": "a4c0a252",
   "metadata": {
    "ExecuteTime": {
     "end_time": "2022-02-12T09:20:02.543089Z",
     "start_time": "2022-02-12T09:20:02.529127Z"
    }
   },
   "outputs": [
    {
     "data": {
      "text/plain": [
       "(17530, 8)"
      ]
     },
     "execution_count": 35,
     "metadata": {},
     "output_type": "execute_result"
    }
   ],
   "source": [
    "x_val.shape"
   ]
  },
  {
   "cell_type": "code",
   "execution_count": 36,
   "id": "b36dc0f1",
   "metadata": {
    "ExecuteTime": {
     "end_time": "2022-02-12T09:20:02.559046Z",
     "start_time": "2022-02-12T09:20:02.544087Z"
    }
   },
   "outputs": [
    {
     "data": {
      "text/html": [
       "<div>\n",
       "<style scoped>\n",
       "    .dataframe tbody tr th:only-of-type {\n",
       "        vertical-align: middle;\n",
       "    }\n",
       "\n",
       "    .dataframe tbody tr th {\n",
       "        vertical-align: top;\n",
       "    }\n",
       "\n",
       "    .dataframe thead th {\n",
       "        text-align: right;\n",
       "    }\n",
       "</style>\n",
       "<table border=\"1\" class=\"dataframe\">\n",
       "  <thead>\n",
       "    <tr style=\"text-align: right;\">\n",
       "      <th></th>\n",
       "      <th>Clearsky DHI</th>\n",
       "      <th>Clearsky DNI</th>\n",
       "      <th>Clearsky GHI</th>\n",
       "    </tr>\n",
       "  </thead>\n",
       "  <tbody>\n",
       "    <tr>\n",
       "      <th>157766</th>\n",
       "      <td>0.267257</td>\n",
       "      <td>0.646154</td>\n",
       "      <td>0.475071</td>\n",
       "    </tr>\n",
       "    <tr>\n",
       "      <th>157767</th>\n",
       "      <td>0.254867</td>\n",
       "      <td>0.617308</td>\n",
       "      <td>0.428975</td>\n",
       "    </tr>\n",
       "    <tr>\n",
       "      <th>157768</th>\n",
       "      <td>0.251327</td>\n",
       "      <td>0.553846</td>\n",
       "      <td>0.366886</td>\n",
       "    </tr>\n",
       "    <tr>\n",
       "      <th>157769</th>\n",
       "      <td>0.226549</td>\n",
       "      <td>0.498077</td>\n",
       "      <td>0.299153</td>\n",
       "    </tr>\n",
       "    <tr>\n",
       "      <th>157770</th>\n",
       "      <td>0.200000</td>\n",
       "      <td>0.400962</td>\n",
       "      <td>0.222013</td>\n",
       "    </tr>\n",
       "  </tbody>\n",
       "</table>\n",
       "</div>"
      ],
      "text/plain": [
       "        Clearsky DHI  Clearsky DNI  Clearsky GHI\n",
       "157766      0.267257      0.646154      0.475071\n",
       "157767      0.254867      0.617308      0.428975\n",
       "157768      0.251327      0.553846      0.366886\n",
       "157769      0.226549      0.498077      0.299153\n",
       "157770      0.200000      0.400962      0.222013"
      ]
     },
     "execution_count": 36,
     "metadata": {},
     "output_type": "execute_result"
    }
   ],
   "source": [
    "y_val = pd.DataFrame(y.iloc[int(len(y) * 0.90):, :])\n",
    "y_val.head()"
   ]
  },
  {
   "cell_type": "code",
   "execution_count": 37,
   "id": "74a63e31",
   "metadata": {
    "ExecuteTime": {
     "end_time": "2022-02-12T09:20:02.575009Z",
     "start_time": "2022-02-12T09:20:02.561042Z"
    }
   },
   "outputs": [
    {
     "data": {
      "text/plain": [
       "(17530, 3)"
      ]
     },
     "execution_count": 37,
     "metadata": {},
     "output_type": "execute_result"
    }
   ],
   "source": [
    "y_val.shape"
   ]
  },
  {
   "cell_type": "code",
   "execution_count": 38,
   "id": "74985b70",
   "metadata": {
    "ExecuteTime": {
     "end_time": "2022-02-12T09:20:02.748560Z",
     "start_time": "2022-02-12T09:20:02.576999Z"
    }
   },
   "outputs": [
    {
     "data": {
      "text/plain": [
       "[<matplotlib.lines.Line2D at 0x2a0df7f1940>]"
      ]
     },
     "execution_count": 38,
     "metadata": {},
     "output_type": "execute_result"
    },
    {
     "data": {
      "image/png": "[encoded data removed]",
      "text/plain": [
       "<Figure size 432x288 with 1 Axes>"
      ]
     },
     "metadata": {
      "needs_background": "light"
     },
     "output_type": "display_data"
    }
   ],
   "source": [
    "plt.plot(y_train.iloc[0:144, 0])"
   ]
  },
  {
   "cell_type": "code",
   "execution_count": 39,
   "id": "ec3db618",
   "metadata": {
    "ExecuteTime": {
     "end_time": "2022-02-12T09:20:02.907136Z",
     "start_time": "2022-02-12T09:20:02.749557Z"
    }
   },
   "outputs": [
    {
     "data": {
      "text/plain": [
       "[<matplotlib.lines.Line2D at 0x2a0e575b310>]"
      ]
     },
     "execution_count": 39,
     "metadata": {},
     "output_type": "execute_result"
    },
    {
     "data": {
      "image/png": "[encoded data removed]",
      "text/plain": [
       "<Figure size 1080x432 with 1 Axes>"
      ]
     },
     "metadata": {
      "needs_background": "light"
     },
     "output_type": "display_data"
    }
   ],
   "source": [
    "plt.figure(figsize=(15, 6))\n",
    "plt.plot(train['Date'][0:35040], y_train['Clearsky DHI'][0:35040])"
   ]
  },
  {
   "cell_type": "code",
   "execution_count": 40,
   "id": "e7b0a0f5",
   "metadata": {
    "ExecuteTime": {
     "end_time": "2022-02-12T09:20:02.923095Z",
     "start_time": "2022-02-12T09:20:02.908132Z"
    }
   },
   "outputs": [],
   "source": [
    "# This means there is dual seasonality in the data: The values go up and back to 0 once per day and \n",
    "# the highest value of each day changes according to the time of year"
   ]
  },
  {
   "cell_type": "markdown",
   "id": "c8064ecd",
   "metadata": {},
   "source": [
    "# EDA of *test* excel sheet"
   ]
  },
  {
   "cell_type": "code",
   "execution_count": 41,
   "id": "729b80e5",
   "metadata": {
    "ExecuteTime": {
     "end_time": "2022-02-12T09:20:02.986922Z",
     "start_time": "2022-02-12T09:20:02.925088Z"
    }
   },
   "outputs": [
    {
     "data": {
      "text/html": [
       "<div>\n",
       "<style scoped>\n",
       "    .dataframe tbody tr th:only-of-type {\n",
       "        vertical-align: middle;\n",
       "    }\n",
       "\n",
       "    .dataframe tbody tr th {\n",
       "        vertical-align: top;\n",
       "    }\n",
       "\n",
       "    .dataframe thead th {\n",
       "        text-align: right;\n",
       "    }\n",
       "</style>\n",
       "<table border=\"1\" class=\"dataframe\">\n",
       "  <thead>\n",
       "    <tr style=\"text-align: right;\">\n",
       "      <th></th>\n",
       "      <th>Year</th>\n",
       "      <th>Month</th>\n",
       "      <th>Day</th>\n",
       "      <th>Hour</th>\n",
       "      <th>Minute</th>\n",
       "      <th>Cloud Type</th>\n",
       "      <th>Dew Point</th>\n",
       "      <th>Temperature</th>\n",
       "      <th>Pressure</th>\n",
       "      <th>Relative Humidity</th>\n",
       "      <th>Solar Zenith Angle</th>\n",
       "      <th>Precipitable Water</th>\n",
       "      <th>Wind Direction</th>\n",
       "      <th>Wind Speed</th>\n",
       "      <th>Fill Flag</th>\n",
       "      <th>Clearsky DHI</th>\n",
       "      <th>Clearsky DNI</th>\n",
       "      <th>Clearsky GHI</th>\n",
       "    </tr>\n",
       "  </thead>\n",
       "  <tbody>\n",
       "    <tr>\n",
       "      <th>0</th>\n",
       "      <td>2019</td>\n",
       "      <td>1</td>\n",
       "      <td>1</td>\n",
       "      <td>0</td>\n",
       "      <td>0</td>\n",
       "      <td>7</td>\n",
       "      <td>18.4</td>\n",
       "      <td>18.8</td>\n",
       "      <td>1008</td>\n",
       "      <td>97.70</td>\n",
       "      <td>106.23</td>\n",
       "      <td>3.5</td>\n",
       "      <td>190</td>\n",
       "      <td>2.3</td>\n",
       "      <td>0</td>\n",
       "      <td>NaN</td>\n",
       "      <td>NaN</td>\n",
       "      <td>NaN</td>\n",
       "    </tr>\n",
       "    <tr>\n",
       "      <th>1</th>\n",
       "      <td>2019</td>\n",
       "      <td>1</td>\n",
       "      <td>1</td>\n",
       "      <td>0</td>\n",
       "      <td>30</td>\n",
       "      <td>3</td>\n",
       "      <td>18.4</td>\n",
       "      <td>18.6</td>\n",
       "      <td>1008</td>\n",
       "      <td>98.92</td>\n",
       "      <td>112.36</td>\n",
       "      <td>3.5</td>\n",
       "      <td>187</td>\n",
       "      <td>2.5</td>\n",
       "      <td>0</td>\n",
       "      <td>NaN</td>\n",
       "      <td>NaN</td>\n",
       "      <td>NaN</td>\n",
       "    </tr>\n",
       "    <tr>\n",
       "      <th>2</th>\n",
       "      <td>2019</td>\n",
       "      <td>1</td>\n",
       "      <td>1</td>\n",
       "      <td>1</td>\n",
       "      <td>0</td>\n",
       "      <td>3</td>\n",
       "      <td>18.2</td>\n",
       "      <td>18.5</td>\n",
       "      <td>1008</td>\n",
       "      <td>98.35</td>\n",
       "      <td>118.58</td>\n",
       "      <td>3.5</td>\n",
       "      <td>184</td>\n",
       "      <td>2.8</td>\n",
       "      <td>0</td>\n",
       "      <td>NaN</td>\n",
       "      <td>NaN</td>\n",
       "      <td>NaN</td>\n",
       "    </tr>\n",
       "    <tr>\n",
       "      <th>3</th>\n",
       "      <td>2019</td>\n",
       "      <td>1</td>\n",
       "      <td>1</td>\n",
       "      <td>1</td>\n",
       "      <td>30</td>\n",
       "      <td>3</td>\n",
       "      <td>18.2</td>\n",
       "      <td>18.3</td>\n",
       "      <td>1008</td>\n",
       "      <td>99.58</td>\n",
       "      <td>124.86</td>\n",
       "      <td>3.5</td>\n",
       "      <td>185</td>\n",
       "      <td>3.0</td>\n",
       "      <td>0</td>\n",
       "      <td>NaN</td>\n",
       "      <td>NaN</td>\n",
       "      <td>NaN</td>\n",
       "    </tr>\n",
       "    <tr>\n",
       "      <th>4</th>\n",
       "      <td>2019</td>\n",
       "      <td>1</td>\n",
       "      <td>1</td>\n",
       "      <td>2</td>\n",
       "      <td>0</td>\n",
       "      <td>0</td>\n",
       "      <td>18.0</td>\n",
       "      <td>18.0</td>\n",
       "      <td>1008</td>\n",
       "      <td>99.71</td>\n",
       "      <td>131.20</td>\n",
       "      <td>3.6</td>\n",
       "      <td>186</td>\n",
       "      <td>3.1</td>\n",
       "      <td>0</td>\n",
       "      <td>NaN</td>\n",
       "      <td>NaN</td>\n",
       "      <td>NaN</td>\n",
       "    </tr>\n",
       "    <tr>\n",
       "      <th>...</th>\n",
       "      <td>...</td>\n",
       "      <td>...</td>\n",
       "      <td>...</td>\n",
       "      <td>...</td>\n",
       "      <td>...</td>\n",
       "      <td>...</td>\n",
       "      <td>...</td>\n",
       "      <td>...</td>\n",
       "      <td>...</td>\n",
       "      <td>...</td>\n",
       "      <td>...</td>\n",
       "      <td>...</td>\n",
       "      <td>...</td>\n",
       "      <td>...</td>\n",
       "      <td>...</td>\n",
       "      <td>...</td>\n",
       "      <td>...</td>\n",
       "      <td>...</td>\n",
       "    </tr>\n",
       "    <tr>\n",
       "      <th>17515</th>\n",
       "      <td>2019</td>\n",
       "      <td>12</td>\n",
       "      <td>31</td>\n",
       "      <td>21</td>\n",
       "      <td>30</td>\n",
       "      <td>0</td>\n",
       "      <td>5.6</td>\n",
       "      <td>11.1</td>\n",
       "      <td>1006</td>\n",
       "      <td>68.64</td>\n",
       "      <td>77.89</td>\n",
       "      <td>0.8</td>\n",
       "      <td>276</td>\n",
       "      <td>2.2</td>\n",
       "      <td>0</td>\n",
       "      <td>NaN</td>\n",
       "      <td>NaN</td>\n",
       "      <td>NaN</td>\n",
       "    </tr>\n",
       "    <tr>\n",
       "      <th>17516</th>\n",
       "      <td>2019</td>\n",
       "      <td>12</td>\n",
       "      <td>31</td>\n",
       "      <td>22</td>\n",
       "      <td>0</td>\n",
       "      <td>0</td>\n",
       "      <td>5.7</td>\n",
       "      <td>9.3</td>\n",
       "      <td>1006</td>\n",
       "      <td>78.31</td>\n",
       "      <td>83.06</td>\n",
       "      <td>0.8</td>\n",
       "      <td>274</td>\n",
       "      <td>1.7</td>\n",
       "      <td>0</td>\n",
       "      <td>NaN</td>\n",
       "      <td>NaN</td>\n",
       "      <td>NaN</td>\n",
       "    </tr>\n",
       "    <tr>\n",
       "      <th>17517</th>\n",
       "      <td>2019</td>\n",
       "      <td>12</td>\n",
       "      <td>31</td>\n",
       "      <td>22</td>\n",
       "      <td>30</td>\n",
       "      <td>0</td>\n",
       "      <td>5.7</td>\n",
       "      <td>8.5</td>\n",
       "      <td>1006</td>\n",
       "      <td>82.64</td>\n",
       "      <td>88.34</td>\n",
       "      <td>0.8</td>\n",
       "      <td>273</td>\n",
       "      <td>1.8</td>\n",
       "      <td>0</td>\n",
       "      <td>NaN</td>\n",
       "      <td>NaN</td>\n",
       "      <td>NaN</td>\n",
       "    </tr>\n",
       "    <tr>\n",
       "      <th>17518</th>\n",
       "      <td>2019</td>\n",
       "      <td>12</td>\n",
       "      <td>31</td>\n",
       "      <td>23</td>\n",
       "      <td>0</td>\n",
       "      <td>0</td>\n",
       "      <td>4.8</td>\n",
       "      <td>7.8</td>\n",
       "      <td>1006</td>\n",
       "      <td>81.49</td>\n",
       "      <td>94.37</td>\n",
       "      <td>0.8</td>\n",
       "      <td>272</td>\n",
       "      <td>1.8</td>\n",
       "      <td>0</td>\n",
       "      <td>NaN</td>\n",
       "      <td>NaN</td>\n",
       "      <td>NaN</td>\n",
       "    </tr>\n",
       "    <tr>\n",
       "      <th>17519</th>\n",
       "      <td>2019</td>\n",
       "      <td>12</td>\n",
       "      <td>31</td>\n",
       "      <td>23</td>\n",
       "      <td>30</td>\n",
       "      <td>0</td>\n",
       "      <td>4.8</td>\n",
       "      <td>7.8</td>\n",
       "      <td>1006</td>\n",
       "      <td>81.49</td>\n",
       "      <td>100.25</td>\n",
       "      <td>0.8</td>\n",
       "      <td>272</td>\n",
       "      <td>1.8</td>\n",
       "      <td>0</td>\n",
       "      <td>NaN</td>\n",
       "      <td>NaN</td>\n",
       "      <td>NaN</td>\n",
       "    </tr>\n",
       "  </tbody>\n",
       "</table>\n",
       "<p>17520 rows × 18 columns</p>\n",
       "</div>"
      ],
      "text/plain": [
       "       Year  Month  Day  Hour  Minute  Cloud Type  Dew Point  Temperature  \\\n",
       "0      2019      1    1     0       0           7       18.4         18.8   \n",
       "1      2019      1    1     0      30           3       18.4         18.6   \n",
       "2      2019      1    1     1       0           3       18.2         18.5   \n",
       "3      2019      1    1     1      30           3       18.2         18.3   \n",
       "4      2019      1    1     2       0           0       18.0         18.0   \n",
       "...     ...    ...  ...   ...     ...         ...        ...          ...   \n",
       "17515  2019     12   31    21      30           0        5.6         11.1   \n",
       "17516  2019     12   31    22       0           0        5.7          9.3   \n",
       "17517  2019     12   31    22      30           0        5.7          8.5   \n",
       "17518  2019     12   31    23       0           0        4.8          7.8   \n",
       "17519  2019     12   31    23      30           0        4.8          7.8   \n",
       "\n",
       "       Pressure  Relative Humidity  Solar Zenith Angle  Precipitable Water  \\\n",
       "0          1008              97.70              106.23                 3.5   \n",
       "1          1008              98.92              112.36                 3.5   \n",
       "2          1008              98.35              118.58                 3.5   \n",
       "3          1008              99.58              124.86                 3.5   \n",
       "4          1008              99.71              131.20                 3.6   \n",
       "...         ...                ...                 ...                 ...   \n",
       "17515      1006              68.64               77.89                 0.8   \n",
       "17516      1006              78.31               83.06                 0.8   \n",
       "17517      1006              82.64               88.34                 0.8   \n",
       "17518      1006              81.49               94.37                 0.8   \n",
       "17519      1006              81.49              100.25                 0.8   \n",
       "\n",
       "       Wind Direction  Wind Speed  Fill Flag  Clearsky DHI  Clearsky DNI  \\\n",
       "0                 190         2.3          0           NaN           NaN   \n",
       "1                 187         2.5          0           NaN           NaN   \n",
       "2                 184         2.8          0           NaN           NaN   \n",
       "3                 185         3.0          0           NaN           NaN   \n",
       "4                 186         3.1          0           NaN           NaN   \n",
       "...               ...         ...        ...           ...           ...   \n",
       "17515             276         2.2          0           NaN           NaN   \n",
       "17516             274         1.7          0           NaN           NaN   \n",
       "17517             273         1.8          0           NaN           NaN   \n",
       "17518             272         1.8          0           NaN           NaN   \n",
       "17519             272         1.8          0           NaN           NaN   \n",
       "\n",
       "       Clearsky GHI  \n",
       "0               NaN  \n",
       "1               NaN  \n",
       "2               NaN  \n",
       "3               NaN  \n",
       "4               NaN  \n",
       "...             ...  \n",
       "17515           NaN  \n",
       "17516           NaN  \n",
       "17517           NaN  \n",
       "17518           NaN  \n",
       "17519           NaN  \n",
       "\n",
       "[17520 rows x 18 columns]"
      ]
     },
     "execution_count": 41,
     "metadata": {},
     "output_type": "execute_result"
    }
   ],
   "source": [
    "test = pd.read_csv(r\"C:\\Users\\ariha\\Desktop\\Hackathons & Projects\\Wipro Hackathon\\test.csv\")\n",
    "test"
   ]
  },
  {
   "cell_type": "code",
   "execution_count": 42,
   "id": "724a6b6f",
   "metadata": {
    "ExecuteTime": {
     "end_time": "2022-02-12T09:20:03.002881Z",
     "start_time": "2022-02-12T09:20:02.987919Z"
    }
   },
   "outputs": [
    {
     "data": {
      "text/html": [
       "<div>\n",
       "<style scoped>\n",
       "    .dataframe tbody tr th:only-of-type {\n",
       "        vertical-align: middle;\n",
       "    }\n",
       "\n",
       "    .dataframe tbody tr th {\n",
       "        vertical-align: top;\n",
       "    }\n",
       "\n",
       "    .dataframe thead th {\n",
       "        text-align: right;\n",
       "    }\n",
       "</style>\n",
       "<table border=\"1\" class=\"dataframe\">\n",
       "  <thead>\n",
       "    <tr style=\"text-align: right;\">\n",
       "      <th></th>\n",
       "      <th>Cloud Type</th>\n",
       "      <th>Dew Point</th>\n",
       "      <th>Pressure</th>\n",
       "      <th>Relative Humidity</th>\n",
       "      <th>Solar Zenith Angle</th>\n",
       "      <th>Wind Direction</th>\n",
       "      <th>Wind Speed</th>\n",
       "      <th>Fill Flag</th>\n",
       "    </tr>\n",
       "  </thead>\n",
       "  <tbody>\n",
       "    <tr>\n",
       "      <th>0</th>\n",
       "      <td>0.0</td>\n",
       "      <td>0.387244</td>\n",
       "      <td>0.740741</td>\n",
       "      <td>0.734296</td>\n",
       "      <td>0.598773</td>\n",
       "      <td>0.961389</td>\n",
       "      <td>0.240310</td>\n",
       "      <td>0.0</td>\n",
       "    </tr>\n",
       "    <tr>\n",
       "      <th>1</th>\n",
       "      <td>0.0</td>\n",
       "      <td>0.410023</td>\n",
       "      <td>0.740741</td>\n",
       "      <td>0.793233</td>\n",
       "      <td>0.636380</td>\n",
       "      <td>0.961389</td>\n",
       "      <td>0.240310</td>\n",
       "      <td>0.0</td>\n",
       "    </tr>\n",
       "    <tr>\n",
       "      <th>2</th>\n",
       "      <td>0.4</td>\n",
       "      <td>0.387244</td>\n",
       "      <td>0.740741</td>\n",
       "      <td>0.765866</td>\n",
       "      <td>0.674540</td>\n",
       "      <td>0.966389</td>\n",
       "      <td>0.248062</td>\n",
       "      <td>0.0</td>\n",
       "    </tr>\n",
       "    <tr>\n",
       "      <th>3</th>\n",
       "      <td>0.4</td>\n",
       "      <td>0.387244</td>\n",
       "      <td>0.740741</td>\n",
       "      <td>0.765866</td>\n",
       "      <td>0.713067</td>\n",
       "      <td>0.966389</td>\n",
       "      <td>0.240310</td>\n",
       "      <td>0.0</td>\n",
       "    </tr>\n",
       "    <tr>\n",
       "      <th>4</th>\n",
       "      <td>0.4</td>\n",
       "      <td>0.387244</td>\n",
       "      <td>0.740741</td>\n",
       "      <td>0.746256</td>\n",
       "      <td>0.751963</td>\n",
       "      <td>0.972222</td>\n",
       "      <td>0.232558</td>\n",
       "      <td>0.0</td>\n",
       "    </tr>\n",
       "    <tr>\n",
       "      <th>...</th>\n",
       "      <td>...</td>\n",
       "      <td>...</td>\n",
       "      <td>...</td>\n",
       "      <td>...</td>\n",
       "      <td>...</td>\n",
       "      <td>...</td>\n",
       "      <td>...</td>\n",
       "      <td>...</td>\n",
       "    </tr>\n",
       "    <tr>\n",
       "      <th>157761</th>\n",
       "      <td>0.2</td>\n",
       "      <td>0.387244</td>\n",
       "      <td>0.740741</td>\n",
       "      <td>0.587544</td>\n",
       "      <td>0.299018</td>\n",
       "      <td>0.945556</td>\n",
       "      <td>0.162791</td>\n",
       "      <td>0.0</td>\n",
       "    </tr>\n",
       "    <tr>\n",
       "      <th>157762</th>\n",
       "      <td>0.2</td>\n",
       "      <td>0.387244</td>\n",
       "      <td>0.740741</td>\n",
       "      <td>0.621269</td>\n",
       "      <td>0.289018</td>\n",
       "      <td>0.931667</td>\n",
       "      <td>0.155039</td>\n",
       "      <td>0.0</td>\n",
       "    </tr>\n",
       "    <tr>\n",
       "      <th>157763</th>\n",
       "      <td>0.2</td>\n",
       "      <td>0.387244</td>\n",
       "      <td>0.740741</td>\n",
       "      <td>0.620946</td>\n",
       "      <td>0.284540</td>\n",
       "      <td>0.931667</td>\n",
       "      <td>0.147287</td>\n",
       "      <td>0.0</td>\n",
       "    </tr>\n",
       "    <tr>\n",
       "      <th>157764</th>\n",
       "      <td>0.2</td>\n",
       "      <td>0.387244</td>\n",
       "      <td>0.740741</td>\n",
       "      <td>0.608232</td>\n",
       "      <td>0.285706</td>\n",
       "      <td>0.934444</td>\n",
       "      <td>0.147287</td>\n",
       "      <td>0.0</td>\n",
       "    </tr>\n",
       "    <tr>\n",
       "      <th>157765</th>\n",
       "      <td>0.2</td>\n",
       "      <td>0.387244</td>\n",
       "      <td>0.740741</td>\n",
       "      <td>0.608016</td>\n",
       "      <td>0.292577</td>\n",
       "      <td>0.934444</td>\n",
       "      <td>0.147287</td>\n",
       "      <td>0.0</td>\n",
       "    </tr>\n",
       "  </tbody>\n",
       "</table>\n",
       "<p>157766 rows × 8 columns</p>\n",
       "</div>"
      ],
      "text/plain": [
       "        Cloud Type  Dew Point  Pressure  Relative Humidity  \\\n",
       "0              0.0   0.387244  0.740741           0.734296   \n",
       "1              0.0   0.410023  0.740741           0.793233   \n",
       "2              0.4   0.387244  0.740741           0.765866   \n",
       "3              0.4   0.387244  0.740741           0.765866   \n",
       "4              0.4   0.387244  0.740741           0.746256   \n",
       "...            ...        ...       ...                ...   \n",
       "157761         0.2   0.387244  0.740741           0.587544   \n",
       "157762         0.2   0.387244  0.740741           0.621269   \n",
       "157763         0.2   0.387244  0.740741           0.620946   \n",
       "157764         0.2   0.387244  0.740741           0.608232   \n",
       "157765         0.2   0.387244  0.740741           0.608016   \n",
       "\n",
       "        Solar Zenith Angle  Wind Direction  Wind Speed  Fill Flag  \n",
       "0                 0.598773        0.961389    0.240310        0.0  \n",
       "1                 0.636380        0.961389    0.240310        0.0  \n",
       "2                 0.674540        0.966389    0.248062        0.0  \n",
       "3                 0.713067        0.966389    0.240310        0.0  \n",
       "4                 0.751963        0.972222    0.232558        0.0  \n",
       "...                    ...             ...         ...        ...  \n",
       "157761            0.299018        0.945556    0.162791        0.0  \n",
       "157762            0.289018        0.931667    0.155039        0.0  \n",
       "157763            0.284540        0.931667    0.147287        0.0  \n",
       "157764            0.285706        0.934444    0.147287        0.0  \n",
       "157765            0.292577        0.934444    0.147287        0.0  \n",
       "\n",
       "[157766 rows x 8 columns]"
      ]
     },
     "execution_count": 42,
     "metadata": {},
     "output_type": "execute_result"
    }
   ],
   "source": [
    "x_train"
   ]
  },
  {
   "cell_type": "code",
   "execution_count": 43,
   "id": "ce609d00",
   "metadata": {
    "ExecuteTime": {
     "end_time": "2022-02-12T09:20:03.034794Z",
     "start_time": "2022-02-12T09:20:03.003879Z"
    }
   },
   "outputs": [
    {
     "data": {
      "text/html": [
       "<div>\n",
       "<style scoped>\n",
       "    .dataframe tbody tr th:only-of-type {\n",
       "        vertical-align: middle;\n",
       "    }\n",
       "\n",
       "    .dataframe tbody tr th {\n",
       "        vertical-align: top;\n",
       "    }\n",
       "\n",
       "    .dataframe thead th {\n",
       "        text-align: right;\n",
       "    }\n",
       "</style>\n",
       "<table border=\"1\" class=\"dataframe\">\n",
       "  <thead>\n",
       "    <tr style=\"text-align: right;\">\n",
       "      <th></th>\n",
       "      <th>Cloud Type</th>\n",
       "      <th>Dew Point</th>\n",
       "      <th>Temperature</th>\n",
       "      <th>Pressure</th>\n",
       "      <th>Relative Humidity</th>\n",
       "      <th>Solar Zenith Angle</th>\n",
       "      <th>Precipitable Water</th>\n",
       "      <th>Wind Direction</th>\n",
       "      <th>Wind Speed</th>\n",
       "      <th>Fill Flag</th>\n",
       "    </tr>\n",
       "  </thead>\n",
       "  <tbody>\n",
       "    <tr>\n",
       "      <th>0</th>\n",
       "      <td>7</td>\n",
       "      <td>18.4</td>\n",
       "      <td>18.8</td>\n",
       "      <td>1008</td>\n",
       "      <td>97.70</td>\n",
       "      <td>106.23</td>\n",
       "      <td>3.5</td>\n",
       "      <td>190</td>\n",
       "      <td>2.3</td>\n",
       "      <td>0</td>\n",
       "    </tr>\n",
       "    <tr>\n",
       "      <th>1</th>\n",
       "      <td>3</td>\n",
       "      <td>18.4</td>\n",
       "      <td>18.6</td>\n",
       "      <td>1008</td>\n",
       "      <td>98.92</td>\n",
       "      <td>112.36</td>\n",
       "      <td>3.5</td>\n",
       "      <td>187</td>\n",
       "      <td>2.5</td>\n",
       "      <td>0</td>\n",
       "    </tr>\n",
       "    <tr>\n",
       "      <th>2</th>\n",
       "      <td>3</td>\n",
       "      <td>18.2</td>\n",
       "      <td>18.5</td>\n",
       "      <td>1008</td>\n",
       "      <td>98.35</td>\n",
       "      <td>118.58</td>\n",
       "      <td>3.5</td>\n",
       "      <td>184</td>\n",
       "      <td>2.8</td>\n",
       "      <td>0</td>\n",
       "    </tr>\n",
       "    <tr>\n",
       "      <th>3</th>\n",
       "      <td>3</td>\n",
       "      <td>18.2</td>\n",
       "      <td>18.3</td>\n",
       "      <td>1008</td>\n",
       "      <td>99.58</td>\n",
       "      <td>124.86</td>\n",
       "      <td>3.5</td>\n",
       "      <td>185</td>\n",
       "      <td>3.0</td>\n",
       "      <td>0</td>\n",
       "    </tr>\n",
       "    <tr>\n",
       "      <th>4</th>\n",
       "      <td>0</td>\n",
       "      <td>18.0</td>\n",
       "      <td>18.0</td>\n",
       "      <td>1008</td>\n",
       "      <td>99.71</td>\n",
       "      <td>131.20</td>\n",
       "      <td>3.6</td>\n",
       "      <td>186</td>\n",
       "      <td>3.1</td>\n",
       "      <td>0</td>\n",
       "    </tr>\n",
       "    <tr>\n",
       "      <th>...</th>\n",
       "      <td>...</td>\n",
       "      <td>...</td>\n",
       "      <td>...</td>\n",
       "      <td>...</td>\n",
       "      <td>...</td>\n",
       "      <td>...</td>\n",
       "      <td>...</td>\n",
       "      <td>...</td>\n",
       "      <td>...</td>\n",
       "      <td>...</td>\n",
       "    </tr>\n",
       "    <tr>\n",
       "      <th>17515</th>\n",
       "      <td>0</td>\n",
       "      <td>5.6</td>\n",
       "      <td>11.1</td>\n",
       "      <td>1006</td>\n",
       "      <td>68.64</td>\n",
       "      <td>77.89</td>\n",
       "      <td>0.8</td>\n",
       "      <td>276</td>\n",
       "      <td>2.2</td>\n",
       "      <td>0</td>\n",
       "    </tr>\n",
       "    <tr>\n",
       "      <th>17516</th>\n",
       "      <td>0</td>\n",
       "      <td>5.7</td>\n",
       "      <td>9.3</td>\n",
       "      <td>1006</td>\n",
       "      <td>78.31</td>\n",
       "      <td>83.06</td>\n",
       "      <td>0.8</td>\n",
       "      <td>274</td>\n",
       "      <td>1.7</td>\n",
       "      <td>0</td>\n",
       "    </tr>\n",
       "    <tr>\n",
       "      <th>17517</th>\n",
       "      <td>0</td>\n",
       "      <td>5.7</td>\n",
       "      <td>8.5</td>\n",
       "      <td>1006</td>\n",
       "      <td>82.64</td>\n",
       "      <td>88.34</td>\n",
       "      <td>0.8</td>\n",
       "      <td>273</td>\n",
       "      <td>1.8</td>\n",
       "      <td>0</td>\n",
       "    </tr>\n",
       "    <tr>\n",
       "      <th>17518</th>\n",
       "      <td>0</td>\n",
       "      <td>4.8</td>\n",
       "      <td>7.8</td>\n",
       "      <td>1006</td>\n",
       "      <td>81.49</td>\n",
       "      <td>94.37</td>\n",
       "      <td>0.8</td>\n",
       "      <td>272</td>\n",
       "      <td>1.8</td>\n",
       "      <td>0</td>\n",
       "    </tr>\n",
       "    <tr>\n",
       "      <th>17519</th>\n",
       "      <td>0</td>\n",
       "      <td>4.8</td>\n",
       "      <td>7.8</td>\n",
       "      <td>1006</td>\n",
       "      <td>81.49</td>\n",
       "      <td>100.25</td>\n",
       "      <td>0.8</td>\n",
       "      <td>272</td>\n",
       "      <td>1.8</td>\n",
       "      <td>0</td>\n",
       "    </tr>\n",
       "  </tbody>\n",
       "</table>\n",
       "<p>17520 rows × 10 columns</p>\n",
       "</div>"
      ],
      "text/plain": [
       "       Cloud Type  Dew Point  Temperature  Pressure  Relative Humidity  \\\n",
       "0               7       18.4         18.8      1008              97.70   \n",
       "1               3       18.4         18.6      1008              98.92   \n",
       "2               3       18.2         18.5      1008              98.35   \n",
       "3               3       18.2         18.3      1008              99.58   \n",
       "4               0       18.0         18.0      1008              99.71   \n",
       "...           ...        ...          ...       ...                ...   \n",
       "17515           0        5.6         11.1      1006              68.64   \n",
       "17516           0        5.7          9.3      1006              78.31   \n",
       "17517           0        5.7          8.5      1006              82.64   \n",
       "17518           0        4.8          7.8      1006              81.49   \n",
       "17519           0        4.8          7.8      1006              81.49   \n",
       "\n",
       "       Solar Zenith Angle  Precipitable Water  Wind Direction  Wind Speed  \\\n",
       "0                  106.23                 3.5             190         2.3   \n",
       "1                  112.36                 3.5             187         2.5   \n",
       "2                  118.58                 3.5             184         2.8   \n",
       "3                  124.86                 3.5             185         3.0   \n",
       "4                  131.20                 3.6             186         3.1   \n",
       "...                   ...                 ...             ...         ...   \n",
       "17515               77.89                 0.8             276         2.2   \n",
       "17516               83.06                 0.8             274         1.7   \n",
       "17517               88.34                 0.8             273         1.8   \n",
       "17518               94.37                 0.8             272         1.8   \n",
       "17519              100.25                 0.8             272         1.8   \n",
       "\n",
       "       Fill Flag  \n",
       "0              0  \n",
       "1              0  \n",
       "2              0  \n",
       "3              0  \n",
       "4              0  \n",
       "...          ...  \n",
       "17515          0  \n",
       "17516          0  \n",
       "17517          0  \n",
       "17518          0  \n",
       "17519          0  \n",
       "\n",
       "[17520 rows x 10 columns]"
      ]
     },
     "execution_count": 43,
     "metadata": {},
     "output_type": "execute_result"
    }
   ],
   "source": [
    "x_test = test.iloc[:, 5:15]\n",
    "x_test"
   ]
  },
  {
   "cell_type": "code",
   "execution_count": 44,
   "id": "46f2827d",
   "metadata": {
    "ExecuteTime": {
     "end_time": "2022-02-12T09:20:03.065711Z",
     "start_time": "2022-02-12T09:20:03.036791Z"
    }
   },
   "outputs": [
    {
     "data": {
      "text/html": [
       "<div>\n",
       "<style scoped>\n",
       "    .dataframe tbody tr th:only-of-type {\n",
       "        vertical-align: middle;\n",
       "    }\n",
       "\n",
       "    .dataframe tbody tr th {\n",
       "        vertical-align: top;\n",
       "    }\n",
       "\n",
       "    .dataframe thead th {\n",
       "        text-align: right;\n",
       "    }\n",
       "</style>\n",
       "<table border=\"1\" class=\"dataframe\">\n",
       "  <thead>\n",
       "    <tr style=\"text-align: right;\">\n",
       "      <th></th>\n",
       "      <th>Cloud Type</th>\n",
       "      <th>Dew Point</th>\n",
       "      <th>Pressure</th>\n",
       "      <th>Relative Humidity</th>\n",
       "      <th>Solar Zenith Angle</th>\n",
       "      <th>Wind Direction</th>\n",
       "      <th>Wind Speed</th>\n",
       "      <th>Fill Flag</th>\n",
       "    </tr>\n",
       "  </thead>\n",
       "  <tbody>\n",
       "    <tr>\n",
       "      <th>0</th>\n",
       "      <td>7</td>\n",
       "      <td>18.4</td>\n",
       "      <td>1008</td>\n",
       "      <td>97.70</td>\n",
       "      <td>106.23</td>\n",
       "      <td>190</td>\n",
       "      <td>2.3</td>\n",
       "      <td>0</td>\n",
       "    </tr>\n",
       "    <tr>\n",
       "      <th>1</th>\n",
       "      <td>3</td>\n",
       "      <td>18.4</td>\n",
       "      <td>1008</td>\n",
       "      <td>98.92</td>\n",
       "      <td>112.36</td>\n",
       "      <td>187</td>\n",
       "      <td>2.5</td>\n",
       "      <td>0</td>\n",
       "    </tr>\n",
       "    <tr>\n",
       "      <th>2</th>\n",
       "      <td>3</td>\n",
       "      <td>18.2</td>\n",
       "      <td>1008</td>\n",
       "      <td>98.35</td>\n",
       "      <td>118.58</td>\n",
       "      <td>184</td>\n",
       "      <td>2.8</td>\n",
       "      <td>0</td>\n",
       "    </tr>\n",
       "    <tr>\n",
       "      <th>3</th>\n",
       "      <td>3</td>\n",
       "      <td>18.2</td>\n",
       "      <td>1008</td>\n",
       "      <td>99.58</td>\n",
       "      <td>124.86</td>\n",
       "      <td>185</td>\n",
       "      <td>3.0</td>\n",
       "      <td>0</td>\n",
       "    </tr>\n",
       "    <tr>\n",
       "      <th>4</th>\n",
       "      <td>0</td>\n",
       "      <td>18.0</td>\n",
       "      <td>1008</td>\n",
       "      <td>99.71</td>\n",
       "      <td>131.20</td>\n",
       "      <td>186</td>\n",
       "      <td>3.1</td>\n",
       "      <td>0</td>\n",
       "    </tr>\n",
       "    <tr>\n",
       "      <th>...</th>\n",
       "      <td>...</td>\n",
       "      <td>...</td>\n",
       "      <td>...</td>\n",
       "      <td>...</td>\n",
       "      <td>...</td>\n",
       "      <td>...</td>\n",
       "      <td>...</td>\n",
       "      <td>...</td>\n",
       "    </tr>\n",
       "    <tr>\n",
       "      <th>17515</th>\n",
       "      <td>0</td>\n",
       "      <td>5.6</td>\n",
       "      <td>1006</td>\n",
       "      <td>68.64</td>\n",
       "      <td>77.89</td>\n",
       "      <td>276</td>\n",
       "      <td>2.2</td>\n",
       "      <td>0</td>\n",
       "    </tr>\n",
       "    <tr>\n",
       "      <th>17516</th>\n",
       "      <td>0</td>\n",
       "      <td>5.7</td>\n",
       "      <td>1006</td>\n",
       "      <td>78.31</td>\n",
       "      <td>83.06</td>\n",
       "      <td>274</td>\n",
       "      <td>1.7</td>\n",
       "      <td>0</td>\n",
       "    </tr>\n",
       "    <tr>\n",
       "      <th>17517</th>\n",
       "      <td>0</td>\n",
       "      <td>5.7</td>\n",
       "      <td>1006</td>\n",
       "      <td>82.64</td>\n",
       "      <td>88.34</td>\n",
       "      <td>273</td>\n",
       "      <td>1.8</td>\n",
       "      <td>0</td>\n",
       "    </tr>\n",
       "    <tr>\n",
       "      <th>17518</th>\n",
       "      <td>0</td>\n",
       "      <td>4.8</td>\n",
       "      <td>1006</td>\n",
       "      <td>81.49</td>\n",
       "      <td>94.37</td>\n",
       "      <td>272</td>\n",
       "      <td>1.8</td>\n",
       "      <td>0</td>\n",
       "    </tr>\n",
       "    <tr>\n",
       "      <th>17519</th>\n",
       "      <td>0</td>\n",
       "      <td>4.8</td>\n",
       "      <td>1006</td>\n",
       "      <td>81.49</td>\n",
       "      <td>100.25</td>\n",
       "      <td>272</td>\n",
       "      <td>1.8</td>\n",
       "      <td>0</td>\n",
       "    </tr>\n",
       "  </tbody>\n",
       "</table>\n",
       "<p>17520 rows × 8 columns</p>\n",
       "</div>"
      ],
      "text/plain": [
       "       Cloud Type  Dew Point  Pressure  Relative Humidity  Solar Zenith Angle  \\\n",
       "0               7       18.4      1008              97.70              106.23   \n",
       "1               3       18.4      1008              98.92              112.36   \n",
       "2               3       18.2      1008              98.35              118.58   \n",
       "3               3       18.2      1008              99.58              124.86   \n",
       "4               0       18.0      1008              99.71              131.20   \n",
       "...           ...        ...       ...                ...                 ...   \n",
       "17515           0        5.6      1006              68.64               77.89   \n",
       "17516           0        5.7      1006              78.31               83.06   \n",
       "17517           0        5.7      1006              82.64               88.34   \n",
       "17518           0        4.8      1006              81.49               94.37   \n",
       "17519           0        4.8      1006              81.49              100.25   \n",
       "\n",
       "       Wind Direction  Wind Speed  Fill Flag  \n",
       "0                 190         2.3          0  \n",
       "1                 187         2.5          0  \n",
       "2                 184         2.8          0  \n",
       "3                 185         3.0          0  \n",
       "4                 186         3.1          0  \n",
       "...               ...         ...        ...  \n",
       "17515             276         2.2          0  \n",
       "17516             274         1.7          0  \n",
       "17517             273         1.8          0  \n",
       "17518             272         1.8          0  \n",
       "17519             272         1.8          0  \n",
       "\n",
       "[17520 rows x 8 columns]"
      ]
     },
     "execution_count": 44,
     "metadata": {},
     "output_type": "execute_result"
    }
   ],
   "source": [
    "x_test.drop(columns=['Temperature', 'Precipitable Water'], axis=1, inplace=True)\n",
    "x_test"
   ]
  },
  {
   "cell_type": "code",
   "execution_count": 45,
   "id": "d262d1b2",
   "metadata": {
    "ExecuteTime": {
     "end_time": "2022-02-12T09:20:03.081668Z",
     "start_time": "2022-02-12T09:20:03.066709Z"
    }
   },
   "outputs": [
    {
     "data": {
      "text/plain": [
       "array([[0.77777778, 0.7877907 , 0.57142857, ..., 0.52777778, 0.27160494,\n",
       "        0.        ],\n",
       "       [0.33333333, 0.7877907 , 0.57142857, ..., 0.51944444, 0.2962963 ,\n",
       "        0.        ],\n",
       "       [0.33333333, 0.78197674, 0.57142857, ..., 0.51111111, 0.33333333,\n",
       "        0.        ],\n",
       "       ...,\n",
       "       [0.        , 0.41860465, 0.51428571, ..., 0.75833333, 0.20987654,\n",
       "        0.        ],\n",
       "       [0.        , 0.39244186, 0.51428571, ..., 0.75555556, 0.20987654,\n",
       "        0.        ],\n",
       "       [0.        , 0.39244186, 0.51428571, ..., 0.75555556, 0.20987654,\n",
       "        0.        ]])"
      ]
     },
     "execution_count": 45,
     "metadata": {},
     "output_type": "execute_result"
    }
   ],
   "source": [
    "x_test = scaler_x.fit_transform(x_test)\n",
    "x_test"
   ]
  },
  {
   "cell_type": "code",
   "execution_count": 54,
   "id": "67bc8975",
   "metadata": {
    "ExecuteTime": {
     "end_time": "2022-02-12T09:21:12.725391Z",
     "start_time": "2022-02-12T09:21:12.719408Z"
    }
   },
   "outputs": [
    {
     "data": {
      "text/plain": [
       "(157766, 8)"
      ]
     },
     "execution_count": 54,
     "metadata": {},
     "output_type": "execute_result"
    }
   ],
   "source": [
    "x_train.shape"
   ]
  },
  {
   "cell_type": "code",
   "execution_count": 55,
   "id": "891fba29",
   "metadata": {
    "ExecuteTime": {
     "end_time": "2022-02-12T09:21:16.415991Z",
     "start_time": "2022-02-12T09:21:16.409010Z"
    }
   },
   "outputs": [
    {
     "data": {
      "text/plain": [
       "(17530, 8)"
      ]
     },
     "execution_count": 55,
     "metadata": {},
     "output_type": "execute_result"
    }
   ],
   "source": [
    "x_val.shape"
   ]
  },
  {
   "cell_type": "code",
   "execution_count": 56,
   "id": "009f3774",
   "metadata": {
    "ExecuteTime": {
     "end_time": "2022-02-12T09:21:18.710374Z",
     "start_time": "2022-02-12T09:21:18.694417Z"
    }
   },
   "outputs": [
    {
     "data": {
      "text/plain": [
       "(17520, 8)"
      ]
     },
     "execution_count": 56,
     "metadata": {},
     "output_type": "execute_result"
    }
   ],
   "source": [
    "x_test.shape"
   ]
  },
  {
   "cell_type": "code",
   "execution_count": 57,
   "id": "a870bb13",
   "metadata": {
    "ExecuteTime": {
     "end_time": "2022-02-12T09:21:21.979574Z",
     "start_time": "2022-02-12T09:21:21.969601Z"
    }
   },
   "outputs": [
    {
     "data": {
      "text/plain": [
       "(157766, 3)"
      ]
     },
     "execution_count": 57,
     "metadata": {},
     "output_type": "execute_result"
    }
   ],
   "source": [
    "y_train.shape"
   ]
  },
  {
   "cell_type": "code",
   "execution_count": 58,
   "id": "56bb7b1c",
   "metadata": {
    "ExecuteTime": {
     "end_time": "2022-02-12T09:21:25.837322Z",
     "start_time": "2022-02-12T09:21:25.819411Z"
    }
   },
   "outputs": [
    {
     "data": {
      "text/plain": [
       "(17530, 3)"
      ]
     },
     "execution_count": 58,
     "metadata": {},
     "output_type": "execute_result"
    }
   ],
   "source": [
    "y_val.shape"
   ]
  }
 ],
 "metadata": {
  "kernelspec": {
   "display_name": "Python 3 (ipykernel)",
   "language": "python",
   "name": "python3"
  },
  "language_info": {
   "codemirror_mode": {
    "name": "ipython",
    "version": 3
   },
   "file_extension": ".py",
   "mimetype": "text/x-python",
   "name": "python",
   "nbconvert_exporter": "python",
   "pygments_lexer": "ipython3",
   "version": "3.9.7"
  },
  "latex_envs": {
   "LaTeX_envs_menu_present": true,
   "autoclose": false,
   "autocomplete": true,
   "bibliofile": "biblio.bib",
   "cite_by": "apalike",
   "current_citInitial": 1,
   "eqLabelWithNumbers": true,
   "eqNumInitial": 1,
   "hotkeys": {
    "equation": "Ctrl-E",
    "itemize": "Ctrl-I"
   },
   "labels_anchors": false,
   "latex_user_defs": false,
   "report_style_numbering": false,
   "user_envs_cfg": false
  },
  "toc": {
   "base_numbering": 1,
   "nav_menu": {},
   "number_sections": true,
   "sideBar": true,
   "skip_h1_title": false,
   "title_cell": "Table of Contents",
   "title_sidebar": "Contents",
   "toc_cell": false,
   "toc_position": {},
   "toc_section_display": true,
   "toc_window_display": false
  },
  "varInspector": {
   "cols": {
    "lenName": 16,
    "lenType": 16,
    "lenVar": 40
   },
   "kernels_config": {
    "python": {
     "delete_cmd_postfix": "",
     "delete_cmd_prefix": "del ",
     "library": "var_list.py",
     "varRefreshCmd": "print(var_dic_list())"
    },
    "r": {
     "delete_cmd_postfix": ") ",
     "delete_cmd_prefix": "rm(",
     "library": "var_list.r",
     "varRefreshCmd": "cat(var_dic_list()) "
    }
   },
   "position": {
    "height": "224.85px",
    "left": "925.2px",
    "right": "20px",
    "top": "62px",
    "width": "507px"
   },
   "types_to_exclude": [
    "module",
    "function",
    "builtin_function_or_method",
    "instance",
    "_Feature"
   ],
   "window_display": false
  }
 },
 "nbformat": 4,
 "nbformat_minor": 5
}
