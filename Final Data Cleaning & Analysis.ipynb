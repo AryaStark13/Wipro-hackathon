{
 "cells": [
  {
   "cell_type": "code",
   "execution_count": 1,
   "id": "179928b7",
   "metadata": {
    "ExecuteTime": {
     "end_time": "2022-02-11T13:53:13.979030Z",
     "start_time": "2022-02-11T13:53:12.916245Z"
    }
   },
   "outputs": [],
   "source": [
    "import pandas as pd\n",
    "import numpy as np\n",
    "import matplotlib.pyplot as plt\n",
    "from sklearn.preprocessing import MinMaxScaler"
   ]
  },
  {
   "cell_type": "code",
   "execution_count": 2,
   "id": "02855a35",
   "metadata": {
    "ExecuteTime": {
     "end_time": "2022-02-11T13:53:14.199327Z",
     "start_time": "2022-02-11T13:53:13.980023Z"
    }
   },
   "outputs": [
    {
     "data": {
      "text/html": [
       "<div>\n",
       "<style scoped>\n",
       "    .dataframe tbody tr th:only-of-type {\n",
       "        vertical-align: middle;\n",
       "    }\n",
       "\n",
       "    .dataframe tbody tr th {\n",
       "        vertical-align: top;\n",
       "    }\n",
       "\n",
       "    .dataframe thead th {\n",
       "        text-align: right;\n",
       "    }\n",
       "</style>\n",
       "<table border=\"1\" class=\"dataframe\">\n",
       "  <thead>\n",
       "    <tr style=\"text-align: right;\">\n",
       "      <th></th>\n",
       "      <th>Year</th>\n",
       "      <th>Month</th>\n",
       "      <th>Day</th>\n",
       "      <th>Hour</th>\n",
       "      <th>Minute</th>\n",
       "      <th>Clearsky DHI</th>\n",
       "      <th>Clearsky DNI</th>\n",
       "      <th>Clearsky GHI</th>\n",
       "      <th>Cloud Type</th>\n",
       "      <th>Dew Point</th>\n",
       "      <th>Temperature</th>\n",
       "      <th>Pressure</th>\n",
       "      <th>Relative Humidity</th>\n",
       "      <th>Solar Zenith Angle</th>\n",
       "      <th>Precipitable Water</th>\n",
       "      <th>Wind Direction</th>\n",
       "      <th>Wind Speed</th>\n",
       "      <th>Fill Flag</th>\n",
       "    </tr>\n",
       "  </thead>\n",
       "  <tbody>\n",
       "    <tr>\n",
       "      <th>0</th>\n",
       "      <td>2009</td>\n",
       "      <td>1</td>\n",
       "      <td>1</td>\n",
       "      <td>0</td>\n",
       "      <td>0</td>\n",
       "      <td>0</td>\n",
       "      <td>0</td>\n",
       "      <td>0</td>\n",
       "      <td>0</td>\n",
       "      <td>0.0</td>\n",
       "      <td>5.0</td>\n",
       "      <td>1010</td>\n",
       "      <td>75.34</td>\n",
       "      <td>106.15</td>\n",
       "      <td>0.499</td>\n",
       "      <td>346.1</td>\n",
       "      <td>3.1</td>\n",
       "      <td>0</td>\n",
       "    </tr>\n",
       "    <tr>\n",
       "      <th>1</th>\n",
       "      <td>2009</td>\n",
       "      <td>1</td>\n",
       "      <td>1</td>\n",
       "      <td>0</td>\n",
       "      <td>30</td>\n",
       "      <td>0</td>\n",
       "      <td>0</td>\n",
       "      <td>0</td>\n",
       "      <td>0</td>\n",
       "      <td>1.0</td>\n",
       "      <td>5.0</td>\n",
       "      <td>1010</td>\n",
       "      <td>80.81</td>\n",
       "      <td>112.28</td>\n",
       "      <td>0.490</td>\n",
       "      <td>346.1</td>\n",
       "      <td>3.1</td>\n",
       "      <td>0</td>\n",
       "    </tr>\n",
       "    <tr>\n",
       "      <th>2</th>\n",
       "      <td>2009</td>\n",
       "      <td>1</td>\n",
       "      <td>1</td>\n",
       "      <td>1</td>\n",
       "      <td>0</td>\n",
       "      <td>0</td>\n",
       "      <td>0</td>\n",
       "      <td>0</td>\n",
       "      <td>4</td>\n",
       "      <td>0.0</td>\n",
       "      <td>5.0</td>\n",
       "      <td>1010</td>\n",
       "      <td>78.27</td>\n",
       "      <td>118.50</td>\n",
       "      <td>0.482</td>\n",
       "      <td>347.9</td>\n",
       "      <td>3.2</td>\n",
       "      <td>0</td>\n",
       "    </tr>\n",
       "    <tr>\n",
       "      <th>3</th>\n",
       "      <td>2009</td>\n",
       "      <td>1</td>\n",
       "      <td>1</td>\n",
       "      <td>1</td>\n",
       "      <td>30</td>\n",
       "      <td>0</td>\n",
       "      <td>0</td>\n",
       "      <td>0</td>\n",
       "      <td>4</td>\n",
       "      <td>0.0</td>\n",
       "      <td>4.0</td>\n",
       "      <td>1010</td>\n",
       "      <td>78.27</td>\n",
       "      <td>124.78</td>\n",
       "      <td>0.478</td>\n",
       "      <td>347.9</td>\n",
       "      <td>3.1</td>\n",
       "      <td>0</td>\n",
       "    </tr>\n",
       "    <tr>\n",
       "      <th>4</th>\n",
       "      <td>2009</td>\n",
       "      <td>1</td>\n",
       "      <td>1</td>\n",
       "      <td>2</td>\n",
       "      <td>0</td>\n",
       "      <td>0</td>\n",
       "      <td>0</td>\n",
       "      <td>0</td>\n",
       "      <td>4</td>\n",
       "      <td>0.0</td>\n",
       "      <td>4.0</td>\n",
       "      <td>1010</td>\n",
       "      <td>76.45</td>\n",
       "      <td>131.12</td>\n",
       "      <td>0.475</td>\n",
       "      <td>350.0</td>\n",
       "      <td>3.0</td>\n",
       "      <td>0</td>\n",
       "    </tr>\n",
       "  </tbody>\n",
       "</table>\n",
       "</div>"
      ],
      "text/plain": [
       "   Year  Month  Day  Hour  Minute  Clearsky DHI  Clearsky DNI  Clearsky GHI  \\\n",
       "0  2009      1    1     0       0             0             0             0   \n",
       "1  2009      1    1     0      30             0             0             0   \n",
       "2  2009      1    1     1       0             0             0             0   \n",
       "3  2009      1    1     1      30             0             0             0   \n",
       "4  2009      1    1     2       0             0             0             0   \n",
       "\n",
       "   Cloud Type  Dew Point  Temperature  Pressure  Relative Humidity  \\\n",
       "0           0        0.0          5.0      1010              75.34   \n",
       "1           0        1.0          5.0      1010              80.81   \n",
       "2           4        0.0          5.0      1010              78.27   \n",
       "3           4        0.0          4.0      1010              78.27   \n",
       "4           4        0.0          4.0      1010              76.45   \n",
       "\n",
       "   Solar Zenith Angle  Precipitable Water  Wind Direction  Wind Speed  \\\n",
       "0              106.15               0.499           346.1         3.1   \n",
       "1              112.28               0.490           346.1         3.1   \n",
       "2              118.50               0.482           347.9         3.2   \n",
       "3              124.78               0.478           347.9         3.1   \n",
       "4              131.12               0.475           350.0         3.0   \n",
       "\n",
       "   Fill Flag  \n",
       "0          0  \n",
       "1          0  \n",
       "2          0  \n",
       "3          0  \n",
       "4          0  "
      ]
     },
     "execution_count": 2,
     "metadata": {},
     "output_type": "execute_result"
    }
   ],
   "source": [
    "train = pd.read_csv(r\"C:\\Users\\ariha\\Desktop\\Hackathons & Projects\\Wipro Hackathon\\train.csv\")\n",
    "train.head()"
   ]
  },
  {
   "cell_type": "code",
   "execution_count": 3,
   "id": "4ea9bcb7",
   "metadata": {
    "ExecuteTime": {
     "end_time": "2022-02-11T13:53:14.215285Z",
     "start_time": "2022-02-11T13:53:14.201322Z"
    }
   },
   "outputs": [
    {
     "data": {
      "text/plain": [
       "(175296, 18)"
      ]
     },
     "execution_count": 3,
     "metadata": {},
     "output_type": "execute_result"
    }
   ],
   "source": [
    "train.shape"
   ]
  },
  {
   "cell_type": "code",
   "execution_count": 4,
   "id": "d3e2e162",
   "metadata": {
    "ExecuteTime": {
     "end_time": "2022-02-11T13:53:14.231243Z",
     "start_time": "2022-02-11T13:53:14.216285Z"
    }
   },
   "outputs": [
    {
     "data": {
      "text/html": [
       "<div>\n",
       "<style scoped>\n",
       "    .dataframe tbody tr th:only-of-type {\n",
       "        vertical-align: middle;\n",
       "    }\n",
       "\n",
       "    .dataframe tbody tr th {\n",
       "        vertical-align: top;\n",
       "    }\n",
       "\n",
       "    .dataframe thead th {\n",
       "        text-align: right;\n",
       "    }\n",
       "</style>\n",
       "<table border=\"1\" class=\"dataframe\">\n",
       "  <thead>\n",
       "    <tr style=\"text-align: right;\">\n",
       "      <th></th>\n",
       "      <th>Clearsky DHI</th>\n",
       "      <th>Clearsky DNI</th>\n",
       "      <th>Clearsky GHI</th>\n",
       "    </tr>\n",
       "  </thead>\n",
       "  <tbody>\n",
       "    <tr>\n",
       "      <th>0</th>\n",
       "      <td>0</td>\n",
       "      <td>0</td>\n",
       "      <td>0</td>\n",
       "    </tr>\n",
       "    <tr>\n",
       "      <th>1</th>\n",
       "      <td>0</td>\n",
       "      <td>0</td>\n",
       "      <td>0</td>\n",
       "    </tr>\n",
       "    <tr>\n",
       "      <th>2</th>\n",
       "      <td>0</td>\n",
       "      <td>0</td>\n",
       "      <td>0</td>\n",
       "    </tr>\n",
       "    <tr>\n",
       "      <th>3</th>\n",
       "      <td>0</td>\n",
       "      <td>0</td>\n",
       "      <td>0</td>\n",
       "    </tr>\n",
       "    <tr>\n",
       "      <th>4</th>\n",
       "      <td>0</td>\n",
       "      <td>0</td>\n",
       "      <td>0</td>\n",
       "    </tr>\n",
       "  </tbody>\n",
       "</table>\n",
       "</div>"
      ],
      "text/plain": [
       "   Clearsky DHI  Clearsky DNI  Clearsky GHI\n",
       "0             0             0             0\n",
       "1             0             0             0\n",
       "2             0             0             0\n",
       "3             0             0             0\n",
       "4             0             0             0"
      ]
     },
     "execution_count": 4,
     "metadata": {},
     "output_type": "execute_result"
    }
   ],
   "source": [
    "y = pd.DataFrame(train[['Clearsky DHI', 'Clearsky DNI', 'Clearsky GHI']])\n",
    "y.head()"
   ]
  },
  {
   "cell_type": "code",
   "execution_count": 5,
   "id": "98a2a486",
   "metadata": {
    "ExecuteTime": {
     "end_time": "2022-02-11T13:53:14.247200Z",
     "start_time": "2022-02-11T13:53:14.233240Z"
    }
   },
   "outputs": [
    {
     "data": {
      "text/plain": [
       "(175296, 3)"
      ]
     },
     "execution_count": 5,
     "metadata": {},
     "output_type": "execute_result"
    }
   ],
   "source": [
    "y.shape"
   ]
  },
  {
   "cell_type": "code",
   "execution_count": 6,
   "id": "35a6565b",
   "metadata": {
    "ExecuteTime": {
     "end_time": "2022-02-11T13:53:14.276889Z",
     "start_time": "2022-02-11T13:53:14.249195Z"
    }
   },
   "outputs": [
    {
     "data": {
      "text/html": [
       "<div>\n",
       "<style scoped>\n",
       "    .dataframe tbody tr th:only-of-type {\n",
       "        vertical-align: middle;\n",
       "    }\n",
       "\n",
       "    .dataframe tbody tr th {\n",
       "        vertical-align: top;\n",
       "    }\n",
       "\n",
       "    .dataframe thead th {\n",
       "        text-align: right;\n",
       "    }\n",
       "</style>\n",
       "<table border=\"1\" class=\"dataframe\">\n",
       "  <thead>\n",
       "    <tr style=\"text-align: right;\">\n",
       "      <th></th>\n",
       "      <th>Year</th>\n",
       "      <th>Month</th>\n",
       "      <th>Day</th>\n",
       "      <th>Hour</th>\n",
       "      <th>Minute</th>\n",
       "      <th>Cloud Type</th>\n",
       "      <th>Dew Point</th>\n",
       "      <th>Temperature</th>\n",
       "      <th>Pressure</th>\n",
       "      <th>Relative Humidity</th>\n",
       "      <th>Solar Zenith Angle</th>\n",
       "      <th>Precipitable Water</th>\n",
       "      <th>Wind Direction</th>\n",
       "      <th>Wind Speed</th>\n",
       "      <th>Fill Flag</th>\n",
       "    </tr>\n",
       "  </thead>\n",
       "  <tbody>\n",
       "    <tr>\n",
       "      <th>0</th>\n",
       "      <td>2009</td>\n",
       "      <td>1</td>\n",
       "      <td>1</td>\n",
       "      <td>0</td>\n",
       "      <td>0</td>\n",
       "      <td>0</td>\n",
       "      <td>0.0</td>\n",
       "      <td>5.0</td>\n",
       "      <td>1010</td>\n",
       "      <td>75.34</td>\n",
       "      <td>106.15</td>\n",
       "      <td>0.499</td>\n",
       "      <td>346.1</td>\n",
       "      <td>3.1</td>\n",
       "      <td>0</td>\n",
       "    </tr>\n",
       "    <tr>\n",
       "      <th>1</th>\n",
       "      <td>2009</td>\n",
       "      <td>1</td>\n",
       "      <td>1</td>\n",
       "      <td>0</td>\n",
       "      <td>30</td>\n",
       "      <td>0</td>\n",
       "      <td>1.0</td>\n",
       "      <td>5.0</td>\n",
       "      <td>1010</td>\n",
       "      <td>80.81</td>\n",
       "      <td>112.28</td>\n",
       "      <td>0.490</td>\n",
       "      <td>346.1</td>\n",
       "      <td>3.1</td>\n",
       "      <td>0</td>\n",
       "    </tr>\n",
       "    <tr>\n",
       "      <th>2</th>\n",
       "      <td>2009</td>\n",
       "      <td>1</td>\n",
       "      <td>1</td>\n",
       "      <td>1</td>\n",
       "      <td>0</td>\n",
       "      <td>4</td>\n",
       "      <td>0.0</td>\n",
       "      <td>5.0</td>\n",
       "      <td>1010</td>\n",
       "      <td>78.27</td>\n",
       "      <td>118.50</td>\n",
       "      <td>0.482</td>\n",
       "      <td>347.9</td>\n",
       "      <td>3.2</td>\n",
       "      <td>0</td>\n",
       "    </tr>\n",
       "    <tr>\n",
       "      <th>3</th>\n",
       "      <td>2009</td>\n",
       "      <td>1</td>\n",
       "      <td>1</td>\n",
       "      <td>1</td>\n",
       "      <td>30</td>\n",
       "      <td>4</td>\n",
       "      <td>0.0</td>\n",
       "      <td>4.0</td>\n",
       "      <td>1010</td>\n",
       "      <td>78.27</td>\n",
       "      <td>124.78</td>\n",
       "      <td>0.478</td>\n",
       "      <td>347.9</td>\n",
       "      <td>3.1</td>\n",
       "      <td>0</td>\n",
       "    </tr>\n",
       "    <tr>\n",
       "      <th>4</th>\n",
       "      <td>2009</td>\n",
       "      <td>1</td>\n",
       "      <td>1</td>\n",
       "      <td>2</td>\n",
       "      <td>0</td>\n",
       "      <td>4</td>\n",
       "      <td>0.0</td>\n",
       "      <td>4.0</td>\n",
       "      <td>1010</td>\n",
       "      <td>76.45</td>\n",
       "      <td>131.12</td>\n",
       "      <td>0.475</td>\n",
       "      <td>350.0</td>\n",
       "      <td>3.0</td>\n",
       "      <td>0</td>\n",
       "    </tr>\n",
       "  </tbody>\n",
       "</table>\n",
       "</div>"
      ],
      "text/plain": [
       "   Year  Month  Day  Hour  Minute  Cloud Type  Dew Point  Temperature  \\\n",
       "0  2009      1    1     0       0           0        0.0          5.0   \n",
       "1  2009      1    1     0      30           0        1.0          5.0   \n",
       "2  2009      1    1     1       0           4        0.0          5.0   \n",
       "3  2009      1    1     1      30           4        0.0          4.0   \n",
       "4  2009      1    1     2       0           4        0.0          4.0   \n",
       "\n",
       "   Pressure  Relative Humidity  Solar Zenith Angle  Precipitable Water  \\\n",
       "0      1010              75.34              106.15               0.499   \n",
       "1      1010              80.81              112.28               0.490   \n",
       "2      1010              78.27              118.50               0.482   \n",
       "3      1010              78.27              124.78               0.478   \n",
       "4      1010              76.45              131.12               0.475   \n",
       "\n",
       "   Wind Direction  Wind Speed  Fill Flag  \n",
       "0           346.1         3.1          0  \n",
       "1           346.1         3.1          0  \n",
       "2           347.9         3.2          0  \n",
       "3           347.9         3.1          0  \n",
       "4           350.0         3.0          0  "
      ]
     },
     "execution_count": 6,
     "metadata": {},
     "output_type": "execute_result"
    }
   ],
   "source": [
    "x = train.drop(columns=['Clearsky DHI', 'Clearsky DNI', 'Clearsky GHI'], axis=1)\n",
    "x.head()"
   ]
  },
  {
   "cell_type": "code",
   "execution_count": 7,
   "id": "190c29a5",
   "metadata": {
    "ExecuteTime": {
     "end_time": "2022-02-11T13:53:14.291855Z",
     "start_time": "2022-02-11T13:53:14.278859Z"
    }
   },
   "outputs": [
    {
     "data": {
      "text/plain": [
       "(175296, 15)"
      ]
     },
     "execution_count": 7,
     "metadata": {},
     "output_type": "execute_result"
    }
   ],
   "source": [
    "x.shape"
   ]
  },
  {
   "cell_type": "code",
   "execution_count": 8,
   "id": "a33e55ba",
   "metadata": {
    "ExecuteTime": {
     "end_time": "2022-02-11T13:53:14.354686Z",
     "start_time": "2022-02-11T13:53:14.292814Z"
    }
   },
   "outputs": [
    {
     "data": {
      "text/html": [
       "<div>\n",
       "<style scoped>\n",
       "    .dataframe tbody tr th:only-of-type {\n",
       "        vertical-align: middle;\n",
       "    }\n",
       "\n",
       "    .dataframe tbody tr th {\n",
       "        vertical-align: top;\n",
       "    }\n",
       "\n",
       "    .dataframe thead th {\n",
       "        text-align: right;\n",
       "    }\n",
       "</style>\n",
       "<table border=\"1\" class=\"dataframe\">\n",
       "  <thead>\n",
       "    <tr style=\"text-align: right;\">\n",
       "      <th></th>\n",
       "      <th>Year</th>\n",
       "      <th>Month</th>\n",
       "      <th>Day</th>\n",
       "      <th>Hour</th>\n",
       "      <th>Minute</th>\n",
       "      <th>Cloud Type</th>\n",
       "      <th>Dew Point</th>\n",
       "      <th>Temperature</th>\n",
       "      <th>Pressure</th>\n",
       "      <th>Relative Humidity</th>\n",
       "      <th>Solar Zenith Angle</th>\n",
       "      <th>Precipitable Water</th>\n",
       "      <th>Wind Direction</th>\n",
       "      <th>Wind Speed</th>\n",
       "      <th>Fill Flag</th>\n",
       "      <th>Date</th>\n",
       "    </tr>\n",
       "  </thead>\n",
       "  <tbody>\n",
       "    <tr>\n",
       "      <th>0</th>\n",
       "      <td>2009</td>\n",
       "      <td>1</td>\n",
       "      <td>1</td>\n",
       "      <td>0</td>\n",
       "      <td>0</td>\n",
       "      <td>0</td>\n",
       "      <td>0.0</td>\n",
       "      <td>5.0</td>\n",
       "      <td>1010</td>\n",
       "      <td>75.34</td>\n",
       "      <td>106.15</td>\n",
       "      <td>0.499</td>\n",
       "      <td>346.1</td>\n",
       "      <td>3.1</td>\n",
       "      <td>0</td>\n",
       "      <td>2009-01-01 00:00:00</td>\n",
       "    </tr>\n",
       "    <tr>\n",
       "      <th>1</th>\n",
       "      <td>2009</td>\n",
       "      <td>1</td>\n",
       "      <td>1</td>\n",
       "      <td>0</td>\n",
       "      <td>30</td>\n",
       "      <td>0</td>\n",
       "      <td>1.0</td>\n",
       "      <td>5.0</td>\n",
       "      <td>1010</td>\n",
       "      <td>80.81</td>\n",
       "      <td>112.28</td>\n",
       "      <td>0.490</td>\n",
       "      <td>346.1</td>\n",
       "      <td>3.1</td>\n",
       "      <td>0</td>\n",
       "      <td>2009-01-01 00:30:00</td>\n",
       "    </tr>\n",
       "    <tr>\n",
       "      <th>2</th>\n",
       "      <td>2009</td>\n",
       "      <td>1</td>\n",
       "      <td>1</td>\n",
       "      <td>1</td>\n",
       "      <td>0</td>\n",
       "      <td>4</td>\n",
       "      <td>0.0</td>\n",
       "      <td>5.0</td>\n",
       "      <td>1010</td>\n",
       "      <td>78.27</td>\n",
       "      <td>118.50</td>\n",
       "      <td>0.482</td>\n",
       "      <td>347.9</td>\n",
       "      <td>3.2</td>\n",
       "      <td>0</td>\n",
       "      <td>2009-01-01 01:00:00</td>\n",
       "    </tr>\n",
       "    <tr>\n",
       "      <th>3</th>\n",
       "      <td>2009</td>\n",
       "      <td>1</td>\n",
       "      <td>1</td>\n",
       "      <td>1</td>\n",
       "      <td>30</td>\n",
       "      <td>4</td>\n",
       "      <td>0.0</td>\n",
       "      <td>4.0</td>\n",
       "      <td>1010</td>\n",
       "      <td>78.27</td>\n",
       "      <td>124.78</td>\n",
       "      <td>0.478</td>\n",
       "      <td>347.9</td>\n",
       "      <td>3.1</td>\n",
       "      <td>0</td>\n",
       "      <td>2009-01-01 01:30:00</td>\n",
       "    </tr>\n",
       "    <tr>\n",
       "      <th>4</th>\n",
       "      <td>2009</td>\n",
       "      <td>1</td>\n",
       "      <td>1</td>\n",
       "      <td>2</td>\n",
       "      <td>0</td>\n",
       "      <td>4</td>\n",
       "      <td>0.0</td>\n",
       "      <td>4.0</td>\n",
       "      <td>1010</td>\n",
       "      <td>76.45</td>\n",
       "      <td>131.12</td>\n",
       "      <td>0.475</td>\n",
       "      <td>350.0</td>\n",
       "      <td>3.0</td>\n",
       "      <td>0</td>\n",
       "      <td>2009-01-01 02:00:00</td>\n",
       "    </tr>\n",
       "  </tbody>\n",
       "</table>\n",
       "</div>"
      ],
      "text/plain": [
       "   Year  Month  Day  Hour  Minute  Cloud Type  Dew Point  Temperature  \\\n",
       "0  2009      1    1     0       0           0        0.0          5.0   \n",
       "1  2009      1    1     0      30           0        1.0          5.0   \n",
       "2  2009      1    1     1       0           4        0.0          5.0   \n",
       "3  2009      1    1     1      30           4        0.0          4.0   \n",
       "4  2009      1    1     2       0           4        0.0          4.0   \n",
       "\n",
       "   Pressure  Relative Humidity  Solar Zenith Angle  Precipitable Water  \\\n",
       "0      1010              75.34              106.15               0.499   \n",
       "1      1010              80.81              112.28               0.490   \n",
       "2      1010              78.27              118.50               0.482   \n",
       "3      1010              78.27              124.78               0.478   \n",
       "4      1010              76.45              131.12               0.475   \n",
       "\n",
       "   Wind Direction  Wind Speed  Fill Flag                Date  \n",
       "0           346.1         3.1          0 2009-01-01 00:00:00  \n",
       "1           346.1         3.1          0 2009-01-01 00:30:00  \n",
       "2           347.9         3.2          0 2009-01-01 01:00:00  \n",
       "3           347.9         3.1          0 2009-01-01 01:30:00  \n",
       "4           350.0         3.0          0 2009-01-01 02:00:00  "
      ]
     },
     "execution_count": 8,
     "metadata": {},
     "output_type": "execute_result"
    }
   ],
   "source": [
    "x['Date'] = pd.to_datetime(x[['Year', 'Month', 'Day', 'Hour', 'Minute']])\n",
    "x.head()"
   ]
  },
  {
   "cell_type": "code",
   "execution_count": 9,
   "id": "fbd78422",
   "metadata": {
    "ExecuteTime": {
     "end_time": "2022-02-11T13:53:14.387561Z",
     "start_time": "2022-02-11T13:53:14.356643Z"
    }
   },
   "outputs": [
    {
     "data": {
      "text/html": [
       "<div>\n",
       "<style scoped>\n",
       "    .dataframe tbody tr th:only-of-type {\n",
       "        vertical-align: middle;\n",
       "    }\n",
       "\n",
       "    .dataframe tbody tr th {\n",
       "        vertical-align: top;\n",
       "    }\n",
       "\n",
       "    .dataframe thead th {\n",
       "        text-align: right;\n",
       "    }\n",
       "</style>\n",
       "<table border=\"1\" class=\"dataframe\">\n",
       "  <thead>\n",
       "    <tr style=\"text-align: right;\">\n",
       "      <th></th>\n",
       "      <th>Cloud Type</th>\n",
       "      <th>Dew Point</th>\n",
       "      <th>Temperature</th>\n",
       "      <th>Pressure</th>\n",
       "      <th>Relative Humidity</th>\n",
       "      <th>Solar Zenith Angle</th>\n",
       "      <th>Precipitable Water</th>\n",
       "      <th>Wind Direction</th>\n",
       "      <th>Wind Speed</th>\n",
       "      <th>Fill Flag</th>\n",
       "      <th>Date</th>\n",
       "    </tr>\n",
       "  </thead>\n",
       "  <tbody>\n",
       "    <tr>\n",
       "      <th>0</th>\n",
       "      <td>0</td>\n",
       "      <td>0.0</td>\n",
       "      <td>5.0</td>\n",
       "      <td>1010</td>\n",
       "      <td>75.34</td>\n",
       "      <td>106.15</td>\n",
       "      <td>0.499</td>\n",
       "      <td>346.1</td>\n",
       "      <td>3.1</td>\n",
       "      <td>0</td>\n",
       "      <td>2009-01-01 00:00:00</td>\n",
       "    </tr>\n",
       "    <tr>\n",
       "      <th>1</th>\n",
       "      <td>0</td>\n",
       "      <td>1.0</td>\n",
       "      <td>5.0</td>\n",
       "      <td>1010</td>\n",
       "      <td>80.81</td>\n",
       "      <td>112.28</td>\n",
       "      <td>0.490</td>\n",
       "      <td>346.1</td>\n",
       "      <td>3.1</td>\n",
       "      <td>0</td>\n",
       "      <td>2009-01-01 00:30:00</td>\n",
       "    </tr>\n",
       "    <tr>\n",
       "      <th>2</th>\n",
       "      <td>4</td>\n",
       "      <td>0.0</td>\n",
       "      <td>5.0</td>\n",
       "      <td>1010</td>\n",
       "      <td>78.27</td>\n",
       "      <td>118.50</td>\n",
       "      <td>0.482</td>\n",
       "      <td>347.9</td>\n",
       "      <td>3.2</td>\n",
       "      <td>0</td>\n",
       "      <td>2009-01-01 01:00:00</td>\n",
       "    </tr>\n",
       "    <tr>\n",
       "      <th>3</th>\n",
       "      <td>4</td>\n",
       "      <td>0.0</td>\n",
       "      <td>4.0</td>\n",
       "      <td>1010</td>\n",
       "      <td>78.27</td>\n",
       "      <td>124.78</td>\n",
       "      <td>0.478</td>\n",
       "      <td>347.9</td>\n",
       "      <td>3.1</td>\n",
       "      <td>0</td>\n",
       "      <td>2009-01-01 01:30:00</td>\n",
       "    </tr>\n",
       "    <tr>\n",
       "      <th>4</th>\n",
       "      <td>4</td>\n",
       "      <td>0.0</td>\n",
       "      <td>4.0</td>\n",
       "      <td>1010</td>\n",
       "      <td>76.45</td>\n",
       "      <td>131.12</td>\n",
       "      <td>0.475</td>\n",
       "      <td>350.0</td>\n",
       "      <td>3.0</td>\n",
       "      <td>0</td>\n",
       "      <td>2009-01-01 02:00:00</td>\n",
       "    </tr>\n",
       "  </tbody>\n",
       "</table>\n",
       "</div>"
      ],
      "text/plain": [
       "   Cloud Type  Dew Point  Temperature  Pressure  Relative Humidity  \\\n",
       "0           0        0.0          5.0      1010              75.34   \n",
       "1           0        1.0          5.0      1010              80.81   \n",
       "2           4        0.0          5.0      1010              78.27   \n",
       "3           4        0.0          4.0      1010              78.27   \n",
       "4           4        0.0          4.0      1010              76.45   \n",
       "\n",
       "   Solar Zenith Angle  Precipitable Water  Wind Direction  Wind Speed  \\\n",
       "0              106.15               0.499           346.1         3.1   \n",
       "1              112.28               0.490           346.1         3.1   \n",
       "2              118.50               0.482           347.9         3.2   \n",
       "3              124.78               0.478           347.9         3.1   \n",
       "4              131.12               0.475           350.0         3.0   \n",
       "\n",
       "   Fill Flag                Date  \n",
       "0          0 2009-01-01 00:00:00  \n",
       "1          0 2009-01-01 00:30:00  \n",
       "2          0 2009-01-01 01:00:00  \n",
       "3          0 2009-01-01 01:30:00  \n",
       "4          0 2009-01-01 02:00:00  "
      ]
     },
     "execution_count": 9,
     "metadata": {},
     "output_type": "execute_result"
    }
   ],
   "source": [
    "x.drop(columns=['Year', 'Month', 'Day', 'Hour', 'Minute'], axis=1, inplace=True)\n",
    "x.head()"
   ]
  },
  {
   "cell_type": "code",
   "execution_count": 10,
   "id": "4209ec95",
   "metadata": {
    "ExecuteTime": {
     "end_time": "2022-02-11T13:53:14.401522Z",
     "start_time": "2022-02-11T13:53:14.390555Z"
    }
   },
   "outputs": [
    {
     "data": {
      "text/plain": [
       "(175296, 11)"
      ]
     },
     "execution_count": 10,
     "metadata": {},
     "output_type": "execute_result"
    }
   ],
   "source": [
    "x.shape"
   ]
  },
  {
   "cell_type": "code",
   "execution_count": 11,
   "id": "542b08ad",
   "metadata": {
    "ExecuteTime": {
     "end_time": "2022-02-11T13:53:14.417512Z",
     "start_time": "2022-02-11T13:53:14.404514Z"
    }
   },
   "outputs": [
    {
     "data": {
      "text/plain": [
       "['Cloud Type',\n",
       " 'Dew Point',\n",
       " 'Temperature',\n",
       " 'Pressure',\n",
       " 'Relative Humidity',\n",
       " 'Solar Zenith Angle',\n",
       " 'Precipitable Water',\n",
       " 'Wind Direction',\n",
       " 'Wind Speed',\n",
       " 'Fill Flag',\n",
       " 'Date']"
      ]
     },
     "execution_count": 11,
     "metadata": {},
     "output_type": "execute_result"
    }
   ],
   "source": [
    "columns_list = []\n",
    "for cols in x.columns:\n",
    "    columns_list.append(cols)\n",
    "columns_list"
   ]
  },
  {
   "cell_type": "code",
   "execution_count": 12,
   "id": "15552bf1",
   "metadata": {
    "ExecuteTime": {
     "end_time": "2022-02-11T13:53:14.432441Z",
     "start_time": "2022-02-11T13:53:14.418478Z"
    }
   },
   "outputs": [
    {
     "data": {
      "text/plain": [
       "['Date',\n",
       " 'Cloud Type',\n",
       " 'Dew Point',\n",
       " 'Temperature',\n",
       " 'Pressure',\n",
       " 'Relative Humidity',\n",
       " 'Solar Zenith Angle',\n",
       " 'Precipitable Water',\n",
       " 'Wind Direction',\n",
       " 'Wind Speed',\n",
       " 'Fill Flag']"
      ]
     },
     "execution_count": 12,
     "metadata": {},
     "output_type": "execute_result"
    }
   ],
   "source": [
    "columns_list.pop()\n",
    "columns_list.insert(0, 'Date')\n",
    "columns_list"
   ]
  },
  {
   "cell_type": "code",
   "execution_count": 13,
   "id": "3a315e74",
   "metadata": {
    "ExecuteTime": {
     "end_time": "2022-02-11T13:53:14.463360Z",
     "start_time": "2022-02-11T13:53:14.434446Z"
    }
   },
   "outputs": [
    {
     "data": {
      "text/html": [
       "<div>\n",
       "<style scoped>\n",
       "    .dataframe tbody tr th:only-of-type {\n",
       "        vertical-align: middle;\n",
       "    }\n",
       "\n",
       "    .dataframe tbody tr th {\n",
       "        vertical-align: top;\n",
       "    }\n",
       "\n",
       "    .dataframe thead th {\n",
       "        text-align: right;\n",
       "    }\n",
       "</style>\n",
       "<table border=\"1\" class=\"dataframe\">\n",
       "  <thead>\n",
       "    <tr style=\"text-align: right;\">\n",
       "      <th></th>\n",
       "      <th>Date</th>\n",
       "      <th>Cloud Type</th>\n",
       "      <th>Dew Point</th>\n",
       "      <th>Temperature</th>\n",
       "      <th>Pressure</th>\n",
       "      <th>Relative Humidity</th>\n",
       "      <th>Solar Zenith Angle</th>\n",
       "      <th>Precipitable Water</th>\n",
       "      <th>Wind Direction</th>\n",
       "      <th>Wind Speed</th>\n",
       "      <th>Fill Flag</th>\n",
       "    </tr>\n",
       "  </thead>\n",
       "  <tbody>\n",
       "    <tr>\n",
       "      <th>0</th>\n",
       "      <td>2009-01-01 00:00:00</td>\n",
       "      <td>0</td>\n",
       "      <td>0.0</td>\n",
       "      <td>5.0</td>\n",
       "      <td>1010</td>\n",
       "      <td>75.34</td>\n",
       "      <td>106.15</td>\n",
       "      <td>0.499</td>\n",
       "      <td>346.1</td>\n",
       "      <td>3.1</td>\n",
       "      <td>0</td>\n",
       "    </tr>\n",
       "    <tr>\n",
       "      <th>1</th>\n",
       "      <td>2009-01-01 00:30:00</td>\n",
       "      <td>0</td>\n",
       "      <td>1.0</td>\n",
       "      <td>5.0</td>\n",
       "      <td>1010</td>\n",
       "      <td>80.81</td>\n",
       "      <td>112.28</td>\n",
       "      <td>0.490</td>\n",
       "      <td>346.1</td>\n",
       "      <td>3.1</td>\n",
       "      <td>0</td>\n",
       "    </tr>\n",
       "    <tr>\n",
       "      <th>2</th>\n",
       "      <td>2009-01-01 01:00:00</td>\n",
       "      <td>4</td>\n",
       "      <td>0.0</td>\n",
       "      <td>5.0</td>\n",
       "      <td>1010</td>\n",
       "      <td>78.27</td>\n",
       "      <td>118.50</td>\n",
       "      <td>0.482</td>\n",
       "      <td>347.9</td>\n",
       "      <td>3.2</td>\n",
       "      <td>0</td>\n",
       "    </tr>\n",
       "    <tr>\n",
       "      <th>3</th>\n",
       "      <td>2009-01-01 01:30:00</td>\n",
       "      <td>4</td>\n",
       "      <td>0.0</td>\n",
       "      <td>4.0</td>\n",
       "      <td>1010</td>\n",
       "      <td>78.27</td>\n",
       "      <td>124.78</td>\n",
       "      <td>0.478</td>\n",
       "      <td>347.9</td>\n",
       "      <td>3.1</td>\n",
       "      <td>0</td>\n",
       "    </tr>\n",
       "    <tr>\n",
       "      <th>4</th>\n",
       "      <td>2009-01-01 02:00:00</td>\n",
       "      <td>4</td>\n",
       "      <td>0.0</td>\n",
       "      <td>4.0</td>\n",
       "      <td>1010</td>\n",
       "      <td>76.45</td>\n",
       "      <td>131.12</td>\n",
       "      <td>0.475</td>\n",
       "      <td>350.0</td>\n",
       "      <td>3.0</td>\n",
       "      <td>0</td>\n",
       "    </tr>\n",
       "  </tbody>\n",
       "</table>\n",
       "</div>"
      ],
      "text/plain": [
       "                 Date  Cloud Type  Dew Point  Temperature  Pressure  \\\n",
       "0 2009-01-01 00:00:00           0        0.0          5.0      1010   \n",
       "1 2009-01-01 00:30:00           0        1.0          5.0      1010   \n",
       "2 2009-01-01 01:00:00           4        0.0          5.0      1010   \n",
       "3 2009-01-01 01:30:00           4        0.0          4.0      1010   \n",
       "4 2009-01-01 02:00:00           4        0.0          4.0      1010   \n",
       "\n",
       "   Relative Humidity  Solar Zenith Angle  Precipitable Water  Wind Direction  \\\n",
       "0              75.34              106.15               0.499           346.1   \n",
       "1              80.81              112.28               0.490           346.1   \n",
       "2              78.27              118.50               0.482           347.9   \n",
       "3              78.27              124.78               0.478           347.9   \n",
       "4              76.45              131.12               0.475           350.0   \n",
       "\n",
       "   Wind Speed  Fill Flag  \n",
       "0         3.1          0  \n",
       "1         3.1          0  \n",
       "2         3.2          0  \n",
       "3         3.1          0  \n",
       "4         3.0          0  "
      ]
     },
     "execution_count": 13,
     "metadata": {},
     "output_type": "execute_result"
    }
   ],
   "source": [
    "x = x[columns_list]\n",
    "x.head()"
   ]
  },
  {
   "cell_type": "code",
   "execution_count": 14,
   "id": "8b92371e",
   "metadata": {
    "ExecuteTime": {
     "end_time": "2022-02-11T13:53:14.559102Z",
     "start_time": "2022-02-11T13:53:14.465353Z"
    }
   },
   "outputs": [
    {
     "data": {
      "text/html": [
       "<div>\n",
       "<style scoped>\n",
       "    .dataframe tbody tr th:only-of-type {\n",
       "        vertical-align: middle;\n",
       "    }\n",
       "\n",
       "    .dataframe tbody tr th {\n",
       "        vertical-align: top;\n",
       "    }\n",
       "\n",
       "    .dataframe thead th {\n",
       "        text-align: right;\n",
       "    }\n",
       "</style>\n",
       "<table border=\"1\" class=\"dataframe\">\n",
       "  <thead>\n",
       "    <tr style=\"text-align: right;\">\n",
       "      <th></th>\n",
       "      <th>Cloud Type</th>\n",
       "      <th>Dew Point</th>\n",
       "      <th>Temperature</th>\n",
       "      <th>Pressure</th>\n",
       "      <th>Relative Humidity</th>\n",
       "      <th>Solar Zenith Angle</th>\n",
       "      <th>Precipitable Water</th>\n",
       "      <th>Wind Direction</th>\n",
       "      <th>Wind Speed</th>\n",
       "      <th>Fill Flag</th>\n",
       "    </tr>\n",
       "  </thead>\n",
       "  <tbody>\n",
       "    <tr>\n",
       "      <th>Cloud Type</th>\n",
       "      <td>1.000000</td>\n",
       "      <td>0.202096</td>\n",
       "      <td>0.066777</td>\n",
       "      <td>-0.137158</td>\n",
       "      <td>0.235374</td>\n",
       "      <td>0.026873</td>\n",
       "      <td>0.326904</td>\n",
       "      <td>-0.081565</td>\n",
       "      <td>0.072632</td>\n",
       "      <td>0.090161</td>\n",
       "    </tr>\n",
       "    <tr>\n",
       "      <th>Dew Point</th>\n",
       "      <td>0.202096</td>\n",
       "      <td>1.000000</td>\n",
       "      <td>0.848948</td>\n",
       "      <td>-0.419534</td>\n",
       "      <td>0.193455</td>\n",
       "      <td>-0.222336</td>\n",
       "      <td>0.881881</td>\n",
       "      <td>-0.076357</td>\n",
       "      <td>-0.140699</td>\n",
       "      <td>0.036851</td>\n",
       "    </tr>\n",
       "    <tr>\n",
       "      <th>Temperature</th>\n",
       "      <td>0.066777</td>\n",
       "      <td>0.848948</td>\n",
       "      <td>1.000000</td>\n",
       "      <td>-0.371395</td>\n",
       "      <td>-0.341914</td>\n",
       "      <td>-0.526548</td>\n",
       "      <td>0.742449</td>\n",
       "      <td>-0.066673</td>\n",
       "      <td>-0.046694</td>\n",
       "      <td>0.015734</td>\n",
       "    </tr>\n",
       "    <tr>\n",
       "      <th>Pressure</th>\n",
       "      <td>-0.137158</td>\n",
       "      <td>-0.419534</td>\n",
       "      <td>-0.371395</td>\n",
       "      <td>1.000000</td>\n",
       "      <td>-0.085004</td>\n",
       "      <td>0.078900</td>\n",
       "      <td>-0.365342</td>\n",
       "      <td>-0.182006</td>\n",
       "      <td>-0.122674</td>\n",
       "      <td>0.052521</td>\n",
       "    </tr>\n",
       "    <tr>\n",
       "      <th>Relative Humidity</th>\n",
       "      <td>0.235374</td>\n",
       "      <td>0.193455</td>\n",
       "      <td>-0.341914</td>\n",
       "      <td>-0.085004</td>\n",
       "      <td>1.000000</td>\n",
       "      <td>0.607108</td>\n",
       "      <td>0.182658</td>\n",
       "      <td>-0.019108</td>\n",
       "      <td>-0.172248</td>\n",
       "      <td>0.023674</td>\n",
       "    </tr>\n",
       "    <tr>\n",
       "      <th>Solar Zenith Angle</th>\n",
       "      <td>0.026873</td>\n",
       "      <td>-0.222336</td>\n",
       "      <td>-0.526548</td>\n",
       "      <td>0.078900</td>\n",
       "      <td>0.607108</td>\n",
       "      <td>1.000000</td>\n",
       "      <td>-0.182529</td>\n",
       "      <td>0.003802</td>\n",
       "      <td>-0.295927</td>\n",
       "      <td>-0.029150</td>\n",
       "    </tr>\n",
       "    <tr>\n",
       "      <th>Precipitable Water</th>\n",
       "      <td>0.326904</td>\n",
       "      <td>0.881881</td>\n",
       "      <td>0.742449</td>\n",
       "      <td>-0.365342</td>\n",
       "      <td>0.182658</td>\n",
       "      <td>-0.182529</td>\n",
       "      <td>1.000000</td>\n",
       "      <td>-0.105735</td>\n",
       "      <td>-0.106892</td>\n",
       "      <td>0.044106</td>\n",
       "    </tr>\n",
       "    <tr>\n",
       "      <th>Wind Direction</th>\n",
       "      <td>-0.081565</td>\n",
       "      <td>-0.076357</td>\n",
       "      <td>-0.066673</td>\n",
       "      <td>-0.182006</td>\n",
       "      <td>-0.019108</td>\n",
       "      <td>0.003802</td>\n",
       "      <td>-0.105735</td>\n",
       "      <td>1.000000</td>\n",
       "      <td>0.035634</td>\n",
       "      <td>-0.017124</td>\n",
       "    </tr>\n",
       "    <tr>\n",
       "      <th>Wind Speed</th>\n",
       "      <td>0.072632</td>\n",
       "      <td>-0.140699</td>\n",
       "      <td>-0.046694</td>\n",
       "      <td>-0.122674</td>\n",
       "      <td>-0.172248</td>\n",
       "      <td>-0.295927</td>\n",
       "      <td>-0.106892</td>\n",
       "      <td>0.035634</td>\n",
       "      <td>1.000000</td>\n",
       "      <td>0.000447</td>\n",
       "    </tr>\n",
       "    <tr>\n",
       "      <th>Fill Flag</th>\n",
       "      <td>0.090161</td>\n",
       "      <td>0.036851</td>\n",
       "      <td>0.015734</td>\n",
       "      <td>0.052521</td>\n",
       "      <td>0.023674</td>\n",
       "      <td>-0.029150</td>\n",
       "      <td>0.044106</td>\n",
       "      <td>-0.017124</td>\n",
       "      <td>0.000447</td>\n",
       "      <td>1.000000</td>\n",
       "    </tr>\n",
       "  </tbody>\n",
       "</table>\n",
       "</div>"
      ],
      "text/plain": [
       "                    Cloud Type  Dew Point  Temperature  Pressure  \\\n",
       "Cloud Type            1.000000   0.202096     0.066777 -0.137158   \n",
       "Dew Point             0.202096   1.000000     0.848948 -0.419534   \n",
       "Temperature           0.066777   0.848948     1.000000 -0.371395   \n",
       "Pressure             -0.137158  -0.419534    -0.371395  1.000000   \n",
       "Relative Humidity     0.235374   0.193455    -0.341914 -0.085004   \n",
       "Solar Zenith Angle    0.026873  -0.222336    -0.526548  0.078900   \n",
       "Precipitable Water    0.326904   0.881881     0.742449 -0.365342   \n",
       "Wind Direction       -0.081565  -0.076357    -0.066673 -0.182006   \n",
       "Wind Speed            0.072632  -0.140699    -0.046694 -0.122674   \n",
       "Fill Flag             0.090161   0.036851     0.015734  0.052521   \n",
       "\n",
       "                    Relative Humidity  Solar Zenith Angle  Precipitable Water  \\\n",
       "Cloud Type                   0.235374            0.026873            0.326904   \n",
       "Dew Point                    0.193455           -0.222336            0.881881   \n",
       "Temperature                 -0.341914           -0.526548            0.742449   \n",
       "Pressure                    -0.085004            0.078900           -0.365342   \n",
       "Relative Humidity            1.000000            0.607108            0.182658   \n",
       "Solar Zenith Angle           0.607108            1.000000           -0.182529   \n",
       "Precipitable Water           0.182658           -0.182529            1.000000   \n",
       "Wind Direction              -0.019108            0.003802           -0.105735   \n",
       "Wind Speed                  -0.172248           -0.295927           -0.106892   \n",
       "Fill Flag                    0.023674           -0.029150            0.044106   \n",
       "\n",
       "                    Wind Direction  Wind Speed  Fill Flag  \n",
       "Cloud Type               -0.081565    0.072632   0.090161  \n",
       "Dew Point                -0.076357   -0.140699   0.036851  \n",
       "Temperature              -0.066673   -0.046694   0.015734  \n",
       "Pressure                 -0.182006   -0.122674   0.052521  \n",
       "Relative Humidity        -0.019108   -0.172248   0.023674  \n",
       "Solar Zenith Angle        0.003802   -0.295927  -0.029150  \n",
       "Precipitable Water       -0.105735   -0.106892   0.044106  \n",
       "Wind Direction            1.000000    0.035634  -0.017124  \n",
       "Wind Speed                0.035634    1.000000   0.000447  \n",
       "Fill Flag                -0.017124    0.000447   1.000000  "
      ]
     },
     "execution_count": 14,
     "metadata": {},
     "output_type": "execute_result"
    }
   ],
   "source": [
    "corr_matrix = x.corr()\n",
    "corr_matrix"
   ]
  },
  {
   "cell_type": "code",
   "execution_count": 15,
   "id": "cf7a804c",
   "metadata": {
    "ExecuteTime": {
     "end_time": "2022-02-11T13:53:14.590020Z",
     "start_time": "2022-02-11T13:53:14.560099Z"
    }
   },
   "outputs": [
    {
     "name": "stderr",
     "output_type": "stream",
     "text": [
      "C:\\Users\\ariha\\AppData\\Local\\Temp/ipykernel_16452/2621372733.py:1: DeprecationWarning: `np.bool` is a deprecated alias for the builtin `bool`. To silence this warning, use `bool` by itself. Doing this will not modify any behavior and is safe. If you specifically wanted the numpy scalar type, use `np.bool_` here.\n",
      "Deprecated in NumPy 1.20; for more details and guidance: https://numpy.org/devdocs/release/1.20.0-notes.html#deprecations\n",
      "  upper = corr_matrix.where(np.triu(np.ones(corr_matrix.shape), k=1).astype(np.bool))\n"
     ]
    },
    {
     "data": {
      "text/html": [
       "<div>\n",
       "<style scoped>\n",
       "    .dataframe tbody tr th:only-of-type {\n",
       "        vertical-align: middle;\n",
       "    }\n",
       "\n",
       "    .dataframe tbody tr th {\n",
       "        vertical-align: top;\n",
       "    }\n",
       "\n",
       "    .dataframe thead th {\n",
       "        text-align: right;\n",
       "    }\n",
       "</style>\n",
       "<table border=\"1\" class=\"dataframe\">\n",
       "  <thead>\n",
       "    <tr style=\"text-align: right;\">\n",
       "      <th></th>\n",
       "      <th>Cloud Type</th>\n",
       "      <th>Dew Point</th>\n",
       "      <th>Temperature</th>\n",
       "      <th>Pressure</th>\n",
       "      <th>Relative Humidity</th>\n",
       "      <th>Solar Zenith Angle</th>\n",
       "      <th>Precipitable Water</th>\n",
       "      <th>Wind Direction</th>\n",
       "      <th>Wind Speed</th>\n",
       "      <th>Fill Flag</th>\n",
       "    </tr>\n",
       "  </thead>\n",
       "  <tbody>\n",
       "    <tr>\n",
       "      <th>Cloud Type</th>\n",
       "      <td>NaN</td>\n",
       "      <td>0.202096</td>\n",
       "      <td>0.066777</td>\n",
       "      <td>-0.137158</td>\n",
       "      <td>0.235374</td>\n",
       "      <td>0.026873</td>\n",
       "      <td>0.326904</td>\n",
       "      <td>-0.081565</td>\n",
       "      <td>0.072632</td>\n",
       "      <td>0.090161</td>\n",
       "    </tr>\n",
       "    <tr>\n",
       "      <th>Dew Point</th>\n",
       "      <td>NaN</td>\n",
       "      <td>NaN</td>\n",
       "      <td>0.848948</td>\n",
       "      <td>-0.419534</td>\n",
       "      <td>0.193455</td>\n",
       "      <td>-0.222336</td>\n",
       "      <td>0.881881</td>\n",
       "      <td>-0.076357</td>\n",
       "      <td>-0.140699</td>\n",
       "      <td>0.036851</td>\n",
       "    </tr>\n",
       "    <tr>\n",
       "      <th>Temperature</th>\n",
       "      <td>NaN</td>\n",
       "      <td>NaN</td>\n",
       "      <td>NaN</td>\n",
       "      <td>-0.371395</td>\n",
       "      <td>-0.341914</td>\n",
       "      <td>-0.526548</td>\n",
       "      <td>0.742449</td>\n",
       "      <td>-0.066673</td>\n",
       "      <td>-0.046694</td>\n",
       "      <td>0.015734</td>\n",
       "    </tr>\n",
       "    <tr>\n",
       "      <th>Pressure</th>\n",
       "      <td>NaN</td>\n",
       "      <td>NaN</td>\n",
       "      <td>NaN</td>\n",
       "      <td>NaN</td>\n",
       "      <td>-0.085004</td>\n",
       "      <td>0.078900</td>\n",
       "      <td>-0.365342</td>\n",
       "      <td>-0.182006</td>\n",
       "      <td>-0.122674</td>\n",
       "      <td>0.052521</td>\n",
       "    </tr>\n",
       "    <tr>\n",
       "      <th>Relative Humidity</th>\n",
       "      <td>NaN</td>\n",
       "      <td>NaN</td>\n",
       "      <td>NaN</td>\n",
       "      <td>NaN</td>\n",
       "      <td>NaN</td>\n",
       "      <td>0.607108</td>\n",
       "      <td>0.182658</td>\n",
       "      <td>-0.019108</td>\n",
       "      <td>-0.172248</td>\n",
       "      <td>0.023674</td>\n",
       "    </tr>\n",
       "    <tr>\n",
       "      <th>Solar Zenith Angle</th>\n",
       "      <td>NaN</td>\n",
       "      <td>NaN</td>\n",
       "      <td>NaN</td>\n",
       "      <td>NaN</td>\n",
       "      <td>NaN</td>\n",
       "      <td>NaN</td>\n",
       "      <td>-0.182529</td>\n",
       "      <td>0.003802</td>\n",
       "      <td>-0.295927</td>\n",
       "      <td>-0.029150</td>\n",
       "    </tr>\n",
       "    <tr>\n",
       "      <th>Precipitable Water</th>\n",
       "      <td>NaN</td>\n",
       "      <td>NaN</td>\n",
       "      <td>NaN</td>\n",
       "      <td>NaN</td>\n",
       "      <td>NaN</td>\n",
       "      <td>NaN</td>\n",
       "      <td>NaN</td>\n",
       "      <td>-0.105735</td>\n",
       "      <td>-0.106892</td>\n",
       "      <td>0.044106</td>\n",
       "    </tr>\n",
       "    <tr>\n",
       "      <th>Wind Direction</th>\n",
       "      <td>NaN</td>\n",
       "      <td>NaN</td>\n",
       "      <td>NaN</td>\n",
       "      <td>NaN</td>\n",
       "      <td>NaN</td>\n",
       "      <td>NaN</td>\n",
       "      <td>NaN</td>\n",
       "      <td>NaN</td>\n",
       "      <td>0.035634</td>\n",
       "      <td>-0.017124</td>\n",
       "    </tr>\n",
       "    <tr>\n",
       "      <th>Wind Speed</th>\n",
       "      <td>NaN</td>\n",
       "      <td>NaN</td>\n",
       "      <td>NaN</td>\n",
       "      <td>NaN</td>\n",
       "      <td>NaN</td>\n",
       "      <td>NaN</td>\n",
       "      <td>NaN</td>\n",
       "      <td>NaN</td>\n",
       "      <td>NaN</td>\n",
       "      <td>0.000447</td>\n",
       "    </tr>\n",
       "    <tr>\n",
       "      <th>Fill Flag</th>\n",
       "      <td>NaN</td>\n",
       "      <td>NaN</td>\n",
       "      <td>NaN</td>\n",
       "      <td>NaN</td>\n",
       "      <td>NaN</td>\n",
       "      <td>NaN</td>\n",
       "      <td>NaN</td>\n",
       "      <td>NaN</td>\n",
       "      <td>NaN</td>\n",
       "      <td>NaN</td>\n",
       "    </tr>\n",
       "  </tbody>\n",
       "</table>\n",
       "</div>"
      ],
      "text/plain": [
       "                    Cloud Type  Dew Point  Temperature  Pressure  \\\n",
       "Cloud Type                 NaN   0.202096     0.066777 -0.137158   \n",
       "Dew Point                  NaN        NaN     0.848948 -0.419534   \n",
       "Temperature                NaN        NaN          NaN -0.371395   \n",
       "Pressure                   NaN        NaN          NaN       NaN   \n",
       "Relative Humidity          NaN        NaN          NaN       NaN   \n",
       "Solar Zenith Angle         NaN        NaN          NaN       NaN   \n",
       "Precipitable Water         NaN        NaN          NaN       NaN   \n",
       "Wind Direction             NaN        NaN          NaN       NaN   \n",
       "Wind Speed                 NaN        NaN          NaN       NaN   \n",
       "Fill Flag                  NaN        NaN          NaN       NaN   \n",
       "\n",
       "                    Relative Humidity  Solar Zenith Angle  Precipitable Water  \\\n",
       "Cloud Type                   0.235374            0.026873            0.326904   \n",
       "Dew Point                    0.193455           -0.222336            0.881881   \n",
       "Temperature                 -0.341914           -0.526548            0.742449   \n",
       "Pressure                    -0.085004            0.078900           -0.365342   \n",
       "Relative Humidity                 NaN            0.607108            0.182658   \n",
       "Solar Zenith Angle                NaN                 NaN           -0.182529   \n",
       "Precipitable Water                NaN                 NaN                 NaN   \n",
       "Wind Direction                    NaN                 NaN                 NaN   \n",
       "Wind Speed                        NaN                 NaN                 NaN   \n",
       "Fill Flag                         NaN                 NaN                 NaN   \n",
       "\n",
       "                    Wind Direction  Wind Speed  Fill Flag  \n",
       "Cloud Type               -0.081565    0.072632   0.090161  \n",
       "Dew Point                -0.076357   -0.140699   0.036851  \n",
       "Temperature              -0.066673   -0.046694   0.015734  \n",
       "Pressure                 -0.182006   -0.122674   0.052521  \n",
       "Relative Humidity        -0.019108   -0.172248   0.023674  \n",
       "Solar Zenith Angle        0.003802   -0.295927  -0.029150  \n",
       "Precipitable Water       -0.105735   -0.106892   0.044106  \n",
       "Wind Direction                 NaN    0.035634  -0.017124  \n",
       "Wind Speed                     NaN         NaN   0.000447  \n",
       "Fill Flag                      NaN         NaN        NaN  "
      ]
     },
     "execution_count": 15,
     "metadata": {},
     "output_type": "execute_result"
    }
   ],
   "source": [
    "upper = corr_matrix.where(np.triu(np.ones(corr_matrix.shape), k=1).astype(np.bool))\n",
    "upper"
   ]
  },
  {
   "cell_type": "code",
   "execution_count": 16,
   "id": "50b80fd6",
   "metadata": {
    "ExecuteTime": {
     "end_time": "2022-02-11T13:53:14.604985Z",
     "start_time": "2022-02-11T13:53:14.591016Z"
    }
   },
   "outputs": [
    {
     "data": {
      "text/plain": [
       "['Temperature', 'Precipitable Water']"
      ]
     },
     "execution_count": 16,
     "metadata": {},
     "output_type": "execute_result"
    }
   ],
   "source": [
    "columns_to_drop = []\n",
    "for cols in upper.columns:\n",
    "    if any (upper[cols] > 0.75):\n",
    "        columns_to_drop.append(cols)\n",
    "columns_to_drop"
   ]
  },
  {
   "cell_type": "code",
   "execution_count": 17,
   "id": "d0ab761d",
   "metadata": {
    "ExecuteTime": {
     "end_time": "2022-02-11T13:53:14.636893Z",
     "start_time": "2022-02-11T13:53:14.606973Z"
    }
   },
   "outputs": [
    {
     "data": {
      "text/html": [
       "<div>\n",
       "<style scoped>\n",
       "    .dataframe tbody tr th:only-of-type {\n",
       "        vertical-align: middle;\n",
       "    }\n",
       "\n",
       "    .dataframe tbody tr th {\n",
       "        vertical-align: top;\n",
       "    }\n",
       "\n",
       "    .dataframe thead th {\n",
       "        text-align: right;\n",
       "    }\n",
       "</style>\n",
       "<table border=\"1\" class=\"dataframe\">\n",
       "  <thead>\n",
       "    <tr style=\"text-align: right;\">\n",
       "      <th></th>\n",
       "      <th>Date</th>\n",
       "      <th>Cloud Type</th>\n",
       "      <th>Dew Point</th>\n",
       "      <th>Pressure</th>\n",
       "      <th>Relative Humidity</th>\n",
       "      <th>Solar Zenith Angle</th>\n",
       "      <th>Wind Direction</th>\n",
       "      <th>Wind Speed</th>\n",
       "      <th>Fill Flag</th>\n",
       "    </tr>\n",
       "  </thead>\n",
       "  <tbody>\n",
       "    <tr>\n",
       "      <th>0</th>\n",
       "      <td>2009-01-01 00:00:00</td>\n",
       "      <td>0</td>\n",
       "      <td>0.0</td>\n",
       "      <td>1010</td>\n",
       "      <td>75.34</td>\n",
       "      <td>106.15</td>\n",
       "      <td>346.1</td>\n",
       "      <td>3.1</td>\n",
       "      <td>0</td>\n",
       "    </tr>\n",
       "    <tr>\n",
       "      <th>1</th>\n",
       "      <td>2009-01-01 00:30:00</td>\n",
       "      <td>0</td>\n",
       "      <td>1.0</td>\n",
       "      <td>1010</td>\n",
       "      <td>80.81</td>\n",
       "      <td>112.28</td>\n",
       "      <td>346.1</td>\n",
       "      <td>3.1</td>\n",
       "      <td>0</td>\n",
       "    </tr>\n",
       "    <tr>\n",
       "      <th>2</th>\n",
       "      <td>2009-01-01 01:00:00</td>\n",
       "      <td>4</td>\n",
       "      <td>0.0</td>\n",
       "      <td>1010</td>\n",
       "      <td>78.27</td>\n",
       "      <td>118.50</td>\n",
       "      <td>347.9</td>\n",
       "      <td>3.2</td>\n",
       "      <td>0</td>\n",
       "    </tr>\n",
       "    <tr>\n",
       "      <th>3</th>\n",
       "      <td>2009-01-01 01:30:00</td>\n",
       "      <td>4</td>\n",
       "      <td>0.0</td>\n",
       "      <td>1010</td>\n",
       "      <td>78.27</td>\n",
       "      <td>124.78</td>\n",
       "      <td>347.9</td>\n",
       "      <td>3.1</td>\n",
       "      <td>0</td>\n",
       "    </tr>\n",
       "    <tr>\n",
       "      <th>4</th>\n",
       "      <td>2009-01-01 02:00:00</td>\n",
       "      <td>4</td>\n",
       "      <td>0.0</td>\n",
       "      <td>1010</td>\n",
       "      <td>76.45</td>\n",
       "      <td>131.12</td>\n",
       "      <td>350.0</td>\n",
       "      <td>3.0</td>\n",
       "      <td>0</td>\n",
       "    </tr>\n",
       "  </tbody>\n",
       "</table>\n",
       "</div>"
      ],
      "text/plain": [
       "                 Date  Cloud Type  Dew Point  Pressure  Relative Humidity  \\\n",
       "0 2009-01-01 00:00:00           0        0.0      1010              75.34   \n",
       "1 2009-01-01 00:30:00           0        1.0      1010              80.81   \n",
       "2 2009-01-01 01:00:00           4        0.0      1010              78.27   \n",
       "3 2009-01-01 01:30:00           4        0.0      1010              78.27   \n",
       "4 2009-01-01 02:00:00           4        0.0      1010              76.45   \n",
       "\n",
       "   Solar Zenith Angle  Wind Direction  Wind Speed  Fill Flag  \n",
       "0              106.15           346.1         3.1          0  \n",
       "1              112.28           346.1         3.1          0  \n",
       "2              118.50           347.9         3.2          0  \n",
       "3              124.78           347.9         3.1          0  \n",
       "4              131.12           350.0         3.0          0  "
      ]
     },
     "execution_count": 17,
     "metadata": {},
     "output_type": "execute_result"
    }
   ],
   "source": [
    "x.drop(columns_to_drop, axis=1, inplace=True)\n",
    "x.head()"
   ]
  },
  {
   "cell_type": "code",
   "execution_count": 18,
   "id": "d2a5a1e1",
   "metadata": {
    "ExecuteTime": {
     "end_time": "2022-02-11T13:53:14.651853Z",
     "start_time": "2022-02-11T13:53:14.639886Z"
    }
   },
   "outputs": [
    {
     "data": {
      "text/plain": [
       "(175296, 9)"
      ]
     },
     "execution_count": 18,
     "metadata": {},
     "output_type": "execute_result"
    }
   ],
   "source": [
    "x.shape"
   ]
  },
  {
   "cell_type": "code",
   "execution_count": 19,
   "id": "60f97788",
   "metadata": {
    "ExecuteTime": {
     "end_time": "2022-02-11T13:53:14.666813Z",
     "start_time": "2022-02-11T13:53:14.652852Z"
    }
   },
   "outputs": [
    {
     "data": {
      "text/plain": [
       "(175296, 3)"
      ]
     },
     "execution_count": 19,
     "metadata": {},
     "output_type": "execute_result"
    }
   ],
   "source": [
    "y.shape"
   ]
  },
  {
   "cell_type": "code",
   "execution_count": 20,
   "id": "708ad84c",
   "metadata": {
    "ExecuteTime": {
     "end_time": "2022-02-11T13:53:14.698761Z",
     "start_time": "2022-02-11T13:53:14.667810Z"
    }
   },
   "outputs": [
    {
     "data": {
      "text/html": [
       "<div>\n",
       "<style scoped>\n",
       "    .dataframe tbody tr th:only-of-type {\n",
       "        vertical-align: middle;\n",
       "    }\n",
       "\n",
       "    .dataframe tbody tr th {\n",
       "        vertical-align: top;\n",
       "    }\n",
       "\n",
       "    .dataframe thead th {\n",
       "        text-align: right;\n",
       "    }\n",
       "</style>\n",
       "<table border=\"1\" class=\"dataframe\">\n",
       "  <thead>\n",
       "    <tr style=\"text-align: right;\">\n",
       "      <th></th>\n",
       "      <th>Cloud Type</th>\n",
       "      <th>Dew Point</th>\n",
       "      <th>Pressure</th>\n",
       "      <th>Relative Humidity</th>\n",
       "      <th>Solar Zenith Angle</th>\n",
       "      <th>Wind Direction</th>\n",
       "      <th>Wind Speed</th>\n",
       "      <th>Fill Flag</th>\n",
       "    </tr>\n",
       "  </thead>\n",
       "  <tbody>\n",
       "    <tr>\n",
       "      <th>0</th>\n",
       "      <td>0</td>\n",
       "      <td>0.0</td>\n",
       "      <td>1010</td>\n",
       "      <td>75.34</td>\n",
       "      <td>106.15</td>\n",
       "      <td>346.1</td>\n",
       "      <td>3.1</td>\n",
       "      <td>0</td>\n",
       "    </tr>\n",
       "  </tbody>\n",
       "</table>\n",
       "</div>"
      ],
      "text/plain": [
       "   Cloud Type  Dew Point  Pressure  Relative Humidity  Solar Zenith Angle  \\\n",
       "0           0        0.0      1010              75.34              106.15   \n",
       "\n",
       "   Wind Direction  Wind Speed  Fill Flag  \n",
       "0           346.1         3.1          0  "
      ]
     },
     "execution_count": 20,
     "metadata": {},
     "output_type": "execute_result"
    }
   ],
   "source": [
    "x.iloc[:1, 1:]"
   ]
  },
  {
   "cell_type": "code",
   "execution_count": 21,
   "id": "db1bef8f",
   "metadata": {
    "ExecuteTime": {
     "end_time": "2022-02-11T13:53:14.777556Z",
     "start_time": "2022-02-11T13:53:14.700725Z"
    }
   },
   "outputs": [],
   "source": [
    "# Scaling dataframes x & y to (0, 1)\n",
    "scaler = MinMaxScaler((0, 1))\n",
    "x = pd.DataFrame(scaler.fit_transform(x.iloc[:, 1:]))\n",
    "y = pd.DataFrame(scaler.fit_transform(y))"
   ]
  },
  {
   "cell_type": "code",
   "execution_count": 22,
   "id": "6587e366",
   "metadata": {
    "ExecuteTime": {
     "end_time": "2022-02-11T13:53:14.793475Z",
     "start_time": "2022-02-11T13:53:14.780509Z"
    }
   },
   "outputs": [
    {
     "data": {
      "text/html": [
       "<div>\n",
       "<style scoped>\n",
       "    .dataframe tbody tr th:only-of-type {\n",
       "        vertical-align: middle;\n",
       "    }\n",
       "\n",
       "    .dataframe tbody tr th {\n",
       "        vertical-align: top;\n",
       "    }\n",
       "\n",
       "    .dataframe thead th {\n",
       "        text-align: right;\n",
       "    }\n",
       "</style>\n",
       "<table border=\"1\" class=\"dataframe\">\n",
       "  <thead>\n",
       "    <tr style=\"text-align: right;\">\n",
       "      <th></th>\n",
       "      <th>0</th>\n",
       "      <th>1</th>\n",
       "      <th>2</th>\n",
       "      <th>3</th>\n",
       "      <th>4</th>\n",
       "      <th>5</th>\n",
       "      <th>6</th>\n",
       "      <th>7</th>\n",
       "    </tr>\n",
       "  </thead>\n",
       "  <tbody>\n",
       "    <tr>\n",
       "      <th>0</th>\n",
       "      <td>0.0</td>\n",
       "      <td>0.387244</td>\n",
       "      <td>0.740741</td>\n",
       "      <td>0.734296</td>\n",
       "      <td>0.598773</td>\n",
       "      <td>0.961389</td>\n",
       "      <td>0.240310</td>\n",
       "      <td>0.0</td>\n",
       "    </tr>\n",
       "    <tr>\n",
       "      <th>1</th>\n",
       "      <td>0.0</td>\n",
       "      <td>0.410023</td>\n",
       "      <td>0.740741</td>\n",
       "      <td>0.793233</td>\n",
       "      <td>0.636380</td>\n",
       "      <td>0.961389</td>\n",
       "      <td>0.240310</td>\n",
       "      <td>0.0</td>\n",
       "    </tr>\n",
       "    <tr>\n",
       "      <th>2</th>\n",
       "      <td>0.4</td>\n",
       "      <td>0.387244</td>\n",
       "      <td>0.740741</td>\n",
       "      <td>0.765866</td>\n",
       "      <td>0.674540</td>\n",
       "      <td>0.966389</td>\n",
       "      <td>0.248062</td>\n",
       "      <td>0.0</td>\n",
       "    </tr>\n",
       "    <tr>\n",
       "      <th>3</th>\n",
       "      <td>0.4</td>\n",
       "      <td>0.387244</td>\n",
       "      <td>0.740741</td>\n",
       "      <td>0.765866</td>\n",
       "      <td>0.713067</td>\n",
       "      <td>0.966389</td>\n",
       "      <td>0.240310</td>\n",
       "      <td>0.0</td>\n",
       "    </tr>\n",
       "    <tr>\n",
       "      <th>4</th>\n",
       "      <td>0.4</td>\n",
       "      <td>0.387244</td>\n",
       "      <td>0.740741</td>\n",
       "      <td>0.746256</td>\n",
       "      <td>0.751963</td>\n",
       "      <td>0.972222</td>\n",
       "      <td>0.232558</td>\n",
       "      <td>0.0</td>\n",
       "    </tr>\n",
       "  </tbody>\n",
       "</table>\n",
       "</div>"
      ],
      "text/plain": [
       "     0         1         2         3         4         5         6    7\n",
       "0  0.0  0.387244  0.740741  0.734296  0.598773  0.961389  0.240310  0.0\n",
       "1  0.0  0.410023  0.740741  0.793233  0.636380  0.961389  0.240310  0.0\n",
       "2  0.4  0.387244  0.740741  0.765866  0.674540  0.966389  0.248062  0.0\n",
       "3  0.4  0.387244  0.740741  0.765866  0.713067  0.966389  0.240310  0.0\n",
       "4  0.4  0.387244  0.740741  0.746256  0.751963  0.972222  0.232558  0.0"
      ]
     },
     "execution_count": 22,
     "metadata": {},
     "output_type": "execute_result"
    }
   ],
   "source": [
    "x.head()"
   ]
  },
  {
   "cell_type": "code",
   "execution_count": 23,
   "id": "9be979bd",
   "metadata": {
    "ExecuteTime": {
     "end_time": "2022-02-11T13:53:14.809432Z",
     "start_time": "2022-02-11T13:53:14.794473Z"
    }
   },
   "outputs": [
    {
     "data": {
      "text/plain": [
       "(175296, 8)"
      ]
     },
     "execution_count": 23,
     "metadata": {},
     "output_type": "execute_result"
    }
   ],
   "source": [
    "x.shape"
   ]
  },
  {
   "cell_type": "code",
   "execution_count": 24,
   "id": "2e8845d0",
   "metadata": {
    "ExecuteTime": {
     "end_time": "2022-02-11T13:53:14.825389Z",
     "start_time": "2022-02-11T13:53:14.810429Z"
    }
   },
   "outputs": [
    {
     "data": {
      "text/html": [
       "<div>\n",
       "<style scoped>\n",
       "    .dataframe tbody tr th:only-of-type {\n",
       "        vertical-align: middle;\n",
       "    }\n",
       "\n",
       "    .dataframe tbody tr th {\n",
       "        vertical-align: top;\n",
       "    }\n",
       "\n",
       "    .dataframe thead th {\n",
       "        text-align: right;\n",
       "    }\n",
       "</style>\n",
       "<table border=\"1\" class=\"dataframe\">\n",
       "  <thead>\n",
       "    <tr style=\"text-align: right;\">\n",
       "      <th></th>\n",
       "      <th>0</th>\n",
       "      <th>1</th>\n",
       "      <th>2</th>\n",
       "    </tr>\n",
       "  </thead>\n",
       "  <tbody>\n",
       "    <tr>\n",
       "      <th>0</th>\n",
       "      <td>0.0</td>\n",
       "      <td>0.0</td>\n",
       "      <td>0.0</td>\n",
       "    </tr>\n",
       "    <tr>\n",
       "      <th>1</th>\n",
       "      <td>0.0</td>\n",
       "      <td>0.0</td>\n",
       "      <td>0.0</td>\n",
       "    </tr>\n",
       "    <tr>\n",
       "      <th>2</th>\n",
       "      <td>0.0</td>\n",
       "      <td>0.0</td>\n",
       "      <td>0.0</td>\n",
       "    </tr>\n",
       "    <tr>\n",
       "      <th>3</th>\n",
       "      <td>0.0</td>\n",
       "      <td>0.0</td>\n",
       "      <td>0.0</td>\n",
       "    </tr>\n",
       "    <tr>\n",
       "      <th>4</th>\n",
       "      <td>0.0</td>\n",
       "      <td>0.0</td>\n",
       "      <td>0.0</td>\n",
       "    </tr>\n",
       "  </tbody>\n",
       "</table>\n",
       "</div>"
      ],
      "text/plain": [
       "     0    1    2\n",
       "0  0.0  0.0  0.0\n",
       "1  0.0  0.0  0.0\n",
       "2  0.0  0.0  0.0\n",
       "3  0.0  0.0  0.0\n",
       "4  0.0  0.0  0.0"
      ]
     },
     "execution_count": 24,
     "metadata": {},
     "output_type": "execute_result"
    }
   ],
   "source": [
    "y.head()"
   ]
  },
  {
   "cell_type": "code",
   "execution_count": 25,
   "id": "fefdced9",
   "metadata": {
    "ExecuteTime": {
     "end_time": "2022-02-11T13:53:14.841348Z",
     "start_time": "2022-02-11T13:53:14.826386Z"
    }
   },
   "outputs": [
    {
     "data": {
      "text/plain": [
       "(175296, 3)"
      ]
     },
     "execution_count": 25,
     "metadata": {},
     "output_type": "execute_result"
    }
   ],
   "source": [
    "y.shape"
   ]
  },
  {
   "cell_type": "code",
   "execution_count": 26,
   "id": "90f86ea9",
   "metadata": {
    "ExecuteTime": {
     "end_time": "2022-02-11T13:53:14.857304Z",
     "start_time": "2022-02-11T13:53:14.842345Z"
    }
   },
   "outputs": [
    {
     "data": {
      "text/html": [
       "<div>\n",
       "<style scoped>\n",
       "    .dataframe tbody tr th:only-of-type {\n",
       "        vertical-align: middle;\n",
       "    }\n",
       "\n",
       "    .dataframe tbody tr th {\n",
       "        vertical-align: top;\n",
       "    }\n",
       "\n",
       "    .dataframe thead th {\n",
       "        text-align: right;\n",
       "    }\n",
       "</style>\n",
       "<table border=\"1\" class=\"dataframe\">\n",
       "  <thead>\n",
       "    <tr style=\"text-align: right;\">\n",
       "      <th></th>\n",
       "      <th>1</th>\n",
       "      <th>2</th>\n",
       "      <th>3</th>\n",
       "      <th>4</th>\n",
       "      <th>5</th>\n",
       "      <th>6</th>\n",
       "      <th>7</th>\n",
       "    </tr>\n",
       "  </thead>\n",
       "  <tbody>\n",
       "    <tr>\n",
       "      <th>0</th>\n",
       "      <td>0.387244</td>\n",
       "      <td>0.740741</td>\n",
       "      <td>0.734296</td>\n",
       "      <td>0.598773</td>\n",
       "      <td>0.961389</td>\n",
       "      <td>0.240310</td>\n",
       "      <td>0.0</td>\n",
       "    </tr>\n",
       "    <tr>\n",
       "      <th>1</th>\n",
       "      <td>0.410023</td>\n",
       "      <td>0.740741</td>\n",
       "      <td>0.793233</td>\n",
       "      <td>0.636380</td>\n",
       "      <td>0.961389</td>\n",
       "      <td>0.240310</td>\n",
       "      <td>0.0</td>\n",
       "    </tr>\n",
       "    <tr>\n",
       "      <th>2</th>\n",
       "      <td>0.387244</td>\n",
       "      <td>0.740741</td>\n",
       "      <td>0.765866</td>\n",
       "      <td>0.674540</td>\n",
       "      <td>0.966389</td>\n",
       "      <td>0.248062</td>\n",
       "      <td>0.0</td>\n",
       "    </tr>\n",
       "    <tr>\n",
       "      <th>3</th>\n",
       "      <td>0.387244</td>\n",
       "      <td>0.740741</td>\n",
       "      <td>0.765866</td>\n",
       "      <td>0.713067</td>\n",
       "      <td>0.966389</td>\n",
       "      <td>0.240310</td>\n",
       "      <td>0.0</td>\n",
       "    </tr>\n",
       "    <tr>\n",
       "      <th>4</th>\n",
       "      <td>0.387244</td>\n",
       "      <td>0.740741</td>\n",
       "      <td>0.746256</td>\n",
       "      <td>0.751963</td>\n",
       "      <td>0.972222</td>\n",
       "      <td>0.232558</td>\n",
       "      <td>0.0</td>\n",
       "    </tr>\n",
       "  </tbody>\n",
       "</table>\n",
       "</div>"
      ],
      "text/plain": [
       "          1         2         3         4         5         6    7\n",
       "0  0.387244  0.740741  0.734296  0.598773  0.961389  0.240310  0.0\n",
       "1  0.410023  0.740741  0.793233  0.636380  0.961389  0.240310  0.0\n",
       "2  0.387244  0.740741  0.765866  0.674540  0.966389  0.248062  0.0\n",
       "3  0.387244  0.740741  0.765866  0.713067  0.966389  0.240310  0.0\n",
       "4  0.387244  0.740741  0.746256  0.751963  0.972222  0.232558  0.0"
      ]
     },
     "execution_count": 26,
     "metadata": {},
     "output_type": "execute_result"
    }
   ],
   "source": [
    "x_train = pd.DataFrame(x.iloc[:int(len(x) * 0.90), 1:])\n",
    "x_train.head()"
   ]
  },
  {
   "cell_type": "code",
   "execution_count": 27,
   "id": "0648e5ae",
   "metadata": {
    "ExecuteTime": {
     "end_time": "2022-02-11T13:53:14.872263Z",
     "start_time": "2022-02-11T13:53:14.861293Z"
    }
   },
   "outputs": [
    {
     "data": {
      "text/plain": [
       "(157766, 7)"
      ]
     },
     "execution_count": 27,
     "metadata": {},
     "output_type": "execute_result"
    }
   ],
   "source": [
    "x_train.shape"
   ]
  },
  {
   "cell_type": "code",
   "execution_count": 28,
   "id": "8f3ac38b",
   "metadata": {
    "ExecuteTime": {
     "end_time": "2022-02-11T13:53:14.887224Z",
     "start_time": "2022-02-11T13:53:14.873262Z"
    }
   },
   "outputs": [
    {
     "data": {
      "text/html": [
       "<div>\n",
       "<style scoped>\n",
       "    .dataframe tbody tr th:only-of-type {\n",
       "        vertical-align: middle;\n",
       "    }\n",
       "\n",
       "    .dataframe tbody tr th {\n",
       "        vertical-align: top;\n",
       "    }\n",
       "\n",
       "    .dataframe thead th {\n",
       "        text-align: right;\n",
       "    }\n",
       "</style>\n",
       "<table border=\"1\" class=\"dataframe\">\n",
       "  <thead>\n",
       "    <tr style=\"text-align: right;\">\n",
       "      <th></th>\n",
       "      <th>0</th>\n",
       "      <th>1</th>\n",
       "      <th>2</th>\n",
       "    </tr>\n",
       "  </thead>\n",
       "  <tbody>\n",
       "    <tr>\n",
       "      <th>0</th>\n",
       "      <td>0.0</td>\n",
       "      <td>0.0</td>\n",
       "      <td>0.0</td>\n",
       "    </tr>\n",
       "    <tr>\n",
       "      <th>1</th>\n",
       "      <td>0.0</td>\n",
       "      <td>0.0</td>\n",
       "      <td>0.0</td>\n",
       "    </tr>\n",
       "    <tr>\n",
       "      <th>2</th>\n",
       "      <td>0.0</td>\n",
       "      <td>0.0</td>\n",
       "      <td>0.0</td>\n",
       "    </tr>\n",
       "    <tr>\n",
       "      <th>3</th>\n",
       "      <td>0.0</td>\n",
       "      <td>0.0</td>\n",
       "      <td>0.0</td>\n",
       "    </tr>\n",
       "    <tr>\n",
       "      <th>4</th>\n",
       "      <td>0.0</td>\n",
       "      <td>0.0</td>\n",
       "      <td>0.0</td>\n",
       "    </tr>\n",
       "  </tbody>\n",
       "</table>\n",
       "</div>"
      ],
      "text/plain": [
       "     0    1    2\n",
       "0  0.0  0.0  0.0\n",
       "1  0.0  0.0  0.0\n",
       "2  0.0  0.0  0.0\n",
       "3  0.0  0.0  0.0\n",
       "4  0.0  0.0  0.0"
      ]
     },
     "execution_count": 28,
     "metadata": {},
     "output_type": "execute_result"
    }
   ],
   "source": [
    "y_train = pd.DataFrame(y.iloc[:int(len(y) * 0.90), :])\n",
    "y_train.head()"
   ]
  },
  {
   "cell_type": "code",
   "execution_count": 29,
   "id": "3e74da05",
   "metadata": {
    "ExecuteTime": {
     "end_time": "2022-02-11T13:53:14.903181Z",
     "start_time": "2022-02-11T13:53:14.889220Z"
    }
   },
   "outputs": [
    {
     "data": {
      "text/plain": [
       "(157766, 3)"
      ]
     },
     "execution_count": 29,
     "metadata": {},
     "output_type": "execute_result"
    }
   ],
   "source": [
    "y_train.shape"
   ]
  },
  {
   "cell_type": "code",
   "execution_count": 30,
   "id": "d31ca619",
   "metadata": {
    "ExecuteTime": {
     "end_time": "2022-02-11T13:53:14.918141Z",
     "start_time": "2022-02-11T13:53:14.904180Z"
    }
   },
   "outputs": [
    {
     "data": {
      "text/html": [
       "<div>\n",
       "<style scoped>\n",
       "    .dataframe tbody tr th:only-of-type {\n",
       "        vertical-align: middle;\n",
       "    }\n",
       "\n",
       "    .dataframe tbody tr th {\n",
       "        vertical-align: top;\n",
       "    }\n",
       "\n",
       "    .dataframe thead th {\n",
       "        text-align: right;\n",
       "    }\n",
       "</style>\n",
       "<table border=\"1\" class=\"dataframe\">\n",
       "  <thead>\n",
       "    <tr style=\"text-align: right;\">\n",
       "      <th></th>\n",
       "      <th>1</th>\n",
       "      <th>2</th>\n",
       "      <th>3</th>\n",
       "      <th>4</th>\n",
       "      <th>5</th>\n",
       "      <th>6</th>\n",
       "      <th>7</th>\n",
       "    </tr>\n",
       "  </thead>\n",
       "  <tbody>\n",
       "    <tr>\n",
       "      <th>157766</th>\n",
       "      <td>0.410023</td>\n",
       "      <td>0.740741</td>\n",
       "      <td>0.635492</td>\n",
       "      <td>0.304785</td>\n",
       "      <td>0.919722</td>\n",
       "      <td>0.155039</td>\n",
       "      <td>0.00</td>\n",
       "    </tr>\n",
       "    <tr>\n",
       "      <th>157767</th>\n",
       "      <td>0.410023</td>\n",
       "      <td>0.740741</td>\n",
       "      <td>0.686348</td>\n",
       "      <td>0.321779</td>\n",
       "      <td>0.919722</td>\n",
       "      <td>0.162791</td>\n",
       "      <td>0.00</td>\n",
       "    </tr>\n",
       "    <tr>\n",
       "      <th>157768</th>\n",
       "      <td>0.410023</td>\n",
       "      <td>0.740741</td>\n",
       "      <td>0.713501</td>\n",
       "      <td>0.342945</td>\n",
       "      <td>0.909722</td>\n",
       "      <td>0.178295</td>\n",
       "      <td>0.00</td>\n",
       "    </tr>\n",
       "    <tr>\n",
       "      <th>157769</th>\n",
       "      <td>0.410023</td>\n",
       "      <td>0.740741</td>\n",
       "      <td>0.770499</td>\n",
       "      <td>0.367607</td>\n",
       "      <td>0.909722</td>\n",
       "      <td>0.186047</td>\n",
       "      <td>0.04</td>\n",
       "    </tr>\n",
       "    <tr>\n",
       "      <th>157770</th>\n",
       "      <td>0.410023</td>\n",
       "      <td>0.740741</td>\n",
       "      <td>0.792048</td>\n",
       "      <td>0.395276</td>\n",
       "      <td>0.925000</td>\n",
       "      <td>0.193798</td>\n",
       "      <td>0.00</td>\n",
       "    </tr>\n",
       "  </tbody>\n",
       "</table>\n",
       "</div>"
      ],
      "text/plain": [
       "               1         2         3         4         5         6     7\n",
       "157766  0.410023  0.740741  0.635492  0.304785  0.919722  0.155039  0.00\n",
       "157767  0.410023  0.740741  0.686348  0.321779  0.919722  0.162791  0.00\n",
       "157768  0.410023  0.740741  0.713501  0.342945  0.909722  0.178295  0.00\n",
       "157769  0.410023  0.740741  0.770499  0.367607  0.909722  0.186047  0.04\n",
       "157770  0.410023  0.740741  0.792048  0.395276  0.925000  0.193798  0.00"
      ]
     },
     "execution_count": 30,
     "metadata": {},
     "output_type": "execute_result"
    }
   ],
   "source": [
    "x_val = pd.DataFrame(x.iloc[int(len(x) * 0.90):, 1:])\n",
    "x_val.head()"
   ]
  },
  {
   "cell_type": "code",
   "execution_count": 31,
   "id": "68c2ee45",
   "metadata": {
    "ExecuteTime": {
     "end_time": "2022-02-11T13:53:14.933101Z",
     "start_time": "2022-02-11T13:53:14.921135Z"
    }
   },
   "outputs": [
    {
     "data": {
      "text/plain": [
       "(17530, 7)"
      ]
     },
     "execution_count": 31,
     "metadata": {},
     "output_type": "execute_result"
    }
   ],
   "source": [
    "x_val.shape"
   ]
  },
  {
   "cell_type": "code",
   "execution_count": 32,
   "id": "d2b81445",
   "metadata": {
    "ExecuteTime": {
     "end_time": "2022-02-11T13:53:14.948061Z",
     "start_time": "2022-02-11T13:53:14.934098Z"
    }
   },
   "outputs": [
    {
     "data": {
      "text/html": [
       "<div>\n",
       "<style scoped>\n",
       "    .dataframe tbody tr th:only-of-type {\n",
       "        vertical-align: middle;\n",
       "    }\n",
       "\n",
       "    .dataframe tbody tr th {\n",
       "        vertical-align: top;\n",
       "    }\n",
       "\n",
       "    .dataframe thead th {\n",
       "        text-align: right;\n",
       "    }\n",
       "</style>\n",
       "<table border=\"1\" class=\"dataframe\">\n",
       "  <thead>\n",
       "    <tr style=\"text-align: right;\">\n",
       "      <th></th>\n",
       "      <th>0</th>\n",
       "      <th>1</th>\n",
       "      <th>2</th>\n",
       "    </tr>\n",
       "  </thead>\n",
       "  <tbody>\n",
       "    <tr>\n",
       "      <th>157766</th>\n",
       "      <td>0.267257</td>\n",
       "      <td>0.646154</td>\n",
       "      <td>0.475071</td>\n",
       "    </tr>\n",
       "    <tr>\n",
       "      <th>157767</th>\n",
       "      <td>0.254867</td>\n",
       "      <td>0.617308</td>\n",
       "      <td>0.428975</td>\n",
       "    </tr>\n",
       "    <tr>\n",
       "      <th>157768</th>\n",
       "      <td>0.251327</td>\n",
       "      <td>0.553846</td>\n",
       "      <td>0.366886</td>\n",
       "    </tr>\n",
       "    <tr>\n",
       "      <th>157769</th>\n",
       "      <td>0.226549</td>\n",
       "      <td>0.498077</td>\n",
       "      <td>0.299153</td>\n",
       "    </tr>\n",
       "    <tr>\n",
       "      <th>157770</th>\n",
       "      <td>0.200000</td>\n",
       "      <td>0.400962</td>\n",
       "      <td>0.222013</td>\n",
       "    </tr>\n",
       "  </tbody>\n",
       "</table>\n",
       "</div>"
      ],
      "text/plain": [
       "               0         1         2\n",
       "157766  0.267257  0.646154  0.475071\n",
       "157767  0.254867  0.617308  0.428975\n",
       "157768  0.251327  0.553846  0.366886\n",
       "157769  0.226549  0.498077  0.299153\n",
       "157770  0.200000  0.400962  0.222013"
      ]
     },
     "execution_count": 32,
     "metadata": {},
     "output_type": "execute_result"
    }
   ],
   "source": [
    "y_val = pd.DataFrame(y.iloc[int(len(y) * 0.90):, :])\n",
    "y_val.head()"
   ]
  },
  {
   "cell_type": "code",
   "execution_count": 33,
   "id": "0a0743b8",
   "metadata": {
    "ExecuteTime": {
     "end_time": "2022-02-11T13:53:14.964019Z",
     "start_time": "2022-02-11T13:53:14.949058Z"
    }
   },
   "outputs": [
    {
     "data": {
      "text/plain": [
       "(17530, 3)"
      ]
     },
     "execution_count": 33,
     "metadata": {},
     "output_type": "execute_result"
    }
   ],
   "source": [
    "y_val.shape"
   ]
  }
 ],
 "metadata": {
  "kernelspec": {
   "display_name": "Python 3 (ipykernel)",
   "language": "python",
   "name": "python3"
  },
  "language_info": {
   "codemirror_mode": {
    "name": "ipython",
    "version": 3
   },
   "file_extension": ".py",
   "mimetype": "text/x-python",
   "name": "python",
   "nbconvert_exporter": "python",
   "pygments_lexer": "ipython3",
   "version": "3.9.7"
  },
  "latex_envs": {
   "LaTeX_envs_menu_present": true,
   "autoclose": false,
   "autocomplete": true,
   "bibliofile": "biblio.bib",
   "cite_by": "apalike",
   "current_citInitial": 1,
   "eqLabelWithNumbers": true,
   "eqNumInitial": 1,
   "hotkeys": {
    "equation": "Ctrl-E",
    "itemize": "Ctrl-I"
   },
   "labels_anchors": false,
   "latex_user_defs": false,
   "report_style_numbering": false,
   "user_envs_cfg": false
  },
  "toc": {
   "base_numbering": 1,
   "nav_menu": {},
   "number_sections": true,
   "sideBar": true,
   "skip_h1_title": false,
   "title_cell": "Table of Contents",
   "title_sidebar": "Contents",
   "toc_cell": false,
   "toc_position": {},
   "toc_section_display": true,
   "toc_window_display": false
  },
  "varInspector": {
   "cols": {
    "lenName": 16,
    "lenType": 16,
    "lenVar": 40
   },
   "kernels_config": {
    "python": {
     "delete_cmd_postfix": "",
     "delete_cmd_prefix": "del ",
     "library": "var_list.py",
     "varRefreshCmd": "print(var_dic_list())"
    },
    "r": {
     "delete_cmd_postfix": ") ",
     "delete_cmd_prefix": "rm(",
     "library": "var_list.r",
     "varRefreshCmd": "cat(var_dic_list()) "
    }
   },
   "position": {
    "height": "224.85px",
    "left": "925.2px",
    "right": "20px",
    "top": "62px",
    "width": "507px"
   },
   "types_to_exclude": [
    "module",
    "function",
    "builtin_function_or_method",
    "instance",
    "_Feature"
   ],
   "window_display": false
  }
 },
 "nbformat": 4,
 "nbformat_minor": 5
}
