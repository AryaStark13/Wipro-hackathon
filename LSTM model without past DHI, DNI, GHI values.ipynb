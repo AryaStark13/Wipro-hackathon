{
 "cells": [
  {
   "cell_type": "code",
   "execution_count": 1,
   "id": "a1f8f969",
   "metadata": {
    "ExecuteTime": {
     "end_time": "2022-02-12T16:58:51.444397Z",
     "start_time": "2022-02-12T16:58:51.429882Z"
    }
   },
   "outputs": [],
   "source": [
    "# Goal is to convert x_train from (N x D) to (N x T x D) where T is the number of previous time steps.\n",
    "# Then apply this N x T x D into RNN/LSTM models"
   ]
  },
  {
   "cell_type": "code",
   "execution_count": 2,
   "id": "24c7a1ff",
   "metadata": {
    "ExecuteTime": {
     "end_time": "2022-02-12T16:58:51.459358Z",
     "start_time": "2022-02-12T16:58:51.445428Z"
    }
   },
   "outputs": [],
   "source": [
    "# This RNN model considers 8 features for predictions of fututre DHI, DNI, GHI values\n",
    "# It does not take into consideration past DHI, DNI, GHI values for evaluation"
   ]
  },
  {
   "cell_type": "code",
   "execution_count": 3,
   "id": "6cf3ec2a",
   "metadata": {
    "ExecuteTime": {
     "end_time": "2022-02-12T16:58:52.914626Z",
     "start_time": "2022-02-12T16:58:51.461353Z"
    }
   },
   "outputs": [],
   "source": [
    "import pandas as pd\n",
    "import numpy as np\n",
    "import matplotlib.pyplot as plt\n",
    "from sklearn.preprocessing import MinMaxScaler"
   ]
  },
  {
   "cell_type": "markdown",
   "id": "1eadb0c1",
   "metadata": {},
   "source": [
    "# Train excel sheet"
   ]
  },
  {
   "cell_type": "code",
   "execution_count": 4,
   "id": "35796780",
   "metadata": {
    "ExecuteTime": {
     "end_time": "2022-02-12T16:58:53.150954Z",
     "start_time": "2022-02-12T16:58:52.915619Z"
    }
   },
   "outputs": [
    {
     "data": {
      "text/html": [
       "<div>\n",
       "<style scoped>\n",
       "    .dataframe tbody tr th:only-of-type {\n",
       "        vertical-align: middle;\n",
       "    }\n",
       "\n",
       "    .dataframe tbody tr th {\n",
       "        vertical-align: top;\n",
       "    }\n",
       "\n",
       "    .dataframe thead th {\n",
       "        text-align: right;\n",
       "    }\n",
       "</style>\n",
       "<table border=\"1\" class=\"dataframe\">\n",
       "  <thead>\n",
       "    <tr style=\"text-align: right;\">\n",
       "      <th></th>\n",
       "      <th>Year</th>\n",
       "      <th>Month</th>\n",
       "      <th>Day</th>\n",
       "      <th>Hour</th>\n",
       "      <th>Minute</th>\n",
       "      <th>Clearsky DHI</th>\n",
       "      <th>Clearsky DNI</th>\n",
       "      <th>Clearsky GHI</th>\n",
       "      <th>Cloud Type</th>\n",
       "      <th>Dew Point</th>\n",
       "      <th>Temperature</th>\n",
       "      <th>Pressure</th>\n",
       "      <th>Relative Humidity</th>\n",
       "      <th>Solar Zenith Angle</th>\n",
       "      <th>Precipitable Water</th>\n",
       "      <th>Wind Direction</th>\n",
       "      <th>Wind Speed</th>\n",
       "      <th>Fill Flag</th>\n",
       "    </tr>\n",
       "  </thead>\n",
       "  <tbody>\n",
       "    <tr>\n",
       "      <th>0</th>\n",
       "      <td>2009</td>\n",
       "      <td>1</td>\n",
       "      <td>1</td>\n",
       "      <td>0</td>\n",
       "      <td>0</td>\n",
       "      <td>0</td>\n",
       "      <td>0</td>\n",
       "      <td>0</td>\n",
       "      <td>0</td>\n",
       "      <td>0.0</td>\n",
       "      <td>5.0</td>\n",
       "      <td>1010</td>\n",
       "      <td>75.34</td>\n",
       "      <td>106.15</td>\n",
       "      <td>0.499</td>\n",
       "      <td>346.1</td>\n",
       "      <td>3.1</td>\n",
       "      <td>0</td>\n",
       "    </tr>\n",
       "    <tr>\n",
       "      <th>1</th>\n",
       "      <td>2009</td>\n",
       "      <td>1</td>\n",
       "      <td>1</td>\n",
       "      <td>0</td>\n",
       "      <td>30</td>\n",
       "      <td>0</td>\n",
       "      <td>0</td>\n",
       "      <td>0</td>\n",
       "      <td>0</td>\n",
       "      <td>1.0</td>\n",
       "      <td>5.0</td>\n",
       "      <td>1010</td>\n",
       "      <td>80.81</td>\n",
       "      <td>112.28</td>\n",
       "      <td>0.490</td>\n",
       "      <td>346.1</td>\n",
       "      <td>3.1</td>\n",
       "      <td>0</td>\n",
       "    </tr>\n",
       "    <tr>\n",
       "      <th>2</th>\n",
       "      <td>2009</td>\n",
       "      <td>1</td>\n",
       "      <td>1</td>\n",
       "      <td>1</td>\n",
       "      <td>0</td>\n",
       "      <td>0</td>\n",
       "      <td>0</td>\n",
       "      <td>0</td>\n",
       "      <td>4</td>\n",
       "      <td>0.0</td>\n",
       "      <td>5.0</td>\n",
       "      <td>1010</td>\n",
       "      <td>78.27</td>\n",
       "      <td>118.50</td>\n",
       "      <td>0.482</td>\n",
       "      <td>347.9</td>\n",
       "      <td>3.2</td>\n",
       "      <td>0</td>\n",
       "    </tr>\n",
       "    <tr>\n",
       "      <th>3</th>\n",
       "      <td>2009</td>\n",
       "      <td>1</td>\n",
       "      <td>1</td>\n",
       "      <td>1</td>\n",
       "      <td>30</td>\n",
       "      <td>0</td>\n",
       "      <td>0</td>\n",
       "      <td>0</td>\n",
       "      <td>4</td>\n",
       "      <td>0.0</td>\n",
       "      <td>4.0</td>\n",
       "      <td>1010</td>\n",
       "      <td>78.27</td>\n",
       "      <td>124.78</td>\n",
       "      <td>0.478</td>\n",
       "      <td>347.9</td>\n",
       "      <td>3.1</td>\n",
       "      <td>0</td>\n",
       "    </tr>\n",
       "    <tr>\n",
       "      <th>4</th>\n",
       "      <td>2009</td>\n",
       "      <td>1</td>\n",
       "      <td>1</td>\n",
       "      <td>2</td>\n",
       "      <td>0</td>\n",
       "      <td>0</td>\n",
       "      <td>0</td>\n",
       "      <td>0</td>\n",
       "      <td>4</td>\n",
       "      <td>0.0</td>\n",
       "      <td>4.0</td>\n",
       "      <td>1010</td>\n",
       "      <td>76.45</td>\n",
       "      <td>131.12</td>\n",
       "      <td>0.475</td>\n",
       "      <td>350.0</td>\n",
       "      <td>3.0</td>\n",
       "      <td>0</td>\n",
       "    </tr>\n",
       "    <tr>\n",
       "      <th>...</th>\n",
       "      <td>...</td>\n",
       "      <td>...</td>\n",
       "      <td>...</td>\n",
       "      <td>...</td>\n",
       "      <td>...</td>\n",
       "      <td>...</td>\n",
       "      <td>...</td>\n",
       "      <td>...</td>\n",
       "      <td>...</td>\n",
       "      <td>...</td>\n",
       "      <td>...</td>\n",
       "      <td>...</td>\n",
       "      <td>...</td>\n",
       "      <td>...</td>\n",
       "      <td>...</td>\n",
       "      <td>...</td>\n",
       "      <td>...</td>\n",
       "      <td>...</td>\n",
       "    </tr>\n",
       "    <tr>\n",
       "      <th>175291</th>\n",
       "      <td>2018</td>\n",
       "      <td>12</td>\n",
       "      <td>31</td>\n",
       "      <td>21</td>\n",
       "      <td>30</td>\n",
       "      <td>51</td>\n",
       "      <td>555</td>\n",
       "      <td>168</td>\n",
       "      <td>4</td>\n",
       "      <td>19.4</td>\n",
       "      <td>20.8</td>\n",
       "      <td>1008</td>\n",
       "      <td>91.77</td>\n",
       "      <td>77.86</td>\n",
       "      <td>3.700</td>\n",
       "      <td>204.0</td>\n",
       "      <td>3.5</td>\n",
       "      <td>100</td>\n",
       "    </tr>\n",
       "    <tr>\n",
       "      <th>175292</th>\n",
       "      <td>2018</td>\n",
       "      <td>12</td>\n",
       "      <td>31</td>\n",
       "      <td>22</td>\n",
       "      <td>0</td>\n",
       "      <td>37</td>\n",
       "      <td>388</td>\n",
       "      <td>84</td>\n",
       "      <td>4</td>\n",
       "      <td>19.1</td>\n",
       "      <td>20.1</td>\n",
       "      <td>1008</td>\n",
       "      <td>93.88</td>\n",
       "      <td>83.03</td>\n",
       "      <td>3.800</td>\n",
       "      <td>209.0</td>\n",
       "      <td>3.2</td>\n",
       "      <td>100</td>\n",
       "    </tr>\n",
       "    <tr>\n",
       "      <th>175293</th>\n",
       "      <td>2018</td>\n",
       "      <td>12</td>\n",
       "      <td>31</td>\n",
       "      <td>22</td>\n",
       "      <td>30</td>\n",
       "      <td>15</td>\n",
       "      <td>115</td>\n",
       "      <td>18</td>\n",
       "      <td>7</td>\n",
       "      <td>19.1</td>\n",
       "      <td>19.6</td>\n",
       "      <td>1008</td>\n",
       "      <td>96.83</td>\n",
       "      <td>88.32</td>\n",
       "      <td>3.800</td>\n",
       "      <td>208.0</td>\n",
       "      <td>2.6</td>\n",
       "      <td>57</td>\n",
       "    </tr>\n",
       "    <tr>\n",
       "      <th>175294</th>\n",
       "      <td>2018</td>\n",
       "      <td>12</td>\n",
       "      <td>31</td>\n",
       "      <td>23</td>\n",
       "      <td>0</td>\n",
       "      <td>0</td>\n",
       "      <td>0</td>\n",
       "      <td>0</td>\n",
       "      <td>7</td>\n",
       "      <td>18.7</td>\n",
       "      <td>19.2</td>\n",
       "      <td>1009</td>\n",
       "      <td>96.84</td>\n",
       "      <td>94.34</td>\n",
       "      <td>3.700</td>\n",
       "      <td>206.0</td>\n",
       "      <td>2.1</td>\n",
       "      <td>0</td>\n",
       "    </tr>\n",
       "    <tr>\n",
       "      <th>175295</th>\n",
       "      <td>2018</td>\n",
       "      <td>12</td>\n",
       "      <td>31</td>\n",
       "      <td>23</td>\n",
       "      <td>30</td>\n",
       "      <td>0</td>\n",
       "      <td>0</td>\n",
       "      <td>0</td>\n",
       "      <td>7</td>\n",
       "      <td>18.7</td>\n",
       "      <td>19.2</td>\n",
       "      <td>1009</td>\n",
       "      <td>96.84</td>\n",
       "      <td>100.22</td>\n",
       "      <td>3.700</td>\n",
       "      <td>206.0</td>\n",
       "      <td>2.1</td>\n",
       "      <td>0</td>\n",
       "    </tr>\n",
       "  </tbody>\n",
       "</table>\n",
       "<p>175296 rows × 18 columns</p>\n",
       "</div>"
      ],
      "text/plain": [
       "        Year  Month  Day  Hour  Minute  Clearsky DHI  Clearsky DNI  \\\n",
       "0       2009      1    1     0       0             0             0   \n",
       "1       2009      1    1     0      30             0             0   \n",
       "2       2009      1    1     1       0             0             0   \n",
       "3       2009      1    1     1      30             0             0   \n",
       "4       2009      1    1     2       0             0             0   \n",
       "...      ...    ...  ...   ...     ...           ...           ...   \n",
       "175291  2018     12   31    21      30            51           555   \n",
       "175292  2018     12   31    22       0            37           388   \n",
       "175293  2018     12   31    22      30            15           115   \n",
       "175294  2018     12   31    23       0             0             0   \n",
       "175295  2018     12   31    23      30             0             0   \n",
       "\n",
       "        Clearsky GHI  Cloud Type  Dew Point  Temperature  Pressure  \\\n",
       "0                  0           0        0.0          5.0      1010   \n",
       "1                  0           0        1.0          5.0      1010   \n",
       "2                  0           4        0.0          5.0      1010   \n",
       "3                  0           4        0.0          4.0      1010   \n",
       "4                  0           4        0.0          4.0      1010   \n",
       "...              ...         ...        ...          ...       ...   \n",
       "175291           168           4       19.4         20.8      1008   \n",
       "175292            84           4       19.1         20.1      1008   \n",
       "175293            18           7       19.1         19.6      1008   \n",
       "175294             0           7       18.7         19.2      1009   \n",
       "175295             0           7       18.7         19.2      1009   \n",
       "\n",
       "        Relative Humidity  Solar Zenith Angle  Precipitable Water  \\\n",
       "0                   75.34              106.15               0.499   \n",
       "1                   80.81              112.28               0.490   \n",
       "2                   78.27              118.50               0.482   \n",
       "3                   78.27              124.78               0.478   \n",
       "4                   76.45              131.12               0.475   \n",
       "...                   ...                 ...                 ...   \n",
       "175291              91.77               77.86               3.700   \n",
       "175292              93.88               83.03               3.800   \n",
       "175293              96.83               88.32               3.800   \n",
       "175294              96.84               94.34               3.700   \n",
       "175295              96.84              100.22               3.700   \n",
       "\n",
       "        Wind Direction  Wind Speed  Fill Flag  \n",
       "0                346.1         3.1          0  \n",
       "1                346.1         3.1          0  \n",
       "2                347.9         3.2          0  \n",
       "3                347.9         3.1          0  \n",
       "4                350.0         3.0          0  \n",
       "...                ...         ...        ...  \n",
       "175291           204.0         3.5        100  \n",
       "175292           209.0         3.2        100  \n",
       "175293           208.0         2.6         57  \n",
       "175294           206.0         2.1          0  \n",
       "175295           206.0         2.1          0  \n",
       "\n",
       "[175296 rows x 18 columns]"
      ]
     },
     "execution_count": 4,
     "metadata": {},
     "output_type": "execute_result"
    }
   ],
   "source": [
    "train = pd.read_csv(r\"C:\\Users\\ariha\\Desktop\\Hackathons & Projects\\Wipro Hackathon\\train.csv\")\n",
    "train"
   ]
  },
  {
   "cell_type": "code",
   "execution_count": 5,
   "id": "c0d8be1d",
   "metadata": {
    "ExecuteTime": {
     "end_time": "2022-02-12T16:58:53.229745Z",
     "start_time": "2022-02-12T16:58:53.152954Z"
    }
   },
   "outputs": [
    {
     "data": {
      "text/html": [
       "<div>\n",
       "<style scoped>\n",
       "    .dataframe tbody tr th:only-of-type {\n",
       "        vertical-align: middle;\n",
       "    }\n",
       "\n",
       "    .dataframe tbody tr th {\n",
       "        vertical-align: top;\n",
       "    }\n",
       "\n",
       "    .dataframe thead th {\n",
       "        text-align: right;\n",
       "    }\n",
       "</style>\n",
       "<table border=\"1\" class=\"dataframe\">\n",
       "  <thead>\n",
       "    <tr style=\"text-align: right;\">\n",
       "      <th></th>\n",
       "      <th>Year</th>\n",
       "      <th>Month</th>\n",
       "      <th>Day</th>\n",
       "      <th>Hour</th>\n",
       "      <th>Minute</th>\n",
       "      <th>Clearsky DHI</th>\n",
       "      <th>Clearsky DNI</th>\n",
       "      <th>Clearsky GHI</th>\n",
       "      <th>Cloud Type</th>\n",
       "      <th>Dew Point</th>\n",
       "      <th>Temperature</th>\n",
       "      <th>Pressure</th>\n",
       "      <th>Relative Humidity</th>\n",
       "      <th>Solar Zenith Angle</th>\n",
       "      <th>Precipitable Water</th>\n",
       "      <th>Wind Direction</th>\n",
       "      <th>Wind Speed</th>\n",
       "      <th>Fill Flag</th>\n",
       "      <th>Date</th>\n",
       "    </tr>\n",
       "  </thead>\n",
       "  <tbody>\n",
       "    <tr>\n",
       "      <th>0</th>\n",
       "      <td>2009</td>\n",
       "      <td>1</td>\n",
       "      <td>1</td>\n",
       "      <td>0</td>\n",
       "      <td>0</td>\n",
       "      <td>0</td>\n",
       "      <td>0</td>\n",
       "      <td>0</td>\n",
       "      <td>0</td>\n",
       "      <td>0.0</td>\n",
       "      <td>5.0</td>\n",
       "      <td>1010</td>\n",
       "      <td>75.34</td>\n",
       "      <td>106.15</td>\n",
       "      <td>0.499</td>\n",
       "      <td>346.1</td>\n",
       "      <td>3.1</td>\n",
       "      <td>0</td>\n",
       "      <td>2009-01-01 00:00:00</td>\n",
       "    </tr>\n",
       "    <tr>\n",
       "      <th>1</th>\n",
       "      <td>2009</td>\n",
       "      <td>1</td>\n",
       "      <td>1</td>\n",
       "      <td>0</td>\n",
       "      <td>30</td>\n",
       "      <td>0</td>\n",
       "      <td>0</td>\n",
       "      <td>0</td>\n",
       "      <td>0</td>\n",
       "      <td>1.0</td>\n",
       "      <td>5.0</td>\n",
       "      <td>1010</td>\n",
       "      <td>80.81</td>\n",
       "      <td>112.28</td>\n",
       "      <td>0.490</td>\n",
       "      <td>346.1</td>\n",
       "      <td>3.1</td>\n",
       "      <td>0</td>\n",
       "      <td>2009-01-01 00:30:00</td>\n",
       "    </tr>\n",
       "    <tr>\n",
       "      <th>2</th>\n",
       "      <td>2009</td>\n",
       "      <td>1</td>\n",
       "      <td>1</td>\n",
       "      <td>1</td>\n",
       "      <td>0</td>\n",
       "      <td>0</td>\n",
       "      <td>0</td>\n",
       "      <td>0</td>\n",
       "      <td>4</td>\n",
       "      <td>0.0</td>\n",
       "      <td>5.0</td>\n",
       "      <td>1010</td>\n",
       "      <td>78.27</td>\n",
       "      <td>118.50</td>\n",
       "      <td>0.482</td>\n",
       "      <td>347.9</td>\n",
       "      <td>3.2</td>\n",
       "      <td>0</td>\n",
       "      <td>2009-01-01 01:00:00</td>\n",
       "    </tr>\n",
       "    <tr>\n",
       "      <th>3</th>\n",
       "      <td>2009</td>\n",
       "      <td>1</td>\n",
       "      <td>1</td>\n",
       "      <td>1</td>\n",
       "      <td>30</td>\n",
       "      <td>0</td>\n",
       "      <td>0</td>\n",
       "      <td>0</td>\n",
       "      <td>4</td>\n",
       "      <td>0.0</td>\n",
       "      <td>4.0</td>\n",
       "      <td>1010</td>\n",
       "      <td>78.27</td>\n",
       "      <td>124.78</td>\n",
       "      <td>0.478</td>\n",
       "      <td>347.9</td>\n",
       "      <td>3.1</td>\n",
       "      <td>0</td>\n",
       "      <td>2009-01-01 01:30:00</td>\n",
       "    </tr>\n",
       "    <tr>\n",
       "      <th>4</th>\n",
       "      <td>2009</td>\n",
       "      <td>1</td>\n",
       "      <td>1</td>\n",
       "      <td>2</td>\n",
       "      <td>0</td>\n",
       "      <td>0</td>\n",
       "      <td>0</td>\n",
       "      <td>0</td>\n",
       "      <td>4</td>\n",
       "      <td>0.0</td>\n",
       "      <td>4.0</td>\n",
       "      <td>1010</td>\n",
       "      <td>76.45</td>\n",
       "      <td>131.12</td>\n",
       "      <td>0.475</td>\n",
       "      <td>350.0</td>\n",
       "      <td>3.0</td>\n",
       "      <td>0</td>\n",
       "      <td>2009-01-01 02:00:00</td>\n",
       "    </tr>\n",
       "  </tbody>\n",
       "</table>\n",
       "</div>"
      ],
      "text/plain": [
       "   Year  Month  Day  Hour  Minute  Clearsky DHI  Clearsky DNI  Clearsky GHI  \\\n",
       "0  2009      1    1     0       0             0             0             0   \n",
       "1  2009      1    1     0      30             0             0             0   \n",
       "2  2009      1    1     1       0             0             0             0   \n",
       "3  2009      1    1     1      30             0             0             0   \n",
       "4  2009      1    1     2       0             0             0             0   \n",
       "\n",
       "   Cloud Type  Dew Point  Temperature  Pressure  Relative Humidity  \\\n",
       "0           0        0.0          5.0      1010              75.34   \n",
       "1           0        1.0          5.0      1010              80.81   \n",
       "2           4        0.0          5.0      1010              78.27   \n",
       "3           4        0.0          4.0      1010              78.27   \n",
       "4           4        0.0          4.0      1010              76.45   \n",
       "\n",
       "   Solar Zenith Angle  Precipitable Water  Wind Direction  Wind Speed  \\\n",
       "0              106.15               0.499           346.1         3.1   \n",
       "1              112.28               0.490           346.1         3.1   \n",
       "2              118.50               0.482           347.9         3.2   \n",
       "3              124.78               0.478           347.9         3.1   \n",
       "4              131.12               0.475           350.0         3.0   \n",
       "\n",
       "   Fill Flag                Date  \n",
       "0          0 2009-01-01 00:00:00  \n",
       "1          0 2009-01-01 00:30:00  \n",
       "2          0 2009-01-01 01:00:00  \n",
       "3          0 2009-01-01 01:30:00  \n",
       "4          0 2009-01-01 02:00:00  "
      ]
     },
     "execution_count": 5,
     "metadata": {},
     "output_type": "execute_result"
    }
   ],
   "source": [
    "# Creating a Date column\n",
    "train['Date'] = pd.to_datetime(train[['Year', 'Month', 'Day', 'Hour', 'Minute']])\n",
    "train.head()"
   ]
  },
  {
   "cell_type": "code",
   "execution_count": 6,
   "id": "7d17f401",
   "metadata": {
    "ExecuteTime": {
     "end_time": "2022-02-12T16:58:53.261658Z",
     "start_time": "2022-02-12T16:58:53.231740Z"
    }
   },
   "outputs": [
    {
     "data": {
      "text/html": [
       "<div>\n",
       "<style scoped>\n",
       "    .dataframe tbody tr th:only-of-type {\n",
       "        vertical-align: middle;\n",
       "    }\n",
       "\n",
       "    .dataframe tbody tr th {\n",
       "        vertical-align: top;\n",
       "    }\n",
       "\n",
       "    .dataframe thead th {\n",
       "        text-align: right;\n",
       "    }\n",
       "</style>\n",
       "<table border=\"1\" class=\"dataframe\">\n",
       "  <thead>\n",
       "    <tr style=\"text-align: right;\">\n",
       "      <th></th>\n",
       "      <th>Clearsky DHI</th>\n",
       "      <th>Clearsky DNI</th>\n",
       "      <th>Clearsky GHI</th>\n",
       "      <th>Cloud Type</th>\n",
       "      <th>Dew Point</th>\n",
       "      <th>Temperature</th>\n",
       "      <th>Pressure</th>\n",
       "      <th>Relative Humidity</th>\n",
       "      <th>Solar Zenith Angle</th>\n",
       "      <th>Precipitable Water</th>\n",
       "      <th>Wind Direction</th>\n",
       "      <th>Wind Speed</th>\n",
       "      <th>Fill Flag</th>\n",
       "      <th>Date</th>\n",
       "    </tr>\n",
       "  </thead>\n",
       "  <tbody>\n",
       "    <tr>\n",
       "      <th>0</th>\n",
       "      <td>0</td>\n",
       "      <td>0</td>\n",
       "      <td>0</td>\n",
       "      <td>0</td>\n",
       "      <td>0.0</td>\n",
       "      <td>5.0</td>\n",
       "      <td>1010</td>\n",
       "      <td>75.34</td>\n",
       "      <td>106.15</td>\n",
       "      <td>0.499</td>\n",
       "      <td>346.1</td>\n",
       "      <td>3.1</td>\n",
       "      <td>0</td>\n",
       "      <td>2009-01-01 00:00:00</td>\n",
       "    </tr>\n",
       "    <tr>\n",
       "      <th>1</th>\n",
       "      <td>0</td>\n",
       "      <td>0</td>\n",
       "      <td>0</td>\n",
       "      <td>0</td>\n",
       "      <td>1.0</td>\n",
       "      <td>5.0</td>\n",
       "      <td>1010</td>\n",
       "      <td>80.81</td>\n",
       "      <td>112.28</td>\n",
       "      <td>0.490</td>\n",
       "      <td>346.1</td>\n",
       "      <td>3.1</td>\n",
       "      <td>0</td>\n",
       "      <td>2009-01-01 00:30:00</td>\n",
       "    </tr>\n",
       "    <tr>\n",
       "      <th>2</th>\n",
       "      <td>0</td>\n",
       "      <td>0</td>\n",
       "      <td>0</td>\n",
       "      <td>4</td>\n",
       "      <td>0.0</td>\n",
       "      <td>5.0</td>\n",
       "      <td>1010</td>\n",
       "      <td>78.27</td>\n",
       "      <td>118.50</td>\n",
       "      <td>0.482</td>\n",
       "      <td>347.9</td>\n",
       "      <td>3.2</td>\n",
       "      <td>0</td>\n",
       "      <td>2009-01-01 01:00:00</td>\n",
       "    </tr>\n",
       "    <tr>\n",
       "      <th>3</th>\n",
       "      <td>0</td>\n",
       "      <td>0</td>\n",
       "      <td>0</td>\n",
       "      <td>4</td>\n",
       "      <td>0.0</td>\n",
       "      <td>4.0</td>\n",
       "      <td>1010</td>\n",
       "      <td>78.27</td>\n",
       "      <td>124.78</td>\n",
       "      <td>0.478</td>\n",
       "      <td>347.9</td>\n",
       "      <td>3.1</td>\n",
       "      <td>0</td>\n",
       "      <td>2009-01-01 01:30:00</td>\n",
       "    </tr>\n",
       "    <tr>\n",
       "      <th>4</th>\n",
       "      <td>0</td>\n",
       "      <td>0</td>\n",
       "      <td>0</td>\n",
       "      <td>4</td>\n",
       "      <td>0.0</td>\n",
       "      <td>4.0</td>\n",
       "      <td>1010</td>\n",
       "      <td>76.45</td>\n",
       "      <td>131.12</td>\n",
       "      <td>0.475</td>\n",
       "      <td>350.0</td>\n",
       "      <td>3.0</td>\n",
       "      <td>0</td>\n",
       "      <td>2009-01-01 02:00:00</td>\n",
       "    </tr>\n",
       "  </tbody>\n",
       "</table>\n",
       "</div>"
      ],
      "text/plain": [
       "   Clearsky DHI  Clearsky DNI  Clearsky GHI  Cloud Type  Dew Point  \\\n",
       "0             0             0             0           0        0.0   \n",
       "1             0             0             0           0        1.0   \n",
       "2             0             0             0           4        0.0   \n",
       "3             0             0             0           4        0.0   \n",
       "4             0             0             0           4        0.0   \n",
       "\n",
       "   Temperature  Pressure  Relative Humidity  Solar Zenith Angle  \\\n",
       "0          5.0      1010              75.34              106.15   \n",
       "1          5.0      1010              80.81              112.28   \n",
       "2          5.0      1010              78.27              118.50   \n",
       "3          4.0      1010              78.27              124.78   \n",
       "4          4.0      1010              76.45              131.12   \n",
       "\n",
       "   Precipitable Water  Wind Direction  Wind Speed  Fill Flag  \\\n",
       "0               0.499           346.1         3.1          0   \n",
       "1               0.490           346.1         3.1          0   \n",
       "2               0.482           347.9         3.2          0   \n",
       "3               0.478           347.9         3.1          0   \n",
       "4               0.475           350.0         3.0          0   \n",
       "\n",
       "                 Date  \n",
       "0 2009-01-01 00:00:00  \n",
       "1 2009-01-01 00:30:00  \n",
       "2 2009-01-01 01:00:00  \n",
       "3 2009-01-01 01:30:00  \n",
       "4 2009-01-01 02:00:00  "
      ]
     },
     "execution_count": 6,
     "metadata": {},
     "output_type": "execute_result"
    }
   ],
   "source": [
    "train.drop(columns=['Year', 'Month', 'Day', 'Hour', 'Minute'], axis=1, inplace=True)\n",
    "train.head()"
   ]
  },
  {
   "cell_type": "code",
   "execution_count": 7,
   "id": "56687706",
   "metadata": {
    "ExecuteTime": {
     "end_time": "2022-02-12T16:58:53.277615Z",
     "start_time": "2022-02-12T16:58:53.263653Z"
    }
   },
   "outputs": [
    {
     "data": {
      "text/plain": [
       "(175296, 14)"
      ]
     },
     "execution_count": 7,
     "metadata": {},
     "output_type": "execute_result"
    }
   ],
   "source": [
    "train.shape"
   ]
  },
  {
   "cell_type": "code",
   "execution_count": 8,
   "id": "be8eb3ed",
   "metadata": {
    "ExecuteTime": {
     "end_time": "2022-02-12T16:58:53.292575Z",
     "start_time": "2022-02-12T16:58:53.278614Z"
    }
   },
   "outputs": [
    {
     "data": {
      "text/plain": [
       "['Clearsky DHI',\n",
       " 'Clearsky DNI',\n",
       " 'Clearsky GHI',\n",
       " 'Cloud Type',\n",
       " 'Dew Point',\n",
       " 'Temperature',\n",
       " 'Pressure',\n",
       " 'Relative Humidity',\n",
       " 'Solar Zenith Angle',\n",
       " 'Precipitable Water',\n",
       " 'Wind Direction',\n",
       " 'Wind Speed',\n",
       " 'Fill Flag',\n",
       " 'Date']"
      ]
     },
     "execution_count": 8,
     "metadata": {},
     "output_type": "execute_result"
    }
   ],
   "source": [
    "columns_list = []\n",
    "\n",
    "for cols in train.columns:\n",
    "    columns_list.append(cols)\n",
    "\n",
    "columns_list"
   ]
  },
  {
   "cell_type": "code",
   "execution_count": 9,
   "id": "1c564fa0",
   "metadata": {
    "ExecuteTime": {
     "end_time": "2022-02-12T16:58:53.308534Z",
     "start_time": "2022-02-12T16:58:53.295568Z"
    }
   },
   "outputs": [
    {
     "data": {
      "text/plain": [
       "['Date',\n",
       " 'Clearsky DHI',\n",
       " 'Clearsky DNI',\n",
       " 'Clearsky GHI',\n",
       " 'Cloud Type',\n",
       " 'Dew Point',\n",
       " 'Temperature',\n",
       " 'Pressure',\n",
       " 'Relative Humidity',\n",
       " 'Solar Zenith Angle',\n",
       " 'Precipitable Water',\n",
       " 'Wind Direction',\n",
       " 'Wind Speed',\n",
       " 'Fill Flag']"
      ]
     },
     "execution_count": 9,
     "metadata": {},
     "output_type": "execute_result"
    }
   ],
   "source": [
    "columns_list.pop()\n",
    "columns_list.insert(0, 'Date')\n",
    "columns_list"
   ]
  },
  {
   "cell_type": "code",
   "execution_count": 10,
   "id": "31167b4d",
   "metadata": {
    "ExecuteTime": {
     "end_time": "2022-02-12T16:58:53.340448Z",
     "start_time": "2022-02-12T16:58:53.310532Z"
    }
   },
   "outputs": [
    {
     "data": {
      "text/html": [
       "<div>\n",
       "<style scoped>\n",
       "    .dataframe tbody tr th:only-of-type {\n",
       "        vertical-align: middle;\n",
       "    }\n",
       "\n",
       "    .dataframe tbody tr th {\n",
       "        vertical-align: top;\n",
       "    }\n",
       "\n",
       "    .dataframe thead th {\n",
       "        text-align: right;\n",
       "    }\n",
       "</style>\n",
       "<table border=\"1\" class=\"dataframe\">\n",
       "  <thead>\n",
       "    <tr style=\"text-align: right;\">\n",
       "      <th></th>\n",
       "      <th>Date</th>\n",
       "      <th>Clearsky DHI</th>\n",
       "      <th>Clearsky DNI</th>\n",
       "      <th>Clearsky GHI</th>\n",
       "      <th>Cloud Type</th>\n",
       "      <th>Dew Point</th>\n",
       "      <th>Temperature</th>\n",
       "      <th>Pressure</th>\n",
       "      <th>Relative Humidity</th>\n",
       "      <th>Solar Zenith Angle</th>\n",
       "      <th>Precipitable Water</th>\n",
       "      <th>Wind Direction</th>\n",
       "      <th>Wind Speed</th>\n",
       "      <th>Fill Flag</th>\n",
       "    </tr>\n",
       "  </thead>\n",
       "  <tbody>\n",
       "    <tr>\n",
       "      <th>0</th>\n",
       "      <td>2009-01-01 00:00:00</td>\n",
       "      <td>0</td>\n",
       "      <td>0</td>\n",
       "      <td>0</td>\n",
       "      <td>0</td>\n",
       "      <td>0.0</td>\n",
       "      <td>5.0</td>\n",
       "      <td>1010</td>\n",
       "      <td>75.34</td>\n",
       "      <td>106.15</td>\n",
       "      <td>0.499</td>\n",
       "      <td>346.1</td>\n",
       "      <td>3.1</td>\n",
       "      <td>0</td>\n",
       "    </tr>\n",
       "    <tr>\n",
       "      <th>1</th>\n",
       "      <td>2009-01-01 00:30:00</td>\n",
       "      <td>0</td>\n",
       "      <td>0</td>\n",
       "      <td>0</td>\n",
       "      <td>0</td>\n",
       "      <td>1.0</td>\n",
       "      <td>5.0</td>\n",
       "      <td>1010</td>\n",
       "      <td>80.81</td>\n",
       "      <td>112.28</td>\n",
       "      <td>0.490</td>\n",
       "      <td>346.1</td>\n",
       "      <td>3.1</td>\n",
       "      <td>0</td>\n",
       "    </tr>\n",
       "    <tr>\n",
       "      <th>2</th>\n",
       "      <td>2009-01-01 01:00:00</td>\n",
       "      <td>0</td>\n",
       "      <td>0</td>\n",
       "      <td>0</td>\n",
       "      <td>4</td>\n",
       "      <td>0.0</td>\n",
       "      <td>5.0</td>\n",
       "      <td>1010</td>\n",
       "      <td>78.27</td>\n",
       "      <td>118.50</td>\n",
       "      <td>0.482</td>\n",
       "      <td>347.9</td>\n",
       "      <td>3.2</td>\n",
       "      <td>0</td>\n",
       "    </tr>\n",
       "    <tr>\n",
       "      <th>3</th>\n",
       "      <td>2009-01-01 01:30:00</td>\n",
       "      <td>0</td>\n",
       "      <td>0</td>\n",
       "      <td>0</td>\n",
       "      <td>4</td>\n",
       "      <td>0.0</td>\n",
       "      <td>4.0</td>\n",
       "      <td>1010</td>\n",
       "      <td>78.27</td>\n",
       "      <td>124.78</td>\n",
       "      <td>0.478</td>\n",
       "      <td>347.9</td>\n",
       "      <td>3.1</td>\n",
       "      <td>0</td>\n",
       "    </tr>\n",
       "    <tr>\n",
       "      <th>4</th>\n",
       "      <td>2009-01-01 02:00:00</td>\n",
       "      <td>0</td>\n",
       "      <td>0</td>\n",
       "      <td>0</td>\n",
       "      <td>4</td>\n",
       "      <td>0.0</td>\n",
       "      <td>4.0</td>\n",
       "      <td>1010</td>\n",
       "      <td>76.45</td>\n",
       "      <td>131.12</td>\n",
       "      <td>0.475</td>\n",
       "      <td>350.0</td>\n",
       "      <td>3.0</td>\n",
       "      <td>0</td>\n",
       "    </tr>\n",
       "  </tbody>\n",
       "</table>\n",
       "</div>"
      ],
      "text/plain": [
       "                 Date  Clearsky DHI  Clearsky DNI  Clearsky GHI  Cloud Type  \\\n",
       "0 2009-01-01 00:00:00             0             0             0           0   \n",
       "1 2009-01-01 00:30:00             0             0             0           0   \n",
       "2 2009-01-01 01:00:00             0             0             0           4   \n",
       "3 2009-01-01 01:30:00             0             0             0           4   \n",
       "4 2009-01-01 02:00:00             0             0             0           4   \n",
       "\n",
       "   Dew Point  Temperature  Pressure  Relative Humidity  Solar Zenith Angle  \\\n",
       "0        0.0          5.0      1010              75.34              106.15   \n",
       "1        1.0          5.0      1010              80.81              112.28   \n",
       "2        0.0          5.0      1010              78.27              118.50   \n",
       "3        0.0          4.0      1010              78.27              124.78   \n",
       "4        0.0          4.0      1010              76.45              131.12   \n",
       "\n",
       "   Precipitable Water  Wind Direction  Wind Speed  Fill Flag  \n",
       "0               0.499           346.1         3.1          0  \n",
       "1               0.490           346.1         3.1          0  \n",
       "2               0.482           347.9         3.2          0  \n",
       "3               0.478           347.9         3.1          0  \n",
       "4               0.475           350.0         3.0          0  "
      ]
     },
     "execution_count": 10,
     "metadata": {},
     "output_type": "execute_result"
    }
   ],
   "source": [
    "train = pd.DataFrame(train, columns=columns_list)\n",
    "train.head()"
   ]
  },
  {
   "cell_type": "code",
   "execution_count": 11,
   "id": "867d2086",
   "metadata": {
    "ExecuteTime": {
     "end_time": "2022-02-12T16:58:53.451152Z",
     "start_time": "2022-02-12T16:58:53.341445Z"
    }
   },
   "outputs": [
    {
     "data": {
      "text/html": [
       "<div>\n",
       "<style scoped>\n",
       "    .dataframe tbody tr th:only-of-type {\n",
       "        vertical-align: middle;\n",
       "    }\n",
       "\n",
       "    .dataframe tbody tr th {\n",
       "        vertical-align: top;\n",
       "    }\n",
       "\n",
       "    .dataframe thead th {\n",
       "        text-align: right;\n",
       "    }\n",
       "</style>\n",
       "<table border=\"1\" class=\"dataframe\">\n",
       "  <thead>\n",
       "    <tr style=\"text-align: right;\">\n",
       "      <th></th>\n",
       "      <th>Clearsky DHI</th>\n",
       "      <th>Clearsky DNI</th>\n",
       "      <th>Clearsky GHI</th>\n",
       "      <th>Cloud Type</th>\n",
       "      <th>Dew Point</th>\n",
       "      <th>Temperature</th>\n",
       "      <th>Pressure</th>\n",
       "      <th>Relative Humidity</th>\n",
       "      <th>Solar Zenith Angle</th>\n",
       "      <th>Precipitable Water</th>\n",
       "      <th>Wind Direction</th>\n",
       "      <th>Wind Speed</th>\n",
       "      <th>Fill Flag</th>\n",
       "    </tr>\n",
       "  </thead>\n",
       "  <tbody>\n",
       "    <tr>\n",
       "      <th>Clearsky DHI</th>\n",
       "      <td>1.000000</td>\n",
       "      <td>0.860988</td>\n",
       "      <td>0.912991</td>\n",
       "      <td>0.022479</td>\n",
       "      <td>0.222931</td>\n",
       "      <td>0.503409</td>\n",
       "      <td>-0.093766</td>\n",
       "      <td>-0.559766</td>\n",
       "      <td>-0.873421</td>\n",
       "      <td>0.207504</td>\n",
       "      <td>-0.000195</td>\n",
       "      <td>0.315655</td>\n",
       "      <td>0.000740</td>\n",
       "    </tr>\n",
       "    <tr>\n",
       "      <th>Clearsky DNI</th>\n",
       "      <td>0.860988</td>\n",
       "      <td>1.000000</td>\n",
       "      <td>0.927926</td>\n",
       "      <td>-0.073302</td>\n",
       "      <td>0.033601</td>\n",
       "      <td>0.384353</td>\n",
       "      <td>0.007043</td>\n",
       "      <td>-0.680471</td>\n",
       "      <td>-0.886323</td>\n",
       "      <td>-0.002180</td>\n",
       "      <td>0.006256</td>\n",
       "      <td>0.381162</td>\n",
       "      <td>0.006318</td>\n",
       "    </tr>\n",
       "    <tr>\n",
       "      <th>Clearsky GHI</th>\n",
       "      <td>0.912991</td>\n",
       "      <td>0.927926</td>\n",
       "      <td>1.000000</td>\n",
       "      <td>-0.047297</td>\n",
       "      <td>0.140420</td>\n",
       "      <td>0.478273</td>\n",
       "      <td>-0.050556</td>\n",
       "      <td>-0.655765</td>\n",
       "      <td>-0.891033</td>\n",
       "      <td>0.108725</td>\n",
       "      <td>0.004944</td>\n",
       "      <td>0.349180</td>\n",
       "      <td>-0.030297</td>\n",
       "    </tr>\n",
       "    <tr>\n",
       "      <th>Cloud Type</th>\n",
       "      <td>0.022479</td>\n",
       "      <td>-0.073302</td>\n",
       "      <td>-0.047297</td>\n",
       "      <td>1.000000</td>\n",
       "      <td>0.202096</td>\n",
       "      <td>0.066777</td>\n",
       "      <td>-0.137158</td>\n",
       "      <td>0.235374</td>\n",
       "      <td>0.026873</td>\n",
       "      <td>0.326904</td>\n",
       "      <td>-0.081565</td>\n",
       "      <td>0.072632</td>\n",
       "      <td>0.090161</td>\n",
       "    </tr>\n",
       "    <tr>\n",
       "      <th>Dew Point</th>\n",
       "      <td>0.222931</td>\n",
       "      <td>0.033601</td>\n",
       "      <td>0.140420</td>\n",
       "      <td>0.202096</td>\n",
       "      <td>1.000000</td>\n",
       "      <td>0.848948</td>\n",
       "      <td>-0.419534</td>\n",
       "      <td>0.193455</td>\n",
       "      <td>-0.222336</td>\n",
       "      <td>0.881881</td>\n",
       "      <td>-0.076357</td>\n",
       "      <td>-0.140699</td>\n",
       "      <td>0.036851</td>\n",
       "    </tr>\n",
       "    <tr>\n",
       "      <th>Temperature</th>\n",
       "      <td>0.503409</td>\n",
       "      <td>0.384353</td>\n",
       "      <td>0.478273</td>\n",
       "      <td>0.066777</td>\n",
       "      <td>0.848948</td>\n",
       "      <td>1.000000</td>\n",
       "      <td>-0.371395</td>\n",
       "      <td>-0.341914</td>\n",
       "      <td>-0.526548</td>\n",
       "      <td>0.742449</td>\n",
       "      <td>-0.066673</td>\n",
       "      <td>-0.046694</td>\n",
       "      <td>0.015734</td>\n",
       "    </tr>\n",
       "    <tr>\n",
       "      <th>Pressure</th>\n",
       "      <td>-0.093766</td>\n",
       "      <td>0.007043</td>\n",
       "      <td>-0.050556</td>\n",
       "      <td>-0.137158</td>\n",
       "      <td>-0.419534</td>\n",
       "      <td>-0.371395</td>\n",
       "      <td>1.000000</td>\n",
       "      <td>-0.085004</td>\n",
       "      <td>0.078900</td>\n",
       "      <td>-0.365342</td>\n",
       "      <td>-0.182006</td>\n",
       "      <td>-0.122674</td>\n",
       "      <td>0.052521</td>\n",
       "    </tr>\n",
       "    <tr>\n",
       "      <th>Relative Humidity</th>\n",
       "      <td>-0.559766</td>\n",
       "      <td>-0.680471</td>\n",
       "      <td>-0.655765</td>\n",
       "      <td>0.235374</td>\n",
       "      <td>0.193455</td>\n",
       "      <td>-0.341914</td>\n",
       "      <td>-0.085004</td>\n",
       "      <td>1.000000</td>\n",
       "      <td>0.607108</td>\n",
       "      <td>0.182658</td>\n",
       "      <td>-0.019108</td>\n",
       "      <td>-0.172248</td>\n",
       "      <td>0.023674</td>\n",
       "    </tr>\n",
       "    <tr>\n",
       "      <th>Solar Zenith Angle</th>\n",
       "      <td>-0.873421</td>\n",
       "      <td>-0.886323</td>\n",
       "      <td>-0.891033</td>\n",
       "      <td>0.026873</td>\n",
       "      <td>-0.222336</td>\n",
       "      <td>-0.526548</td>\n",
       "      <td>0.078900</td>\n",
       "      <td>0.607108</td>\n",
       "      <td>1.000000</td>\n",
       "      <td>-0.182529</td>\n",
       "      <td>0.003802</td>\n",
       "      <td>-0.295927</td>\n",
       "      <td>-0.029150</td>\n",
       "    </tr>\n",
       "    <tr>\n",
       "      <th>Precipitable Water</th>\n",
       "      <td>0.207504</td>\n",
       "      <td>-0.002180</td>\n",
       "      <td>0.108725</td>\n",
       "      <td>0.326904</td>\n",
       "      <td>0.881881</td>\n",
       "      <td>0.742449</td>\n",
       "      <td>-0.365342</td>\n",
       "      <td>0.182658</td>\n",
       "      <td>-0.182529</td>\n",
       "      <td>1.000000</td>\n",
       "      <td>-0.105735</td>\n",
       "      <td>-0.106892</td>\n",
       "      <td>0.044106</td>\n",
       "    </tr>\n",
       "    <tr>\n",
       "      <th>Wind Direction</th>\n",
       "      <td>-0.000195</td>\n",
       "      <td>0.006256</td>\n",
       "      <td>0.004944</td>\n",
       "      <td>-0.081565</td>\n",
       "      <td>-0.076357</td>\n",
       "      <td>-0.066673</td>\n",
       "      <td>-0.182006</td>\n",
       "      <td>-0.019108</td>\n",
       "      <td>0.003802</td>\n",
       "      <td>-0.105735</td>\n",
       "      <td>1.000000</td>\n",
       "      <td>0.035634</td>\n",
       "      <td>-0.017124</td>\n",
       "    </tr>\n",
       "    <tr>\n",
       "      <th>Wind Speed</th>\n",
       "      <td>0.315655</td>\n",
       "      <td>0.381162</td>\n",
       "      <td>0.349180</td>\n",
       "      <td>0.072632</td>\n",
       "      <td>-0.140699</td>\n",
       "      <td>-0.046694</td>\n",
       "      <td>-0.122674</td>\n",
       "      <td>-0.172248</td>\n",
       "      <td>-0.295927</td>\n",
       "      <td>-0.106892</td>\n",
       "      <td>0.035634</td>\n",
       "      <td>1.000000</td>\n",
       "      <td>0.000447</td>\n",
       "    </tr>\n",
       "    <tr>\n",
       "      <th>Fill Flag</th>\n",
       "      <td>0.000740</td>\n",
       "      <td>0.006318</td>\n",
       "      <td>-0.030297</td>\n",
       "      <td>0.090161</td>\n",
       "      <td>0.036851</td>\n",
       "      <td>0.015734</td>\n",
       "      <td>0.052521</td>\n",
       "      <td>0.023674</td>\n",
       "      <td>-0.029150</td>\n",
       "      <td>0.044106</td>\n",
       "      <td>-0.017124</td>\n",
       "      <td>0.000447</td>\n",
       "      <td>1.000000</td>\n",
       "    </tr>\n",
       "  </tbody>\n",
       "</table>\n",
       "</div>"
      ],
      "text/plain": [
       "                    Clearsky DHI  Clearsky DNI  Clearsky GHI  Cloud Type  \\\n",
       "Clearsky DHI            1.000000      0.860988      0.912991    0.022479   \n",
       "Clearsky DNI            0.860988      1.000000      0.927926   -0.073302   \n",
       "Clearsky GHI            0.912991      0.927926      1.000000   -0.047297   \n",
       "Cloud Type              0.022479     -0.073302     -0.047297    1.000000   \n",
       "Dew Point               0.222931      0.033601      0.140420    0.202096   \n",
       "Temperature             0.503409      0.384353      0.478273    0.066777   \n",
       "Pressure               -0.093766      0.007043     -0.050556   -0.137158   \n",
       "Relative Humidity      -0.559766     -0.680471     -0.655765    0.235374   \n",
       "Solar Zenith Angle     -0.873421     -0.886323     -0.891033    0.026873   \n",
       "Precipitable Water      0.207504     -0.002180      0.108725    0.326904   \n",
       "Wind Direction         -0.000195      0.006256      0.004944   -0.081565   \n",
       "Wind Speed              0.315655      0.381162      0.349180    0.072632   \n",
       "Fill Flag               0.000740      0.006318     -0.030297    0.090161   \n",
       "\n",
       "                    Dew Point  Temperature  Pressure  Relative Humidity  \\\n",
       "Clearsky DHI         0.222931     0.503409 -0.093766          -0.559766   \n",
       "Clearsky DNI         0.033601     0.384353  0.007043          -0.680471   \n",
       "Clearsky GHI         0.140420     0.478273 -0.050556          -0.655765   \n",
       "Cloud Type           0.202096     0.066777 -0.137158           0.235374   \n",
       "Dew Point            1.000000     0.848948 -0.419534           0.193455   \n",
       "Temperature          0.848948     1.000000 -0.371395          -0.341914   \n",
       "Pressure            -0.419534    -0.371395  1.000000          -0.085004   \n",
       "Relative Humidity    0.193455    -0.341914 -0.085004           1.000000   \n",
       "Solar Zenith Angle  -0.222336    -0.526548  0.078900           0.607108   \n",
       "Precipitable Water   0.881881     0.742449 -0.365342           0.182658   \n",
       "Wind Direction      -0.076357    -0.066673 -0.182006          -0.019108   \n",
       "Wind Speed          -0.140699    -0.046694 -0.122674          -0.172248   \n",
       "Fill Flag            0.036851     0.015734  0.052521           0.023674   \n",
       "\n",
       "                    Solar Zenith Angle  Precipitable Water  Wind Direction  \\\n",
       "Clearsky DHI                 -0.873421            0.207504       -0.000195   \n",
       "Clearsky DNI                 -0.886323           -0.002180        0.006256   \n",
       "Clearsky GHI                 -0.891033            0.108725        0.004944   \n",
       "Cloud Type                    0.026873            0.326904       -0.081565   \n",
       "Dew Point                    -0.222336            0.881881       -0.076357   \n",
       "Temperature                  -0.526548            0.742449       -0.066673   \n",
       "Pressure                      0.078900           -0.365342       -0.182006   \n",
       "Relative Humidity             0.607108            0.182658       -0.019108   \n",
       "Solar Zenith Angle            1.000000           -0.182529        0.003802   \n",
       "Precipitable Water           -0.182529            1.000000       -0.105735   \n",
       "Wind Direction                0.003802           -0.105735        1.000000   \n",
       "Wind Speed                   -0.295927           -0.106892        0.035634   \n",
       "Fill Flag                    -0.029150            0.044106       -0.017124   \n",
       "\n",
       "                    Wind Speed  Fill Flag  \n",
       "Clearsky DHI          0.315655   0.000740  \n",
       "Clearsky DNI          0.381162   0.006318  \n",
       "Clearsky GHI          0.349180  -0.030297  \n",
       "Cloud Type            0.072632   0.090161  \n",
       "Dew Point            -0.140699   0.036851  \n",
       "Temperature          -0.046694   0.015734  \n",
       "Pressure             -0.122674   0.052521  \n",
       "Relative Humidity    -0.172248   0.023674  \n",
       "Solar Zenith Angle   -0.295927  -0.029150  \n",
       "Precipitable Water   -0.106892   0.044106  \n",
       "Wind Direction        0.035634  -0.017124  \n",
       "Wind Speed            1.000000   0.000447  \n",
       "Fill Flag             0.000447   1.000000  "
      ]
     },
     "execution_count": 11,
     "metadata": {},
     "output_type": "execute_result"
    }
   ],
   "source": [
    "corr_matrix = train.corr()\n",
    "corr_matrix"
   ]
  },
  {
   "cell_type": "code",
   "execution_count": 12,
   "id": "dc6ff223",
   "metadata": {
    "ExecuteTime": {
     "end_time": "2022-02-12T16:58:53.482073Z",
     "start_time": "2022-02-12T16:58:53.452148Z"
    }
   },
   "outputs": [
    {
     "name": "stderr",
     "output_type": "stream",
     "text": [
      "C:\\Users\\ariha\\AppData\\Local\\Temp/ipykernel_10640/2621372733.py:1: DeprecationWarning: `np.bool` is a deprecated alias for the builtin `bool`. To silence this warning, use `bool` by itself. Doing this will not modify any behavior and is safe. If you specifically wanted the numpy scalar type, use `np.bool_` here.\n",
      "Deprecated in NumPy 1.20; for more details and guidance: https://numpy.org/devdocs/release/1.20.0-notes.html#deprecations\n",
      "  upper = corr_matrix.where(np.triu(np.ones(corr_matrix.shape), k=1).astype(np.bool))\n"
     ]
    },
    {
     "data": {
      "text/html": [
       "<div>\n",
       "<style scoped>\n",
       "    .dataframe tbody tr th:only-of-type {\n",
       "        vertical-align: middle;\n",
       "    }\n",
       "\n",
       "    .dataframe tbody tr th {\n",
       "        vertical-align: top;\n",
       "    }\n",
       "\n",
       "    .dataframe thead th {\n",
       "        text-align: right;\n",
       "    }\n",
       "</style>\n",
       "<table border=\"1\" class=\"dataframe\">\n",
       "  <thead>\n",
       "    <tr style=\"text-align: right;\">\n",
       "      <th></th>\n",
       "      <th>Clearsky DHI</th>\n",
       "      <th>Clearsky DNI</th>\n",
       "      <th>Clearsky GHI</th>\n",
       "      <th>Cloud Type</th>\n",
       "      <th>Dew Point</th>\n",
       "      <th>Temperature</th>\n",
       "      <th>Pressure</th>\n",
       "      <th>Relative Humidity</th>\n",
       "      <th>Solar Zenith Angle</th>\n",
       "      <th>Precipitable Water</th>\n",
       "      <th>Wind Direction</th>\n",
       "      <th>Wind Speed</th>\n",
       "      <th>Fill Flag</th>\n",
       "    </tr>\n",
       "  </thead>\n",
       "  <tbody>\n",
       "    <tr>\n",
       "      <th>Clearsky DHI</th>\n",
       "      <td>NaN</td>\n",
       "      <td>0.860988</td>\n",
       "      <td>0.912991</td>\n",
       "      <td>0.022479</td>\n",
       "      <td>0.222931</td>\n",
       "      <td>0.503409</td>\n",
       "      <td>-0.093766</td>\n",
       "      <td>-0.559766</td>\n",
       "      <td>-0.873421</td>\n",
       "      <td>0.207504</td>\n",
       "      <td>-0.000195</td>\n",
       "      <td>0.315655</td>\n",
       "      <td>0.000740</td>\n",
       "    </tr>\n",
       "    <tr>\n",
       "      <th>Clearsky DNI</th>\n",
       "      <td>NaN</td>\n",
       "      <td>NaN</td>\n",
       "      <td>0.927926</td>\n",
       "      <td>-0.073302</td>\n",
       "      <td>0.033601</td>\n",
       "      <td>0.384353</td>\n",
       "      <td>0.007043</td>\n",
       "      <td>-0.680471</td>\n",
       "      <td>-0.886323</td>\n",
       "      <td>-0.002180</td>\n",
       "      <td>0.006256</td>\n",
       "      <td>0.381162</td>\n",
       "      <td>0.006318</td>\n",
       "    </tr>\n",
       "    <tr>\n",
       "      <th>Clearsky GHI</th>\n",
       "      <td>NaN</td>\n",
       "      <td>NaN</td>\n",
       "      <td>NaN</td>\n",
       "      <td>-0.047297</td>\n",
       "      <td>0.140420</td>\n",
       "      <td>0.478273</td>\n",
       "      <td>-0.050556</td>\n",
       "      <td>-0.655765</td>\n",
       "      <td>-0.891033</td>\n",
       "      <td>0.108725</td>\n",
       "      <td>0.004944</td>\n",
       "      <td>0.349180</td>\n",
       "      <td>-0.030297</td>\n",
       "    </tr>\n",
       "    <tr>\n",
       "      <th>Cloud Type</th>\n",
       "      <td>NaN</td>\n",
       "      <td>NaN</td>\n",
       "      <td>NaN</td>\n",
       "      <td>NaN</td>\n",
       "      <td>0.202096</td>\n",
       "      <td>0.066777</td>\n",
       "      <td>-0.137158</td>\n",
       "      <td>0.235374</td>\n",
       "      <td>0.026873</td>\n",
       "      <td>0.326904</td>\n",
       "      <td>-0.081565</td>\n",
       "      <td>0.072632</td>\n",
       "      <td>0.090161</td>\n",
       "    </tr>\n",
       "    <tr>\n",
       "      <th>Dew Point</th>\n",
       "      <td>NaN</td>\n",
       "      <td>NaN</td>\n",
       "      <td>NaN</td>\n",
       "      <td>NaN</td>\n",
       "      <td>NaN</td>\n",
       "      <td>0.848948</td>\n",
       "      <td>-0.419534</td>\n",
       "      <td>0.193455</td>\n",
       "      <td>-0.222336</td>\n",
       "      <td>0.881881</td>\n",
       "      <td>-0.076357</td>\n",
       "      <td>-0.140699</td>\n",
       "      <td>0.036851</td>\n",
       "    </tr>\n",
       "    <tr>\n",
       "      <th>Temperature</th>\n",
       "      <td>NaN</td>\n",
       "      <td>NaN</td>\n",
       "      <td>NaN</td>\n",
       "      <td>NaN</td>\n",
       "      <td>NaN</td>\n",
       "      <td>NaN</td>\n",
       "      <td>-0.371395</td>\n",
       "      <td>-0.341914</td>\n",
       "      <td>-0.526548</td>\n",
       "      <td>0.742449</td>\n",
       "      <td>-0.066673</td>\n",
       "      <td>-0.046694</td>\n",
       "      <td>0.015734</td>\n",
       "    </tr>\n",
       "    <tr>\n",
       "      <th>Pressure</th>\n",
       "      <td>NaN</td>\n",
       "      <td>NaN</td>\n",
       "      <td>NaN</td>\n",
       "      <td>NaN</td>\n",
       "      <td>NaN</td>\n",
       "      <td>NaN</td>\n",
       "      <td>NaN</td>\n",
       "      <td>-0.085004</td>\n",
       "      <td>0.078900</td>\n",
       "      <td>-0.365342</td>\n",
       "      <td>-0.182006</td>\n",
       "      <td>-0.122674</td>\n",
       "      <td>0.052521</td>\n",
       "    </tr>\n",
       "    <tr>\n",
       "      <th>Relative Humidity</th>\n",
       "      <td>NaN</td>\n",
       "      <td>NaN</td>\n",
       "      <td>NaN</td>\n",
       "      <td>NaN</td>\n",
       "      <td>NaN</td>\n",
       "      <td>NaN</td>\n",
       "      <td>NaN</td>\n",
       "      <td>NaN</td>\n",
       "      <td>0.607108</td>\n",
       "      <td>0.182658</td>\n",
       "      <td>-0.019108</td>\n",
       "      <td>-0.172248</td>\n",
       "      <td>0.023674</td>\n",
       "    </tr>\n",
       "    <tr>\n",
       "      <th>Solar Zenith Angle</th>\n",
       "      <td>NaN</td>\n",
       "      <td>NaN</td>\n",
       "      <td>NaN</td>\n",
       "      <td>NaN</td>\n",
       "      <td>NaN</td>\n",
       "      <td>NaN</td>\n",
       "      <td>NaN</td>\n",
       "      <td>NaN</td>\n",
       "      <td>NaN</td>\n",
       "      <td>-0.182529</td>\n",
       "      <td>0.003802</td>\n",
       "      <td>-0.295927</td>\n",
       "      <td>-0.029150</td>\n",
       "    </tr>\n",
       "    <tr>\n",
       "      <th>Precipitable Water</th>\n",
       "      <td>NaN</td>\n",
       "      <td>NaN</td>\n",
       "      <td>NaN</td>\n",
       "      <td>NaN</td>\n",
       "      <td>NaN</td>\n",
       "      <td>NaN</td>\n",
       "      <td>NaN</td>\n",
       "      <td>NaN</td>\n",
       "      <td>NaN</td>\n",
       "      <td>NaN</td>\n",
       "      <td>-0.105735</td>\n",
       "      <td>-0.106892</td>\n",
       "      <td>0.044106</td>\n",
       "    </tr>\n",
       "    <tr>\n",
       "      <th>Wind Direction</th>\n",
       "      <td>NaN</td>\n",
       "      <td>NaN</td>\n",
       "      <td>NaN</td>\n",
       "      <td>NaN</td>\n",
       "      <td>NaN</td>\n",
       "      <td>NaN</td>\n",
       "      <td>NaN</td>\n",
       "      <td>NaN</td>\n",
       "      <td>NaN</td>\n",
       "      <td>NaN</td>\n",
       "      <td>NaN</td>\n",
       "      <td>0.035634</td>\n",
       "      <td>-0.017124</td>\n",
       "    </tr>\n",
       "    <tr>\n",
       "      <th>Wind Speed</th>\n",
       "      <td>NaN</td>\n",
       "      <td>NaN</td>\n",
       "      <td>NaN</td>\n",
       "      <td>NaN</td>\n",
       "      <td>NaN</td>\n",
       "      <td>NaN</td>\n",
       "      <td>NaN</td>\n",
       "      <td>NaN</td>\n",
       "      <td>NaN</td>\n",
       "      <td>NaN</td>\n",
       "      <td>NaN</td>\n",
       "      <td>NaN</td>\n",
       "      <td>0.000447</td>\n",
       "    </tr>\n",
       "    <tr>\n",
       "      <th>Fill Flag</th>\n",
       "      <td>NaN</td>\n",
       "      <td>NaN</td>\n",
       "      <td>NaN</td>\n",
       "      <td>NaN</td>\n",
       "      <td>NaN</td>\n",
       "      <td>NaN</td>\n",
       "      <td>NaN</td>\n",
       "      <td>NaN</td>\n",
       "      <td>NaN</td>\n",
       "      <td>NaN</td>\n",
       "      <td>NaN</td>\n",
       "      <td>NaN</td>\n",
       "      <td>NaN</td>\n",
       "    </tr>\n",
       "  </tbody>\n",
       "</table>\n",
       "</div>"
      ],
      "text/plain": [
       "                    Clearsky DHI  Clearsky DNI  Clearsky GHI  Cloud Type  \\\n",
       "Clearsky DHI                 NaN      0.860988      0.912991    0.022479   \n",
       "Clearsky DNI                 NaN           NaN      0.927926   -0.073302   \n",
       "Clearsky GHI                 NaN           NaN           NaN   -0.047297   \n",
       "Cloud Type                   NaN           NaN           NaN         NaN   \n",
       "Dew Point                    NaN           NaN           NaN         NaN   \n",
       "Temperature                  NaN           NaN           NaN         NaN   \n",
       "Pressure                     NaN           NaN           NaN         NaN   \n",
       "Relative Humidity            NaN           NaN           NaN         NaN   \n",
       "Solar Zenith Angle           NaN           NaN           NaN         NaN   \n",
       "Precipitable Water           NaN           NaN           NaN         NaN   \n",
       "Wind Direction               NaN           NaN           NaN         NaN   \n",
       "Wind Speed                   NaN           NaN           NaN         NaN   \n",
       "Fill Flag                    NaN           NaN           NaN         NaN   \n",
       "\n",
       "                    Dew Point  Temperature  Pressure  Relative Humidity  \\\n",
       "Clearsky DHI         0.222931     0.503409 -0.093766          -0.559766   \n",
       "Clearsky DNI         0.033601     0.384353  0.007043          -0.680471   \n",
       "Clearsky GHI         0.140420     0.478273 -0.050556          -0.655765   \n",
       "Cloud Type           0.202096     0.066777 -0.137158           0.235374   \n",
       "Dew Point                 NaN     0.848948 -0.419534           0.193455   \n",
       "Temperature               NaN          NaN -0.371395          -0.341914   \n",
       "Pressure                  NaN          NaN       NaN          -0.085004   \n",
       "Relative Humidity         NaN          NaN       NaN                NaN   \n",
       "Solar Zenith Angle        NaN          NaN       NaN                NaN   \n",
       "Precipitable Water        NaN          NaN       NaN                NaN   \n",
       "Wind Direction            NaN          NaN       NaN                NaN   \n",
       "Wind Speed                NaN          NaN       NaN                NaN   \n",
       "Fill Flag                 NaN          NaN       NaN                NaN   \n",
       "\n",
       "                    Solar Zenith Angle  Precipitable Water  Wind Direction  \\\n",
       "Clearsky DHI                 -0.873421            0.207504       -0.000195   \n",
       "Clearsky DNI                 -0.886323           -0.002180        0.006256   \n",
       "Clearsky GHI                 -0.891033            0.108725        0.004944   \n",
       "Cloud Type                    0.026873            0.326904       -0.081565   \n",
       "Dew Point                    -0.222336            0.881881       -0.076357   \n",
       "Temperature                  -0.526548            0.742449       -0.066673   \n",
       "Pressure                      0.078900           -0.365342       -0.182006   \n",
       "Relative Humidity             0.607108            0.182658       -0.019108   \n",
       "Solar Zenith Angle                 NaN           -0.182529        0.003802   \n",
       "Precipitable Water                 NaN                 NaN       -0.105735   \n",
       "Wind Direction                     NaN                 NaN             NaN   \n",
       "Wind Speed                         NaN                 NaN             NaN   \n",
       "Fill Flag                          NaN                 NaN             NaN   \n",
       "\n",
       "                    Wind Speed  Fill Flag  \n",
       "Clearsky DHI          0.315655   0.000740  \n",
       "Clearsky DNI          0.381162   0.006318  \n",
       "Clearsky GHI          0.349180  -0.030297  \n",
       "Cloud Type            0.072632   0.090161  \n",
       "Dew Point            -0.140699   0.036851  \n",
       "Temperature          -0.046694   0.015734  \n",
       "Pressure             -0.122674   0.052521  \n",
       "Relative Humidity    -0.172248   0.023674  \n",
       "Solar Zenith Angle   -0.295927  -0.029150  \n",
       "Precipitable Water   -0.106892   0.044106  \n",
       "Wind Direction        0.035634  -0.017124  \n",
       "Wind Speed                 NaN   0.000447  \n",
       "Fill Flag                  NaN        NaN  "
      ]
     },
     "execution_count": 12,
     "metadata": {},
     "output_type": "execute_result"
    }
   ],
   "source": [
    "upper = corr_matrix.where(np.triu(np.ones(corr_matrix.shape), k=1).astype(np.bool))\n",
    "upper"
   ]
  },
  {
   "cell_type": "code",
   "execution_count": 13,
   "id": "91f3de34",
   "metadata": {
    "ExecuteTime": {
     "end_time": "2022-02-12T16:58:53.498026Z",
     "start_time": "2022-02-12T16:58:53.484064Z"
    }
   },
   "outputs": [
    {
     "data": {
      "text/plain": [
       "['Clearsky DNI', 'Clearsky GHI', 'Temperature', 'Precipitable Water']"
      ]
     },
     "execution_count": 13,
     "metadata": {},
     "output_type": "execute_result"
    }
   ],
   "source": [
    "columns_to_drop = []\n",
    "for cols in upper.columns:\n",
    "    if any (upper[cols] > 0.75):\n",
    "        columns_to_drop.append(cols)\n",
    "columns_to_drop"
   ]
  },
  {
   "cell_type": "code",
   "execution_count": 14,
   "id": "4875337f",
   "metadata": {
    "ExecuteTime": {
     "end_time": "2022-02-12T16:58:53.528951Z",
     "start_time": "2022-02-12T16:58:53.499024Z"
    }
   },
   "outputs": [
    {
     "data": {
      "text/html": [
       "<div>\n",
       "<style scoped>\n",
       "    .dataframe tbody tr th:only-of-type {\n",
       "        vertical-align: middle;\n",
       "    }\n",
       "\n",
       "    .dataframe tbody tr th {\n",
       "        vertical-align: top;\n",
       "    }\n",
       "\n",
       "    .dataframe thead th {\n",
       "        text-align: right;\n",
       "    }\n",
       "</style>\n",
       "<table border=\"1\" class=\"dataframe\">\n",
       "  <thead>\n",
       "    <tr style=\"text-align: right;\">\n",
       "      <th></th>\n",
       "      <th>Date</th>\n",
       "      <th>Clearsky DHI</th>\n",
       "      <th>Clearsky DNI</th>\n",
       "      <th>Clearsky GHI</th>\n",
       "      <th>Cloud Type</th>\n",
       "      <th>Dew Point</th>\n",
       "      <th>Pressure</th>\n",
       "      <th>Relative Humidity</th>\n",
       "      <th>Solar Zenith Angle</th>\n",
       "      <th>Wind Direction</th>\n",
       "      <th>Wind Speed</th>\n",
       "      <th>Fill Flag</th>\n",
       "    </tr>\n",
       "  </thead>\n",
       "  <tbody>\n",
       "    <tr>\n",
       "      <th>0</th>\n",
       "      <td>2009-01-01 00:00:00</td>\n",
       "      <td>0</td>\n",
       "      <td>0</td>\n",
       "      <td>0</td>\n",
       "      <td>0</td>\n",
       "      <td>0.0</td>\n",
       "      <td>1010</td>\n",
       "      <td>75.34</td>\n",
       "      <td>106.15</td>\n",
       "      <td>346.1</td>\n",
       "      <td>3.1</td>\n",
       "      <td>0</td>\n",
       "    </tr>\n",
       "    <tr>\n",
       "      <th>1</th>\n",
       "      <td>2009-01-01 00:30:00</td>\n",
       "      <td>0</td>\n",
       "      <td>0</td>\n",
       "      <td>0</td>\n",
       "      <td>0</td>\n",
       "      <td>1.0</td>\n",
       "      <td>1010</td>\n",
       "      <td>80.81</td>\n",
       "      <td>112.28</td>\n",
       "      <td>346.1</td>\n",
       "      <td>3.1</td>\n",
       "      <td>0</td>\n",
       "    </tr>\n",
       "    <tr>\n",
       "      <th>2</th>\n",
       "      <td>2009-01-01 01:00:00</td>\n",
       "      <td>0</td>\n",
       "      <td>0</td>\n",
       "      <td>0</td>\n",
       "      <td>4</td>\n",
       "      <td>0.0</td>\n",
       "      <td>1010</td>\n",
       "      <td>78.27</td>\n",
       "      <td>118.50</td>\n",
       "      <td>347.9</td>\n",
       "      <td>3.2</td>\n",
       "      <td>0</td>\n",
       "    </tr>\n",
       "    <tr>\n",
       "      <th>3</th>\n",
       "      <td>2009-01-01 01:30:00</td>\n",
       "      <td>0</td>\n",
       "      <td>0</td>\n",
       "      <td>0</td>\n",
       "      <td>4</td>\n",
       "      <td>0.0</td>\n",
       "      <td>1010</td>\n",
       "      <td>78.27</td>\n",
       "      <td>124.78</td>\n",
       "      <td>347.9</td>\n",
       "      <td>3.1</td>\n",
       "      <td>0</td>\n",
       "    </tr>\n",
       "    <tr>\n",
       "      <th>4</th>\n",
       "      <td>2009-01-01 02:00:00</td>\n",
       "      <td>0</td>\n",
       "      <td>0</td>\n",
       "      <td>0</td>\n",
       "      <td>4</td>\n",
       "      <td>0.0</td>\n",
       "      <td>1010</td>\n",
       "      <td>76.45</td>\n",
       "      <td>131.12</td>\n",
       "      <td>350.0</td>\n",
       "      <td>3.0</td>\n",
       "      <td>0</td>\n",
       "    </tr>\n",
       "  </tbody>\n",
       "</table>\n",
       "</div>"
      ],
      "text/plain": [
       "                 Date  Clearsky DHI  Clearsky DNI  Clearsky GHI  Cloud Type  \\\n",
       "0 2009-01-01 00:00:00             0             0             0           0   \n",
       "1 2009-01-01 00:30:00             0             0             0           0   \n",
       "2 2009-01-01 01:00:00             0             0             0           4   \n",
       "3 2009-01-01 01:30:00             0             0             0           4   \n",
       "4 2009-01-01 02:00:00             0             0             0           4   \n",
       "\n",
       "   Dew Point  Pressure  Relative Humidity  Solar Zenith Angle  Wind Direction  \\\n",
       "0        0.0      1010              75.34              106.15           346.1   \n",
       "1        1.0      1010              80.81              112.28           346.1   \n",
       "2        0.0      1010              78.27              118.50           347.9   \n",
       "3        0.0      1010              78.27              124.78           347.9   \n",
       "4        0.0      1010              76.45              131.12           350.0   \n",
       "\n",
       "   Wind Speed  Fill Flag  \n",
       "0         3.1          0  \n",
       "1         3.1          0  \n",
       "2         3.2          0  \n",
       "3         3.1          0  \n",
       "4         3.0          0  "
      ]
     },
     "execution_count": 14,
     "metadata": {},
     "output_type": "execute_result"
    }
   ],
   "source": [
    "train.drop(columns=['Temperature', 'Precipitable Water'], axis=1, inplace=True)\n",
    "train.head()"
   ]
  },
  {
   "cell_type": "code",
   "execution_count": 15,
   "id": "9f081102",
   "metadata": {
    "ExecuteTime": {
     "end_time": "2022-02-12T16:58:53.544907Z",
     "start_time": "2022-02-12T16:58:53.530948Z"
    }
   },
   "outputs": [
    {
     "data": {
      "text/plain": [
       "(175296, 12)"
      ]
     },
     "execution_count": 15,
     "metadata": {},
     "output_type": "execute_result"
    }
   ],
   "source": [
    "train.shape"
   ]
  },
  {
   "cell_type": "code",
   "execution_count": 16,
   "id": "74e41fad",
   "metadata": {
    "ExecuteTime": {
     "end_time": "2022-02-12T16:58:53.560865Z",
     "start_time": "2022-02-12T16:58:53.545907Z"
    }
   },
   "outputs": [
    {
     "data": {
      "text/html": [
       "<div>\n",
       "<style scoped>\n",
       "    .dataframe tbody tr th:only-of-type {\n",
       "        vertical-align: middle;\n",
       "    }\n",
       "\n",
       "    .dataframe tbody tr th {\n",
       "        vertical-align: top;\n",
       "    }\n",
       "\n",
       "    .dataframe thead th {\n",
       "        text-align: right;\n",
       "    }\n",
       "</style>\n",
       "<table border=\"1\" class=\"dataframe\">\n",
       "  <thead>\n",
       "    <tr style=\"text-align: right;\">\n",
       "      <th></th>\n",
       "      <th>Clearsky DHI</th>\n",
       "      <th>Clearsky DNI</th>\n",
       "      <th>Clearsky GHI</th>\n",
       "    </tr>\n",
       "  </thead>\n",
       "  <tbody>\n",
       "    <tr>\n",
       "      <th>0</th>\n",
       "      <td>0</td>\n",
       "      <td>0</td>\n",
       "      <td>0</td>\n",
       "    </tr>\n",
       "    <tr>\n",
       "      <th>1</th>\n",
       "      <td>0</td>\n",
       "      <td>0</td>\n",
       "      <td>0</td>\n",
       "    </tr>\n",
       "    <tr>\n",
       "      <th>2</th>\n",
       "      <td>0</td>\n",
       "      <td>0</td>\n",
       "      <td>0</td>\n",
       "    </tr>\n",
       "    <tr>\n",
       "      <th>3</th>\n",
       "      <td>0</td>\n",
       "      <td>0</td>\n",
       "      <td>0</td>\n",
       "    </tr>\n",
       "    <tr>\n",
       "      <th>4</th>\n",
       "      <td>0</td>\n",
       "      <td>0</td>\n",
       "      <td>0</td>\n",
       "    </tr>\n",
       "  </tbody>\n",
       "</table>\n",
       "</div>"
      ],
      "text/plain": [
       "   Clearsky DHI  Clearsky DNI  Clearsky GHI\n",
       "0             0             0             0\n",
       "1             0             0             0\n",
       "2             0             0             0\n",
       "3             0             0             0\n",
       "4             0             0             0"
      ]
     },
     "execution_count": 16,
     "metadata": {},
     "output_type": "execute_result"
    }
   ],
   "source": [
    "y = train.iloc[:, 1:4]\n",
    "y.head()"
   ]
  },
  {
   "cell_type": "code",
   "execution_count": 17,
   "id": "c7ffc64f",
   "metadata": {
    "ExecuteTime": {
     "end_time": "2022-02-12T16:58:53.576825Z",
     "start_time": "2022-02-12T16:58:53.563858Z"
    }
   },
   "outputs": [
    {
     "data": {
      "text/plain": [
       "(175296, 3)"
      ]
     },
     "execution_count": 17,
     "metadata": {},
     "output_type": "execute_result"
    }
   ],
   "source": [
    "y.shape"
   ]
  },
  {
   "cell_type": "code",
   "execution_count": 18,
   "id": "80b197f4",
   "metadata": {
    "ExecuteTime": {
     "end_time": "2022-02-12T16:58:53.607738Z",
     "start_time": "2022-02-12T16:58:53.577820Z"
    }
   },
   "outputs": [
    {
     "data": {
      "text/html": [
       "<div>\n",
       "<style scoped>\n",
       "    .dataframe tbody tr th:only-of-type {\n",
       "        vertical-align: middle;\n",
       "    }\n",
       "\n",
       "    .dataframe tbody tr th {\n",
       "        vertical-align: top;\n",
       "    }\n",
       "\n",
       "    .dataframe thead th {\n",
       "        text-align: right;\n",
       "    }\n",
       "</style>\n",
       "<table border=\"1\" class=\"dataframe\">\n",
       "  <thead>\n",
       "    <tr style=\"text-align: right;\">\n",
       "      <th></th>\n",
       "      <th>Cloud Type</th>\n",
       "      <th>Dew Point</th>\n",
       "      <th>Pressure</th>\n",
       "      <th>Relative Humidity</th>\n",
       "      <th>Solar Zenith Angle</th>\n",
       "      <th>Wind Direction</th>\n",
       "      <th>Wind Speed</th>\n",
       "      <th>Fill Flag</th>\n",
       "    </tr>\n",
       "  </thead>\n",
       "  <tbody>\n",
       "    <tr>\n",
       "      <th>0</th>\n",
       "      <td>0</td>\n",
       "      <td>0.0</td>\n",
       "      <td>1010</td>\n",
       "      <td>75.34</td>\n",
       "      <td>106.15</td>\n",
       "      <td>346.1</td>\n",
       "      <td>3.1</td>\n",
       "      <td>0</td>\n",
       "    </tr>\n",
       "    <tr>\n",
       "      <th>1</th>\n",
       "      <td>0</td>\n",
       "      <td>1.0</td>\n",
       "      <td>1010</td>\n",
       "      <td>80.81</td>\n",
       "      <td>112.28</td>\n",
       "      <td>346.1</td>\n",
       "      <td>3.1</td>\n",
       "      <td>0</td>\n",
       "    </tr>\n",
       "    <tr>\n",
       "      <th>2</th>\n",
       "      <td>4</td>\n",
       "      <td>0.0</td>\n",
       "      <td>1010</td>\n",
       "      <td>78.27</td>\n",
       "      <td>118.50</td>\n",
       "      <td>347.9</td>\n",
       "      <td>3.2</td>\n",
       "      <td>0</td>\n",
       "    </tr>\n",
       "    <tr>\n",
       "      <th>3</th>\n",
       "      <td>4</td>\n",
       "      <td>0.0</td>\n",
       "      <td>1010</td>\n",
       "      <td>78.27</td>\n",
       "      <td>124.78</td>\n",
       "      <td>347.9</td>\n",
       "      <td>3.1</td>\n",
       "      <td>0</td>\n",
       "    </tr>\n",
       "    <tr>\n",
       "      <th>4</th>\n",
       "      <td>4</td>\n",
       "      <td>0.0</td>\n",
       "      <td>1010</td>\n",
       "      <td>76.45</td>\n",
       "      <td>131.12</td>\n",
       "      <td>350.0</td>\n",
       "      <td>3.0</td>\n",
       "      <td>0</td>\n",
       "    </tr>\n",
       "  </tbody>\n",
       "</table>\n",
       "</div>"
      ],
      "text/plain": [
       "   Cloud Type  Dew Point  Pressure  Relative Humidity  Solar Zenith Angle  \\\n",
       "0           0        0.0      1010              75.34              106.15   \n",
       "1           0        1.0      1010              80.81              112.28   \n",
       "2           4        0.0      1010              78.27              118.50   \n",
       "3           4        0.0      1010              78.27              124.78   \n",
       "4           4        0.0      1010              76.45              131.12   \n",
       "\n",
       "   Wind Direction  Wind Speed  Fill Flag  \n",
       "0           346.1         3.1          0  \n",
       "1           346.1         3.1          0  \n",
       "2           347.9         3.2          0  \n",
       "3           347.9         3.1          0  \n",
       "4           350.0         3.0          0  "
      ]
     },
     "execution_count": 18,
     "metadata": {},
     "output_type": "execute_result"
    }
   ],
   "source": [
    "x = train.iloc[:, 4:]\n",
    "x.head()"
   ]
  },
  {
   "cell_type": "code",
   "execution_count": 19,
   "id": "ebd36405",
   "metadata": {
    "ExecuteTime": {
     "end_time": "2022-02-12T16:58:53.622698Z",
     "start_time": "2022-02-12T16:58:53.608736Z"
    }
   },
   "outputs": [
    {
     "data": {
      "text/plain": [
       "(175296, 8)"
      ]
     },
     "execution_count": 19,
     "metadata": {},
     "output_type": "execute_result"
    }
   ],
   "source": [
    "x.shape"
   ]
  },
  {
   "cell_type": "code",
   "execution_count": 20,
   "id": "4a09a524",
   "metadata": {
    "ExecuteTime": {
     "end_time": "2022-02-12T16:58:53.701523Z",
     "start_time": "2022-02-12T16:58:53.623696Z"
    }
   },
   "outputs": [],
   "source": [
    "scaler_x = MinMaxScaler((0, 1))\n",
    "scaler_y = MinMaxScaler((0, 1))\n",
    "\n",
    "x = scaler_x.fit_transform(x)\n",
    "y = scaler_y.fit_transform(y)"
   ]
  },
  {
   "cell_type": "code",
   "execution_count": 21,
   "id": "dd76ad2a",
   "metadata": {
    "ExecuteTime": {
     "end_time": "2022-02-12T16:58:53.717514Z",
     "start_time": "2022-02-12T16:58:53.703484Z"
    }
   },
   "outputs": [
    {
     "data": {
      "text/plain": [
       "175296"
      ]
     },
     "execution_count": 21,
     "metadata": {},
     "output_type": "execute_result"
    }
   ],
   "source": [
    "x.shape[0]"
   ]
  },
  {
   "cell_type": "code",
   "execution_count": 22,
   "id": "dd02c6ce",
   "metadata": {
    "ExecuteTime": {
     "end_time": "2022-02-12T16:58:53.733471Z",
     "start_time": "2022-02-12T16:58:53.718513Z"
    }
   },
   "outputs": [
    {
     "data": {
      "text/plain": [
       "(175296, 3)"
      ]
     },
     "execution_count": 22,
     "metadata": {},
     "output_type": "execute_result"
    }
   ],
   "source": [
    "y.shape"
   ]
  },
  {
   "cell_type": "code",
   "execution_count": 23,
   "id": "73c6593a",
   "metadata": {
    "ExecuteTime": {
     "end_time": "2022-02-12T16:58:53.890057Z",
     "start_time": "2022-02-12T16:58:53.734470Z"
    }
   },
   "outputs": [],
   "source": [
    "x_train = []\n",
    "y_train = []\n",
    "\n",
    "for i in range(2, x.shape[0]):\n",
    "    x_train.append(x[i-2 : i])\n",
    "    y_train.append(y[i])"
   ]
  },
  {
   "cell_type": "code",
   "execution_count": 24,
   "id": "47d267ca",
   "metadata": {
    "ExecuteTime": {
     "end_time": "2022-02-12T16:58:53.906015Z",
     "start_time": "2022-02-12T16:58:53.891053Z"
    }
   },
   "outputs": [
    {
     "data": {
      "text/plain": [
       "(175294, 2, 8)"
      ]
     },
     "execution_count": 24,
     "metadata": {},
     "output_type": "execute_result"
    }
   ],
   "source": [
    "len(x_train), len(x_train[0]), len(x_train[0][0])"
   ]
  },
  {
   "cell_type": "code",
   "execution_count": 25,
   "id": "bee15ae3",
   "metadata": {
    "ExecuteTime": {
     "end_time": "2022-02-12T16:58:53.921488Z",
     "start_time": "2022-02-12T16:58:53.907012Z"
    }
   },
   "outputs": [
    {
     "data": {
      "text/plain": [
       "(175294, 3)"
      ]
     },
     "execution_count": 25,
     "metadata": {},
     "output_type": "execute_result"
    }
   ],
   "source": [
    "len(y_train), len(y_train[0])"
   ]
  },
  {
   "cell_type": "code",
   "execution_count": 26,
   "id": "98934e1f",
   "metadata": {
    "ExecuteTime": {
     "end_time": "2022-02-12T16:58:54.080647Z",
     "start_time": "2022-02-12T16:58:53.922484Z"
    }
   },
   "outputs": [],
   "source": [
    "x_train = np.array(x_train)\n",
    "y_train = np.array(y_train)"
   ]
  },
  {
   "cell_type": "code",
   "execution_count": 27,
   "id": "448f6a38",
   "metadata": {
    "ExecuteTime": {
     "end_time": "2022-02-12T16:58:54.096605Z",
     "start_time": "2022-02-12T16:58:54.084638Z"
    }
   },
   "outputs": [
    {
     "data": {
      "text/plain": [
       "((175294, 2, 8), (175294, 3))"
      ]
     },
     "execution_count": 27,
     "metadata": {},
     "output_type": "execute_result"
    }
   ],
   "source": [
    "x_train.shape, y_train.shape"
   ]
  },
  {
   "cell_type": "code",
   "execution_count": 28,
   "id": "8ab62baa",
   "metadata": {
    "ExecuteTime": {
     "end_time": "2022-02-12T16:58:54.112564Z",
     "start_time": "2022-02-12T16:58:54.097601Z"
    }
   },
   "outputs": [
    {
     "data": {
      "text/plain": [
       "175294"
      ]
     },
     "execution_count": 28,
     "metadata": {},
     "output_type": "execute_result"
    }
   ],
   "source": [
    "len(x_train)"
   ]
  },
  {
   "cell_type": "code",
   "execution_count": 29,
   "id": "d382123e",
   "metadata": {
    "ExecuteTime": {
     "end_time": "2022-02-12T16:58:54.128520Z",
     "start_time": "2022-02-12T16:58:54.114557Z"
    }
   },
   "outputs": [
    {
     "data": {
      "text/plain": [
       "((17530, 2, 8), (17530, 3))"
      ]
     },
     "execution_count": 29,
     "metadata": {},
     "output_type": "execute_result"
    }
   ],
   "source": [
    "x_val = np.array(x_train[int(len(x_train) * 0.90) :])\n",
    "y_val = np.array(y_train[int(len(y_train) * 0.90) :])\n",
    "\n",
    "x_val.shape, y_val.shape"
   ]
  },
  {
   "cell_type": "code",
   "execution_count": 30,
   "id": "9786af45",
   "metadata": {
    "ExecuteTime": {
     "end_time": "2022-02-12T16:58:54.158439Z",
     "start_time": "2022-02-12T16:58:54.129518Z"
    }
   },
   "outputs": [
    {
     "data": {
      "text/plain": [
       "((157764, 2, 8), (157764, 3))"
      ]
     },
     "execution_count": 30,
     "metadata": {},
     "output_type": "execute_result"
    }
   ],
   "source": [
    "x_train = np.array(x_train[: int(len(x_train) * 0.90)])\n",
    "y_train = np.array(y_train[: int(len(y_train) * 0.90)])\n",
    "\n",
    "x_train.shape, y_train.shape"
   ]
  },
  {
   "cell_type": "markdown",
   "id": "d75d6f5c",
   "metadata": {},
   "source": [
    "# Test Excel sheet"
   ]
  },
  {
   "cell_type": "code",
   "execution_count": 31,
   "id": "d13b3b47",
   "metadata": {
    "ExecuteTime": {
     "end_time": "2022-02-12T16:58:54.222268Z",
     "start_time": "2022-02-12T16:58:54.159438Z"
    }
   },
   "outputs": [
    {
     "data": {
      "text/html": [
       "<div>\n",
       "<style scoped>\n",
       "    .dataframe tbody tr th:only-of-type {\n",
       "        vertical-align: middle;\n",
       "    }\n",
       "\n",
       "    .dataframe tbody tr th {\n",
       "        vertical-align: top;\n",
       "    }\n",
       "\n",
       "    .dataframe thead th {\n",
       "        text-align: right;\n",
       "    }\n",
       "</style>\n",
       "<table border=\"1\" class=\"dataframe\">\n",
       "  <thead>\n",
       "    <tr style=\"text-align: right;\">\n",
       "      <th></th>\n",
       "      <th>Year</th>\n",
       "      <th>Month</th>\n",
       "      <th>Day</th>\n",
       "      <th>Hour</th>\n",
       "      <th>Minute</th>\n",
       "      <th>Cloud Type</th>\n",
       "      <th>Dew Point</th>\n",
       "      <th>Temperature</th>\n",
       "      <th>Pressure</th>\n",
       "      <th>Relative Humidity</th>\n",
       "      <th>Solar Zenith Angle</th>\n",
       "      <th>Precipitable Water</th>\n",
       "      <th>Wind Direction</th>\n",
       "      <th>Wind Speed</th>\n",
       "      <th>Fill Flag</th>\n",
       "      <th>Clearsky DHI</th>\n",
       "      <th>Clearsky DNI</th>\n",
       "      <th>Clearsky GHI</th>\n",
       "    </tr>\n",
       "  </thead>\n",
       "  <tbody>\n",
       "    <tr>\n",
       "      <th>0</th>\n",
       "      <td>2018</td>\n",
       "      <td>12</td>\n",
       "      <td>31</td>\n",
       "      <td>23</td>\n",
       "      <td>0</td>\n",
       "      <td>7</td>\n",
       "      <td>18.7</td>\n",
       "      <td>19.2</td>\n",
       "      <td>1009</td>\n",
       "      <td>96.84</td>\n",
       "      <td>94.34</td>\n",
       "      <td>3.7</td>\n",
       "      <td>206</td>\n",
       "      <td>2.1</td>\n",
       "      <td>0</td>\n",
       "      <td>0.0</td>\n",
       "      <td>0.0</td>\n",
       "      <td>0.0</td>\n",
       "    </tr>\n",
       "    <tr>\n",
       "      <th>1</th>\n",
       "      <td>2018</td>\n",
       "      <td>12</td>\n",
       "      <td>31</td>\n",
       "      <td>23</td>\n",
       "      <td>30</td>\n",
       "      <td>7</td>\n",
       "      <td>18.7</td>\n",
       "      <td>19.2</td>\n",
       "      <td>1009</td>\n",
       "      <td>96.84</td>\n",
       "      <td>100.22</td>\n",
       "      <td>3.7</td>\n",
       "      <td>206</td>\n",
       "      <td>2.1</td>\n",
       "      <td>0</td>\n",
       "      <td>0.0</td>\n",
       "      <td>0.0</td>\n",
       "      <td>0.0</td>\n",
       "    </tr>\n",
       "    <tr>\n",
       "      <th>2</th>\n",
       "      <td>2019</td>\n",
       "      <td>1</td>\n",
       "      <td>1</td>\n",
       "      <td>0</td>\n",
       "      <td>0</td>\n",
       "      <td>7</td>\n",
       "      <td>18.4</td>\n",
       "      <td>18.8</td>\n",
       "      <td>1008</td>\n",
       "      <td>97.70</td>\n",
       "      <td>106.23</td>\n",
       "      <td>3.5</td>\n",
       "      <td>190</td>\n",
       "      <td>2.3</td>\n",
       "      <td>0</td>\n",
       "      <td>NaN</td>\n",
       "      <td>NaN</td>\n",
       "      <td>NaN</td>\n",
       "    </tr>\n",
       "    <tr>\n",
       "      <th>3</th>\n",
       "      <td>2019</td>\n",
       "      <td>1</td>\n",
       "      <td>1</td>\n",
       "      <td>0</td>\n",
       "      <td>30</td>\n",
       "      <td>3</td>\n",
       "      <td>18.4</td>\n",
       "      <td>18.6</td>\n",
       "      <td>1008</td>\n",
       "      <td>98.92</td>\n",
       "      <td>112.36</td>\n",
       "      <td>3.5</td>\n",
       "      <td>187</td>\n",
       "      <td>2.5</td>\n",
       "      <td>0</td>\n",
       "      <td>NaN</td>\n",
       "      <td>NaN</td>\n",
       "      <td>NaN</td>\n",
       "    </tr>\n",
       "    <tr>\n",
       "      <th>4</th>\n",
       "      <td>2019</td>\n",
       "      <td>1</td>\n",
       "      <td>1</td>\n",
       "      <td>1</td>\n",
       "      <td>0</td>\n",
       "      <td>3</td>\n",
       "      <td>18.2</td>\n",
       "      <td>18.5</td>\n",
       "      <td>1008</td>\n",
       "      <td>98.35</td>\n",
       "      <td>118.58</td>\n",
       "      <td>3.5</td>\n",
       "      <td>184</td>\n",
       "      <td>2.8</td>\n",
       "      <td>0</td>\n",
       "      <td>NaN</td>\n",
       "      <td>NaN</td>\n",
       "      <td>NaN</td>\n",
       "    </tr>\n",
       "    <tr>\n",
       "      <th>...</th>\n",
       "      <td>...</td>\n",
       "      <td>...</td>\n",
       "      <td>...</td>\n",
       "      <td>...</td>\n",
       "      <td>...</td>\n",
       "      <td>...</td>\n",
       "      <td>...</td>\n",
       "      <td>...</td>\n",
       "      <td>...</td>\n",
       "      <td>...</td>\n",
       "      <td>...</td>\n",
       "      <td>...</td>\n",
       "      <td>...</td>\n",
       "      <td>...</td>\n",
       "      <td>...</td>\n",
       "      <td>...</td>\n",
       "      <td>...</td>\n",
       "      <td>...</td>\n",
       "    </tr>\n",
       "    <tr>\n",
       "      <th>17517</th>\n",
       "      <td>2019</td>\n",
       "      <td>12</td>\n",
       "      <td>31</td>\n",
       "      <td>21</td>\n",
       "      <td>30</td>\n",
       "      <td>0</td>\n",
       "      <td>5.6</td>\n",
       "      <td>11.1</td>\n",
       "      <td>1006</td>\n",
       "      <td>68.64</td>\n",
       "      <td>77.89</td>\n",
       "      <td>0.8</td>\n",
       "      <td>276</td>\n",
       "      <td>2.2</td>\n",
       "      <td>0</td>\n",
       "      <td>NaN</td>\n",
       "      <td>NaN</td>\n",
       "      <td>NaN</td>\n",
       "    </tr>\n",
       "    <tr>\n",
       "      <th>17518</th>\n",
       "      <td>2019</td>\n",
       "      <td>12</td>\n",
       "      <td>31</td>\n",
       "      <td>22</td>\n",
       "      <td>0</td>\n",
       "      <td>0</td>\n",
       "      <td>5.7</td>\n",
       "      <td>9.3</td>\n",
       "      <td>1006</td>\n",
       "      <td>78.31</td>\n",
       "      <td>83.06</td>\n",
       "      <td>0.8</td>\n",
       "      <td>274</td>\n",
       "      <td>1.7</td>\n",
       "      <td>0</td>\n",
       "      <td>NaN</td>\n",
       "      <td>NaN</td>\n",
       "      <td>NaN</td>\n",
       "    </tr>\n",
       "    <tr>\n",
       "      <th>17519</th>\n",
       "      <td>2019</td>\n",
       "      <td>12</td>\n",
       "      <td>31</td>\n",
       "      <td>22</td>\n",
       "      <td>30</td>\n",
       "      <td>0</td>\n",
       "      <td>5.7</td>\n",
       "      <td>8.5</td>\n",
       "      <td>1006</td>\n",
       "      <td>82.64</td>\n",
       "      <td>88.34</td>\n",
       "      <td>0.8</td>\n",
       "      <td>273</td>\n",
       "      <td>1.8</td>\n",
       "      <td>0</td>\n",
       "      <td>NaN</td>\n",
       "      <td>NaN</td>\n",
       "      <td>NaN</td>\n",
       "    </tr>\n",
       "    <tr>\n",
       "      <th>17520</th>\n",
       "      <td>2019</td>\n",
       "      <td>12</td>\n",
       "      <td>31</td>\n",
       "      <td>23</td>\n",
       "      <td>0</td>\n",
       "      <td>0</td>\n",
       "      <td>4.8</td>\n",
       "      <td>7.8</td>\n",
       "      <td>1006</td>\n",
       "      <td>81.49</td>\n",
       "      <td>94.37</td>\n",
       "      <td>0.8</td>\n",
       "      <td>272</td>\n",
       "      <td>1.8</td>\n",
       "      <td>0</td>\n",
       "      <td>NaN</td>\n",
       "      <td>NaN</td>\n",
       "      <td>NaN</td>\n",
       "    </tr>\n",
       "    <tr>\n",
       "      <th>17521</th>\n",
       "      <td>2019</td>\n",
       "      <td>12</td>\n",
       "      <td>31</td>\n",
       "      <td>23</td>\n",
       "      <td>30</td>\n",
       "      <td>0</td>\n",
       "      <td>4.8</td>\n",
       "      <td>7.8</td>\n",
       "      <td>1006</td>\n",
       "      <td>81.49</td>\n",
       "      <td>100.25</td>\n",
       "      <td>0.8</td>\n",
       "      <td>272</td>\n",
       "      <td>1.8</td>\n",
       "      <td>0</td>\n",
       "      <td>NaN</td>\n",
       "      <td>NaN</td>\n",
       "      <td>NaN</td>\n",
       "    </tr>\n",
       "  </tbody>\n",
       "</table>\n",
       "<p>17522 rows × 18 columns</p>\n",
       "</div>"
      ],
      "text/plain": [
       "       Year  Month  Day  Hour  Minute  Cloud Type  Dew Point  Temperature  \\\n",
       "0      2018     12   31    23       0           7       18.7         19.2   \n",
       "1      2018     12   31    23      30           7       18.7         19.2   \n",
       "2      2019      1    1     0       0           7       18.4         18.8   \n",
       "3      2019      1    1     0      30           3       18.4         18.6   \n",
       "4      2019      1    1     1       0           3       18.2         18.5   \n",
       "...     ...    ...  ...   ...     ...         ...        ...          ...   \n",
       "17517  2019     12   31    21      30           0        5.6         11.1   \n",
       "17518  2019     12   31    22       0           0        5.7          9.3   \n",
       "17519  2019     12   31    22      30           0        5.7          8.5   \n",
       "17520  2019     12   31    23       0           0        4.8          7.8   \n",
       "17521  2019     12   31    23      30           0        4.8          7.8   \n",
       "\n",
       "       Pressure  Relative Humidity  Solar Zenith Angle  Precipitable Water  \\\n",
       "0          1009              96.84               94.34                 3.7   \n",
       "1          1009              96.84              100.22                 3.7   \n",
       "2          1008              97.70              106.23                 3.5   \n",
       "3          1008              98.92              112.36                 3.5   \n",
       "4          1008              98.35              118.58                 3.5   \n",
       "...         ...                ...                 ...                 ...   \n",
       "17517      1006              68.64               77.89                 0.8   \n",
       "17518      1006              78.31               83.06                 0.8   \n",
       "17519      1006              82.64               88.34                 0.8   \n",
       "17520      1006              81.49               94.37                 0.8   \n",
       "17521      1006              81.49              100.25                 0.8   \n",
       "\n",
       "       Wind Direction  Wind Speed  Fill Flag  Clearsky DHI  Clearsky DNI  \\\n",
       "0                 206         2.1          0           0.0           0.0   \n",
       "1                 206         2.1          0           0.0           0.0   \n",
       "2                 190         2.3          0           NaN           NaN   \n",
       "3                 187         2.5          0           NaN           NaN   \n",
       "4                 184         2.8          0           NaN           NaN   \n",
       "...               ...         ...        ...           ...           ...   \n",
       "17517             276         2.2          0           NaN           NaN   \n",
       "17518             274         1.7          0           NaN           NaN   \n",
       "17519             273         1.8          0           NaN           NaN   \n",
       "17520             272         1.8          0           NaN           NaN   \n",
       "17521             272         1.8          0           NaN           NaN   \n",
       "\n",
       "       Clearsky GHI  \n",
       "0               0.0  \n",
       "1               0.0  \n",
       "2               NaN  \n",
       "3               NaN  \n",
       "4               NaN  \n",
       "...             ...  \n",
       "17517           NaN  \n",
       "17518           NaN  \n",
       "17519           NaN  \n",
       "17520           NaN  \n",
       "17521           NaN  \n",
       "\n",
       "[17522 rows x 18 columns]"
      ]
     },
     "execution_count": 31,
     "metadata": {},
     "output_type": "execute_result"
    }
   ],
   "source": [
    "test = pd.read_csv(r\"C:\\Users\\ariha\\Desktop\\Hackathons & Projects\\Wipro Hackathon\\test sheet for RNNs and LSTMs.csv\")\n",
    "test"
   ]
  },
  {
   "cell_type": "code",
   "execution_count": 32,
   "id": "88de6368",
   "metadata": {
    "ExecuteTime": {
     "end_time": "2022-02-12T16:58:54.238226Z",
     "start_time": "2022-02-12T16:58:54.223266Z"
    }
   },
   "outputs": [
    {
     "data": {
      "text/html": [
       "<div>\n",
       "<style scoped>\n",
       "    .dataframe tbody tr th:only-of-type {\n",
       "        vertical-align: middle;\n",
       "    }\n",
       "\n",
       "    .dataframe tbody tr th {\n",
       "        vertical-align: top;\n",
       "    }\n",
       "\n",
       "    .dataframe thead th {\n",
       "        text-align: right;\n",
       "    }\n",
       "</style>\n",
       "<table border=\"1\" class=\"dataframe\">\n",
       "  <thead>\n",
       "    <tr style=\"text-align: right;\">\n",
       "      <th></th>\n",
       "      <th>Year</th>\n",
       "      <th>Month</th>\n",
       "      <th>Day</th>\n",
       "      <th>Hour</th>\n",
       "      <th>Minute</th>\n",
       "      <th>Cloud Type</th>\n",
       "      <th>Dew Point</th>\n",
       "      <th>Temperature</th>\n",
       "      <th>Pressure</th>\n",
       "      <th>Relative Humidity</th>\n",
       "      <th>Solar Zenith Angle</th>\n",
       "      <th>Precipitable Water</th>\n",
       "      <th>Wind Direction</th>\n",
       "      <th>Wind Speed</th>\n",
       "      <th>Fill Flag</th>\n",
       "    </tr>\n",
       "  </thead>\n",
       "  <tbody>\n",
       "    <tr>\n",
       "      <th>0</th>\n",
       "      <td>2018</td>\n",
       "      <td>12</td>\n",
       "      <td>31</td>\n",
       "      <td>23</td>\n",
       "      <td>0</td>\n",
       "      <td>7</td>\n",
       "      <td>18.7</td>\n",
       "      <td>19.2</td>\n",
       "      <td>1009</td>\n",
       "      <td>96.84</td>\n",
       "      <td>94.34</td>\n",
       "      <td>3.7</td>\n",
       "      <td>206</td>\n",
       "      <td>2.1</td>\n",
       "      <td>0</td>\n",
       "    </tr>\n",
       "    <tr>\n",
       "      <th>1</th>\n",
       "      <td>2018</td>\n",
       "      <td>12</td>\n",
       "      <td>31</td>\n",
       "      <td>23</td>\n",
       "      <td>30</td>\n",
       "      <td>7</td>\n",
       "      <td>18.7</td>\n",
       "      <td>19.2</td>\n",
       "      <td>1009</td>\n",
       "      <td>96.84</td>\n",
       "      <td>100.22</td>\n",
       "      <td>3.7</td>\n",
       "      <td>206</td>\n",
       "      <td>2.1</td>\n",
       "      <td>0</td>\n",
       "    </tr>\n",
       "    <tr>\n",
       "      <th>2</th>\n",
       "      <td>2019</td>\n",
       "      <td>1</td>\n",
       "      <td>1</td>\n",
       "      <td>0</td>\n",
       "      <td>0</td>\n",
       "      <td>7</td>\n",
       "      <td>18.4</td>\n",
       "      <td>18.8</td>\n",
       "      <td>1008</td>\n",
       "      <td>97.70</td>\n",
       "      <td>106.23</td>\n",
       "      <td>3.5</td>\n",
       "      <td>190</td>\n",
       "      <td>2.3</td>\n",
       "      <td>0</td>\n",
       "    </tr>\n",
       "    <tr>\n",
       "      <th>3</th>\n",
       "      <td>2019</td>\n",
       "      <td>1</td>\n",
       "      <td>1</td>\n",
       "      <td>0</td>\n",
       "      <td>30</td>\n",
       "      <td>3</td>\n",
       "      <td>18.4</td>\n",
       "      <td>18.6</td>\n",
       "      <td>1008</td>\n",
       "      <td>98.92</td>\n",
       "      <td>112.36</td>\n",
       "      <td>3.5</td>\n",
       "      <td>187</td>\n",
       "      <td>2.5</td>\n",
       "      <td>0</td>\n",
       "    </tr>\n",
       "    <tr>\n",
       "      <th>4</th>\n",
       "      <td>2019</td>\n",
       "      <td>1</td>\n",
       "      <td>1</td>\n",
       "      <td>1</td>\n",
       "      <td>0</td>\n",
       "      <td>3</td>\n",
       "      <td>18.2</td>\n",
       "      <td>18.5</td>\n",
       "      <td>1008</td>\n",
       "      <td>98.35</td>\n",
       "      <td>118.58</td>\n",
       "      <td>3.5</td>\n",
       "      <td>184</td>\n",
       "      <td>2.8</td>\n",
       "      <td>0</td>\n",
       "    </tr>\n",
       "  </tbody>\n",
       "</table>\n",
       "</div>"
      ],
      "text/plain": [
       "   Year  Month  Day  Hour  Minute  Cloud Type  Dew Point  Temperature  \\\n",
       "0  2018     12   31    23       0           7       18.7         19.2   \n",
       "1  2018     12   31    23      30           7       18.7         19.2   \n",
       "2  2019      1    1     0       0           7       18.4         18.8   \n",
       "3  2019      1    1     0      30           3       18.4         18.6   \n",
       "4  2019      1    1     1       0           3       18.2         18.5   \n",
       "\n",
       "   Pressure  Relative Humidity  Solar Zenith Angle  Precipitable Water  \\\n",
       "0      1009              96.84               94.34                 3.7   \n",
       "1      1009              96.84              100.22                 3.7   \n",
       "2      1008              97.70              106.23                 3.5   \n",
       "3      1008              98.92              112.36                 3.5   \n",
       "4      1008              98.35              118.58                 3.5   \n",
       "\n",
       "   Wind Direction  Wind Speed  Fill Flag  \n",
       "0             206         2.1          0  \n",
       "1             206         2.1          0  \n",
       "2             190         2.3          0  \n",
       "3             187         2.5          0  \n",
       "4             184         2.8          0  "
      ]
     },
     "execution_count": 32,
     "metadata": {},
     "output_type": "execute_result"
    }
   ],
   "source": [
    "test.drop(test.iloc[:, -3:], axis=1, inplace=True)\n",
    "test.head()"
   ]
  },
  {
   "cell_type": "code",
   "execution_count": 33,
   "id": "50d175e0",
   "metadata": {
    "ExecuteTime": {
     "end_time": "2022-02-12T16:58:54.269410Z",
     "start_time": "2022-02-12T16:58:54.239224Z"
    }
   },
   "outputs": [
    {
     "data": {
      "text/html": [
       "<div>\n",
       "<style scoped>\n",
       "    .dataframe tbody tr th:only-of-type {\n",
       "        vertical-align: middle;\n",
       "    }\n",
       "\n",
       "    .dataframe tbody tr th {\n",
       "        vertical-align: top;\n",
       "    }\n",
       "\n",
       "    .dataframe thead th {\n",
       "        text-align: right;\n",
       "    }\n",
       "</style>\n",
       "<table border=\"1\" class=\"dataframe\">\n",
       "  <thead>\n",
       "    <tr style=\"text-align: right;\">\n",
       "      <th></th>\n",
       "      <th>Year</th>\n",
       "      <th>Month</th>\n",
       "      <th>Day</th>\n",
       "      <th>Hour</th>\n",
       "      <th>Minute</th>\n",
       "      <th>Cloud Type</th>\n",
       "      <th>Dew Point</th>\n",
       "      <th>Temperature</th>\n",
       "      <th>Pressure</th>\n",
       "      <th>Relative Humidity</th>\n",
       "      <th>Solar Zenith Angle</th>\n",
       "      <th>Precipitable Water</th>\n",
       "      <th>Wind Direction</th>\n",
       "      <th>Wind Speed</th>\n",
       "      <th>Fill Flag</th>\n",
       "      <th>Date</th>\n",
       "    </tr>\n",
       "  </thead>\n",
       "  <tbody>\n",
       "    <tr>\n",
       "      <th>0</th>\n",
       "      <td>2018</td>\n",
       "      <td>12</td>\n",
       "      <td>31</td>\n",
       "      <td>23</td>\n",
       "      <td>0</td>\n",
       "      <td>7</td>\n",
       "      <td>18.7</td>\n",
       "      <td>19.2</td>\n",
       "      <td>1009</td>\n",
       "      <td>96.84</td>\n",
       "      <td>94.34</td>\n",
       "      <td>3.7</td>\n",
       "      <td>206</td>\n",
       "      <td>2.1</td>\n",
       "      <td>0</td>\n",
       "      <td>2018-12-31 23:00:00</td>\n",
       "    </tr>\n",
       "    <tr>\n",
       "      <th>1</th>\n",
       "      <td>2018</td>\n",
       "      <td>12</td>\n",
       "      <td>31</td>\n",
       "      <td>23</td>\n",
       "      <td>30</td>\n",
       "      <td>7</td>\n",
       "      <td>18.7</td>\n",
       "      <td>19.2</td>\n",
       "      <td>1009</td>\n",
       "      <td>96.84</td>\n",
       "      <td>100.22</td>\n",
       "      <td>3.7</td>\n",
       "      <td>206</td>\n",
       "      <td>2.1</td>\n",
       "      <td>0</td>\n",
       "      <td>2018-12-31 23:30:00</td>\n",
       "    </tr>\n",
       "    <tr>\n",
       "      <th>2</th>\n",
       "      <td>2019</td>\n",
       "      <td>1</td>\n",
       "      <td>1</td>\n",
       "      <td>0</td>\n",
       "      <td>0</td>\n",
       "      <td>7</td>\n",
       "      <td>18.4</td>\n",
       "      <td>18.8</td>\n",
       "      <td>1008</td>\n",
       "      <td>97.70</td>\n",
       "      <td>106.23</td>\n",
       "      <td>3.5</td>\n",
       "      <td>190</td>\n",
       "      <td>2.3</td>\n",
       "      <td>0</td>\n",
       "      <td>2019-01-01 00:00:00</td>\n",
       "    </tr>\n",
       "    <tr>\n",
       "      <th>3</th>\n",
       "      <td>2019</td>\n",
       "      <td>1</td>\n",
       "      <td>1</td>\n",
       "      <td>0</td>\n",
       "      <td>30</td>\n",
       "      <td>3</td>\n",
       "      <td>18.4</td>\n",
       "      <td>18.6</td>\n",
       "      <td>1008</td>\n",
       "      <td>98.92</td>\n",
       "      <td>112.36</td>\n",
       "      <td>3.5</td>\n",
       "      <td>187</td>\n",
       "      <td>2.5</td>\n",
       "      <td>0</td>\n",
       "      <td>2019-01-01 00:30:00</td>\n",
       "    </tr>\n",
       "    <tr>\n",
       "      <th>4</th>\n",
       "      <td>2019</td>\n",
       "      <td>1</td>\n",
       "      <td>1</td>\n",
       "      <td>1</td>\n",
       "      <td>0</td>\n",
       "      <td>3</td>\n",
       "      <td>18.2</td>\n",
       "      <td>18.5</td>\n",
       "      <td>1008</td>\n",
       "      <td>98.35</td>\n",
       "      <td>118.58</td>\n",
       "      <td>3.5</td>\n",
       "      <td>184</td>\n",
       "      <td>2.8</td>\n",
       "      <td>0</td>\n",
       "      <td>2019-01-01 01:00:00</td>\n",
       "    </tr>\n",
       "  </tbody>\n",
       "</table>\n",
       "</div>"
      ],
      "text/plain": [
       "   Year  Month  Day  Hour  Minute  Cloud Type  Dew Point  Temperature  \\\n",
       "0  2018     12   31    23       0           7       18.7         19.2   \n",
       "1  2018     12   31    23      30           7       18.7         19.2   \n",
       "2  2019      1    1     0       0           7       18.4         18.8   \n",
       "3  2019      1    1     0      30           3       18.4         18.6   \n",
       "4  2019      1    1     1       0           3       18.2         18.5   \n",
       "\n",
       "   Pressure  Relative Humidity  Solar Zenith Angle  Precipitable Water  \\\n",
       "0      1009              96.84               94.34                 3.7   \n",
       "1      1009              96.84              100.22                 3.7   \n",
       "2      1008              97.70              106.23                 3.5   \n",
       "3      1008              98.92              112.36                 3.5   \n",
       "4      1008              98.35              118.58                 3.5   \n",
       "\n",
       "   Wind Direction  Wind Speed  Fill Flag                Date  \n",
       "0             206         2.1          0 2018-12-31 23:00:00  \n",
       "1             206         2.1          0 2018-12-31 23:30:00  \n",
       "2             190         2.3          0 2019-01-01 00:00:00  \n",
       "3             187         2.5          0 2019-01-01 00:30:00  \n",
       "4             184         2.8          0 2019-01-01 01:00:00  "
      ]
     },
     "execution_count": 33,
     "metadata": {},
     "output_type": "execute_result"
    }
   ],
   "source": [
    "test['Date'] = pd.to_datetime(test[['Year', 'Month', 'Day', 'Hour', 'Minute']])\n",
    "test.head()"
   ]
  },
  {
   "cell_type": "code",
   "execution_count": 34,
   "id": "596e0f87",
   "metadata": {
    "ExecuteTime": {
     "end_time": "2022-02-12T16:58:54.300291Z",
     "start_time": "2022-02-12T16:58:54.271367Z"
    }
   },
   "outputs": [
    {
     "data": {
      "text/html": [
       "<div>\n",
       "<style scoped>\n",
       "    .dataframe tbody tr th:only-of-type {\n",
       "        vertical-align: middle;\n",
       "    }\n",
       "\n",
       "    .dataframe tbody tr th {\n",
       "        vertical-align: top;\n",
       "    }\n",
       "\n",
       "    .dataframe thead th {\n",
       "        text-align: right;\n",
       "    }\n",
       "</style>\n",
       "<table border=\"1\" class=\"dataframe\">\n",
       "  <thead>\n",
       "    <tr style=\"text-align: right;\">\n",
       "      <th></th>\n",
       "      <th>Cloud Type</th>\n",
       "      <th>Dew Point</th>\n",
       "      <th>Temperature</th>\n",
       "      <th>Pressure</th>\n",
       "      <th>Relative Humidity</th>\n",
       "      <th>Solar Zenith Angle</th>\n",
       "      <th>Precipitable Water</th>\n",
       "      <th>Wind Direction</th>\n",
       "      <th>Wind Speed</th>\n",
       "      <th>Fill Flag</th>\n",
       "      <th>Date</th>\n",
       "    </tr>\n",
       "  </thead>\n",
       "  <tbody>\n",
       "    <tr>\n",
       "      <th>0</th>\n",
       "      <td>7</td>\n",
       "      <td>18.7</td>\n",
       "      <td>19.2</td>\n",
       "      <td>1009</td>\n",
       "      <td>96.84</td>\n",
       "      <td>94.34</td>\n",
       "      <td>3.7</td>\n",
       "      <td>206</td>\n",
       "      <td>2.1</td>\n",
       "      <td>0</td>\n",
       "      <td>2018-12-31 23:00:00</td>\n",
       "    </tr>\n",
       "    <tr>\n",
       "      <th>1</th>\n",
       "      <td>7</td>\n",
       "      <td>18.7</td>\n",
       "      <td>19.2</td>\n",
       "      <td>1009</td>\n",
       "      <td>96.84</td>\n",
       "      <td>100.22</td>\n",
       "      <td>3.7</td>\n",
       "      <td>206</td>\n",
       "      <td>2.1</td>\n",
       "      <td>0</td>\n",
       "      <td>2018-12-31 23:30:00</td>\n",
       "    </tr>\n",
       "    <tr>\n",
       "      <th>2</th>\n",
       "      <td>7</td>\n",
       "      <td>18.4</td>\n",
       "      <td>18.8</td>\n",
       "      <td>1008</td>\n",
       "      <td>97.70</td>\n",
       "      <td>106.23</td>\n",
       "      <td>3.5</td>\n",
       "      <td>190</td>\n",
       "      <td>2.3</td>\n",
       "      <td>0</td>\n",
       "      <td>2019-01-01 00:00:00</td>\n",
       "    </tr>\n",
       "    <tr>\n",
       "      <th>3</th>\n",
       "      <td>3</td>\n",
       "      <td>18.4</td>\n",
       "      <td>18.6</td>\n",
       "      <td>1008</td>\n",
       "      <td>98.92</td>\n",
       "      <td>112.36</td>\n",
       "      <td>3.5</td>\n",
       "      <td>187</td>\n",
       "      <td>2.5</td>\n",
       "      <td>0</td>\n",
       "      <td>2019-01-01 00:30:00</td>\n",
       "    </tr>\n",
       "    <tr>\n",
       "      <th>4</th>\n",
       "      <td>3</td>\n",
       "      <td>18.2</td>\n",
       "      <td>18.5</td>\n",
       "      <td>1008</td>\n",
       "      <td>98.35</td>\n",
       "      <td>118.58</td>\n",
       "      <td>3.5</td>\n",
       "      <td>184</td>\n",
       "      <td>2.8</td>\n",
       "      <td>0</td>\n",
       "      <td>2019-01-01 01:00:00</td>\n",
       "    </tr>\n",
       "  </tbody>\n",
       "</table>\n",
       "</div>"
      ],
      "text/plain": [
       "   Cloud Type  Dew Point  Temperature  Pressure  Relative Humidity  \\\n",
       "0           7       18.7         19.2      1009              96.84   \n",
       "1           7       18.7         19.2      1009              96.84   \n",
       "2           7       18.4         18.8      1008              97.70   \n",
       "3           3       18.4         18.6      1008              98.92   \n",
       "4           3       18.2         18.5      1008              98.35   \n",
       "\n",
       "   Solar Zenith Angle  Precipitable Water  Wind Direction  Wind Speed  \\\n",
       "0               94.34                 3.7             206         2.1   \n",
       "1              100.22                 3.7             206         2.1   \n",
       "2              106.23                 3.5             190         2.3   \n",
       "3              112.36                 3.5             187         2.5   \n",
       "4              118.58                 3.5             184         2.8   \n",
       "\n",
       "   Fill Flag                Date  \n",
       "0          0 2018-12-31 23:00:00  \n",
       "1          0 2018-12-31 23:30:00  \n",
       "2          0 2019-01-01 00:00:00  \n",
       "3          0 2019-01-01 00:30:00  \n",
       "4          0 2019-01-01 01:00:00  "
      ]
     },
     "execution_count": 34,
     "metadata": {},
     "output_type": "execute_result"
    }
   ],
   "source": [
    "test.drop(test.iloc[:, :5], axis=1, inplace=True)\n",
    "test.head()"
   ]
  },
  {
   "cell_type": "code",
   "execution_count": 35,
   "id": "8f7000d9",
   "metadata": {
    "ExecuteTime": {
     "end_time": "2022-02-12T16:58:54.316247Z",
     "start_time": "2022-02-12T16:58:54.301288Z"
    }
   },
   "outputs": [
    {
     "data": {
      "text/plain": [
       "['Cloud Type',\n",
       " 'Dew Point',\n",
       " 'Temperature',\n",
       " 'Pressure',\n",
       " 'Relative Humidity',\n",
       " 'Solar Zenith Angle',\n",
       " 'Precipitable Water',\n",
       " 'Wind Direction',\n",
       " 'Wind Speed',\n",
       " 'Fill Flag',\n",
       " 'Date']"
      ]
     },
     "execution_count": 35,
     "metadata": {},
     "output_type": "execute_result"
    }
   ],
   "source": [
    "columns_list_test = []\n",
    "\n",
    "for cols in test.columns:\n",
    "    columns_list_test.append(cols)\n",
    "columns_list_test"
   ]
  },
  {
   "cell_type": "code",
   "execution_count": 36,
   "id": "d69c08a9",
   "metadata": {
    "ExecuteTime": {
     "end_time": "2022-02-12T16:58:54.332204Z",
     "start_time": "2022-02-12T16:58:54.317244Z"
    }
   },
   "outputs": [],
   "source": [
    "columns_list_test.pop()\n",
    "columns_list_test.insert(0, 'Date')"
   ]
  },
  {
   "cell_type": "code",
   "execution_count": 37,
   "id": "de1849f7",
   "metadata": {
    "ExecuteTime": {
     "end_time": "2022-02-12T16:58:54.348164Z",
     "start_time": "2022-02-12T16:58:54.333202Z"
    }
   },
   "outputs": [
    {
     "data": {
      "text/plain": [
       "['Date',\n",
       " 'Cloud Type',\n",
       " 'Dew Point',\n",
       " 'Temperature',\n",
       " 'Pressure',\n",
       " 'Relative Humidity',\n",
       " 'Solar Zenith Angle',\n",
       " 'Precipitable Water',\n",
       " 'Wind Direction',\n",
       " 'Wind Speed',\n",
       " 'Fill Flag']"
      ]
     },
     "execution_count": 37,
     "metadata": {},
     "output_type": "execute_result"
    }
   ],
   "source": [
    "columns_list_test"
   ]
  },
  {
   "cell_type": "code",
   "execution_count": 38,
   "id": "410ae715",
   "metadata": {
    "ExecuteTime": {
     "end_time": "2022-02-12T16:58:54.364119Z",
     "start_time": "2022-02-12T16:58:54.350158Z"
    }
   },
   "outputs": [
    {
     "data": {
      "text/html": [
       "<div>\n",
       "<style scoped>\n",
       "    .dataframe tbody tr th:only-of-type {\n",
       "        vertical-align: middle;\n",
       "    }\n",
       "\n",
       "    .dataframe tbody tr th {\n",
       "        vertical-align: top;\n",
       "    }\n",
       "\n",
       "    .dataframe thead th {\n",
       "        text-align: right;\n",
       "    }\n",
       "</style>\n",
       "<table border=\"1\" class=\"dataframe\">\n",
       "  <thead>\n",
       "    <tr style=\"text-align: right;\">\n",
       "      <th></th>\n",
       "      <th>Date</th>\n",
       "      <th>Cloud Type</th>\n",
       "      <th>Dew Point</th>\n",
       "      <th>Temperature</th>\n",
       "      <th>Pressure</th>\n",
       "      <th>Relative Humidity</th>\n",
       "      <th>Solar Zenith Angle</th>\n",
       "      <th>Precipitable Water</th>\n",
       "      <th>Wind Direction</th>\n",
       "      <th>Wind Speed</th>\n",
       "      <th>Fill Flag</th>\n",
       "    </tr>\n",
       "  </thead>\n",
       "  <tbody>\n",
       "    <tr>\n",
       "      <th>0</th>\n",
       "      <td>2018-12-31 23:00:00</td>\n",
       "      <td>7</td>\n",
       "      <td>18.7</td>\n",
       "      <td>19.2</td>\n",
       "      <td>1009</td>\n",
       "      <td>96.84</td>\n",
       "      <td>94.34</td>\n",
       "      <td>3.7</td>\n",
       "      <td>206</td>\n",
       "      <td>2.1</td>\n",
       "      <td>0</td>\n",
       "    </tr>\n",
       "    <tr>\n",
       "      <th>1</th>\n",
       "      <td>2018-12-31 23:30:00</td>\n",
       "      <td>7</td>\n",
       "      <td>18.7</td>\n",
       "      <td>19.2</td>\n",
       "      <td>1009</td>\n",
       "      <td>96.84</td>\n",
       "      <td>100.22</td>\n",
       "      <td>3.7</td>\n",
       "      <td>206</td>\n",
       "      <td>2.1</td>\n",
       "      <td>0</td>\n",
       "    </tr>\n",
       "    <tr>\n",
       "      <th>2</th>\n",
       "      <td>2019-01-01 00:00:00</td>\n",
       "      <td>7</td>\n",
       "      <td>18.4</td>\n",
       "      <td>18.8</td>\n",
       "      <td>1008</td>\n",
       "      <td>97.70</td>\n",
       "      <td>106.23</td>\n",
       "      <td>3.5</td>\n",
       "      <td>190</td>\n",
       "      <td>2.3</td>\n",
       "      <td>0</td>\n",
       "    </tr>\n",
       "    <tr>\n",
       "      <th>3</th>\n",
       "      <td>2019-01-01 00:30:00</td>\n",
       "      <td>3</td>\n",
       "      <td>18.4</td>\n",
       "      <td>18.6</td>\n",
       "      <td>1008</td>\n",
       "      <td>98.92</td>\n",
       "      <td>112.36</td>\n",
       "      <td>3.5</td>\n",
       "      <td>187</td>\n",
       "      <td>2.5</td>\n",
       "      <td>0</td>\n",
       "    </tr>\n",
       "    <tr>\n",
       "      <th>4</th>\n",
       "      <td>2019-01-01 01:00:00</td>\n",
       "      <td>3</td>\n",
       "      <td>18.2</td>\n",
       "      <td>18.5</td>\n",
       "      <td>1008</td>\n",
       "      <td>98.35</td>\n",
       "      <td>118.58</td>\n",
       "      <td>3.5</td>\n",
       "      <td>184</td>\n",
       "      <td>2.8</td>\n",
       "      <td>0</td>\n",
       "    </tr>\n",
       "  </tbody>\n",
       "</table>\n",
       "</div>"
      ],
      "text/plain": [
       "                 Date  Cloud Type  Dew Point  Temperature  Pressure  \\\n",
       "0 2018-12-31 23:00:00           7       18.7         19.2      1009   \n",
       "1 2018-12-31 23:30:00           7       18.7         19.2      1009   \n",
       "2 2019-01-01 00:00:00           7       18.4         18.8      1008   \n",
       "3 2019-01-01 00:30:00           3       18.4         18.6      1008   \n",
       "4 2019-01-01 01:00:00           3       18.2         18.5      1008   \n",
       "\n",
       "   Relative Humidity  Solar Zenith Angle  Precipitable Water  Wind Direction  \\\n",
       "0              96.84               94.34                 3.7             206   \n",
       "1              96.84              100.22                 3.7             206   \n",
       "2              97.70              106.23                 3.5             190   \n",
       "3              98.92              112.36                 3.5             187   \n",
       "4              98.35              118.58                 3.5             184   \n",
       "\n",
       "   Wind Speed  Fill Flag  \n",
       "0         2.1          0  \n",
       "1         2.1          0  \n",
       "2         2.3          0  \n",
       "3         2.5          0  \n",
       "4         2.8          0  "
      ]
     },
     "execution_count": 38,
     "metadata": {},
     "output_type": "execute_result"
    }
   ],
   "source": [
    "test = pd.DataFrame(test, columns=columns_list_test)\n",
    "test.head()"
   ]
  },
  {
   "cell_type": "code",
   "execution_count": 39,
   "id": "2988beb9",
   "metadata": {
    "ExecuteTime": {
     "end_time": "2022-02-12T16:58:54.380077Z",
     "start_time": "2022-02-12T16:58:54.365117Z"
    }
   },
   "outputs": [
    {
     "data": {
      "text/html": [
       "<div>\n",
       "<style scoped>\n",
       "    .dataframe tbody tr th:only-of-type {\n",
       "        vertical-align: middle;\n",
       "    }\n",
       "\n",
       "    .dataframe tbody tr th {\n",
       "        vertical-align: top;\n",
       "    }\n",
       "\n",
       "    .dataframe thead th {\n",
       "        text-align: right;\n",
       "    }\n",
       "</style>\n",
       "<table border=\"1\" class=\"dataframe\">\n",
       "  <thead>\n",
       "    <tr style=\"text-align: right;\">\n",
       "      <th></th>\n",
       "      <th>Date</th>\n",
       "      <th>Cloud Type</th>\n",
       "      <th>Dew Point</th>\n",
       "      <th>Pressure</th>\n",
       "      <th>Relative Humidity</th>\n",
       "      <th>Solar Zenith Angle</th>\n",
       "      <th>Wind Direction</th>\n",
       "      <th>Wind Speed</th>\n",
       "      <th>Fill Flag</th>\n",
       "    </tr>\n",
       "  </thead>\n",
       "  <tbody>\n",
       "    <tr>\n",
       "      <th>0</th>\n",
       "      <td>2018-12-31 23:00:00</td>\n",
       "      <td>7</td>\n",
       "      <td>18.7</td>\n",
       "      <td>1009</td>\n",
       "      <td>96.84</td>\n",
       "      <td>94.34</td>\n",
       "      <td>206</td>\n",
       "      <td>2.1</td>\n",
       "      <td>0</td>\n",
       "    </tr>\n",
       "    <tr>\n",
       "      <th>1</th>\n",
       "      <td>2018-12-31 23:30:00</td>\n",
       "      <td>7</td>\n",
       "      <td>18.7</td>\n",
       "      <td>1009</td>\n",
       "      <td>96.84</td>\n",
       "      <td>100.22</td>\n",
       "      <td>206</td>\n",
       "      <td>2.1</td>\n",
       "      <td>0</td>\n",
       "    </tr>\n",
       "    <tr>\n",
       "      <th>2</th>\n",
       "      <td>2019-01-01 00:00:00</td>\n",
       "      <td>7</td>\n",
       "      <td>18.4</td>\n",
       "      <td>1008</td>\n",
       "      <td>97.70</td>\n",
       "      <td>106.23</td>\n",
       "      <td>190</td>\n",
       "      <td>2.3</td>\n",
       "      <td>0</td>\n",
       "    </tr>\n",
       "    <tr>\n",
       "      <th>3</th>\n",
       "      <td>2019-01-01 00:30:00</td>\n",
       "      <td>3</td>\n",
       "      <td>18.4</td>\n",
       "      <td>1008</td>\n",
       "      <td>98.92</td>\n",
       "      <td>112.36</td>\n",
       "      <td>187</td>\n",
       "      <td>2.5</td>\n",
       "      <td>0</td>\n",
       "    </tr>\n",
       "    <tr>\n",
       "      <th>4</th>\n",
       "      <td>2019-01-01 01:00:00</td>\n",
       "      <td>3</td>\n",
       "      <td>18.2</td>\n",
       "      <td>1008</td>\n",
       "      <td>98.35</td>\n",
       "      <td>118.58</td>\n",
       "      <td>184</td>\n",
       "      <td>2.8</td>\n",
       "      <td>0</td>\n",
       "    </tr>\n",
       "  </tbody>\n",
       "</table>\n",
       "</div>"
      ],
      "text/plain": [
       "                 Date  Cloud Type  Dew Point  Pressure  Relative Humidity  \\\n",
       "0 2018-12-31 23:00:00           7       18.7      1009              96.84   \n",
       "1 2018-12-31 23:30:00           7       18.7      1009              96.84   \n",
       "2 2019-01-01 00:00:00           7       18.4      1008              97.70   \n",
       "3 2019-01-01 00:30:00           3       18.4      1008              98.92   \n",
       "4 2019-01-01 01:00:00           3       18.2      1008              98.35   \n",
       "\n",
       "   Solar Zenith Angle  Wind Direction  Wind Speed  Fill Flag  \n",
       "0               94.34             206         2.1          0  \n",
       "1              100.22             206         2.1          0  \n",
       "2              106.23             190         2.3          0  \n",
       "3              112.36             187         2.5          0  \n",
       "4              118.58             184         2.8          0  "
      ]
     },
     "execution_count": 39,
     "metadata": {},
     "output_type": "execute_result"
    }
   ],
   "source": [
    "test.drop(columns=['Temperature', 'Precipitable Water'], axis=1, inplace=True)\n",
    "test.head()"
   ]
  },
  {
   "cell_type": "code",
   "execution_count": 40,
   "id": "f2f424b6",
   "metadata": {
    "ExecuteTime": {
     "end_time": "2022-02-12T16:58:54.396033Z",
     "start_time": "2022-02-12T16:58:54.381074Z"
    }
   },
   "outputs": [
    {
     "data": {
      "text/plain": [
       "(17522, 9)"
      ]
     },
     "execution_count": 40,
     "metadata": {},
     "output_type": "execute_result"
    }
   ],
   "source": [
    "test.shape"
   ]
  },
  {
   "cell_type": "code",
   "execution_count": 41,
   "id": "052fd5cd",
   "metadata": {
    "ExecuteTime": {
     "end_time": "2022-02-12T16:58:54.410994Z",
     "start_time": "2022-02-12T16:58:54.397033Z"
    }
   },
   "outputs": [
    {
     "data": {
      "text/html": [
       "<div>\n",
       "<style scoped>\n",
       "    .dataframe tbody tr th:only-of-type {\n",
       "        vertical-align: middle;\n",
       "    }\n",
       "\n",
       "    .dataframe tbody tr th {\n",
       "        vertical-align: top;\n",
       "    }\n",
       "\n",
       "    .dataframe thead th {\n",
       "        text-align: right;\n",
       "    }\n",
       "</style>\n",
       "<table border=\"1\" class=\"dataframe\">\n",
       "  <thead>\n",
       "    <tr style=\"text-align: right;\">\n",
       "      <th></th>\n",
       "      <th>Cloud Type</th>\n",
       "      <th>Dew Point</th>\n",
       "      <th>Pressure</th>\n",
       "      <th>Relative Humidity</th>\n",
       "      <th>Solar Zenith Angle</th>\n",
       "      <th>Wind Direction</th>\n",
       "      <th>Wind Speed</th>\n",
       "      <th>Fill Flag</th>\n",
       "    </tr>\n",
       "  </thead>\n",
       "  <tbody>\n",
       "    <tr>\n",
       "      <th>0</th>\n",
       "      <td>7</td>\n",
       "      <td>18.7</td>\n",
       "      <td>1009</td>\n",
       "      <td>96.84</td>\n",
       "      <td>94.34</td>\n",
       "      <td>206</td>\n",
       "      <td>2.1</td>\n",
       "      <td>0</td>\n",
       "    </tr>\n",
       "    <tr>\n",
       "      <th>1</th>\n",
       "      <td>7</td>\n",
       "      <td>18.7</td>\n",
       "      <td>1009</td>\n",
       "      <td>96.84</td>\n",
       "      <td>100.22</td>\n",
       "      <td>206</td>\n",
       "      <td>2.1</td>\n",
       "      <td>0</td>\n",
       "    </tr>\n",
       "    <tr>\n",
       "      <th>2</th>\n",
       "      <td>7</td>\n",
       "      <td>18.4</td>\n",
       "      <td>1008</td>\n",
       "      <td>97.70</td>\n",
       "      <td>106.23</td>\n",
       "      <td>190</td>\n",
       "      <td>2.3</td>\n",
       "      <td>0</td>\n",
       "    </tr>\n",
       "    <tr>\n",
       "      <th>3</th>\n",
       "      <td>3</td>\n",
       "      <td>18.4</td>\n",
       "      <td>1008</td>\n",
       "      <td>98.92</td>\n",
       "      <td>112.36</td>\n",
       "      <td>187</td>\n",
       "      <td>2.5</td>\n",
       "      <td>0</td>\n",
       "    </tr>\n",
       "    <tr>\n",
       "      <th>4</th>\n",
       "      <td>3</td>\n",
       "      <td>18.2</td>\n",
       "      <td>1008</td>\n",
       "      <td>98.35</td>\n",
       "      <td>118.58</td>\n",
       "      <td>184</td>\n",
       "      <td>2.8</td>\n",
       "      <td>0</td>\n",
       "    </tr>\n",
       "  </tbody>\n",
       "</table>\n",
       "</div>"
      ],
      "text/plain": [
       "   Cloud Type  Dew Point  Pressure  Relative Humidity  Solar Zenith Angle  \\\n",
       "0           7       18.7      1009              96.84               94.34   \n",
       "1           7       18.7      1009              96.84              100.22   \n",
       "2           7       18.4      1008              97.70              106.23   \n",
       "3           3       18.4      1008              98.92              112.36   \n",
       "4           3       18.2      1008              98.35              118.58   \n",
       "\n",
       "   Wind Direction  Wind Speed  Fill Flag  \n",
       "0             206         2.1          0  \n",
       "1             206         2.1          0  \n",
       "2             190         2.3          0  \n",
       "3             187         2.5          0  \n",
       "4             184         2.8          0  "
      ]
     },
     "execution_count": 41,
     "metadata": {},
     "output_type": "execute_result"
    }
   ],
   "source": [
    "x_test_df = test.iloc[:, 1:]\n",
    "x_test_df.head()"
   ]
  },
  {
   "cell_type": "code",
   "execution_count": 42,
   "id": "7988fd81",
   "metadata": {
    "ExecuteTime": {
     "end_time": "2022-02-12T16:58:54.425990Z",
     "start_time": "2022-02-12T16:58:54.411992Z"
    }
   },
   "outputs": [
    {
     "data": {
      "text/plain": [
       "array([[0.77777778, 0.79651163, 0.6       , ..., 0.57222222, 0.24691358,\n",
       "        0.        ],\n",
       "       [0.77777778, 0.79651163, 0.6       , ..., 0.57222222, 0.24691358,\n",
       "        0.        ],\n",
       "       [0.77777778, 0.7877907 , 0.57142857, ..., 0.52777778, 0.27160494,\n",
       "        0.        ],\n",
       "       ...,\n",
       "       [0.        , 0.41860465, 0.51428571, ..., 0.75833333, 0.20987654,\n",
       "        0.        ],\n",
       "       [0.        , 0.39244186, 0.51428571, ..., 0.75555556, 0.20987654,\n",
       "        0.        ],\n",
       "       [0.        , 0.39244186, 0.51428571, ..., 0.75555556, 0.20987654,\n",
       "        0.        ]])"
      ]
     },
     "execution_count": 42,
     "metadata": {},
     "output_type": "execute_result"
    }
   ],
   "source": [
    "x_test_scaled = scaler_x.fit_transform(x_test_df)\n",
    "x_test_scaled"
   ]
  },
  {
   "cell_type": "code",
   "execution_count": 43,
   "id": "5b91df13",
   "metadata": {
    "ExecuteTime": {
     "end_time": "2022-02-12T16:58:54.441910Z",
     "start_time": "2022-02-12T16:58:54.426951Z"
    }
   },
   "outputs": [
    {
     "data": {
      "text/plain": [
       "17522"
      ]
     },
     "execution_count": 43,
     "metadata": {},
     "output_type": "execute_result"
    }
   ],
   "source": [
    "x_test_scaled.shape[0]"
   ]
  },
  {
   "cell_type": "code",
   "execution_count": 44,
   "id": "3bbe9f19",
   "metadata": {
    "ExecuteTime": {
     "end_time": "2022-02-12T16:58:54.457869Z",
     "start_time": "2022-02-12T16:58:54.442909Z"
    }
   },
   "outputs": [],
   "source": [
    "x_test = []\n",
    "\n",
    "for i in range(2, x_test_scaled.shape[0]):\n",
    "    x_test.append(x_test_scaled[i-2 : i])"
   ]
  },
  {
   "cell_type": "code",
   "execution_count": 45,
   "id": "5c7edae3",
   "metadata": {
    "ExecuteTime": {
     "end_time": "2022-02-12T16:58:54.473825Z",
     "start_time": "2022-02-12T16:58:54.458866Z"
    }
   },
   "outputs": [
    {
     "data": {
      "text/plain": [
       "(17520, 2, 8)"
      ]
     },
     "execution_count": 45,
     "metadata": {},
     "output_type": "execute_result"
    }
   ],
   "source": [
    "len(x_test), len(x_test[0]), len(x_test[0][0])"
   ]
  },
  {
   "cell_type": "code",
   "execution_count": 46,
   "id": "0b9cd08d",
   "metadata": {
    "ExecuteTime": {
     "end_time": "2022-02-12T16:58:54.489784Z",
     "start_time": "2022-02-12T16:58:54.474822Z"
    }
   },
   "outputs": [
    {
     "data": {
      "text/plain": [
       "(17520, 2, 8)"
      ]
     },
     "execution_count": 46,
     "metadata": {},
     "output_type": "execute_result"
    }
   ],
   "source": [
    "x_test = np.array(x_test)\n",
    "x_test.shape"
   ]
  },
  {
   "cell_type": "markdown",
   "id": "442f38c4",
   "metadata": {},
   "source": [
    "# Making sure all arrays are of the right shape"
   ]
  },
  {
   "cell_type": "code",
   "execution_count": 47,
   "id": "2195335e",
   "metadata": {
    "ExecuteTime": {
     "end_time": "2022-02-12T16:58:54.504777Z",
     "start_time": "2022-02-12T16:58:54.490784Z"
    }
   },
   "outputs": [
    {
     "data": {
      "text/plain": [
       "(157764, 2, 8)"
      ]
     },
     "execution_count": 47,
     "metadata": {},
     "output_type": "execute_result"
    }
   ],
   "source": [
    "x_train.shape"
   ]
  },
  {
   "cell_type": "code",
   "execution_count": 48,
   "id": "8c3c1d84",
   "metadata": {
    "ExecuteTime": {
     "end_time": "2022-02-12T16:58:54.520701Z",
     "start_time": "2022-02-12T16:58:54.505739Z"
    }
   },
   "outputs": [
    {
     "data": {
      "text/plain": [
       "(157764, 3)"
      ]
     },
     "execution_count": 48,
     "metadata": {},
     "output_type": "execute_result"
    }
   ],
   "source": [
    "y_train.shape"
   ]
  },
  {
   "cell_type": "code",
   "execution_count": 49,
   "id": "932a33f1",
   "metadata": {
    "ExecuteTime": {
     "end_time": "2022-02-12T16:58:54.536658Z",
     "start_time": "2022-02-12T16:58:54.521697Z"
    }
   },
   "outputs": [
    {
     "data": {
      "text/plain": [
       "(17530, 2, 8)"
      ]
     },
     "execution_count": 49,
     "metadata": {},
     "output_type": "execute_result"
    }
   ],
   "source": [
    "x_val.shape"
   ]
  },
  {
   "cell_type": "code",
   "execution_count": 50,
   "id": "77d6d256",
   "metadata": {
    "ExecuteTime": {
     "end_time": "2022-02-12T16:58:54.552615Z",
     "start_time": "2022-02-12T16:58:54.537655Z"
    }
   },
   "outputs": [
    {
     "data": {
      "text/plain": [
       "(17530, 3)"
      ]
     },
     "execution_count": 50,
     "metadata": {},
     "output_type": "execute_result"
    }
   ],
   "source": [
    "y_val.shape"
   ]
  },
  {
   "cell_type": "code",
   "execution_count": 51,
   "id": "cae552a3",
   "metadata": {
    "ExecuteTime": {
     "end_time": "2022-02-12T16:58:54.568572Z",
     "start_time": "2022-02-12T16:58:54.554611Z"
    }
   },
   "outputs": [
    {
     "data": {
      "text/plain": [
       "(17520, 2, 8)"
      ]
     },
     "execution_count": 51,
     "metadata": {},
     "output_type": "execute_result"
    }
   ],
   "source": [
    "x_test.shape"
   ]
  },
  {
   "cell_type": "markdown",
   "id": "42ca8a60",
   "metadata": {},
   "source": [
    "# Creating RNN model"
   ]
  },
  {
   "cell_type": "code",
   "execution_count": 52,
   "id": "7125a63f",
   "metadata": {
    "ExecuteTime": {
     "end_time": "2022-02-12T16:58:57.067983Z",
     "start_time": "2022-02-12T16:58:54.569576Z"
    }
   },
   "outputs": [],
   "source": [
    "import tensorflow as tf\n",
    "from tensorflow.keras.models import Model\n",
    "from tensorflow.keras.layers import SimpleRNN, LSTM, Dense, Input, Dropout\n",
    "from tensorflow.keras.optimizers import Adam\n",
    "from tensorflow.keras.callbacks import EarlyStopping"
   ]
  },
  {
   "cell_type": "code",
   "execution_count": 53,
   "id": "26426069",
   "metadata": {
    "ExecuteTime": {
     "end_time": "2022-02-12T16:58:58.106433Z",
     "start_time": "2022-02-12T16:58:57.068991Z"
    }
   },
   "outputs": [],
   "source": [
    "i = Input(shape=x_train[0].shape)\n",
    "x = LSTM(256) (i)\n",
    "x = Dropout(0.2) (x)\n",
    "x = Dense(3) (x)\n",
    "\n",
    "model = Model(i, x)"
   ]
  },
  {
   "cell_type": "code",
   "execution_count": 54,
   "id": "9b45f305",
   "metadata": {
    "ExecuteTime": {
     "end_time": "2022-02-12T16:58:58.122352Z",
     "start_time": "2022-02-12T16:58:58.107391Z"
    }
   },
   "outputs": [
    {
     "name": "stdout",
     "output_type": "stream",
     "text": [
      "Model: \"model\"\n",
      "_________________________________________________________________\n",
      " Layer (type)                Output Shape              Param #   \n",
      "=================================================================\n",
      " input_1 (InputLayer)        [(None, 2, 8)]            0         \n",
      "                                                                 \n",
      " lstm (LSTM)                 (None, 256)               271360    \n",
      "                                                                 \n",
      " dropout (Dropout)           (None, 256)               0         \n",
      "                                                                 \n",
      " dense (Dense)               (None, 3)                 771       \n",
      "                                                                 \n",
      "=================================================================\n",
      "Total params: 272,131\n",
      "Trainable params: 272,131\n",
      "Non-trainable params: 0\n",
      "_________________________________________________________________\n"
     ]
    }
   ],
   "source": [
    "model.summary()"
   ]
  },
  {
   "cell_type": "code",
   "execution_count": 55,
   "id": "23e70e5c",
   "metadata": {
    "ExecuteTime": {
     "end_time": "2022-02-12T16:58:58.138310Z",
     "start_time": "2022-02-12T16:58:58.123351Z"
    }
   },
   "outputs": [],
   "source": [
    "model.compile(optimizer=Adam(learning_rate=0.001), loss='mse')"
   ]
  },
  {
   "cell_type": "code",
   "execution_count": 56,
   "id": "5dacd7f3",
   "metadata": {
    "ExecuteTime": {
     "end_time": "2022-02-12T17:03:38.127258Z",
     "start_time": "2022-02-12T16:58:58.139306Z"
    }
   },
   "outputs": [
    {
     "name": "stdout",
     "output_type": "stream",
     "text": [
      "Epoch 1/100\n",
      "4931/4931 [==============================] - 35s 4ms/step - loss: 0.0073 - val_loss: 0.0296\n",
      "Epoch 2/100\n",
      "4931/4931 [==============================] - 16s 3ms/step - loss: 0.0026 - val_loss: 0.0214\n",
      "Epoch 3/100\n",
      "4931/4931 [==============================] - 20s 4ms/step - loss: 0.0018 - val_loss: 0.0039\n",
      "Epoch 4/100\n",
      "4931/4931 [==============================] - 16s 3ms/step - loss: 0.0016 - val_loss: 0.0023\n",
      "Epoch 5/100\n",
      "4931/4931 [==============================] - 16s 3ms/step - loss: 0.0016 - val_loss: 0.0022\n",
      "Epoch 6/100\n",
      "4931/4931 [==============================] - 17s 3ms/step - loss: 0.0015 - val_loss: 0.0019\n",
      "Epoch 7/100\n",
      "4931/4931 [==============================] - 16s 3ms/step - loss: 0.0015 - val_loss: 0.0024\n",
      "Epoch 8/100\n",
      "4931/4931 [==============================] - 16s 3ms/step - loss: 0.0015 - val_loss: 0.0025\n",
      "Epoch 9/100\n",
      "4931/4931 [==============================] - 16s 3ms/step - loss: 0.0014 - val_loss: 0.0024\n",
      "Epoch 10/100\n",
      "4931/4931 [==============================] - 16s 3ms/step - loss: 0.0014 - val_loss: 0.0023\n",
      "Epoch 11/100\n",
      "4931/4931 [==============================] - 16s 3ms/step - loss: 0.0014 - val_loss: 0.0031\n",
      "Epoch 12/100\n",
      "4931/4931 [==============================] - 16s 3ms/step - loss: 0.0014 - val_loss: 0.0031\n",
      "Epoch 13/100\n",
      "4931/4931 [==============================] - 16s 3ms/step - loss: 0.0014 - val_loss: 0.0032\n",
      "Epoch 14/100\n",
      "4931/4931 [==============================] - 16s 3ms/step - loss: 0.0014 - val_loss: 0.0029\n",
      "Epoch 15/100\n",
      "4931/4931 [==============================] - 15s 3ms/step - loss: 0.0014 - val_loss: 0.0028\n",
      "Epoch 16/100\n",
      "4924/4931 [============================>.] - ETA: 0s - loss: 0.0014Restoring model weights from the end of the best epoch: 6.\n",
      "4931/4931 [==============================] - 18s 4ms/step - loss: 0.0014 - val_loss: 0.0027\n",
      "Epoch 16: early stopping\n"
     ]
    }
   ],
   "source": [
    "es = EarlyStopping(monitor='val_loss', mode='min', verbose=1, patience=10, restore_best_weights=True)\n",
    "r = model.fit(x_train, y_train, validation_data=(x_val, y_val), epochs=100, callbacks=[es])"
   ]
  },
  {
   "cell_type": "code",
   "execution_count": 57,
   "id": "a63916ad",
   "metadata": {
    "ExecuteTime": {
     "end_time": "2022-02-12T17:03:39.109252Z",
     "start_time": "2022-02-12T17:03:38.131577Z"
    }
   },
   "outputs": [],
   "source": [
    "y_pred = model.predict(x_test)"
   ]
  },
  {
   "cell_type": "code",
   "execution_count": 58,
   "id": "0ff8969b",
   "metadata": {
    "ExecuteTime": {
     "end_time": "2022-02-12T17:03:39.124073Z",
     "start_time": "2022-02-12T17:03:39.110244Z"
    }
   },
   "outputs": [
    {
     "data": {
      "text/plain": [
       "array([[ 7.1112439e-03,  2.3239255e-02,  1.1651799e-02],\n",
       "       [ 1.6862229e-03,  4.8983693e-03,  4.1227192e-03],\n",
       "       [-1.1306778e-03, -8.9491606e-03,  9.6574426e-05],\n",
       "       ...,\n",
       "       [ 2.0670809e-02,  1.5142891e-01,  3.2890663e-02],\n",
       "       [-2.1984354e-03,  7.0209265e-02,  1.0957792e-02],\n",
       "       [-1.4244020e-02,  1.5867770e-02, -3.0731410e-03]], dtype=float32)"
      ]
     },
     "execution_count": 58,
     "metadata": {},
     "output_type": "execute_result"
    }
   ],
   "source": [
    "y_pred"
   ]
  },
  {
   "cell_type": "code",
   "execution_count": 59,
   "id": "7a5333c3",
   "metadata": {
    "ExecuteTime": {
     "end_time": "2022-02-12T17:03:39.139427Z",
     "start_time": "2022-02-12T17:03:39.125074Z"
    }
   },
   "outputs": [
    {
     "data": {
      "text/plain": [
       "(17520, 3)"
      ]
     },
     "execution_count": 59,
     "metadata": {},
     "output_type": "execute_result"
    }
   ],
   "source": [
    "len(y_pred), len(y_pred[0])"
   ]
  },
  {
   "cell_type": "code",
   "execution_count": 60,
   "id": "0af9379f",
   "metadata": {
    "ExecuteTime": {
     "end_time": "2022-02-12T17:03:39.154495Z",
     "start_time": "2022-02-12T17:03:39.141417Z"
    }
   },
   "outputs": [
    {
     "data": {
      "text/plain": [
       "array([0.00176991, 0.00096154, 0.00094073])"
      ]
     },
     "execution_count": 60,
     "metadata": {},
     "output_type": "execute_result"
    }
   ],
   "source": [
    "scaler_y.scale_"
   ]
  },
  {
   "cell_type": "code",
   "execution_count": 61,
   "id": "c88b2afc",
   "metadata": {
    "ExecuteTime": {
     "end_time": "2022-02-12T17:03:39.170247Z",
     "start_time": "2022-02-12T17:03:39.157392Z"
    }
   },
   "outputs": [
    {
     "data": {
      "text/plain": [
       "array([[ 4.01785278e+00,  2.41688251e+01,  1.23858624e+01],\n",
       "       [ 9.52715933e-01,  5.09430408e+00,  4.38245058e+00],\n",
       "       [-6.38832927e-01, -9.30712700e+00,  1.02658615e-01],\n",
       "       ...,\n",
       "       [ 1.16790066e+01,  1.57486069e+02,  3.49627762e+01],\n",
       "       [-1.24211597e+00,  7.30176392e+01,  1.16481333e+01],\n",
       "       [-8.04787159e+00,  1.65024796e+01, -3.26674891e+00]], dtype=float32)"
      ]
     },
     "execution_count": 61,
     "metadata": {},
     "output_type": "execute_result"
    }
   ],
   "source": [
    "y_pred = scaler_y.inverse_transform(y_pred)\n",
    "y_pred"
   ]
  },
  {
   "cell_type": "code",
   "execution_count": 62,
   "id": "878c222b",
   "metadata": {
    "ExecuteTime": {
     "end_time": "2022-02-12T17:03:39.185423Z",
     "start_time": "2022-02-12T17:03:39.171241Z"
    }
   },
   "outputs": [
    {
     "data": {
      "text/plain": [
       "17520"
      ]
     },
     "execution_count": 62,
     "metadata": {},
     "output_type": "execute_result"
    }
   ],
   "source": [
    "len(y_pred)"
   ]
  },
  {
   "cell_type": "code",
   "execution_count": 63,
   "id": "4383af90",
   "metadata": {
    "ExecuteTime": {
     "end_time": "2022-02-12T17:03:39.281262Z",
     "start_time": "2022-02-12T17:03:39.187422Z"
    }
   },
   "outputs": [
    {
     "data": {
      "text/plain": [
       "52560"
      ]
     },
     "execution_count": 63,
     "metadata": {},
     "output_type": "execute_result"
    }
   ],
   "source": [
    "new_y_pred = []\n",
    "for rows in y_pred:\n",
    "    for element in rows:\n",
    "        if element < 0:\n",
    "            element = 0\n",
    "        new_y_pred.append(element)\n",
    "len(new_y_pred)"
   ]
  },
  {
   "cell_type": "code",
   "execution_count": 64,
   "id": "a52d1b0d",
   "metadata": {
    "ExecuteTime": {
     "end_time": "2022-02-12T17:03:39.296279Z",
     "start_time": "2022-02-12T17:03:39.282228Z"
    }
   },
   "outputs": [
    {
     "data": {
      "text/plain": [
       "array([[4.01785278e+00, 2.41688251e+01, 1.23858624e+01],\n",
       "       [9.52715933e-01, 5.09430408e+00, 4.38245058e+00],\n",
       "       [0.00000000e+00, 0.00000000e+00, 1.02658615e-01],\n",
       "       ...,\n",
       "       [1.16790066e+01, 1.57486069e+02, 3.49627762e+01],\n",
       "       [0.00000000e+00, 7.30176392e+01, 1.16481333e+01],\n",
       "       [0.00000000e+00, 1.65024796e+01, 0.00000000e+00]])"
      ]
     },
     "execution_count": 64,
     "metadata": {},
     "output_type": "execute_result"
    }
   ],
   "source": [
    "y_pred = np.array(new_y_pred).reshape(len(y_pred), 3)\n",
    "y_pred"
   ]
  },
  {
   "cell_type": "code",
   "execution_count": 65,
   "id": "6652b7ac",
   "metadata": {
    "ExecuteTime": {
     "end_time": "2022-02-12T17:03:39.343548Z",
     "start_time": "2022-02-12T17:03:39.297238Z"
    }
   },
   "outputs": [
    {
     "data": {
      "text/html": [
       "<div>\n",
       "<style scoped>\n",
       "    .dataframe tbody tr th:only-of-type {\n",
       "        vertical-align: middle;\n",
       "    }\n",
       "\n",
       "    .dataframe tbody tr th {\n",
       "        vertical-align: top;\n",
       "    }\n",
       "\n",
       "    .dataframe thead th {\n",
       "        text-align: right;\n",
       "    }\n",
       "</style>\n",
       "<table border=\"1\" class=\"dataframe\">\n",
       "  <thead>\n",
       "    <tr style=\"text-align: right;\">\n",
       "      <th></th>\n",
       "      <th>Clearsky DHI</th>\n",
       "      <th>Clearsky DNI</th>\n",
       "      <th>Clearsky GHI</th>\n",
       "    </tr>\n",
       "  </thead>\n",
       "  <tbody>\n",
       "    <tr>\n",
       "      <th>0</th>\n",
       "      <td>4.017853</td>\n",
       "      <td>24.168825</td>\n",
       "      <td>12.385862</td>\n",
       "    </tr>\n",
       "    <tr>\n",
       "      <th>1</th>\n",
       "      <td>0.952716</td>\n",
       "      <td>5.094304</td>\n",
       "      <td>4.382451</td>\n",
       "    </tr>\n",
       "    <tr>\n",
       "      <th>2</th>\n",
       "      <td>0.000000</td>\n",
       "      <td>0.000000</td>\n",
       "      <td>0.102659</td>\n",
       "    </tr>\n",
       "    <tr>\n",
       "      <th>3</th>\n",
       "      <td>0.397026</td>\n",
       "      <td>0.000000</td>\n",
       "      <td>5.951111</td>\n",
       "    </tr>\n",
       "    <tr>\n",
       "      <th>4</th>\n",
       "      <td>1.651405</td>\n",
       "      <td>5.070252</td>\n",
       "      <td>11.990910</td>\n",
       "    </tr>\n",
       "    <tr>\n",
       "      <th>...</th>\n",
       "      <td>...</td>\n",
       "      <td>...</td>\n",
       "      <td>...</td>\n",
       "    </tr>\n",
       "    <tr>\n",
       "      <th>17515</th>\n",
       "      <td>46.943134</td>\n",
       "      <td>601.716553</td>\n",
       "      <td>168.659088</td>\n",
       "    </tr>\n",
       "    <tr>\n",
       "      <th>17516</th>\n",
       "      <td>31.312468</td>\n",
       "      <td>403.827454</td>\n",
       "      <td>93.059883</td>\n",
       "    </tr>\n",
       "    <tr>\n",
       "      <th>17517</th>\n",
       "      <td>11.679007</td>\n",
       "      <td>157.486069</td>\n",
       "      <td>34.962776</td>\n",
       "    </tr>\n",
       "    <tr>\n",
       "      <th>17518</th>\n",
       "      <td>0.000000</td>\n",
       "      <td>73.017639</td>\n",
       "      <td>11.648133</td>\n",
       "    </tr>\n",
       "    <tr>\n",
       "      <th>17519</th>\n",
       "      <td>0.000000</td>\n",
       "      <td>16.502480</td>\n",
       "      <td>0.000000</td>\n",
       "    </tr>\n",
       "  </tbody>\n",
       "</table>\n",
       "<p>17520 rows × 3 columns</p>\n",
       "</div>"
      ],
      "text/plain": [
       "       Clearsky DHI  Clearsky DNI  Clearsky GHI\n",
       "0          4.017853     24.168825     12.385862\n",
       "1          0.952716      5.094304      4.382451\n",
       "2          0.000000      0.000000      0.102659\n",
       "3          0.397026      0.000000      5.951111\n",
       "4          1.651405      5.070252     11.990910\n",
       "...             ...           ...           ...\n",
       "17515     46.943134    601.716553    168.659088\n",
       "17516     31.312468    403.827454     93.059883\n",
       "17517     11.679007    157.486069     34.962776\n",
       "17518      0.000000     73.017639     11.648133\n",
       "17519      0.000000     16.502480      0.000000\n",
       "\n",
       "[17520 rows x 3 columns]"
      ]
     },
     "execution_count": 65,
     "metadata": {},
     "output_type": "execute_result"
    }
   ],
   "source": [
    "y_pred = pd.DataFrame(y_pred, columns=['Clearsky DHI', 'Clearsky DNI', 'Clearsky GHI'])\n",
    "y_pred"
   ]
  },
  {
   "cell_type": "code",
   "execution_count": 66,
   "id": "8ba9c141",
   "metadata": {
    "ExecuteTime": {
     "end_time": "2022-02-12T17:03:39.452175Z",
     "start_time": "2022-02-12T17:03:39.345542Z"
    }
   },
   "outputs": [],
   "source": [
    "y_pred.to_csv('submission_file-LSTM.csv', index=False)"
   ]
  }
 ],
 "metadata": {
  "kernelspec": {
   "display_name": "Python 3 (ipykernel)",
   "language": "python",
   "name": "python3"
  },
  "language_info": {
   "codemirror_mode": {
    "name": "ipython",
    "version": 3
   },
   "file_extension": ".py",
   "mimetype": "text/x-python",
   "name": "python",
   "nbconvert_exporter": "python",
   "pygments_lexer": "ipython3",
   "version": "3.9.7"
  },
  "latex_envs": {
   "LaTeX_envs_menu_present": true,
   "autoclose": false,
   "autocomplete": true,
   "bibliofile": "biblio.bib",
   "cite_by": "apalike",
   "current_citInitial": 1,
   "eqLabelWithNumbers": true,
   "eqNumInitial": 1,
   "hotkeys": {
    "equation": "Ctrl-E",
    "itemize": "Ctrl-I"
   },
   "labels_anchors": false,
   "latex_user_defs": false,
   "report_style_numbering": false,
   "user_envs_cfg": false
  },
  "toc": {
   "base_numbering": 1,
   "nav_menu": {},
   "number_sections": true,
   "sideBar": true,
   "skip_h1_title": false,
   "title_cell": "Table of Contents",
   "title_sidebar": "Contents",
   "toc_cell": false,
   "toc_position": {},
   "toc_section_display": true,
   "toc_window_display": false
  },
  "varInspector": {
   "cols": {
    "lenName": 16,
    "lenType": 16,
    "lenVar": 40
   },
   "kernels_config": {
    "python": {
     "delete_cmd_postfix": "",
     "delete_cmd_prefix": "del ",
     "library": "var_list.py",
     "varRefreshCmd": "print(var_dic_list())"
    },
    "r": {
     "delete_cmd_postfix": ") ",
     "delete_cmd_prefix": "rm(",
     "library": "var_list.r",
     "varRefreshCmd": "cat(var_dic_list()) "
    }
   },
   "types_to_exclude": [
    "module",
    "function",
    "builtin_function_or_method",
    "instance",
    "_Feature"
   ],
   "window_display": false
  }
 },
 "nbformat": 4,
 "nbformat_minor": 5
}
