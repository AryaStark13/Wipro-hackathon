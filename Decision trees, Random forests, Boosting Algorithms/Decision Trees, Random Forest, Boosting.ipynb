{
 "cells": [
  {
   "cell_type": "code",
   "execution_count": 1,
   "id": "b3937287",
   "metadata": {
    "ExecuteTime": {
     "end_time": "2022-02-22T06:14:48.451915Z",
     "start_time": "2022-02-22T06:14:46.249655Z"
    }
   },
   "outputs": [],
   "source": [
    "import pandas as pd\n",
    "import numpy as np\n",
    "import matplotlib.pyplot as plt\n",
    "import seaborn as sns"
   ]
  },
  {
   "cell_type": "markdown",
   "id": "9a29a899",
   "metadata": {
    "ExecuteTime": {
     "end_time": "2022-02-20T07:38:59.448925Z",
     "start_time": "2022-02-20T07:38:59.432967Z"
    }
   },
   "source": [
    "# Train set Analysis and transformation"
   ]
  },
  {
   "cell_type": "code",
   "execution_count": 2,
   "id": "5f2f57f2",
   "metadata": {
    "ExecuteTime": {
     "end_time": "2022-02-22T06:14:48.741498Z",
     "start_time": "2022-02-22T06:14:48.451915Z"
    }
   },
   "outputs": [
    {
     "data": {
      "text/html": [
       "<div>\n",
       "<style scoped>\n",
       "    .dataframe tbody tr th:only-of-type {\n",
       "        vertical-align: middle;\n",
       "    }\n",
       "\n",
       "    .dataframe tbody tr th {\n",
       "        vertical-align: top;\n",
       "    }\n",
       "\n",
       "    .dataframe thead th {\n",
       "        text-align: right;\n",
       "    }\n",
       "</style>\n",
       "<table border=\"1\" class=\"dataframe\">\n",
       "  <thead>\n",
       "    <tr style=\"text-align: right;\">\n",
       "      <th></th>\n",
       "      <th>Year</th>\n",
       "      <th>Month</th>\n",
       "      <th>Day</th>\n",
       "      <th>Hour</th>\n",
       "      <th>Minute</th>\n",
       "      <th>Clearsky DHI</th>\n",
       "      <th>Clearsky DNI</th>\n",
       "      <th>Clearsky GHI</th>\n",
       "      <th>Cloud Type</th>\n",
       "      <th>Dew Point</th>\n",
       "      <th>Temperature</th>\n",
       "      <th>Pressure</th>\n",
       "      <th>Relative Humidity</th>\n",
       "      <th>Solar Zenith Angle</th>\n",
       "      <th>Precipitable Water</th>\n",
       "      <th>Wind Direction</th>\n",
       "      <th>Wind Speed</th>\n",
       "      <th>Fill Flag</th>\n",
       "    </tr>\n",
       "  </thead>\n",
       "  <tbody>\n",
       "    <tr>\n",
       "      <th>0</th>\n",
       "      <td>2009</td>\n",
       "      <td>1</td>\n",
       "      <td>1</td>\n",
       "      <td>0</td>\n",
       "      <td>0</td>\n",
       "      <td>0</td>\n",
       "      <td>0</td>\n",
       "      <td>0</td>\n",
       "      <td>0</td>\n",
       "      <td>0.0</td>\n",
       "      <td>5.0</td>\n",
       "      <td>1010</td>\n",
       "      <td>75.34</td>\n",
       "      <td>106.15</td>\n",
       "      <td>0.499</td>\n",
       "      <td>346.1</td>\n",
       "      <td>3.1</td>\n",
       "      <td>0</td>\n",
       "    </tr>\n",
       "    <tr>\n",
       "      <th>1</th>\n",
       "      <td>2009</td>\n",
       "      <td>1</td>\n",
       "      <td>1</td>\n",
       "      <td>0</td>\n",
       "      <td>30</td>\n",
       "      <td>0</td>\n",
       "      <td>0</td>\n",
       "      <td>0</td>\n",
       "      <td>0</td>\n",
       "      <td>1.0</td>\n",
       "      <td>5.0</td>\n",
       "      <td>1010</td>\n",
       "      <td>80.81</td>\n",
       "      <td>112.28</td>\n",
       "      <td>0.490</td>\n",
       "      <td>346.1</td>\n",
       "      <td>3.1</td>\n",
       "      <td>0</td>\n",
       "    </tr>\n",
       "    <tr>\n",
       "      <th>2</th>\n",
       "      <td>2009</td>\n",
       "      <td>1</td>\n",
       "      <td>1</td>\n",
       "      <td>1</td>\n",
       "      <td>0</td>\n",
       "      <td>0</td>\n",
       "      <td>0</td>\n",
       "      <td>0</td>\n",
       "      <td>4</td>\n",
       "      <td>0.0</td>\n",
       "      <td>5.0</td>\n",
       "      <td>1010</td>\n",
       "      <td>78.27</td>\n",
       "      <td>118.50</td>\n",
       "      <td>0.482</td>\n",
       "      <td>347.9</td>\n",
       "      <td>3.2</td>\n",
       "      <td>0</td>\n",
       "    </tr>\n",
       "    <tr>\n",
       "      <th>3</th>\n",
       "      <td>2009</td>\n",
       "      <td>1</td>\n",
       "      <td>1</td>\n",
       "      <td>1</td>\n",
       "      <td>30</td>\n",
       "      <td>0</td>\n",
       "      <td>0</td>\n",
       "      <td>0</td>\n",
       "      <td>4</td>\n",
       "      <td>0.0</td>\n",
       "      <td>4.0</td>\n",
       "      <td>1010</td>\n",
       "      <td>78.27</td>\n",
       "      <td>124.78</td>\n",
       "      <td>0.478</td>\n",
       "      <td>347.9</td>\n",
       "      <td>3.1</td>\n",
       "      <td>0</td>\n",
       "    </tr>\n",
       "    <tr>\n",
       "      <th>4</th>\n",
       "      <td>2009</td>\n",
       "      <td>1</td>\n",
       "      <td>1</td>\n",
       "      <td>2</td>\n",
       "      <td>0</td>\n",
       "      <td>0</td>\n",
       "      <td>0</td>\n",
       "      <td>0</td>\n",
       "      <td>4</td>\n",
       "      <td>0.0</td>\n",
       "      <td>4.0</td>\n",
       "      <td>1010</td>\n",
       "      <td>76.45</td>\n",
       "      <td>131.12</td>\n",
       "      <td>0.475</td>\n",
       "      <td>350.0</td>\n",
       "      <td>3.0</td>\n",
       "      <td>0</td>\n",
       "    </tr>\n",
       "  </tbody>\n",
       "</table>\n",
       "</div>"
      ],
      "text/plain": [
       "   Year  Month  Day  Hour  Minute  Clearsky DHI  Clearsky DNI  Clearsky GHI  \\\n",
       "0  2009      1    1     0       0             0             0             0   \n",
       "1  2009      1    1     0      30             0             0             0   \n",
       "2  2009      1    1     1       0             0             0             0   \n",
       "3  2009      1    1     1      30             0             0             0   \n",
       "4  2009      1    1     2       0             0             0             0   \n",
       "\n",
       "   Cloud Type  Dew Point  Temperature  Pressure  Relative Humidity  \\\n",
       "0           0        0.0          5.0      1010              75.34   \n",
       "1           0        1.0          5.0      1010              80.81   \n",
       "2           4        0.0          5.0      1010              78.27   \n",
       "3           4        0.0          4.0      1010              78.27   \n",
       "4           4        0.0          4.0      1010              76.45   \n",
       "\n",
       "   Solar Zenith Angle  Precipitable Water  Wind Direction  Wind Speed  \\\n",
       "0              106.15               0.499           346.1         3.1   \n",
       "1              112.28               0.490           346.1         3.1   \n",
       "2              118.50               0.482           347.9         3.2   \n",
       "3              124.78               0.478           347.9         3.1   \n",
       "4              131.12               0.475           350.0         3.0   \n",
       "\n",
       "   Fill Flag  \n",
       "0          0  \n",
       "1          0  \n",
       "2          0  \n",
       "3          0  \n",
       "4          0  "
      ]
     },
     "execution_count": 2,
     "metadata": {},
     "output_type": "execute_result"
    }
   ],
   "source": [
    "df = pd.read_csv(r\"C:\\Users\\ariha\\Desktop\\Hackathons & Projects\\Wipro Hackathon\\Data + Sample Submission\\train.csv\")\n",
    "df.head()"
   ]
  },
  {
   "cell_type": "code",
   "execution_count": 3,
   "id": "a688f2a4",
   "metadata": {
    "ExecuteTime": {
     "end_time": "2022-02-22T06:14:48.757089Z",
     "start_time": "2022-02-22T06:14:48.741498Z"
    }
   },
   "outputs": [
    {
     "data": {
      "text/plain": [
       "(175296, 18)"
      ]
     },
     "execution_count": 3,
     "metadata": {},
     "output_type": "execute_result"
    }
   ],
   "source": [
    "df.shape"
   ]
  },
  {
   "cell_type": "code",
   "execution_count": 4,
   "id": "a7348426",
   "metadata": {
    "ExecuteTime": {
     "end_time": "2022-02-22T06:14:48.815777Z",
     "start_time": "2022-02-22T06:14:48.757089Z"
    }
   },
   "outputs": [
    {
     "data": {
      "text/html": [
       "<div>\n",
       "<style scoped>\n",
       "    .dataframe tbody tr th:only-of-type {\n",
       "        vertical-align: middle;\n",
       "    }\n",
       "\n",
       "    .dataframe tbody tr th {\n",
       "        vertical-align: top;\n",
       "    }\n",
       "\n",
       "    .dataframe thead th {\n",
       "        text-align: right;\n",
       "    }\n",
       "</style>\n",
       "<table border=\"1\" class=\"dataframe\">\n",
       "  <thead>\n",
       "    <tr style=\"text-align: right;\">\n",
       "      <th></th>\n",
       "      <th>Year</th>\n",
       "      <th>Month</th>\n",
       "      <th>Day</th>\n",
       "      <th>Hour</th>\n",
       "      <th>Minute</th>\n",
       "      <th>Clearsky DHI</th>\n",
       "      <th>Clearsky DNI</th>\n",
       "      <th>Clearsky GHI</th>\n",
       "      <th>Cloud Type</th>\n",
       "      <th>Dew Point</th>\n",
       "      <th>Temperature</th>\n",
       "      <th>Pressure</th>\n",
       "      <th>Relative Humidity</th>\n",
       "      <th>Solar Zenith Angle</th>\n",
       "      <th>Precipitable Water</th>\n",
       "      <th>Wind Direction</th>\n",
       "      <th>Wind Speed</th>\n",
       "      <th>Fill Flag</th>\n",
       "      <th>Date-Time</th>\n",
       "    </tr>\n",
       "  </thead>\n",
       "  <tbody>\n",
       "    <tr>\n",
       "      <th>0</th>\n",
       "      <td>2009</td>\n",
       "      <td>1</td>\n",
       "      <td>1</td>\n",
       "      <td>0</td>\n",
       "      <td>0</td>\n",
       "      <td>0</td>\n",
       "      <td>0</td>\n",
       "      <td>0</td>\n",
       "      <td>0</td>\n",
       "      <td>0.0</td>\n",
       "      <td>5.0</td>\n",
       "      <td>1010</td>\n",
       "      <td>75.34</td>\n",
       "      <td>106.15</td>\n",
       "      <td>0.499</td>\n",
       "      <td>346.1</td>\n",
       "      <td>3.1</td>\n",
       "      <td>0</td>\n",
       "      <td>2009-01-01 00:00:00</td>\n",
       "    </tr>\n",
       "    <tr>\n",
       "      <th>1</th>\n",
       "      <td>2009</td>\n",
       "      <td>1</td>\n",
       "      <td>1</td>\n",
       "      <td>0</td>\n",
       "      <td>30</td>\n",
       "      <td>0</td>\n",
       "      <td>0</td>\n",
       "      <td>0</td>\n",
       "      <td>0</td>\n",
       "      <td>1.0</td>\n",
       "      <td>5.0</td>\n",
       "      <td>1010</td>\n",
       "      <td>80.81</td>\n",
       "      <td>112.28</td>\n",
       "      <td>0.490</td>\n",
       "      <td>346.1</td>\n",
       "      <td>3.1</td>\n",
       "      <td>0</td>\n",
       "      <td>2009-01-01 00:30:00</td>\n",
       "    </tr>\n",
       "    <tr>\n",
       "      <th>2</th>\n",
       "      <td>2009</td>\n",
       "      <td>1</td>\n",
       "      <td>1</td>\n",
       "      <td>1</td>\n",
       "      <td>0</td>\n",
       "      <td>0</td>\n",
       "      <td>0</td>\n",
       "      <td>0</td>\n",
       "      <td>4</td>\n",
       "      <td>0.0</td>\n",
       "      <td>5.0</td>\n",
       "      <td>1010</td>\n",
       "      <td>78.27</td>\n",
       "      <td>118.50</td>\n",
       "      <td>0.482</td>\n",
       "      <td>347.9</td>\n",
       "      <td>3.2</td>\n",
       "      <td>0</td>\n",
       "      <td>2009-01-01 01:00:00</td>\n",
       "    </tr>\n",
       "    <tr>\n",
       "      <th>3</th>\n",
       "      <td>2009</td>\n",
       "      <td>1</td>\n",
       "      <td>1</td>\n",
       "      <td>1</td>\n",
       "      <td>30</td>\n",
       "      <td>0</td>\n",
       "      <td>0</td>\n",
       "      <td>0</td>\n",
       "      <td>4</td>\n",
       "      <td>0.0</td>\n",
       "      <td>4.0</td>\n",
       "      <td>1010</td>\n",
       "      <td>78.27</td>\n",
       "      <td>124.78</td>\n",
       "      <td>0.478</td>\n",
       "      <td>347.9</td>\n",
       "      <td>3.1</td>\n",
       "      <td>0</td>\n",
       "      <td>2009-01-01 01:30:00</td>\n",
       "    </tr>\n",
       "    <tr>\n",
       "      <th>4</th>\n",
       "      <td>2009</td>\n",
       "      <td>1</td>\n",
       "      <td>1</td>\n",
       "      <td>2</td>\n",
       "      <td>0</td>\n",
       "      <td>0</td>\n",
       "      <td>0</td>\n",
       "      <td>0</td>\n",
       "      <td>4</td>\n",
       "      <td>0.0</td>\n",
       "      <td>4.0</td>\n",
       "      <td>1010</td>\n",
       "      <td>76.45</td>\n",
       "      <td>131.12</td>\n",
       "      <td>0.475</td>\n",
       "      <td>350.0</td>\n",
       "      <td>3.0</td>\n",
       "      <td>0</td>\n",
       "      <td>2009-01-01 02:00:00</td>\n",
       "    </tr>\n",
       "  </tbody>\n",
       "</table>\n",
       "</div>"
      ],
      "text/plain": [
       "   Year  Month  Day  Hour  Minute  Clearsky DHI  Clearsky DNI  Clearsky GHI  \\\n",
       "0  2009      1    1     0       0             0             0             0   \n",
       "1  2009      1    1     0      30             0             0             0   \n",
       "2  2009      1    1     1       0             0             0             0   \n",
       "3  2009      1    1     1      30             0             0             0   \n",
       "4  2009      1    1     2       0             0             0             0   \n",
       "\n",
       "   Cloud Type  Dew Point  Temperature  Pressure  Relative Humidity  \\\n",
       "0           0        0.0          5.0      1010              75.34   \n",
       "1           0        1.0          5.0      1010              80.81   \n",
       "2           4        0.0          5.0      1010              78.27   \n",
       "3           4        0.0          4.0      1010              78.27   \n",
       "4           4        0.0          4.0      1010              76.45   \n",
       "\n",
       "   Solar Zenith Angle  Precipitable Water  Wind Direction  Wind Speed  \\\n",
       "0              106.15               0.499           346.1         3.1   \n",
       "1              112.28               0.490           346.1         3.1   \n",
       "2              118.50               0.482           347.9         3.2   \n",
       "3              124.78               0.478           347.9         3.1   \n",
       "4              131.12               0.475           350.0         3.0   \n",
       "\n",
       "   Fill Flag           Date-Time  \n",
       "0          0 2009-01-01 00:00:00  \n",
       "1          0 2009-01-01 00:30:00  \n",
       "2          0 2009-01-01 01:00:00  \n",
       "3          0 2009-01-01 01:30:00  \n",
       "4          0 2009-01-01 02:00:00  "
      ]
     },
     "execution_count": 4,
     "metadata": {},
     "output_type": "execute_result"
    }
   ],
   "source": [
    "df['Date-Time'] = pd.to_datetime(df[['Year', 'Month', 'Day', 'Hour', 'Minute']])\n",
    "df.head()"
   ]
  },
  {
   "cell_type": "code",
   "execution_count": 5,
   "id": "93d9d421",
   "metadata": {
    "ExecuteTime": {
     "end_time": "2022-02-22T06:14:48.829615Z",
     "start_time": "2022-02-22T06:14:48.815777Z"
    }
   },
   "outputs": [],
   "source": [
    "df.drop(columns=['Year', 'Month', 'Day', 'Hour', 'Minute'], axis=1, inplace=True)"
   ]
  },
  {
   "cell_type": "code",
   "execution_count": 6,
   "id": "50e215cd",
   "metadata": {
    "ExecuteTime": {
     "end_time": "2022-02-22T06:14:49.337606Z",
     "start_time": "2022-02-22T06:14:48.829615Z"
    }
   },
   "outputs": [
    {
     "data": {
      "text/plain": [
       "<AxesSubplot:>"
      ]
     },
     "execution_count": 6,
     "metadata": {},
     "output_type": "execute_result"
    },
    {
     "data": {
      "image/png": "[encoded data removed]",
      "text/plain": [
       "<Figure size 432x288 with 2 Axes>"
      ]
     },
     "metadata": {
      "needs_background": "light"
     },
     "output_type": "display_data"
    }
   ],
   "source": [
    "sns.heatmap(df.corr())"
   ]
  },
  {
   "cell_type": "code",
   "execution_count": 7,
   "id": "5e9f91b2",
   "metadata": {
    "ExecuteTime": {
     "end_time": "2022-02-22T06:14:49.458401Z",
     "start_time": "2022-02-22T06:14:49.337606Z"
    }
   },
   "outputs": [
    {
     "data": {
      "text/html": [
       "<div>\n",
       "<style scoped>\n",
       "    .dataframe tbody tr th:only-of-type {\n",
       "        vertical-align: middle;\n",
       "    }\n",
       "\n",
       "    .dataframe tbody tr th {\n",
       "        vertical-align: top;\n",
       "    }\n",
       "\n",
       "    .dataframe thead th {\n",
       "        text-align: right;\n",
       "    }\n",
       "</style>\n",
       "<table border=\"1\" class=\"dataframe\">\n",
       "  <thead>\n",
       "    <tr style=\"text-align: right;\">\n",
       "      <th></th>\n",
       "      <th>Clearsky DHI</th>\n",
       "      <th>Clearsky DNI</th>\n",
       "      <th>Clearsky GHI</th>\n",
       "      <th>Cloud Type</th>\n",
       "      <th>Dew Point</th>\n",
       "      <th>Temperature</th>\n",
       "      <th>Pressure</th>\n",
       "      <th>Relative Humidity</th>\n",
       "      <th>Solar Zenith Angle</th>\n",
       "      <th>Precipitable Water</th>\n",
       "      <th>Wind Direction</th>\n",
       "      <th>Wind Speed</th>\n",
       "      <th>Fill Flag</th>\n",
       "    </tr>\n",
       "  </thead>\n",
       "  <tbody>\n",
       "    <tr>\n",
       "      <th>Clearsky DHI</th>\n",
       "      <td>1.000000</td>\n",
       "      <td>0.860988</td>\n",
       "      <td>0.912991</td>\n",
       "      <td>0.022479</td>\n",
       "      <td>0.222931</td>\n",
       "      <td>0.503409</td>\n",
       "      <td>-0.093766</td>\n",
       "      <td>-0.559766</td>\n",
       "      <td>-0.873421</td>\n",
       "      <td>0.207504</td>\n",
       "      <td>-0.000195</td>\n",
       "      <td>0.315655</td>\n",
       "      <td>0.000740</td>\n",
       "    </tr>\n",
       "    <tr>\n",
       "      <th>Clearsky DNI</th>\n",
       "      <td>0.860988</td>\n",
       "      <td>1.000000</td>\n",
       "      <td>0.927926</td>\n",
       "      <td>-0.073302</td>\n",
       "      <td>0.033601</td>\n",
       "      <td>0.384353</td>\n",
       "      <td>0.007043</td>\n",
       "      <td>-0.680471</td>\n",
       "      <td>-0.886323</td>\n",
       "      <td>-0.002180</td>\n",
       "      <td>0.006256</td>\n",
       "      <td>0.381162</td>\n",
       "      <td>0.006318</td>\n",
       "    </tr>\n",
       "    <tr>\n",
       "      <th>Clearsky GHI</th>\n",
       "      <td>0.912991</td>\n",
       "      <td>0.927926</td>\n",
       "      <td>1.000000</td>\n",
       "      <td>-0.047297</td>\n",
       "      <td>0.140420</td>\n",
       "      <td>0.478273</td>\n",
       "      <td>-0.050556</td>\n",
       "      <td>-0.655765</td>\n",
       "      <td>-0.891033</td>\n",
       "      <td>0.108725</td>\n",
       "      <td>0.004944</td>\n",
       "      <td>0.349180</td>\n",
       "      <td>-0.030297</td>\n",
       "    </tr>\n",
       "    <tr>\n",
       "      <th>Cloud Type</th>\n",
       "      <td>0.022479</td>\n",
       "      <td>-0.073302</td>\n",
       "      <td>-0.047297</td>\n",
       "      <td>1.000000</td>\n",
       "      <td>0.202096</td>\n",
       "      <td>0.066777</td>\n",
       "      <td>-0.137158</td>\n",
       "      <td>0.235374</td>\n",
       "      <td>0.026873</td>\n",
       "      <td>0.326904</td>\n",
       "      <td>-0.081565</td>\n",
       "      <td>0.072632</td>\n",
       "      <td>0.090161</td>\n",
       "    </tr>\n",
       "    <tr>\n",
       "      <th>Dew Point</th>\n",
       "      <td>0.222931</td>\n",
       "      <td>0.033601</td>\n",
       "      <td>0.140420</td>\n",
       "      <td>0.202096</td>\n",
       "      <td>1.000000</td>\n",
       "      <td>0.848948</td>\n",
       "      <td>-0.419534</td>\n",
       "      <td>0.193455</td>\n",
       "      <td>-0.222336</td>\n",
       "      <td>0.881881</td>\n",
       "      <td>-0.076357</td>\n",
       "      <td>-0.140699</td>\n",
       "      <td>0.036851</td>\n",
       "    </tr>\n",
       "    <tr>\n",
       "      <th>Temperature</th>\n",
       "      <td>0.503409</td>\n",
       "      <td>0.384353</td>\n",
       "      <td>0.478273</td>\n",
       "      <td>0.066777</td>\n",
       "      <td>0.848948</td>\n",
       "      <td>1.000000</td>\n",
       "      <td>-0.371395</td>\n",
       "      <td>-0.341914</td>\n",
       "      <td>-0.526548</td>\n",
       "      <td>0.742449</td>\n",
       "      <td>-0.066673</td>\n",
       "      <td>-0.046694</td>\n",
       "      <td>0.015734</td>\n",
       "    </tr>\n",
       "    <tr>\n",
       "      <th>Pressure</th>\n",
       "      <td>-0.093766</td>\n",
       "      <td>0.007043</td>\n",
       "      <td>-0.050556</td>\n",
       "      <td>-0.137158</td>\n",
       "      <td>-0.419534</td>\n",
       "      <td>-0.371395</td>\n",
       "      <td>1.000000</td>\n",
       "      <td>-0.085004</td>\n",
       "      <td>0.078900</td>\n",
       "      <td>-0.365342</td>\n",
       "      <td>-0.182006</td>\n",
       "      <td>-0.122674</td>\n",
       "      <td>0.052521</td>\n",
       "    </tr>\n",
       "    <tr>\n",
       "      <th>Relative Humidity</th>\n",
       "      <td>-0.559766</td>\n",
       "      <td>-0.680471</td>\n",
       "      <td>-0.655765</td>\n",
       "      <td>0.235374</td>\n",
       "      <td>0.193455</td>\n",
       "      <td>-0.341914</td>\n",
       "      <td>-0.085004</td>\n",
       "      <td>1.000000</td>\n",
       "      <td>0.607108</td>\n",
       "      <td>0.182658</td>\n",
       "      <td>-0.019108</td>\n",
       "      <td>-0.172248</td>\n",
       "      <td>0.023674</td>\n",
       "    </tr>\n",
       "    <tr>\n",
       "      <th>Solar Zenith Angle</th>\n",
       "      <td>-0.873421</td>\n",
       "      <td>-0.886323</td>\n",
       "      <td>-0.891033</td>\n",
       "      <td>0.026873</td>\n",
       "      <td>-0.222336</td>\n",
       "      <td>-0.526548</td>\n",
       "      <td>0.078900</td>\n",
       "      <td>0.607108</td>\n",
       "      <td>1.000000</td>\n",
       "      <td>-0.182529</td>\n",
       "      <td>0.003802</td>\n",
       "      <td>-0.295927</td>\n",
       "      <td>-0.029150</td>\n",
       "    </tr>\n",
       "    <tr>\n",
       "      <th>Precipitable Water</th>\n",
       "      <td>0.207504</td>\n",
       "      <td>-0.002180</td>\n",
       "      <td>0.108725</td>\n",
       "      <td>0.326904</td>\n",
       "      <td>0.881881</td>\n",
       "      <td>0.742449</td>\n",
       "      <td>-0.365342</td>\n",
       "      <td>0.182658</td>\n",
       "      <td>-0.182529</td>\n",
       "      <td>1.000000</td>\n",
       "      <td>-0.105735</td>\n",
       "      <td>-0.106892</td>\n",
       "      <td>0.044106</td>\n",
       "    </tr>\n",
       "    <tr>\n",
       "      <th>Wind Direction</th>\n",
       "      <td>-0.000195</td>\n",
       "      <td>0.006256</td>\n",
       "      <td>0.004944</td>\n",
       "      <td>-0.081565</td>\n",
       "      <td>-0.076357</td>\n",
       "      <td>-0.066673</td>\n",
       "      <td>-0.182006</td>\n",
       "      <td>-0.019108</td>\n",
       "      <td>0.003802</td>\n",
       "      <td>-0.105735</td>\n",
       "      <td>1.000000</td>\n",
       "      <td>0.035634</td>\n",
       "      <td>-0.017124</td>\n",
       "    </tr>\n",
       "    <tr>\n",
       "      <th>Wind Speed</th>\n",
       "      <td>0.315655</td>\n",
       "      <td>0.381162</td>\n",
       "      <td>0.349180</td>\n",
       "      <td>0.072632</td>\n",
       "      <td>-0.140699</td>\n",
       "      <td>-0.046694</td>\n",
       "      <td>-0.122674</td>\n",
       "      <td>-0.172248</td>\n",
       "      <td>-0.295927</td>\n",
       "      <td>-0.106892</td>\n",
       "      <td>0.035634</td>\n",
       "      <td>1.000000</td>\n",
       "      <td>0.000447</td>\n",
       "    </tr>\n",
       "    <tr>\n",
       "      <th>Fill Flag</th>\n",
       "      <td>0.000740</td>\n",
       "      <td>0.006318</td>\n",
       "      <td>-0.030297</td>\n",
       "      <td>0.090161</td>\n",
       "      <td>0.036851</td>\n",
       "      <td>0.015734</td>\n",
       "      <td>0.052521</td>\n",
       "      <td>0.023674</td>\n",
       "      <td>-0.029150</td>\n",
       "      <td>0.044106</td>\n",
       "      <td>-0.017124</td>\n",
       "      <td>0.000447</td>\n",
       "      <td>1.000000</td>\n",
       "    </tr>\n",
       "  </tbody>\n",
       "</table>\n",
       "</div>"
      ],
      "text/plain": [
       "                    Clearsky DHI  Clearsky DNI  Clearsky GHI  Cloud Type  \\\n",
       "Clearsky DHI            1.000000      0.860988      0.912991    0.022479   \n",
       "Clearsky DNI            0.860988      1.000000      0.927926   -0.073302   \n",
       "Clearsky GHI            0.912991      0.927926      1.000000   -0.047297   \n",
       "Cloud Type              0.022479     -0.073302     -0.047297    1.000000   \n",
       "Dew Point               0.222931      0.033601      0.140420    0.202096   \n",
       "Temperature             0.503409      0.384353      0.478273    0.066777   \n",
       "Pressure               -0.093766      0.007043     -0.050556   -0.137158   \n",
       "Relative Humidity      -0.559766     -0.680471     -0.655765    0.235374   \n",
       "Solar Zenith Angle     -0.873421     -0.886323     -0.891033    0.026873   \n",
       "Precipitable Water      0.207504     -0.002180      0.108725    0.326904   \n",
       "Wind Direction         -0.000195      0.006256      0.004944   -0.081565   \n",
       "Wind Speed              0.315655      0.381162      0.349180    0.072632   \n",
       "Fill Flag               0.000740      0.006318     -0.030297    0.090161   \n",
       "\n",
       "                    Dew Point  Temperature  Pressure  Relative Humidity  \\\n",
       "Clearsky DHI         0.222931     0.503409 -0.093766          -0.559766   \n",
       "Clearsky DNI         0.033601     0.384353  0.007043          -0.680471   \n",
       "Clearsky GHI         0.140420     0.478273 -0.050556          -0.655765   \n",
       "Cloud Type           0.202096     0.066777 -0.137158           0.235374   \n",
       "Dew Point            1.000000     0.848948 -0.419534           0.193455   \n",
       "Temperature          0.848948     1.000000 -0.371395          -0.341914   \n",
       "Pressure            -0.419534    -0.371395  1.000000          -0.085004   \n",
       "Relative Humidity    0.193455    -0.341914 -0.085004           1.000000   \n",
       "Solar Zenith Angle  -0.222336    -0.526548  0.078900           0.607108   \n",
       "Precipitable Water   0.881881     0.742449 -0.365342           0.182658   \n",
       "Wind Direction      -0.076357    -0.066673 -0.182006          -0.019108   \n",
       "Wind Speed          -0.140699    -0.046694 -0.122674          -0.172248   \n",
       "Fill Flag            0.036851     0.015734  0.052521           0.023674   \n",
       "\n",
       "                    Solar Zenith Angle  Precipitable Water  Wind Direction  \\\n",
       "Clearsky DHI                 -0.873421            0.207504       -0.000195   \n",
       "Clearsky DNI                 -0.886323           -0.002180        0.006256   \n",
       "Clearsky GHI                 -0.891033            0.108725        0.004944   \n",
       "Cloud Type                    0.026873            0.326904       -0.081565   \n",
       "Dew Point                    -0.222336            0.881881       -0.076357   \n",
       "Temperature                  -0.526548            0.742449       -0.066673   \n",
       "Pressure                      0.078900           -0.365342       -0.182006   \n",
       "Relative Humidity             0.607108            0.182658       -0.019108   \n",
       "Solar Zenith Angle            1.000000           -0.182529        0.003802   \n",
       "Precipitable Water           -0.182529            1.000000       -0.105735   \n",
       "Wind Direction                0.003802           -0.105735        1.000000   \n",
       "Wind Speed                   -0.295927           -0.106892        0.035634   \n",
       "Fill Flag                    -0.029150            0.044106       -0.017124   \n",
       "\n",
       "                    Wind Speed  Fill Flag  \n",
       "Clearsky DHI          0.315655   0.000740  \n",
       "Clearsky DNI          0.381162   0.006318  \n",
       "Clearsky GHI          0.349180  -0.030297  \n",
       "Cloud Type            0.072632   0.090161  \n",
       "Dew Point            -0.140699   0.036851  \n",
       "Temperature          -0.046694   0.015734  \n",
       "Pressure             -0.122674   0.052521  \n",
       "Relative Humidity    -0.172248   0.023674  \n",
       "Solar Zenith Angle   -0.295927  -0.029150  \n",
       "Precipitable Water   -0.106892   0.044106  \n",
       "Wind Direction        0.035634  -0.017124  \n",
       "Wind Speed            1.000000   0.000447  \n",
       "Fill Flag             0.000447   1.000000  "
      ]
     },
     "execution_count": 7,
     "metadata": {},
     "output_type": "execute_result"
    }
   ],
   "source": [
    "df.corr()"
   ]
  },
  {
   "cell_type": "code",
   "execution_count": 8,
   "id": "ed34a20e",
   "metadata": {
    "ExecuteTime": {
     "end_time": "2022-02-22T06:14:49.479324Z",
     "start_time": "2022-02-22T06:14:49.458401Z"
    }
   },
   "outputs": [],
   "source": [
    "df.drop(columns=['Dew Point', 'Pressure', 'Precipitable Water', 'Wind Direction', 'Fill Flag'], axis=1, inplace=True)"
   ]
  },
  {
   "cell_type": "code",
   "execution_count": 9,
   "id": "17595dac",
   "metadata": {
    "ExecuteTime": {
     "end_time": "2022-02-22T06:14:49.502893Z",
     "start_time": "2022-02-22T06:14:49.479324Z"
    }
   },
   "outputs": [
    {
     "data": {
      "text/html": [
       "<div>\n",
       "<style scoped>\n",
       "    .dataframe tbody tr th:only-of-type {\n",
       "        vertical-align: middle;\n",
       "    }\n",
       "\n",
       "    .dataframe tbody tr th {\n",
       "        vertical-align: top;\n",
       "    }\n",
       "\n",
       "    .dataframe thead th {\n",
       "        text-align: right;\n",
       "    }\n",
       "</style>\n",
       "<table border=\"1\" class=\"dataframe\">\n",
       "  <thead>\n",
       "    <tr style=\"text-align: right;\">\n",
       "      <th></th>\n",
       "      <th>Clearsky DHI</th>\n",
       "      <th>Clearsky DNI</th>\n",
       "      <th>Clearsky GHI</th>\n",
       "      <th>Cloud Type</th>\n",
       "      <th>Temperature</th>\n",
       "      <th>Relative Humidity</th>\n",
       "      <th>Solar Zenith Angle</th>\n",
       "      <th>Wind Speed</th>\n",
       "      <th>Date-Time</th>\n",
       "    </tr>\n",
       "  </thead>\n",
       "  <tbody>\n",
       "    <tr>\n",
       "      <th>0</th>\n",
       "      <td>0</td>\n",
       "      <td>0</td>\n",
       "      <td>0</td>\n",
       "      <td>0</td>\n",
       "      <td>5.0</td>\n",
       "      <td>75.34</td>\n",
       "      <td>106.15</td>\n",
       "      <td>3.1</td>\n",
       "      <td>2009-01-01 00:00:00</td>\n",
       "    </tr>\n",
       "    <tr>\n",
       "      <th>1</th>\n",
       "      <td>0</td>\n",
       "      <td>0</td>\n",
       "      <td>0</td>\n",
       "      <td>0</td>\n",
       "      <td>5.0</td>\n",
       "      <td>80.81</td>\n",
       "      <td>112.28</td>\n",
       "      <td>3.1</td>\n",
       "      <td>2009-01-01 00:30:00</td>\n",
       "    </tr>\n",
       "    <tr>\n",
       "      <th>2</th>\n",
       "      <td>0</td>\n",
       "      <td>0</td>\n",
       "      <td>0</td>\n",
       "      <td>4</td>\n",
       "      <td>5.0</td>\n",
       "      <td>78.27</td>\n",
       "      <td>118.50</td>\n",
       "      <td>3.2</td>\n",
       "      <td>2009-01-01 01:00:00</td>\n",
       "    </tr>\n",
       "    <tr>\n",
       "      <th>3</th>\n",
       "      <td>0</td>\n",
       "      <td>0</td>\n",
       "      <td>0</td>\n",
       "      <td>4</td>\n",
       "      <td>4.0</td>\n",
       "      <td>78.27</td>\n",
       "      <td>124.78</td>\n",
       "      <td>3.1</td>\n",
       "      <td>2009-01-01 01:30:00</td>\n",
       "    </tr>\n",
       "    <tr>\n",
       "      <th>4</th>\n",
       "      <td>0</td>\n",
       "      <td>0</td>\n",
       "      <td>0</td>\n",
       "      <td>4</td>\n",
       "      <td>4.0</td>\n",
       "      <td>76.45</td>\n",
       "      <td>131.12</td>\n",
       "      <td>3.0</td>\n",
       "      <td>2009-01-01 02:00:00</td>\n",
       "    </tr>\n",
       "  </tbody>\n",
       "</table>\n",
       "</div>"
      ],
      "text/plain": [
       "   Clearsky DHI  Clearsky DNI  Clearsky GHI  Cloud Type  Temperature  \\\n",
       "0             0             0             0           0          5.0   \n",
       "1             0             0             0           0          5.0   \n",
       "2             0             0             0           4          5.0   \n",
       "3             0             0             0           4          4.0   \n",
       "4             0             0             0           4          4.0   \n",
       "\n",
       "   Relative Humidity  Solar Zenith Angle  Wind Speed           Date-Time  \n",
       "0              75.34              106.15         3.1 2009-01-01 00:00:00  \n",
       "1              80.81              112.28         3.1 2009-01-01 00:30:00  \n",
       "2              78.27              118.50         3.2 2009-01-01 01:00:00  \n",
       "3              78.27              124.78         3.1 2009-01-01 01:30:00  \n",
       "4              76.45              131.12         3.0 2009-01-01 02:00:00  "
      ]
     },
     "execution_count": 9,
     "metadata": {},
     "output_type": "execute_result"
    }
   ],
   "source": [
    "df.head()"
   ]
  },
  {
   "cell_type": "code",
   "execution_count": 10,
   "id": "69e413af",
   "metadata": {
    "ExecuteTime": {
     "end_time": "2022-02-22T06:14:49.533317Z",
     "start_time": "2022-02-22T06:14:49.502893Z"
    }
   },
   "outputs": [],
   "source": [
    "x = df.iloc[:, 3:-1].copy()"
   ]
  },
  {
   "cell_type": "code",
   "execution_count": 11,
   "id": "9300ca71",
   "metadata": {
    "ExecuteTime": {
     "end_time": "2022-02-22T06:14:49.544732Z",
     "start_time": "2022-02-22T06:14:49.533317Z"
    }
   },
   "outputs": [
    {
     "data": {
      "text/html": [
       "<div>\n",
       "<style scoped>\n",
       "    .dataframe tbody tr th:only-of-type {\n",
       "        vertical-align: middle;\n",
       "    }\n",
       "\n",
       "    .dataframe tbody tr th {\n",
       "        vertical-align: top;\n",
       "    }\n",
       "\n",
       "    .dataframe thead th {\n",
       "        text-align: right;\n",
       "    }\n",
       "</style>\n",
       "<table border=\"1\" class=\"dataframe\">\n",
       "  <thead>\n",
       "    <tr style=\"text-align: right;\">\n",
       "      <th></th>\n",
       "      <th>Cloud Type</th>\n",
       "      <th>Temperature</th>\n",
       "      <th>Relative Humidity</th>\n",
       "      <th>Solar Zenith Angle</th>\n",
       "      <th>Wind Speed</th>\n",
       "    </tr>\n",
       "  </thead>\n",
       "  <tbody>\n",
       "    <tr>\n",
       "      <th>0</th>\n",
       "      <td>0</td>\n",
       "      <td>5.0</td>\n",
       "      <td>75.34</td>\n",
       "      <td>106.15</td>\n",
       "      <td>3.1</td>\n",
       "    </tr>\n",
       "    <tr>\n",
       "      <th>1</th>\n",
       "      <td>0</td>\n",
       "      <td>5.0</td>\n",
       "      <td>80.81</td>\n",
       "      <td>112.28</td>\n",
       "      <td>3.1</td>\n",
       "    </tr>\n",
       "    <tr>\n",
       "      <th>2</th>\n",
       "      <td>4</td>\n",
       "      <td>5.0</td>\n",
       "      <td>78.27</td>\n",
       "      <td>118.50</td>\n",
       "      <td>3.2</td>\n",
       "    </tr>\n",
       "    <tr>\n",
       "      <th>3</th>\n",
       "      <td>4</td>\n",
       "      <td>4.0</td>\n",
       "      <td>78.27</td>\n",
       "      <td>124.78</td>\n",
       "      <td>3.1</td>\n",
       "    </tr>\n",
       "    <tr>\n",
       "      <th>4</th>\n",
       "      <td>4</td>\n",
       "      <td>4.0</td>\n",
       "      <td>76.45</td>\n",
       "      <td>131.12</td>\n",
       "      <td>3.0</td>\n",
       "    </tr>\n",
       "  </tbody>\n",
       "</table>\n",
       "</div>"
      ],
      "text/plain": [
       "   Cloud Type  Temperature  Relative Humidity  Solar Zenith Angle  Wind Speed\n",
       "0           0          5.0              75.34              106.15         3.1\n",
       "1           0          5.0              80.81              112.28         3.1\n",
       "2           4          5.0              78.27              118.50         3.2\n",
       "3           4          4.0              78.27              124.78         3.1\n",
       "4           4          4.0              76.45              131.12         3.0"
      ]
     },
     "execution_count": 11,
     "metadata": {},
     "output_type": "execute_result"
    }
   ],
   "source": [
    "x.head()"
   ]
  },
  {
   "cell_type": "code",
   "execution_count": 12,
   "id": "e8a87957",
   "metadata": {
    "ExecuteTime": {
     "end_time": "2022-02-22T06:14:49.556129Z",
     "start_time": "2022-02-22T06:14:49.545159Z"
    }
   },
   "outputs": [],
   "source": [
    "y = df.iloc[:, 0:3].copy()"
   ]
  },
  {
   "cell_type": "code",
   "execution_count": 13,
   "id": "623eab09",
   "metadata": {
    "ExecuteTime": {
     "end_time": "2022-02-22T06:14:49.572169Z",
     "start_time": "2022-02-22T06:14:49.556129Z"
    }
   },
   "outputs": [
    {
     "data": {
      "text/html": [
       "<div>\n",
       "<style scoped>\n",
       "    .dataframe tbody tr th:only-of-type {\n",
       "        vertical-align: middle;\n",
       "    }\n",
       "\n",
       "    .dataframe tbody tr th {\n",
       "        vertical-align: top;\n",
       "    }\n",
       "\n",
       "    .dataframe thead th {\n",
       "        text-align: right;\n",
       "    }\n",
       "</style>\n",
       "<table border=\"1\" class=\"dataframe\">\n",
       "  <thead>\n",
       "    <tr style=\"text-align: right;\">\n",
       "      <th></th>\n",
       "      <th>Clearsky DHI</th>\n",
       "      <th>Clearsky DNI</th>\n",
       "      <th>Clearsky GHI</th>\n",
       "    </tr>\n",
       "  </thead>\n",
       "  <tbody>\n",
       "    <tr>\n",
       "      <th>0</th>\n",
       "      <td>0</td>\n",
       "      <td>0</td>\n",
       "      <td>0</td>\n",
       "    </tr>\n",
       "    <tr>\n",
       "      <th>1</th>\n",
       "      <td>0</td>\n",
       "      <td>0</td>\n",
       "      <td>0</td>\n",
       "    </tr>\n",
       "    <tr>\n",
       "      <th>2</th>\n",
       "      <td>0</td>\n",
       "      <td>0</td>\n",
       "      <td>0</td>\n",
       "    </tr>\n",
       "    <tr>\n",
       "      <th>3</th>\n",
       "      <td>0</td>\n",
       "      <td>0</td>\n",
       "      <td>0</td>\n",
       "    </tr>\n",
       "    <tr>\n",
       "      <th>4</th>\n",
       "      <td>0</td>\n",
       "      <td>0</td>\n",
       "      <td>0</td>\n",
       "    </tr>\n",
       "  </tbody>\n",
       "</table>\n",
       "</div>"
      ],
      "text/plain": [
       "   Clearsky DHI  Clearsky DNI  Clearsky GHI\n",
       "0             0             0             0\n",
       "1             0             0             0\n",
       "2             0             0             0\n",
       "3             0             0             0\n",
       "4             0             0             0"
      ]
     },
     "execution_count": 13,
     "metadata": {},
     "output_type": "execute_result"
    }
   ],
   "source": [
    "y.head()"
   ]
  },
  {
   "cell_type": "code",
   "execution_count": 14,
   "id": "d657bb73",
   "metadata": {
    "ExecuteTime": {
     "end_time": "2022-02-22T06:14:49.588310Z",
     "start_time": "2022-02-22T06:14:49.572169Z"
    }
   },
   "outputs": [
    {
     "data": {
      "text/plain": [
       "(175296, 3)"
      ]
     },
     "execution_count": 14,
     "metadata": {},
     "output_type": "execute_result"
    }
   ],
   "source": [
    "y.shape"
   ]
  },
  {
   "cell_type": "code",
   "execution_count": 15,
   "id": "0595feef",
   "metadata": {
    "ExecuteTime": {
     "end_time": "2022-02-22T06:14:49.605053Z",
     "start_time": "2022-02-22T06:14:49.588310Z"
    }
   },
   "outputs": [
    {
     "data": {
      "text/plain": [
       "array([ 0,  4,  1,  7,  8,  3,  2,  6,  9, 10], dtype=int64)"
      ]
     },
     "execution_count": 15,
     "metadata": {},
     "output_type": "execute_result"
    }
   ],
   "source": [
    "x['Cloud Type'].unique()"
   ]
  },
  {
   "cell_type": "code",
   "execution_count": 16,
   "id": "18cbdd2d",
   "metadata": {
    "ExecuteTime": {
     "end_time": "2022-02-22T06:14:49.638883Z",
     "start_time": "2022-02-22T06:14:49.607378Z"
    }
   },
   "outputs": [],
   "source": [
    "x = pd.get_dummies(x, columns=['Cloud Type'])"
   ]
  },
  {
   "cell_type": "code",
   "execution_count": 17,
   "id": "90876243",
   "metadata": {
    "ExecuteTime": {
     "end_time": "2022-02-22T06:14:49.664355Z",
     "start_time": "2022-02-22T06:14:49.638883Z"
    }
   },
   "outputs": [
    {
     "data": {
      "text/html": [
       "<div>\n",
       "<style scoped>\n",
       "    .dataframe tbody tr th:only-of-type {\n",
       "        vertical-align: middle;\n",
       "    }\n",
       "\n",
       "    .dataframe tbody tr th {\n",
       "        vertical-align: top;\n",
       "    }\n",
       "\n",
       "    .dataframe thead th {\n",
       "        text-align: right;\n",
       "    }\n",
       "</style>\n",
       "<table border=\"1\" class=\"dataframe\">\n",
       "  <thead>\n",
       "    <tr style=\"text-align: right;\">\n",
       "      <th></th>\n",
       "      <th>Temperature</th>\n",
       "      <th>Relative Humidity</th>\n",
       "      <th>Solar Zenith Angle</th>\n",
       "      <th>Wind Speed</th>\n",
       "      <th>Cloud Type_0</th>\n",
       "      <th>Cloud Type_1</th>\n",
       "      <th>Cloud Type_2</th>\n",
       "      <th>Cloud Type_3</th>\n",
       "      <th>Cloud Type_4</th>\n",
       "      <th>Cloud Type_6</th>\n",
       "      <th>Cloud Type_7</th>\n",
       "      <th>Cloud Type_8</th>\n",
       "      <th>Cloud Type_9</th>\n",
       "      <th>Cloud Type_10</th>\n",
       "    </tr>\n",
       "  </thead>\n",
       "  <tbody>\n",
       "    <tr>\n",
       "      <th>0</th>\n",
       "      <td>5.0</td>\n",
       "      <td>75.34</td>\n",
       "      <td>106.15</td>\n",
       "      <td>3.1</td>\n",
       "      <td>1</td>\n",
       "      <td>0</td>\n",
       "      <td>0</td>\n",
       "      <td>0</td>\n",
       "      <td>0</td>\n",
       "      <td>0</td>\n",
       "      <td>0</td>\n",
       "      <td>0</td>\n",
       "      <td>0</td>\n",
       "      <td>0</td>\n",
       "    </tr>\n",
       "    <tr>\n",
       "      <th>1</th>\n",
       "      <td>5.0</td>\n",
       "      <td>80.81</td>\n",
       "      <td>112.28</td>\n",
       "      <td>3.1</td>\n",
       "      <td>1</td>\n",
       "      <td>0</td>\n",
       "      <td>0</td>\n",
       "      <td>0</td>\n",
       "      <td>0</td>\n",
       "      <td>0</td>\n",
       "      <td>0</td>\n",
       "      <td>0</td>\n",
       "      <td>0</td>\n",
       "      <td>0</td>\n",
       "    </tr>\n",
       "    <tr>\n",
       "      <th>2</th>\n",
       "      <td>5.0</td>\n",
       "      <td>78.27</td>\n",
       "      <td>118.50</td>\n",
       "      <td>3.2</td>\n",
       "      <td>0</td>\n",
       "      <td>0</td>\n",
       "      <td>0</td>\n",
       "      <td>0</td>\n",
       "      <td>1</td>\n",
       "      <td>0</td>\n",
       "      <td>0</td>\n",
       "      <td>0</td>\n",
       "      <td>0</td>\n",
       "      <td>0</td>\n",
       "    </tr>\n",
       "    <tr>\n",
       "      <th>3</th>\n",
       "      <td>4.0</td>\n",
       "      <td>78.27</td>\n",
       "      <td>124.78</td>\n",
       "      <td>3.1</td>\n",
       "      <td>0</td>\n",
       "      <td>0</td>\n",
       "      <td>0</td>\n",
       "      <td>0</td>\n",
       "      <td>1</td>\n",
       "      <td>0</td>\n",
       "      <td>0</td>\n",
       "      <td>0</td>\n",
       "      <td>0</td>\n",
       "      <td>0</td>\n",
       "    </tr>\n",
       "    <tr>\n",
       "      <th>4</th>\n",
       "      <td>4.0</td>\n",
       "      <td>76.45</td>\n",
       "      <td>131.12</td>\n",
       "      <td>3.0</td>\n",
       "      <td>0</td>\n",
       "      <td>0</td>\n",
       "      <td>0</td>\n",
       "      <td>0</td>\n",
       "      <td>1</td>\n",
       "      <td>0</td>\n",
       "      <td>0</td>\n",
       "      <td>0</td>\n",
       "      <td>0</td>\n",
       "      <td>0</td>\n",
       "    </tr>\n",
       "  </tbody>\n",
       "</table>\n",
       "</div>"
      ],
      "text/plain": [
       "   Temperature  Relative Humidity  Solar Zenith Angle  Wind Speed  \\\n",
       "0          5.0              75.34              106.15         3.1   \n",
       "1          5.0              80.81              112.28         3.1   \n",
       "2          5.0              78.27              118.50         3.2   \n",
       "3          4.0              78.27              124.78         3.1   \n",
       "4          4.0              76.45              131.12         3.0   \n",
       "\n",
       "   Cloud Type_0  Cloud Type_1  Cloud Type_2  Cloud Type_3  Cloud Type_4  \\\n",
       "0             1             0             0             0             0   \n",
       "1             1             0             0             0             0   \n",
       "2             0             0             0             0             1   \n",
       "3             0             0             0             0             1   \n",
       "4             0             0             0             0             1   \n",
       "\n",
       "   Cloud Type_6  Cloud Type_7  Cloud Type_8  Cloud Type_9  Cloud Type_10  \n",
       "0             0             0             0             0              0  \n",
       "1             0             0             0             0              0  \n",
       "2             0             0             0             0              0  \n",
       "3             0             0             0             0              0  \n",
       "4             0             0             0             0              0  "
      ]
     },
     "execution_count": 17,
     "metadata": {},
     "output_type": "execute_result"
    }
   ],
   "source": [
    "x.head()"
   ]
  },
  {
   "cell_type": "code",
   "execution_count": 18,
   "id": "810d7881",
   "metadata": {
    "ExecuteTime": {
     "end_time": "2022-02-22T06:14:49.680266Z",
     "start_time": "2022-02-22T06:14:49.664355Z"
    }
   },
   "outputs": [
    {
     "data": {
      "text/plain": [
       "(175296, 14)"
      ]
     },
     "execution_count": 18,
     "metadata": {},
     "output_type": "execute_result"
    }
   ],
   "source": [
    "x.shape"
   ]
  },
  {
   "cell_type": "code",
   "execution_count": 19,
   "id": "70a1aa5b",
   "metadata": {
    "ExecuteTime": {
     "end_time": "2022-02-22T06:14:49.696265Z",
     "start_time": "2022-02-22T06:14:49.680266Z"
    }
   },
   "outputs": [
    {
     "data": {
      "text/plain": [
       "175296"
      ]
     },
     "execution_count": 19,
     "metadata": {},
     "output_type": "execute_result"
    }
   ],
   "source": [
    "len(x)"
   ]
  },
  {
   "cell_type": "code",
   "execution_count": 20,
   "id": "f42dba98",
   "metadata": {
    "ExecuteTime": {
     "end_time": "2022-02-22T06:14:49.712766Z",
     "start_time": "2022-02-22T06:14:49.696265Z"
    }
   },
   "outputs": [],
   "source": [
    "x_train = x.iloc[:int(len(x) * 0.90), :]\n",
    "x_val = x.iloc[int(len(x) * 0.90):, :]\n",
    "\n",
    "y_train = y.iloc[:int(len(y) * 0.90), :]\n",
    "y_val = y.iloc[int(len(y) * 0.90):, :]"
   ]
  },
  {
   "cell_type": "code",
   "execution_count": 21,
   "id": "d48fe21f",
   "metadata": {
    "ExecuteTime": {
     "end_time": "2022-02-22T06:14:49.721089Z",
     "start_time": "2022-02-22T06:14:49.712766Z"
    }
   },
   "outputs": [
    {
     "data": {
      "text/plain": [
       "(157766, 14)"
      ]
     },
     "execution_count": 21,
     "metadata": {},
     "output_type": "execute_result"
    }
   ],
   "source": [
    "x_train.shape"
   ]
  },
  {
   "cell_type": "code",
   "execution_count": 22,
   "id": "41f105c3",
   "metadata": {
    "ExecuteTime": {
     "end_time": "2022-02-22T06:14:49.737269Z",
     "start_time": "2022-02-22T06:14:49.721089Z"
    }
   },
   "outputs": [
    {
     "data": {
      "text/plain": [
       "(17530, 14)"
      ]
     },
     "execution_count": 22,
     "metadata": {},
     "output_type": "execute_result"
    }
   ],
   "source": [
    "x_val.shape"
   ]
  },
  {
   "cell_type": "code",
   "execution_count": 23,
   "id": "6414a647",
   "metadata": {
    "ExecuteTime": {
     "end_time": "2022-02-22T06:14:49.753513Z",
     "start_time": "2022-02-22T06:14:49.738946Z"
    }
   },
   "outputs": [
    {
     "data": {
      "text/plain": [
       "(157766, 3)"
      ]
     },
     "execution_count": 23,
     "metadata": {},
     "output_type": "execute_result"
    }
   ],
   "source": [
    "y_train.shape"
   ]
  },
  {
   "cell_type": "code",
   "execution_count": 24,
   "id": "698c920b",
   "metadata": {
    "ExecuteTime": {
     "end_time": "2022-02-22T06:14:49.762338Z",
     "start_time": "2022-02-22T06:14:49.755804Z"
    }
   },
   "outputs": [
    {
     "data": {
      "text/plain": [
       "(17530, 3)"
      ]
     },
     "execution_count": 24,
     "metadata": {},
     "output_type": "execute_result"
    }
   ],
   "source": [
    "y_val.shape"
   ]
  },
  {
   "cell_type": "markdown",
   "id": "22ee11d4",
   "metadata": {
    "ExecuteTime": {
     "end_time": "2022-02-20T08:16:13.649831Z",
     "start_time": "2022-02-20T08:16:13.635205Z"
    }
   },
   "source": [
    "# Creating Regression Tree"
   ]
  },
  {
   "cell_type": "code",
   "execution_count": 25,
   "id": "d23f447b",
   "metadata": {
    "ExecuteTime": {
     "end_time": "2022-02-22T06:14:49.989000Z",
     "start_time": "2022-02-22T06:14:49.762338Z"
    }
   },
   "outputs": [],
   "source": [
    "from sklearn.tree import DecisionTreeRegressor\n",
    "from sklearn.metrics import mean_squared_error\n",
    "from sklearn.tree import plot_tree\n",
    "from sklearn.model_selection import cross_val_score"
   ]
  },
  {
   "cell_type": "code",
   "execution_count": 26,
   "id": "420aa3df",
   "metadata": {
    "ExecuteTime": {
     "end_time": "2022-02-22T06:14:50.640012Z",
     "start_time": "2022-02-22T06:14:49.989000Z"
    }
   },
   "outputs": [],
   "source": [
    "regressionTree = DecisionTreeRegressor(max_depth=20, max_leaf_nodes=20000, max_features=10)\n",
    "regressionTree = regressionTree.fit(x_train, y_train)"
   ]
  },
  {
   "cell_type": "code",
   "execution_count": 27,
   "id": "05a781dc",
   "metadata": {
    "ExecuteTime": {
     "end_time": "2022-02-22T06:14:50.655863Z",
     "start_time": "2022-02-22T06:14:50.640012Z"
    }
   },
   "outputs": [],
   "source": [
    "y_pred_val = regressionTree.predict(x_val)"
   ]
  },
  {
   "cell_type": "code",
   "execution_count": 28,
   "id": "04de53dc",
   "metadata": {
    "ExecuteTime": {
     "end_time": "2022-02-22T06:14:50.667867Z",
     "start_time": "2022-02-22T06:14:50.655863Z"
    }
   },
   "outputs": [
    {
     "name": "stdout",
     "output_type": "stream",
     "text": [
      "Total MSE Score: 1718.3755769966567\n"
     ]
    }
   ],
   "source": [
    "print('Total MSE Score:', mean_squared_error(y_val, y_pred_val))"
   ]
  },
  {
   "cell_type": "code",
   "execution_count": 29,
   "id": "de09865e",
   "metadata": {
    "ExecuteTime": {
     "end_time": "2022-02-22T06:14:50.679590Z",
     "start_time": "2022-02-22T06:14:50.667867Z"
    }
   },
   "outputs": [
    {
     "data": {
      "text/html": [
       "<div>\n",
       "<style scoped>\n",
       "    .dataframe tbody tr th:only-of-type {\n",
       "        vertical-align: middle;\n",
       "    }\n",
       "\n",
       "    .dataframe tbody tr th {\n",
       "        vertical-align: top;\n",
       "    }\n",
       "\n",
       "    .dataframe thead th {\n",
       "        text-align: right;\n",
       "    }\n",
       "</style>\n",
       "<table border=\"1\" class=\"dataframe\">\n",
       "  <thead>\n",
       "    <tr style=\"text-align: right;\">\n",
       "      <th></th>\n",
       "      <th>Clearsky DHI</th>\n",
       "      <th>Clearsky DNI</th>\n",
       "      <th>Clearsky GHI</th>\n",
       "    </tr>\n",
       "  </thead>\n",
       "  <tbody>\n",
       "    <tr>\n",
       "      <th>0</th>\n",
       "      <td>87.750000</td>\n",
       "      <td>876.500000</td>\n",
       "      <td>545.750000</td>\n",
       "    </tr>\n",
       "    <tr>\n",
       "      <th>1</th>\n",
       "      <td>73.500000</td>\n",
       "      <td>893.500000</td>\n",
       "      <td>494.500000</td>\n",
       "    </tr>\n",
       "    <tr>\n",
       "      <th>2</th>\n",
       "      <td>76.750000</td>\n",
       "      <td>833.500000</td>\n",
       "      <td>441.500000</td>\n",
       "    </tr>\n",
       "    <tr>\n",
       "      <th>3</th>\n",
       "      <td>65.000000</td>\n",
       "      <td>820.000000</td>\n",
       "      <td>359.500000</td>\n",
       "    </tr>\n",
       "    <tr>\n",
       "      <th>4</th>\n",
       "      <td>56.068966</td>\n",
       "      <td>711.827586</td>\n",
       "      <td>242.689655</td>\n",
       "    </tr>\n",
       "  </tbody>\n",
       "</table>\n",
       "</div>"
      ],
      "text/plain": [
       "   Clearsky DHI  Clearsky DNI  Clearsky GHI\n",
       "0     87.750000    876.500000    545.750000\n",
       "1     73.500000    893.500000    494.500000\n",
       "2     76.750000    833.500000    441.500000\n",
       "3     65.000000    820.000000    359.500000\n",
       "4     56.068966    711.827586    242.689655"
      ]
     },
     "execution_count": 29,
     "metadata": {},
     "output_type": "execute_result"
    }
   ],
   "source": [
    "y_pred_val = pd.DataFrame(y_pred_val, columns=y_val.columns)\n",
    "y_pred_val.head()"
   ]
  },
  {
   "cell_type": "code",
   "execution_count": 30,
   "id": "3f803772",
   "metadata": {
    "ExecuteTime": {
     "end_time": "2022-02-22T06:14:50.692606Z",
     "start_time": "2022-02-22T06:14:50.679590Z"
    }
   },
   "outputs": [],
   "source": [
    "y_pred_val = y_pred_val.astype('int')"
   ]
  },
  {
   "cell_type": "code",
   "execution_count": 31,
   "id": "31e8e55f",
   "metadata": {
    "ExecuteTime": {
     "end_time": "2022-02-22T06:14:50.705575Z",
     "start_time": "2022-02-22T06:14:50.692606Z"
    }
   },
   "outputs": [
    {
     "data": {
      "text/html": [
       "<div>\n",
       "<style scoped>\n",
       "    .dataframe tbody tr th:only-of-type {\n",
       "        vertical-align: middle;\n",
       "    }\n",
       "\n",
       "    .dataframe tbody tr th {\n",
       "        vertical-align: top;\n",
       "    }\n",
       "\n",
       "    .dataframe thead th {\n",
       "        text-align: right;\n",
       "    }\n",
       "</style>\n",
       "<table border=\"1\" class=\"dataframe\">\n",
       "  <thead>\n",
       "    <tr style=\"text-align: right;\">\n",
       "      <th></th>\n",
       "      <th>Clearsky DHI</th>\n",
       "      <th>Clearsky DNI</th>\n",
       "      <th>Clearsky GHI</th>\n",
       "    </tr>\n",
       "  </thead>\n",
       "  <tbody>\n",
       "    <tr>\n",
       "      <th>0</th>\n",
       "      <td>87</td>\n",
       "      <td>876</td>\n",
       "      <td>545</td>\n",
       "    </tr>\n",
       "    <tr>\n",
       "      <th>1</th>\n",
       "      <td>73</td>\n",
       "      <td>893</td>\n",
       "      <td>494</td>\n",
       "    </tr>\n",
       "    <tr>\n",
       "      <th>2</th>\n",
       "      <td>76</td>\n",
       "      <td>833</td>\n",
       "      <td>441</td>\n",
       "    </tr>\n",
       "    <tr>\n",
       "      <th>3</th>\n",
       "      <td>65</td>\n",
       "      <td>820</td>\n",
       "      <td>359</td>\n",
       "    </tr>\n",
       "    <tr>\n",
       "      <th>4</th>\n",
       "      <td>56</td>\n",
       "      <td>711</td>\n",
       "      <td>242</td>\n",
       "    </tr>\n",
       "  </tbody>\n",
       "</table>\n",
       "</div>"
      ],
      "text/plain": [
       "   Clearsky DHI  Clearsky DNI  Clearsky GHI\n",
       "0            87           876           545\n",
       "1            73           893           494\n",
       "2            76           833           441\n",
       "3            65           820           359\n",
       "4            56           711           242"
      ]
     },
     "execution_count": 31,
     "metadata": {},
     "output_type": "execute_result"
    }
   ],
   "source": [
    "y_pred_val.head()"
   ]
  },
  {
   "cell_type": "code",
   "execution_count": 32,
   "id": "3a162ac6",
   "metadata": {
    "ExecuteTime": {
     "end_time": "2022-02-22T06:14:50.716328Z",
     "start_time": "2022-02-22T06:14:50.705575Z"
    }
   },
   "outputs": [
    {
     "data": {
      "text/html": [
       "<div>\n",
       "<style scoped>\n",
       "    .dataframe tbody tr th:only-of-type {\n",
       "        vertical-align: middle;\n",
       "    }\n",
       "\n",
       "    .dataframe tbody tr th {\n",
       "        vertical-align: top;\n",
       "    }\n",
       "\n",
       "    .dataframe thead th {\n",
       "        text-align: right;\n",
       "    }\n",
       "</style>\n",
       "<table border=\"1\" class=\"dataframe\">\n",
       "  <thead>\n",
       "    <tr style=\"text-align: right;\">\n",
       "      <th></th>\n",
       "      <th>Clearsky DHI</th>\n",
       "      <th>Clearsky DNI</th>\n",
       "      <th>Clearsky GHI</th>\n",
       "    </tr>\n",
       "  </thead>\n",
       "  <tbody>\n",
       "    <tr>\n",
       "      <th>157766</th>\n",
       "      <td>151</td>\n",
       "      <td>672</td>\n",
       "      <td>505</td>\n",
       "    </tr>\n",
       "    <tr>\n",
       "      <th>157767</th>\n",
       "      <td>144</td>\n",
       "      <td>642</td>\n",
       "      <td>456</td>\n",
       "    </tr>\n",
       "    <tr>\n",
       "      <th>157768</th>\n",
       "      <td>142</td>\n",
       "      <td>576</td>\n",
       "      <td>390</td>\n",
       "    </tr>\n",
       "    <tr>\n",
       "      <th>157769</th>\n",
       "      <td>128</td>\n",
       "      <td>518</td>\n",
       "      <td>318</td>\n",
       "    </tr>\n",
       "    <tr>\n",
       "      <th>157770</th>\n",
       "      <td>113</td>\n",
       "      <td>417</td>\n",
       "      <td>236</td>\n",
       "    </tr>\n",
       "  </tbody>\n",
       "</table>\n",
       "</div>"
      ],
      "text/plain": [
       "        Clearsky DHI  Clearsky DNI  Clearsky GHI\n",
       "157766           151           672           505\n",
       "157767           144           642           456\n",
       "157768           142           576           390\n",
       "157769           128           518           318\n",
       "157770           113           417           236"
      ]
     },
     "execution_count": 32,
     "metadata": {},
     "output_type": "execute_result"
    }
   ],
   "source": [
    "y_val.head()"
   ]
  },
  {
   "cell_type": "code",
   "execution_count": 33,
   "id": "58cd61e3",
   "metadata": {
    "ExecuteTime": {
     "end_time": "2022-02-22T06:14:50.732313Z",
     "start_time": "2022-02-22T06:14:50.716328Z"
    }
   },
   "outputs": [
    {
     "name": "stdout",
     "output_type": "stream",
     "text": [
      "Clearsky DHI MSE Score: 543.9267541357673\n",
      "Clearsky DNI MSE Score: 4384.178436965202\n",
      "Clearsky GHI MSE Score: 233.4469480889903\n"
     ]
    }
   ],
   "source": [
    "print('Clearsky DHI MSE Score:', mean_squared_error(y_val.iloc[:, 0], y_pred_val.iloc[:, 0]))\n",
    "print('Clearsky DNI MSE Score:', mean_squared_error(y_val.iloc[:, 1], y_pred_val.iloc[:, 1]))\n",
    "print('Clearsky GHI MSE Score:', mean_squared_error(y_val.iloc[:, 2], y_pred_val.iloc[:, 2]))"
   ]
  },
  {
   "cell_type": "code",
   "execution_count": 34,
   "id": "2feea70f",
   "metadata": {
    "ExecuteTime": {
     "end_time": "2022-02-22T06:14:50.741889Z",
     "start_time": "2022-02-22T06:14:50.732313Z"
    }
   },
   "outputs": [],
   "source": [
    "# plot_tree(regressionTree)"
   ]
  },
  {
   "cell_type": "code",
   "execution_count": 35,
   "id": "a4944d8f",
   "metadata": {
    "ExecuteTime": {
     "end_time": "2022-02-22T06:14:50.750628Z",
     "start_time": "2022-02-22T06:14:50.741889Z"
    }
   },
   "outputs": [
    {
     "data": {
      "text/plain": [
       "20"
      ]
     },
     "execution_count": 35,
     "metadata": {},
     "output_type": "execute_result"
    }
   ],
   "source": [
    "regressionTree.get_depth()"
   ]
  },
  {
   "cell_type": "code",
   "execution_count": 36,
   "id": "56235267",
   "metadata": {
    "ExecuteTime": {
     "end_time": "2022-02-22T06:14:50.768103Z",
     "start_time": "2022-02-22T06:14:50.750628Z"
    }
   },
   "outputs": [
    {
     "data": {
      "text/plain": [
       "20000"
      ]
     },
     "execution_count": 36,
     "metadata": {},
     "output_type": "execute_result"
    }
   ],
   "source": [
    "regressionTree.get_n_leaves()"
   ]
  },
  {
   "cell_type": "code",
   "execution_count": 37,
   "id": "786cc7ee",
   "metadata": {
    "ExecuteTime": {
     "end_time": "2022-02-22T06:14:50.781695Z",
     "start_time": "2022-02-22T06:14:50.770127Z"
    }
   },
   "outputs": [
    {
     "data": {
      "text/plain": [
       "10"
      ]
     },
     "execution_count": 37,
     "metadata": {},
     "output_type": "execute_result"
    }
   ],
   "source": [
    "regressionTree.max_features_"
   ]
  },
  {
   "cell_type": "markdown",
   "id": "342689b0",
   "metadata": {
    "ExecuteTime": {
     "end_time": "2022-02-20T10:32:05.204348Z",
     "start_time": "2022-02-20T10:32:05.196314Z"
    }
   },
   "source": [
    "# Pruning the decision tree"
   ]
  },
  {
   "cell_type": "code",
   "execution_count": 38,
   "id": "aeb27c55",
   "metadata": {
    "ExecuteTime": {
     "end_time": "2022-02-22T06:14:52.454501Z",
     "start_time": "2022-02-22T06:14:50.781695Z"
    }
   },
   "outputs": [
    {
     "data": {
      "text/plain": [
       "{'ccp_alphas': array([0.00000000e+00, 8.29106785e-03, 8.29166523e-03, ...,\n",
       "        2.70228257e+03, 5.49574814e+03, 6.95828029e+04]),\n",
       " 'impurities': array([  193.13749037,   193.14578144,   193.15407311, ...,\n",
       "         7569.21075196, 13064.95889077, 82647.76181685])}"
      ]
     },
     "execution_count": 38,
     "metadata": {},
     "output_type": "execute_result"
    }
   ],
   "source": [
    "path = regressionTree.cost_complexity_pruning_path(x_train, y_train)\n",
    "path"
   ]
  },
  {
   "cell_type": "code",
   "execution_count": 39,
   "id": "42e6ddbd",
   "metadata": {
    "ExecuteTime": {
     "end_time": "2022-02-22T06:14:52.470365Z",
     "start_time": "2022-02-22T06:14:52.454501Z"
    }
   },
   "outputs": [
    {
     "data": {
      "text/plain": [
       "(13753,)"
      ]
     },
     "execution_count": 39,
     "metadata": {},
     "output_type": "execute_result"
    }
   ],
   "source": [
    "path.ccp_alphas.shape"
   ]
  },
  {
   "cell_type": "code",
   "execution_count": 40,
   "id": "16f357e4",
   "metadata": {
    "ExecuteTime": {
     "end_time": "2022-02-22T06:14:52.484541Z",
     "start_time": "2022-02-22T06:14:52.470365Z"
    }
   },
   "outputs": [],
   "source": [
    "ccp_alphas = path.ccp_alphas"
   ]
  },
  {
   "cell_type": "code",
   "execution_count": 41,
   "id": "1f4e2539",
   "metadata": {
    "ExecuteTime": {
     "end_time": "2022-02-22T06:14:52.500545Z",
     "start_time": "2022-02-22T06:14:52.484541Z"
    }
   },
   "outputs": [
    {
     "data": {
      "text/plain": [
       "0.015865797024284912"
      ]
     },
     "execution_count": 41,
     "metadata": {},
     "output_type": "execute_result"
    }
   ],
   "source": [
    "alpha_random = ccp_alphas[np.random.randint(0, 14513)]\n",
    "alpha_random"
   ]
  },
  {
   "cell_type": "code",
   "execution_count": 42,
   "id": "5490d6ab",
   "metadata": {
    "ExecuteTime": {
     "end_time": "2022-02-22T06:14:54.298657Z",
     "start_time": "2022-02-22T06:14:52.500545Z"
    }
   },
   "outputs": [],
   "source": [
    "randomRegressionTree = DecisionTreeRegressor(max_depth=20, max_leaf_nodes=20000, ccp_alpha=0.9)\n",
    "randomRegressionTree = randomRegressionTree.fit(x_train, y_train)"
   ]
  },
  {
   "cell_type": "code",
   "execution_count": 43,
   "id": "bbf3dabf",
   "metadata": {
    "ExecuteTime": {
     "end_time": "2022-02-22T06:14:54.314261Z",
     "start_time": "2022-02-22T06:14:54.298657Z"
    }
   },
   "outputs": [],
   "source": [
    "y_pred_val_random = randomRegressionTree.predict(x_val)"
   ]
  },
  {
   "cell_type": "code",
   "execution_count": 44,
   "id": "941cc286",
   "metadata": {
    "ExecuteTime": {
     "end_time": "2022-02-22T06:14:54.330026Z",
     "start_time": "2022-02-22T06:14:54.314261Z"
    }
   },
   "outputs": [
    {
     "name": "stdout",
     "output_type": "stream",
     "text": [
      "Total MSE Score: 1078.4023689049136\n"
     ]
    }
   ],
   "source": [
    "print('Total MSE Score:', mean_squared_error(y_val, y_pred_val_random))"
   ]
  },
  {
   "cell_type": "code",
   "execution_count": 45,
   "id": "1f0b15e5",
   "metadata": {
    "ExecuteTime": {
     "end_time": "2022-02-22T06:14:54.345536Z",
     "start_time": "2022-02-22T06:14:54.330026Z"
    }
   },
   "outputs": [
    {
     "data": {
      "text/html": [
       "<div>\n",
       "<style scoped>\n",
       "    .dataframe tbody tr th:only-of-type {\n",
       "        vertical-align: middle;\n",
       "    }\n",
       "\n",
       "    .dataframe tbody tr th {\n",
       "        vertical-align: top;\n",
       "    }\n",
       "\n",
       "    .dataframe thead th {\n",
       "        text-align: right;\n",
       "    }\n",
       "</style>\n",
       "<table border=\"1\" class=\"dataframe\">\n",
       "  <thead>\n",
       "    <tr style=\"text-align: right;\">\n",
       "      <th></th>\n",
       "      <th>Clearsky DHI</th>\n",
       "      <th>Clearsky DNI</th>\n",
       "      <th>Clearsky GHI</th>\n",
       "    </tr>\n",
       "  </thead>\n",
       "  <tbody>\n",
       "    <tr>\n",
       "      <th>0</th>\n",
       "      <td>90.579760</td>\n",
       "      <td>851.476844</td>\n",
       "      <td>528.178388</td>\n",
       "    </tr>\n",
       "    <tr>\n",
       "      <th>1</th>\n",
       "      <td>94.592814</td>\n",
       "      <td>794.844311</td>\n",
       "      <td>468.425150</td>\n",
       "    </tr>\n",
       "    <tr>\n",
       "      <th>2</th>\n",
       "      <td>91.466819</td>\n",
       "      <td>741.151030</td>\n",
       "      <td>401.931350</td>\n",
       "    </tr>\n",
       "    <tr>\n",
       "      <th>3</th>\n",
       "      <td>85.898649</td>\n",
       "      <td>662.243243</td>\n",
       "      <td>318.948198</td>\n",
       "    </tr>\n",
       "    <tr>\n",
       "      <th>4</th>\n",
       "      <td>65.827338</td>\n",
       "      <td>657.805755</td>\n",
       "      <td>244.467626</td>\n",
       "    </tr>\n",
       "  </tbody>\n",
       "</table>\n",
       "</div>"
      ],
      "text/plain": [
       "   Clearsky DHI  Clearsky DNI  Clearsky GHI\n",
       "0     90.579760    851.476844    528.178388\n",
       "1     94.592814    794.844311    468.425150\n",
       "2     91.466819    741.151030    401.931350\n",
       "3     85.898649    662.243243    318.948198\n",
       "4     65.827338    657.805755    244.467626"
      ]
     },
     "execution_count": 45,
     "metadata": {},
     "output_type": "execute_result"
    }
   ],
   "source": [
    "y_pred_val_random = pd.DataFrame(y_pred_val_random, columns=y_val.columns)\n",
    "y_pred_val_random.head()"
   ]
  },
  {
   "cell_type": "code",
   "execution_count": 46,
   "id": "7e26f0a5",
   "metadata": {
    "ExecuteTime": {
     "end_time": "2022-02-22T06:14:54.361251Z",
     "start_time": "2022-02-22T06:14:54.345536Z"
    }
   },
   "outputs": [],
   "source": [
    "y_pred_val_random = y_pred_val_random.astype('int')"
   ]
  },
  {
   "cell_type": "code",
   "execution_count": 47,
   "id": "11442b99",
   "metadata": {
    "ExecuteTime": {
     "end_time": "2022-02-22T06:14:54.376845Z",
     "start_time": "2022-02-22T06:14:54.361251Z"
    }
   },
   "outputs": [
    {
     "data": {
      "text/html": [
       "<div>\n",
       "<style scoped>\n",
       "    .dataframe tbody tr th:only-of-type {\n",
       "        vertical-align: middle;\n",
       "    }\n",
       "\n",
       "    .dataframe tbody tr th {\n",
       "        vertical-align: top;\n",
       "    }\n",
       "\n",
       "    .dataframe thead th {\n",
       "        text-align: right;\n",
       "    }\n",
       "</style>\n",
       "<table border=\"1\" class=\"dataframe\">\n",
       "  <thead>\n",
       "    <tr style=\"text-align: right;\">\n",
       "      <th></th>\n",
       "      <th>Clearsky DHI</th>\n",
       "      <th>Clearsky DNI</th>\n",
       "      <th>Clearsky GHI</th>\n",
       "    </tr>\n",
       "  </thead>\n",
       "  <tbody>\n",
       "    <tr>\n",
       "      <th>0</th>\n",
       "      <td>90</td>\n",
       "      <td>851</td>\n",
       "      <td>528</td>\n",
       "    </tr>\n",
       "    <tr>\n",
       "      <th>1</th>\n",
       "      <td>94</td>\n",
       "      <td>794</td>\n",
       "      <td>468</td>\n",
       "    </tr>\n",
       "    <tr>\n",
       "      <th>2</th>\n",
       "      <td>91</td>\n",
       "      <td>741</td>\n",
       "      <td>401</td>\n",
       "    </tr>\n",
       "    <tr>\n",
       "      <th>3</th>\n",
       "      <td>85</td>\n",
       "      <td>662</td>\n",
       "      <td>318</td>\n",
       "    </tr>\n",
       "    <tr>\n",
       "      <th>4</th>\n",
       "      <td>65</td>\n",
       "      <td>657</td>\n",
       "      <td>244</td>\n",
       "    </tr>\n",
       "  </tbody>\n",
       "</table>\n",
       "</div>"
      ],
      "text/plain": [
       "   Clearsky DHI  Clearsky DNI  Clearsky GHI\n",
       "0            90           851           528\n",
       "1            94           794           468\n",
       "2            91           741           401\n",
       "3            85           662           318\n",
       "4            65           657           244"
      ]
     },
     "execution_count": 47,
     "metadata": {},
     "output_type": "execute_result"
    }
   ],
   "source": [
    "y_pred_val_random.head()"
   ]
  },
  {
   "cell_type": "code",
   "execution_count": 48,
   "id": "6aaa4611",
   "metadata": {
    "ExecuteTime": {
     "end_time": "2022-02-22T06:14:54.392268Z",
     "start_time": "2022-02-22T06:14:54.376845Z"
    }
   },
   "outputs": [
    {
     "name": "stdout",
     "output_type": "stream",
     "text": [
      "Clearsky DHI MSE Score: 282.28893325727324\n",
      "Clearsky DNI MSE Score: 2698.0419851682827\n",
      "Clearsky GHI MSE Score: 262.83588134626353\n"
     ]
    }
   ],
   "source": [
    "print('Clearsky DHI MSE Score:', mean_squared_error(y_val.iloc[:, 0], y_pred_val_random.iloc[:, 0]))\n",
    "print('Clearsky DNI MSE Score:', mean_squared_error(y_val.iloc[:, 1], y_pred_val_random.iloc[:, 1]))\n",
    "print('Clearsky GHI MSE Score:', mean_squared_error(y_val.iloc[:, 2], y_pred_val_random.iloc[:, 2]))"
   ]
  },
  {
   "cell_type": "markdown",
   "id": "a859432b",
   "metadata": {
    "ExecuteTime": {
     "end_time": "2022-02-22T06:15:19.933628Z",
     "start_time": "2022-02-22T06:15:19.917405Z"
    }
   },
   "source": [
    "# Applying Random Forest"
   ]
  },
  {
   "cell_type": "code",
   "execution_count": 49,
   "id": "9b6abe36",
   "metadata": {
    "ExecuteTime": {
     "end_time": "2022-02-22T06:39:12.014903Z",
     "start_time": "2022-02-22T06:39:11.999618Z"
    }
   },
   "outputs": [],
   "source": [
    "from sklearn.ensemble import RandomForestRegressor\n",
    "randomForest = RandomForestRegressor(n_estimators=100)"
   ]
  },
  {
   "cell_type": "code",
   "execution_count": 50,
   "id": "256a13a7",
   "metadata": {
    "ExecuteTime": {
     "end_time": "2022-02-22T06:39:49.794389Z",
     "start_time": "2022-02-22T06:39:12.017095Z"
    }
   },
   "outputs": [],
   "source": [
    "randomForest = randomForest.fit(x_train, y_train)"
   ]
  },
  {
   "cell_type": "code",
   "execution_count": 51,
   "id": "ad4d2e86",
   "metadata": {
    "ExecuteTime": {
     "end_time": "2022-02-22T06:39:50.182345Z",
     "start_time": "2022-02-22T06:39:49.794389Z"
    }
   },
   "outputs": [],
   "source": [
    "y_pred_val_forest = randomForest.predict(x_val)"
   ]
  },
  {
   "cell_type": "code",
   "execution_count": 52,
   "id": "43739e56",
   "metadata": {
    "ExecuteTime": {
     "end_time": "2022-02-22T06:39:50.198072Z",
     "start_time": "2022-02-22T06:39:50.182345Z"
    }
   },
   "outputs": [
    {
     "data": {
      "text/html": [
       "<div>\n",
       "<style scoped>\n",
       "    .dataframe tbody tr th:only-of-type {\n",
       "        vertical-align: middle;\n",
       "    }\n",
       "\n",
       "    .dataframe tbody tr th {\n",
       "        vertical-align: top;\n",
       "    }\n",
       "\n",
       "    .dataframe thead th {\n",
       "        text-align: right;\n",
       "    }\n",
       "</style>\n",
       "<table border=\"1\" class=\"dataframe\">\n",
       "  <thead>\n",
       "    <tr style=\"text-align: right;\">\n",
       "      <th></th>\n",
       "      <th>Clearsky DHI</th>\n",
       "      <th>Clearsky DNI</th>\n",
       "      <th>Clearsky GHI</th>\n",
       "    </tr>\n",
       "  </thead>\n",
       "  <tbody>\n",
       "    <tr>\n",
       "      <th>0</th>\n",
       "      <td>97.99</td>\n",
       "      <td>845.95</td>\n",
       "      <td>542.94</td>\n",
       "    </tr>\n",
       "    <tr>\n",
       "      <th>1</th>\n",
       "      <td>114.05</td>\n",
       "      <td>745.69</td>\n",
       "      <td>474.47</td>\n",
       "    </tr>\n",
       "    <tr>\n",
       "      <th>2</th>\n",
       "      <td>84.53</td>\n",
       "      <td>789.32</td>\n",
       "      <td>422.07</td>\n",
       "    </tr>\n",
       "    <tr>\n",
       "      <th>3</th>\n",
       "      <td>83.08</td>\n",
       "      <td>715.70</td>\n",
       "      <td>344.51</td>\n",
       "    </tr>\n",
       "    <tr>\n",
       "      <th>4</th>\n",
       "      <td>63.98</td>\n",
       "      <td>706.15</td>\n",
       "      <td>268.85</td>\n",
       "    </tr>\n",
       "  </tbody>\n",
       "</table>\n",
       "</div>"
      ],
      "text/plain": [
       "   Clearsky DHI  Clearsky DNI  Clearsky GHI\n",
       "0         97.99        845.95        542.94\n",
       "1        114.05        745.69        474.47\n",
       "2         84.53        789.32        422.07\n",
       "3         83.08        715.70        344.51\n",
       "4         63.98        706.15        268.85"
      ]
     },
     "execution_count": 52,
     "metadata": {},
     "output_type": "execute_result"
    }
   ],
   "source": [
    "y_pred_val_forest = pd.DataFrame(y_pred_val_forest, columns=y_val.columns)\n",
    "y_pred_val_forest.head()"
   ]
  },
  {
   "cell_type": "code",
   "execution_count": 53,
   "id": "22dd9be3",
   "metadata": {
    "ExecuteTime": {
     "end_time": "2022-02-22T06:39:50.214103Z",
     "start_time": "2022-02-22T06:39:50.198072Z"
    }
   },
   "outputs": [],
   "source": [
    "y_pred_val_forest = y_pred_val_forest.astype('int')"
   ]
  },
  {
   "cell_type": "code",
   "execution_count": 54,
   "id": "4c997cff",
   "metadata": {
    "ExecuteTime": {
     "end_time": "2022-02-22T06:39:50.230073Z",
     "start_time": "2022-02-22T06:39:50.214103Z"
    }
   },
   "outputs": [
    {
     "data": {
      "text/plain": [
       "1012.7409013120364"
      ]
     },
     "execution_count": 54,
     "metadata": {},
     "output_type": "execute_result"
    }
   ],
   "source": [
    "mean_squared_error(y_val, y_pred_val_forest)"
   ]
  },
  {
   "cell_type": "markdown",
   "id": "fe333e38",
   "metadata": {
    "ExecuteTime": {
     "end_time": "2022-02-22T06:42:37.958660Z",
     "start_time": "2022-02-22T06:42:37.942657Z"
    }
   },
   "source": [
    "# Regression using AdaBoost"
   ]
  },
  {
   "cell_type": "code",
   "execution_count": 55,
   "id": "3419f38a",
   "metadata": {
    "ExecuteTime": {
     "end_time": "2022-02-22T06:53:20.609518Z",
     "start_time": "2022-02-22T06:52:48.449446Z"
    }
   },
   "outputs": [],
   "source": [
    "from sklearn.multioutput import MultiOutputRegressor\n",
    "from sklearn.ensemble import AdaBoostRegressor\n",
    "adaBoost = MultiOutputRegressor(AdaBoostRegressor())\n",
    "adaBoost = adaBoost.fit(x_train, y_train)"
   ]
  },
  {
   "cell_type": "code",
   "execution_count": 56,
   "id": "fefaf619",
   "metadata": {
    "ExecuteTime": {
     "end_time": "2022-02-22T06:57:47.133073Z",
     "start_time": "2022-02-22T06:57:46.880407Z"
    }
   },
   "outputs": [],
   "source": [
    "y_pred_val_adaboost = adaBoost.predict(x_val)"
   ]
  },
  {
   "cell_type": "code",
   "execution_count": 57,
   "id": "bc8d9f78",
   "metadata": {
    "ExecuteTime": {
     "end_time": "2022-02-22T06:57:57.493334Z",
     "start_time": "2022-02-22T06:57:57.477430Z"
    }
   },
   "outputs": [
    {
     "data": {
      "text/plain": [
       "2926.841541355597"
      ]
     },
     "execution_count": 57,
     "metadata": {},
     "output_type": "execute_result"
    }
   ],
   "source": [
    "mean_squared_error(y_val, y_pred_val_adaboost)"
   ]
  },
  {
   "cell_type": "markdown",
   "id": "dedd0f20",
   "metadata": {
    "ExecuteTime": {
     "end_time": "2022-02-22T07:01:50.355922Z",
     "start_time": "2022-02-22T07:01:50.347580Z"
    }
   },
   "source": [
    "# Regression using Gradient Boost"
   ]
  },
  {
   "cell_type": "code",
   "execution_count": 58,
   "id": "0e6079b0",
   "metadata": {
    "ExecuteTime": {
     "end_time": "2022-02-22T07:18:39.890629Z",
     "start_time": "2022-02-22T07:17:42.376736Z"
    }
   },
   "outputs": [],
   "source": [
    "from sklearn.ensemble import GradientBoostingRegressor\n",
    "gradientBoost = MultiOutputRegressor(GradientBoostingRegressor())\n",
    "gradientBoost = gradientBoost.fit(x_train, y_train)"
   ]
  },
  {
   "cell_type": "code",
   "execution_count": 59,
   "id": "39083817",
   "metadata": {
    "ExecuteTime": {
     "end_time": "2022-02-22T07:19:05.286352Z",
     "start_time": "2022-02-22T07:19:05.211156Z"
    }
   },
   "outputs": [],
   "source": [
    "y_pred_val_gradientboost = gradientBoost.predict(x_val)"
   ]
  },
  {
   "cell_type": "code",
   "execution_count": 60,
   "id": "b2f097e3",
   "metadata": {
    "ExecuteTime": {
     "end_time": "2022-02-22T08:29:00.660950Z",
     "start_time": "2022-02-22T08:29:00.643995Z"
    }
   },
   "outputs": [],
   "source": [
    "y_pred_val_gradientboost = pd.DataFrame(y_pred_val_gradientboost, columns=y_val.columns)"
   ]
  },
  {
   "cell_type": "code",
   "execution_count": 61,
   "id": "59ea71ee",
   "metadata": {},
   "outputs": [],
   "source": [
    "for col in y_pred_val_gradientboost:\n",
    "    for i in range(len(y_pred_val_gradientboost[col])):\n",
    "        if y_pred_val_gradientboost.loc[i, col] < 0:\n",
    "            y_pred_val_gradientboost.loc[i, col] = 0"
   ]
  },
  {
   "cell_type": "code",
   "execution_count": 62,
   "id": "65a90356",
   "metadata": {
    "ExecuteTime": {
     "end_time": "2022-02-22T08:29:12.229071Z",
     "start_time": "2022-02-22T08:29:12.211119Z"
    }
   },
   "outputs": [],
   "source": [
    "y_pred_val_gradientboost = y_pred_val_gradientboost.astype('int')"
   ]
  },
  {
   "cell_type": "code",
   "execution_count": 63,
   "id": "77c4fcae",
   "metadata": {
    "ExecuteTime": {
     "end_time": "2022-02-22T08:29:29.993370Z",
     "start_time": "2022-02-22T08:29:29.986388Z"
    }
   },
   "outputs": [
    {
     "data": {
      "text/plain": [
       "918.5106674272678"
      ]
     },
     "execution_count": 63,
     "metadata": {},
     "output_type": "execute_result"
    }
   ],
   "source": [
    "mean_squared_error(y_val, y_pred_val_gradientboost)"
   ]
  },
  {
   "cell_type": "code",
   "execution_count": 64,
   "id": "b34bcbf3",
   "metadata": {
    "ExecuteTime": {
     "end_time": "2022-02-22T08:29:15.954019Z",
     "start_time": "2022-02-22T08:29:15.944046Z"
    }
   },
   "outputs": [
    {
     "name": "stdout",
     "output_type": "stream",
     "text": [
      "Clearsky DHI MSE Score: 261.73536794067314\n",
      "Clearsky DNI MSE Score: 2366.1725613234457\n",
      "Clearsky GHI MSE Score: 127.62407301768397\n"
     ]
    }
   ],
   "source": [
    "print('Clearsky DHI MSE Score:', mean_squared_error(y_val.iloc[:, 0], y_pred_val_gradientboost.iloc[:, 0]))\n",
    "print('Clearsky DNI MSE Score:', mean_squared_error(y_val.iloc[:, 1], y_pred_val_gradientboost.iloc[:, 1]))\n",
    "print('Clearsky GHI MSE Score:', mean_squared_error(y_val.iloc[:, 2], y_pred_val_gradientboost.iloc[:, 2]))"
   ]
  },
  {
   "cell_type": "markdown",
   "id": "932309fe",
   "metadata": {},
   "source": [
    "# Importing test data"
   ]
  },
  {
   "cell_type": "code",
   "execution_count": 65,
   "id": "6c039419",
   "metadata": {},
   "outputs": [
    {
     "data": {
      "text/html": [
       "<div>\n",
       "<style scoped>\n",
       "    .dataframe tbody tr th:only-of-type {\n",
       "        vertical-align: middle;\n",
       "    }\n",
       "\n",
       "    .dataframe tbody tr th {\n",
       "        vertical-align: top;\n",
       "    }\n",
       "\n",
       "    .dataframe thead th {\n",
       "        text-align: right;\n",
       "    }\n",
       "</style>\n",
       "<table border=\"1\" class=\"dataframe\">\n",
       "  <thead>\n",
       "    <tr style=\"text-align: right;\">\n",
       "      <th></th>\n",
       "      <th>Year</th>\n",
       "      <th>Month</th>\n",
       "      <th>Day</th>\n",
       "      <th>Hour</th>\n",
       "      <th>Minute</th>\n",
       "      <th>Cloud Type</th>\n",
       "      <th>Dew Point</th>\n",
       "      <th>Temperature</th>\n",
       "      <th>Pressure</th>\n",
       "      <th>Relative Humidity</th>\n",
       "      <th>Solar Zenith Angle</th>\n",
       "      <th>Precipitable Water</th>\n",
       "      <th>Wind Direction</th>\n",
       "      <th>Wind Speed</th>\n",
       "      <th>Fill Flag</th>\n",
       "      <th>Clearsky DHI</th>\n",
       "      <th>Clearsky DNI</th>\n",
       "      <th>Clearsky GHI</th>\n",
       "    </tr>\n",
       "  </thead>\n",
       "  <tbody>\n",
       "    <tr>\n",
       "      <th>0</th>\n",
       "      <td>2019</td>\n",
       "      <td>1</td>\n",
       "      <td>1</td>\n",
       "      <td>0</td>\n",
       "      <td>0</td>\n",
       "      <td>7</td>\n",
       "      <td>18.4</td>\n",
       "      <td>18.8</td>\n",
       "      <td>1008</td>\n",
       "      <td>97.70</td>\n",
       "      <td>106.23</td>\n",
       "      <td>3.5</td>\n",
       "      <td>190</td>\n",
       "      <td>2.3</td>\n",
       "      <td>0</td>\n",
       "      <td>NaN</td>\n",
       "      <td>NaN</td>\n",
       "      <td>NaN</td>\n",
       "    </tr>\n",
       "    <tr>\n",
       "      <th>1</th>\n",
       "      <td>2019</td>\n",
       "      <td>1</td>\n",
       "      <td>1</td>\n",
       "      <td>0</td>\n",
       "      <td>30</td>\n",
       "      <td>3</td>\n",
       "      <td>18.4</td>\n",
       "      <td>18.6</td>\n",
       "      <td>1008</td>\n",
       "      <td>98.92</td>\n",
       "      <td>112.36</td>\n",
       "      <td>3.5</td>\n",
       "      <td>187</td>\n",
       "      <td>2.5</td>\n",
       "      <td>0</td>\n",
       "      <td>NaN</td>\n",
       "      <td>NaN</td>\n",
       "      <td>NaN</td>\n",
       "    </tr>\n",
       "    <tr>\n",
       "      <th>2</th>\n",
       "      <td>2019</td>\n",
       "      <td>1</td>\n",
       "      <td>1</td>\n",
       "      <td>1</td>\n",
       "      <td>0</td>\n",
       "      <td>3</td>\n",
       "      <td>18.2</td>\n",
       "      <td>18.5</td>\n",
       "      <td>1008</td>\n",
       "      <td>98.35</td>\n",
       "      <td>118.58</td>\n",
       "      <td>3.5</td>\n",
       "      <td>184</td>\n",
       "      <td>2.8</td>\n",
       "      <td>0</td>\n",
       "      <td>NaN</td>\n",
       "      <td>NaN</td>\n",
       "      <td>NaN</td>\n",
       "    </tr>\n",
       "    <tr>\n",
       "      <th>3</th>\n",
       "      <td>2019</td>\n",
       "      <td>1</td>\n",
       "      <td>1</td>\n",
       "      <td>1</td>\n",
       "      <td>30</td>\n",
       "      <td>3</td>\n",
       "      <td>18.2</td>\n",
       "      <td>18.3</td>\n",
       "      <td>1008</td>\n",
       "      <td>99.58</td>\n",
       "      <td>124.86</td>\n",
       "      <td>3.5</td>\n",
       "      <td>185</td>\n",
       "      <td>3.0</td>\n",
       "      <td>0</td>\n",
       "      <td>NaN</td>\n",
       "      <td>NaN</td>\n",
       "      <td>NaN</td>\n",
       "    </tr>\n",
       "    <tr>\n",
       "      <th>4</th>\n",
       "      <td>2019</td>\n",
       "      <td>1</td>\n",
       "      <td>1</td>\n",
       "      <td>2</td>\n",
       "      <td>0</td>\n",
       "      <td>0</td>\n",
       "      <td>18.0</td>\n",
       "      <td>18.0</td>\n",
       "      <td>1008</td>\n",
       "      <td>99.71</td>\n",
       "      <td>131.20</td>\n",
       "      <td>3.6</td>\n",
       "      <td>186</td>\n",
       "      <td>3.1</td>\n",
       "      <td>0</td>\n",
       "      <td>NaN</td>\n",
       "      <td>NaN</td>\n",
       "      <td>NaN</td>\n",
       "    </tr>\n",
       "  </tbody>\n",
       "</table>\n",
       "</div>"
      ],
      "text/plain": [
       "   Year  Month  Day  Hour  Minute  Cloud Type  Dew Point  Temperature  \\\n",
       "0  2019      1    1     0       0           7       18.4         18.8   \n",
       "1  2019      1    1     0      30           3       18.4         18.6   \n",
       "2  2019      1    1     1       0           3       18.2         18.5   \n",
       "3  2019      1    1     1      30           3       18.2         18.3   \n",
       "4  2019      1    1     2       0           0       18.0         18.0   \n",
       "\n",
       "   Pressure  Relative Humidity  Solar Zenith Angle  Precipitable Water  \\\n",
       "0      1008              97.70              106.23                 3.5   \n",
       "1      1008              98.92              112.36                 3.5   \n",
       "2      1008              98.35              118.58                 3.5   \n",
       "3      1008              99.58              124.86                 3.5   \n",
       "4      1008              99.71              131.20                 3.6   \n",
       "\n",
       "   Wind Direction  Wind Speed  Fill Flag  Clearsky DHI  Clearsky DNI  \\\n",
       "0             190         2.3          0           NaN           NaN   \n",
       "1             187         2.5          0           NaN           NaN   \n",
       "2             184         2.8          0           NaN           NaN   \n",
       "3             185         3.0          0           NaN           NaN   \n",
       "4             186         3.1          0           NaN           NaN   \n",
       "\n",
       "   Clearsky GHI  \n",
       "0           NaN  \n",
       "1           NaN  \n",
       "2           NaN  \n",
       "3           NaN  \n",
       "4           NaN  "
      ]
     },
     "execution_count": 65,
     "metadata": {},
     "output_type": "execute_result"
    }
   ],
   "source": [
    "df_test = pd.read_csv(r\"C:\\Users\\ariha\\Desktop\\Hackathons & Projects\\Wipro Hackathon\\Data + Sample Submission\\test.csv\")\n",
    "df_test.head()"
   ]
  },
  {
   "cell_type": "code",
   "execution_count": 66,
   "id": "db3b5dbc",
   "metadata": {},
   "outputs": [
    {
     "data": {
      "text/html": [
       "<div>\n",
       "<style scoped>\n",
       "    .dataframe tbody tr th:only-of-type {\n",
       "        vertical-align: middle;\n",
       "    }\n",
       "\n",
       "    .dataframe tbody tr th {\n",
       "        vertical-align: top;\n",
       "    }\n",
       "\n",
       "    .dataframe thead th {\n",
       "        text-align: right;\n",
       "    }\n",
       "</style>\n",
       "<table border=\"1\" class=\"dataframe\">\n",
       "  <thead>\n",
       "    <tr style=\"text-align: right;\">\n",
       "      <th></th>\n",
       "      <th>Cloud Type</th>\n",
       "      <th>Temperature</th>\n",
       "      <th>Relative Humidity</th>\n",
       "      <th>Solar Zenith Angle</th>\n",
       "      <th>Wind Speed</th>\n",
       "    </tr>\n",
       "  </thead>\n",
       "  <tbody>\n",
       "    <tr>\n",
       "      <th>0</th>\n",
       "      <td>7</td>\n",
       "      <td>18.8</td>\n",
       "      <td>97.70</td>\n",
       "      <td>106.23</td>\n",
       "      <td>2.3</td>\n",
       "    </tr>\n",
       "    <tr>\n",
       "      <th>1</th>\n",
       "      <td>3</td>\n",
       "      <td>18.6</td>\n",
       "      <td>98.92</td>\n",
       "      <td>112.36</td>\n",
       "      <td>2.5</td>\n",
       "    </tr>\n",
       "    <tr>\n",
       "      <th>2</th>\n",
       "      <td>3</td>\n",
       "      <td>18.5</td>\n",
       "      <td>98.35</td>\n",
       "      <td>118.58</td>\n",
       "      <td>2.8</td>\n",
       "    </tr>\n",
       "    <tr>\n",
       "      <th>3</th>\n",
       "      <td>3</td>\n",
       "      <td>18.3</td>\n",
       "      <td>99.58</td>\n",
       "      <td>124.86</td>\n",
       "      <td>3.0</td>\n",
       "    </tr>\n",
       "    <tr>\n",
       "      <th>4</th>\n",
       "      <td>0</td>\n",
       "      <td>18.0</td>\n",
       "      <td>99.71</td>\n",
       "      <td>131.20</td>\n",
       "      <td>3.1</td>\n",
       "    </tr>\n",
       "  </tbody>\n",
       "</table>\n",
       "</div>"
      ],
      "text/plain": [
       "   Cloud Type  Temperature  Relative Humidity  Solar Zenith Angle  Wind Speed\n",
       "0           7         18.8              97.70              106.23         2.3\n",
       "1           3         18.6              98.92              112.36         2.5\n",
       "2           3         18.5              98.35              118.58         2.8\n",
       "3           3         18.3              99.58              124.86         3.0\n",
       "4           0         18.0              99.71              131.20         3.1"
      ]
     },
     "execution_count": 66,
     "metadata": {},
     "output_type": "execute_result"
    }
   ],
   "source": [
    "df_test.drop(columns=['Year', 'Month', 'Day', 'Hour', 'Minute', 'Dew Point', 'Pressure', 'Precipitable Water', 'Wind Direction', 'Fill Flag', 'Clearsky DHI', 'Clearsky DNI', 'Clearsky GHI'], axis=1, inplace=True)\n",
    "df_test.head()"
   ]
  },
  {
   "cell_type": "code",
   "execution_count": 67,
   "id": "02460e80",
   "metadata": {},
   "outputs": [
    {
     "data": {
      "text/html": [
       "<div>\n",
       "<style scoped>\n",
       "    .dataframe tbody tr th:only-of-type {\n",
       "        vertical-align: middle;\n",
       "    }\n",
       "\n",
       "    .dataframe tbody tr th {\n",
       "        vertical-align: top;\n",
       "    }\n",
       "\n",
       "    .dataframe thead th {\n",
       "        text-align: right;\n",
       "    }\n",
       "</style>\n",
       "<table border=\"1\" class=\"dataframe\">\n",
       "  <thead>\n",
       "    <tr style=\"text-align: right;\">\n",
       "      <th></th>\n",
       "      <th>Temperature</th>\n",
       "      <th>Relative Humidity</th>\n",
       "      <th>Solar Zenith Angle</th>\n",
       "      <th>Wind Speed</th>\n",
       "      <th>Cloud Type_0</th>\n",
       "      <th>Cloud Type_2</th>\n",
       "      <th>Cloud Type_3</th>\n",
       "      <th>Cloud Type_4</th>\n",
       "      <th>Cloud Type_6</th>\n",
       "      <th>Cloud Type_7</th>\n",
       "      <th>Cloud Type_8</th>\n",
       "      <th>Cloud Type_9</th>\n",
       "    </tr>\n",
       "  </thead>\n",
       "  <tbody>\n",
       "    <tr>\n",
       "      <th>0</th>\n",
       "      <td>18.8</td>\n",
       "      <td>97.70</td>\n",
       "      <td>106.23</td>\n",
       "      <td>2.3</td>\n",
       "      <td>0</td>\n",
       "      <td>0</td>\n",
       "      <td>0</td>\n",
       "      <td>0</td>\n",
       "      <td>0</td>\n",
       "      <td>1</td>\n",
       "      <td>0</td>\n",
       "      <td>0</td>\n",
       "    </tr>\n",
       "    <tr>\n",
       "      <th>1</th>\n",
       "      <td>18.6</td>\n",
       "      <td>98.92</td>\n",
       "      <td>112.36</td>\n",
       "      <td>2.5</td>\n",
       "      <td>0</td>\n",
       "      <td>0</td>\n",
       "      <td>1</td>\n",
       "      <td>0</td>\n",
       "      <td>0</td>\n",
       "      <td>0</td>\n",
       "      <td>0</td>\n",
       "      <td>0</td>\n",
       "    </tr>\n",
       "    <tr>\n",
       "      <th>2</th>\n",
       "      <td>18.5</td>\n",
       "      <td>98.35</td>\n",
       "      <td>118.58</td>\n",
       "      <td>2.8</td>\n",
       "      <td>0</td>\n",
       "      <td>0</td>\n",
       "      <td>1</td>\n",
       "      <td>0</td>\n",
       "      <td>0</td>\n",
       "      <td>0</td>\n",
       "      <td>0</td>\n",
       "      <td>0</td>\n",
       "    </tr>\n",
       "    <tr>\n",
       "      <th>3</th>\n",
       "      <td>18.3</td>\n",
       "      <td>99.58</td>\n",
       "      <td>124.86</td>\n",
       "      <td>3.0</td>\n",
       "      <td>0</td>\n",
       "      <td>0</td>\n",
       "      <td>1</td>\n",
       "      <td>0</td>\n",
       "      <td>0</td>\n",
       "      <td>0</td>\n",
       "      <td>0</td>\n",
       "      <td>0</td>\n",
       "    </tr>\n",
       "    <tr>\n",
       "      <th>4</th>\n",
       "      <td>18.0</td>\n",
       "      <td>99.71</td>\n",
       "      <td>131.20</td>\n",
       "      <td>3.1</td>\n",
       "      <td>1</td>\n",
       "      <td>0</td>\n",
       "      <td>0</td>\n",
       "      <td>0</td>\n",
       "      <td>0</td>\n",
       "      <td>0</td>\n",
       "      <td>0</td>\n",
       "      <td>0</td>\n",
       "    </tr>\n",
       "  </tbody>\n",
       "</table>\n",
       "</div>"
      ],
      "text/plain": [
       "   Temperature  Relative Humidity  Solar Zenith Angle  Wind Speed  \\\n",
       "0         18.8              97.70              106.23         2.3   \n",
       "1         18.6              98.92              112.36         2.5   \n",
       "2         18.5              98.35              118.58         2.8   \n",
       "3         18.3              99.58              124.86         3.0   \n",
       "4         18.0              99.71              131.20         3.1   \n",
       "\n",
       "   Cloud Type_0  Cloud Type_2  Cloud Type_3  Cloud Type_4  Cloud Type_6  \\\n",
       "0             0             0             0             0             0   \n",
       "1             0             0             1             0             0   \n",
       "2             0             0             1             0             0   \n",
       "3             0             0             1             0             0   \n",
       "4             1             0             0             0             0   \n",
       "\n",
       "   Cloud Type_7  Cloud Type_8  Cloud Type_9  \n",
       "0             1             0             0  \n",
       "1             0             0             0  \n",
       "2             0             0             0  \n",
       "3             0             0             0  \n",
       "4             0             0             0  "
      ]
     },
     "execution_count": 67,
     "metadata": {},
     "output_type": "execute_result"
    }
   ],
   "source": [
    "df_test = pd.get_dummies(df_test, columns=['Cloud Type'])\n",
    "df_test.head()"
   ]
  },
  {
   "cell_type": "code",
   "execution_count": 68,
   "id": "f3dfa0d3",
   "metadata": {},
   "outputs": [],
   "source": [
    "x_test = df_test.copy()"
   ]
  },
  {
   "cell_type": "code",
   "execution_count": 69,
   "id": "f922dca1",
   "metadata": {},
   "outputs": [
    {
     "data": {
      "text/html": [
       "<div>\n",
       "<style scoped>\n",
       "    .dataframe tbody tr th:only-of-type {\n",
       "        vertical-align: middle;\n",
       "    }\n",
       "\n",
       "    .dataframe tbody tr th {\n",
       "        vertical-align: top;\n",
       "    }\n",
       "\n",
       "    .dataframe thead th {\n",
       "        text-align: right;\n",
       "    }\n",
       "</style>\n",
       "<table border=\"1\" class=\"dataframe\">\n",
       "  <thead>\n",
       "    <tr style=\"text-align: right;\">\n",
       "      <th></th>\n",
       "      <th>Temperature</th>\n",
       "      <th>Relative Humidity</th>\n",
       "      <th>Solar Zenith Angle</th>\n",
       "      <th>Wind Speed</th>\n",
       "      <th>Cloud Type_0</th>\n",
       "      <th>Cloud Type_2</th>\n",
       "      <th>Cloud Type_3</th>\n",
       "      <th>Cloud Type_4</th>\n",
       "      <th>Cloud Type_6</th>\n",
       "      <th>Cloud Type_7</th>\n",
       "      <th>Cloud Type_8</th>\n",
       "      <th>Cloud Type_9</th>\n",
       "      <th>Cloud Type_1</th>\n",
       "      <th>Cloud Type_10</th>\n",
       "    </tr>\n",
       "  </thead>\n",
       "  <tbody>\n",
       "    <tr>\n",
       "      <th>0</th>\n",
       "      <td>18.8</td>\n",
       "      <td>97.70</td>\n",
       "      <td>106.23</td>\n",
       "      <td>2.3</td>\n",
       "      <td>0</td>\n",
       "      <td>0</td>\n",
       "      <td>0</td>\n",
       "      <td>0</td>\n",
       "      <td>0</td>\n",
       "      <td>1</td>\n",
       "      <td>0</td>\n",
       "      <td>0</td>\n",
       "      <td>0</td>\n",
       "      <td>0</td>\n",
       "    </tr>\n",
       "    <tr>\n",
       "      <th>1</th>\n",
       "      <td>18.6</td>\n",
       "      <td>98.92</td>\n",
       "      <td>112.36</td>\n",
       "      <td>2.5</td>\n",
       "      <td>0</td>\n",
       "      <td>0</td>\n",
       "      <td>1</td>\n",
       "      <td>0</td>\n",
       "      <td>0</td>\n",
       "      <td>0</td>\n",
       "      <td>0</td>\n",
       "      <td>0</td>\n",
       "      <td>0</td>\n",
       "      <td>0</td>\n",
       "    </tr>\n",
       "    <tr>\n",
       "      <th>2</th>\n",
       "      <td>18.5</td>\n",
       "      <td>98.35</td>\n",
       "      <td>118.58</td>\n",
       "      <td>2.8</td>\n",
       "      <td>0</td>\n",
       "      <td>0</td>\n",
       "      <td>1</td>\n",
       "      <td>0</td>\n",
       "      <td>0</td>\n",
       "      <td>0</td>\n",
       "      <td>0</td>\n",
       "      <td>0</td>\n",
       "      <td>0</td>\n",
       "      <td>0</td>\n",
       "    </tr>\n",
       "    <tr>\n",
       "      <th>3</th>\n",
       "      <td>18.3</td>\n",
       "      <td>99.58</td>\n",
       "      <td>124.86</td>\n",
       "      <td>3.0</td>\n",
       "      <td>0</td>\n",
       "      <td>0</td>\n",
       "      <td>1</td>\n",
       "      <td>0</td>\n",
       "      <td>0</td>\n",
       "      <td>0</td>\n",
       "      <td>0</td>\n",
       "      <td>0</td>\n",
       "      <td>0</td>\n",
       "      <td>0</td>\n",
       "    </tr>\n",
       "    <tr>\n",
       "      <th>4</th>\n",
       "      <td>18.0</td>\n",
       "      <td>99.71</td>\n",
       "      <td>131.20</td>\n",
       "      <td>3.1</td>\n",
       "      <td>1</td>\n",
       "      <td>0</td>\n",
       "      <td>0</td>\n",
       "      <td>0</td>\n",
       "      <td>0</td>\n",
       "      <td>0</td>\n",
       "      <td>0</td>\n",
       "      <td>0</td>\n",
       "      <td>0</td>\n",
       "      <td>0</td>\n",
       "    </tr>\n",
       "  </tbody>\n",
       "</table>\n",
       "</div>"
      ],
      "text/plain": [
       "   Temperature  Relative Humidity  Solar Zenith Angle  Wind Speed  \\\n",
       "0         18.8              97.70              106.23         2.3   \n",
       "1         18.6              98.92              112.36         2.5   \n",
       "2         18.5              98.35              118.58         2.8   \n",
       "3         18.3              99.58              124.86         3.0   \n",
       "4         18.0              99.71              131.20         3.1   \n",
       "\n",
       "   Cloud Type_0  Cloud Type_2  Cloud Type_3  Cloud Type_4  Cloud Type_6  \\\n",
       "0             0             0             0             0             0   \n",
       "1             0             0             1             0             0   \n",
       "2             0             0             1             0             0   \n",
       "3             0             0             1             0             0   \n",
       "4             1             0             0             0             0   \n",
       "\n",
       "   Cloud Type_7  Cloud Type_8  Cloud Type_9  Cloud Type_1  Cloud Type_10  \n",
       "0             1             0             0             0              0  \n",
       "1             0             0             0             0              0  \n",
       "2             0             0             0             0              0  \n",
       "3             0             0             0             0              0  \n",
       "4             0             0             0             0              0  "
      ]
     },
     "execution_count": 69,
     "metadata": {},
     "output_type": "execute_result"
    }
   ],
   "source": [
    "x_test['Cloud Type_1'] = np.zeros(len(x_test), 'int')\n",
    "x_test['Cloud Type_10'] = np.zeros(len(x_test), 'int')\n",
    "x_test.head()"
   ]
  },
  {
   "cell_type": "code",
   "execution_count": 70,
   "id": "109511dd",
   "metadata": {},
   "outputs": [
    {
     "data": {
      "text/plain": [
       "['Temperature',\n",
       " 'Relative Humidity',\n",
       " 'Solar Zenith Angle',\n",
       " 'Wind Speed',\n",
       " 'Cloud Type_0',\n",
       " 'Cloud Type_2',\n",
       " 'Cloud Type_3',\n",
       " 'Cloud Type_4',\n",
       " 'Cloud Type_6',\n",
       " 'Cloud Type_7',\n",
       " 'Cloud Type_8',\n",
       " 'Cloud Type_9',\n",
       " 'Cloud Type_1',\n",
       " 'Cloud Type_10']"
      ]
     },
     "execution_count": 70,
     "metadata": {},
     "output_type": "execute_result"
    }
   ],
   "source": [
    "cols = x_test.columns.tolist()\n",
    "cols"
   ]
  },
  {
   "cell_type": "code",
   "execution_count": 71,
   "id": "55862c6a",
   "metadata": {},
   "outputs": [],
   "source": [
    "cols = cols[:5] + cols[-2:-1] + cols[5:-2] + cols[-1:]"
   ]
  },
  {
   "cell_type": "code",
   "execution_count": 72,
   "id": "4ab94b78",
   "metadata": {},
   "outputs": [
    {
     "data": {
      "text/plain": [
       "['Temperature',\n",
       " 'Relative Humidity',\n",
       " 'Solar Zenith Angle',\n",
       " 'Wind Speed',\n",
       " 'Cloud Type_0',\n",
       " 'Cloud Type_1',\n",
       " 'Cloud Type_2',\n",
       " 'Cloud Type_3',\n",
       " 'Cloud Type_4',\n",
       " 'Cloud Type_6',\n",
       " 'Cloud Type_7',\n",
       " 'Cloud Type_8',\n",
       " 'Cloud Type_9',\n",
       " 'Cloud Type_10']"
      ]
     },
     "execution_count": 72,
     "metadata": {},
     "output_type": "execute_result"
    }
   ],
   "source": [
    "cols"
   ]
  },
  {
   "cell_type": "code",
   "execution_count": 73,
   "id": "d4ef3686",
   "metadata": {},
   "outputs": [
    {
     "data": {
      "text/html": [
       "<div>\n",
       "<style scoped>\n",
       "    .dataframe tbody tr th:only-of-type {\n",
       "        vertical-align: middle;\n",
       "    }\n",
       "\n",
       "    .dataframe tbody tr th {\n",
       "        vertical-align: top;\n",
       "    }\n",
       "\n",
       "    .dataframe thead th {\n",
       "        text-align: right;\n",
       "    }\n",
       "</style>\n",
       "<table border=\"1\" class=\"dataframe\">\n",
       "  <thead>\n",
       "    <tr style=\"text-align: right;\">\n",
       "      <th></th>\n",
       "      <th>Temperature</th>\n",
       "      <th>Relative Humidity</th>\n",
       "      <th>Solar Zenith Angle</th>\n",
       "      <th>Wind Speed</th>\n",
       "      <th>Cloud Type_0</th>\n",
       "      <th>Cloud Type_1</th>\n",
       "      <th>Cloud Type_2</th>\n",
       "      <th>Cloud Type_3</th>\n",
       "      <th>Cloud Type_4</th>\n",
       "      <th>Cloud Type_6</th>\n",
       "      <th>Cloud Type_7</th>\n",
       "      <th>Cloud Type_8</th>\n",
       "      <th>Cloud Type_9</th>\n",
       "      <th>Cloud Type_10</th>\n",
       "    </tr>\n",
       "  </thead>\n",
       "  <tbody>\n",
       "    <tr>\n",
       "      <th>0</th>\n",
       "      <td>18.8</td>\n",
       "      <td>97.70</td>\n",
       "      <td>106.23</td>\n",
       "      <td>2.3</td>\n",
       "      <td>0</td>\n",
       "      <td>0</td>\n",
       "      <td>0</td>\n",
       "      <td>0</td>\n",
       "      <td>0</td>\n",
       "      <td>0</td>\n",
       "      <td>1</td>\n",
       "      <td>0</td>\n",
       "      <td>0</td>\n",
       "      <td>0</td>\n",
       "    </tr>\n",
       "    <tr>\n",
       "      <th>1</th>\n",
       "      <td>18.6</td>\n",
       "      <td>98.92</td>\n",
       "      <td>112.36</td>\n",
       "      <td>2.5</td>\n",
       "      <td>0</td>\n",
       "      <td>0</td>\n",
       "      <td>0</td>\n",
       "      <td>1</td>\n",
       "      <td>0</td>\n",
       "      <td>0</td>\n",
       "      <td>0</td>\n",
       "      <td>0</td>\n",
       "      <td>0</td>\n",
       "      <td>0</td>\n",
       "    </tr>\n",
       "    <tr>\n",
       "      <th>2</th>\n",
       "      <td>18.5</td>\n",
       "      <td>98.35</td>\n",
       "      <td>118.58</td>\n",
       "      <td>2.8</td>\n",
       "      <td>0</td>\n",
       "      <td>0</td>\n",
       "      <td>0</td>\n",
       "      <td>1</td>\n",
       "      <td>0</td>\n",
       "      <td>0</td>\n",
       "      <td>0</td>\n",
       "      <td>0</td>\n",
       "      <td>0</td>\n",
       "      <td>0</td>\n",
       "    </tr>\n",
       "    <tr>\n",
       "      <th>3</th>\n",
       "      <td>18.3</td>\n",
       "      <td>99.58</td>\n",
       "      <td>124.86</td>\n",
       "      <td>3.0</td>\n",
       "      <td>0</td>\n",
       "      <td>0</td>\n",
       "      <td>0</td>\n",
       "      <td>1</td>\n",
       "      <td>0</td>\n",
       "      <td>0</td>\n",
       "      <td>0</td>\n",
       "      <td>0</td>\n",
       "      <td>0</td>\n",
       "      <td>0</td>\n",
       "    </tr>\n",
       "    <tr>\n",
       "      <th>4</th>\n",
       "      <td>18.0</td>\n",
       "      <td>99.71</td>\n",
       "      <td>131.20</td>\n",
       "      <td>3.1</td>\n",
       "      <td>1</td>\n",
       "      <td>0</td>\n",
       "      <td>0</td>\n",
       "      <td>0</td>\n",
       "      <td>0</td>\n",
       "      <td>0</td>\n",
       "      <td>0</td>\n",
       "      <td>0</td>\n",
       "      <td>0</td>\n",
       "      <td>0</td>\n",
       "    </tr>\n",
       "  </tbody>\n",
       "</table>\n",
       "</div>"
      ],
      "text/plain": [
       "   Temperature  Relative Humidity  Solar Zenith Angle  Wind Speed  \\\n",
       "0         18.8              97.70              106.23         2.3   \n",
       "1         18.6              98.92              112.36         2.5   \n",
       "2         18.5              98.35              118.58         2.8   \n",
       "3         18.3              99.58              124.86         3.0   \n",
       "4         18.0              99.71              131.20         3.1   \n",
       "\n",
       "   Cloud Type_0  Cloud Type_1  Cloud Type_2  Cloud Type_3  Cloud Type_4  \\\n",
       "0             0             0             0             0             0   \n",
       "1             0             0             0             1             0   \n",
       "2             0             0             0             1             0   \n",
       "3             0             0             0             1             0   \n",
       "4             1             0             0             0             0   \n",
       "\n",
       "   Cloud Type_6  Cloud Type_7  Cloud Type_8  Cloud Type_9  Cloud Type_10  \n",
       "0             0             1             0             0              0  \n",
       "1             0             0             0             0              0  \n",
       "2             0             0             0             0              0  \n",
       "3             0             0             0             0              0  \n",
       "4             0             0             0             0              0  "
      ]
     },
     "execution_count": 73,
     "metadata": {},
     "output_type": "execute_result"
    }
   ],
   "source": [
    "x_test = x_test[cols]\n",
    "x_test.head()"
   ]
  },
  {
   "cell_type": "code",
   "execution_count": 74,
   "id": "aa39f27e",
   "metadata": {},
   "outputs": [],
   "source": [
    "y_pred_test_gradientboost = gradientBoost.predict(x_test)"
   ]
  },
  {
   "cell_type": "code",
   "execution_count": 75,
   "id": "d75de297",
   "metadata": {},
   "outputs": [
    {
     "data": {
      "text/plain": [
       "array([[ 3.93358431e-01, -2.57861275e+00, -2.30029189e-01],\n",
       "       [-4.55719722e-02, -1.22221019e+00, -2.30029189e-01],\n",
       "       [-1.14473361e-01, -8.07245815e-01, -2.33323596e-01],\n",
       "       ...,\n",
       "       [ 1.02360584e+01,  9.23124932e+01,  1.66484021e+01],\n",
       "       [ 1.05681756e-01,  3.30565535e+00,  8.17450810e-01],\n",
       "       [ 1.05681756e-01,  3.30565535e+00,  8.17450810e-01]])"
      ]
     },
     "execution_count": 75,
     "metadata": {},
     "output_type": "execute_result"
    }
   ],
   "source": [
    "y_pred_test_gradientboost"
   ]
  },
  {
   "cell_type": "code",
   "execution_count": 76,
   "id": "9d00a72c",
   "metadata": {},
   "outputs": [
    {
     "data": {
      "text/html": [
       "<div>\n",
       "<style scoped>\n",
       "    .dataframe tbody tr th:only-of-type {\n",
       "        vertical-align: middle;\n",
       "    }\n",
       "\n",
       "    .dataframe tbody tr th {\n",
       "        vertical-align: top;\n",
       "    }\n",
       "\n",
       "    .dataframe thead th {\n",
       "        text-align: right;\n",
       "    }\n",
       "</style>\n",
       "<table border=\"1\" class=\"dataframe\">\n",
       "  <thead>\n",
       "    <tr style=\"text-align: right;\">\n",
       "      <th></th>\n",
       "      <th>Clearsky DHI</th>\n",
       "      <th>Clearsky DNI</th>\n",
       "      <th>Clearsky GHI</th>\n",
       "    </tr>\n",
       "  </thead>\n",
       "  <tbody>\n",
       "    <tr>\n",
       "      <th>0</th>\n",
       "      <td>0.393358</td>\n",
       "      <td>-2.578613</td>\n",
       "      <td>-0.230029</td>\n",
       "    </tr>\n",
       "    <tr>\n",
       "      <th>1</th>\n",
       "      <td>-0.045572</td>\n",
       "      <td>-1.222210</td>\n",
       "      <td>-0.230029</td>\n",
       "    </tr>\n",
       "    <tr>\n",
       "      <th>2</th>\n",
       "      <td>-0.114473</td>\n",
       "      <td>-0.807246</td>\n",
       "      <td>-0.233324</td>\n",
       "    </tr>\n",
       "    <tr>\n",
       "      <th>3</th>\n",
       "      <td>-0.426074</td>\n",
       "      <td>-0.311873</td>\n",
       "      <td>-0.233324</td>\n",
       "    </tr>\n",
       "    <tr>\n",
       "      <th>4</th>\n",
       "      <td>0.153792</td>\n",
       "      <td>-0.326655</td>\n",
       "      <td>-0.231618</td>\n",
       "    </tr>\n",
       "  </tbody>\n",
       "</table>\n",
       "</div>"
      ],
      "text/plain": [
       "   Clearsky DHI  Clearsky DNI  Clearsky GHI\n",
       "0      0.393358     -2.578613     -0.230029\n",
       "1     -0.045572     -1.222210     -0.230029\n",
       "2     -0.114473     -0.807246     -0.233324\n",
       "3     -0.426074     -0.311873     -0.233324\n",
       "4      0.153792     -0.326655     -0.231618"
      ]
     },
     "execution_count": 76,
     "metadata": {},
     "output_type": "execute_result"
    }
   ],
   "source": [
    "y_pred_test_gradientboost = pd.DataFrame(y_pred_test_gradientboost, columns=y_val.columns)\n",
    "y_pred_test_gradientboost.head()"
   ]
  },
  {
   "cell_type": "code",
   "execution_count": 77,
   "id": "fc0709f2",
   "metadata": {},
   "outputs": [
    {
     "data": {
      "text/plain": [
       "17520"
      ]
     },
     "execution_count": 77,
     "metadata": {},
     "output_type": "execute_result"
    }
   ],
   "source": [
    "len(y_pred_test_gradientboost[col])"
   ]
  },
  {
   "cell_type": "code",
   "execution_count": 78,
   "id": "7ae70334",
   "metadata": {},
   "outputs": [
    {
     "data": {
      "text/plain": [
       "str"
      ]
     },
     "execution_count": 78,
     "metadata": {},
     "output_type": "execute_result"
    }
   ],
   "source": [
    "type(col)"
   ]
  },
  {
   "cell_type": "code",
   "execution_count": 79,
   "id": "f06865d0",
   "metadata": {},
   "outputs": [
    {
     "data": {
      "text/plain": [
       "-0.23002918869226893"
      ]
     },
     "execution_count": 79,
     "metadata": {},
     "output_type": "execute_result"
    }
   ],
   "source": [
    "y_pred_test_gradientboost.loc[0, col]"
   ]
  },
  {
   "cell_type": "code",
   "execution_count": 80,
   "id": "8a48a015",
   "metadata": {},
   "outputs": [],
   "source": [
    "for col in y_pred_test_gradientboost:\n",
    "    for i in range(len(y_pred_test_gradientboost[col])):\n",
    "        if y_pred_test_gradientboost.loc[i, col] < 0:\n",
    "            y_pred_test_gradientboost.loc[i, col] = 0"
   ]
  },
  {
   "cell_type": "code",
   "execution_count": 81,
   "id": "211a7ded",
   "metadata": {},
   "outputs": [
    {
     "data": {
      "text/html": [
       "<div>\n",
       "<style scoped>\n",
       "    .dataframe tbody tr th:only-of-type {\n",
       "        vertical-align: middle;\n",
       "    }\n",
       "\n",
       "    .dataframe tbody tr th {\n",
       "        vertical-align: top;\n",
       "    }\n",
       "\n",
       "    .dataframe thead th {\n",
       "        text-align: right;\n",
       "    }\n",
       "</style>\n",
       "<table border=\"1\" class=\"dataframe\">\n",
       "  <thead>\n",
       "    <tr style=\"text-align: right;\">\n",
       "      <th></th>\n",
       "      <th>Clearsky DHI</th>\n",
       "      <th>Clearsky DNI</th>\n",
       "      <th>Clearsky GHI</th>\n",
       "    </tr>\n",
       "  </thead>\n",
       "  <tbody>\n",
       "    <tr>\n",
       "      <th>0</th>\n",
       "      <td>0.393358</td>\n",
       "      <td>0.0</td>\n",
       "      <td>0.0</td>\n",
       "    </tr>\n",
       "    <tr>\n",
       "      <th>1</th>\n",
       "      <td>0.000000</td>\n",
       "      <td>0.0</td>\n",
       "      <td>0.0</td>\n",
       "    </tr>\n",
       "    <tr>\n",
       "      <th>2</th>\n",
       "      <td>0.000000</td>\n",
       "      <td>0.0</td>\n",
       "      <td>0.0</td>\n",
       "    </tr>\n",
       "    <tr>\n",
       "      <th>3</th>\n",
       "      <td>0.000000</td>\n",
       "      <td>0.0</td>\n",
       "      <td>0.0</td>\n",
       "    </tr>\n",
       "    <tr>\n",
       "      <th>4</th>\n",
       "      <td>0.153792</td>\n",
       "      <td>0.0</td>\n",
       "      <td>0.0</td>\n",
       "    </tr>\n",
       "  </tbody>\n",
       "</table>\n",
       "</div>"
      ],
      "text/plain": [
       "   Clearsky DHI  Clearsky DNI  Clearsky GHI\n",
       "0      0.393358           0.0           0.0\n",
       "1      0.000000           0.0           0.0\n",
       "2      0.000000           0.0           0.0\n",
       "3      0.000000           0.0           0.0\n",
       "4      0.153792           0.0           0.0"
      ]
     },
     "execution_count": 81,
     "metadata": {},
     "output_type": "execute_result"
    }
   ],
   "source": [
    "y_pred_test_gradientboost.head()"
   ]
  },
  {
   "cell_type": "code",
   "execution_count": 82,
   "id": "af67bdc3",
   "metadata": {},
   "outputs": [],
   "source": [
    "y_pred_test_gradientboost = y_pred_test_gradientboost.astype('int')"
   ]
  },
  {
   "cell_type": "code",
   "execution_count": 83,
   "id": "6ddb2226",
   "metadata": {},
   "outputs": [
    {
     "data": {
      "text/html": [
       "<div>\n",
       "<style scoped>\n",
       "    .dataframe tbody tr th:only-of-type {\n",
       "        vertical-align: middle;\n",
       "    }\n",
       "\n",
       "    .dataframe tbody tr th {\n",
       "        vertical-align: top;\n",
       "    }\n",
       "\n",
       "    .dataframe thead th {\n",
       "        text-align: right;\n",
       "    }\n",
       "</style>\n",
       "<table border=\"1\" class=\"dataframe\">\n",
       "  <thead>\n",
       "    <tr style=\"text-align: right;\">\n",
       "      <th></th>\n",
       "      <th>Clearsky DHI</th>\n",
       "      <th>Clearsky DNI</th>\n",
       "      <th>Clearsky GHI</th>\n",
       "    </tr>\n",
       "  </thead>\n",
       "  <tbody>\n",
       "    <tr>\n",
       "      <th>0</th>\n",
       "      <td>0</td>\n",
       "      <td>0</td>\n",
       "      <td>0</td>\n",
       "    </tr>\n",
       "    <tr>\n",
       "      <th>1</th>\n",
       "      <td>0</td>\n",
       "      <td>0</td>\n",
       "      <td>0</td>\n",
       "    </tr>\n",
       "    <tr>\n",
       "      <th>2</th>\n",
       "      <td>0</td>\n",
       "      <td>0</td>\n",
       "      <td>0</td>\n",
       "    </tr>\n",
       "    <tr>\n",
       "      <th>3</th>\n",
       "      <td>0</td>\n",
       "      <td>0</td>\n",
       "      <td>0</td>\n",
       "    </tr>\n",
       "    <tr>\n",
       "      <th>4</th>\n",
       "      <td>0</td>\n",
       "      <td>0</td>\n",
       "      <td>0</td>\n",
       "    </tr>\n",
       "  </tbody>\n",
       "</table>\n",
       "</div>"
      ],
      "text/plain": [
       "   Clearsky DHI  Clearsky DNI  Clearsky GHI\n",
       "0             0             0             0\n",
       "1             0             0             0\n",
       "2             0             0             0\n",
       "3             0             0             0\n",
       "4             0             0             0"
      ]
     },
     "execution_count": 83,
     "metadata": {},
     "output_type": "execute_result"
    }
   ],
   "source": [
    "y_pred_test_gradientboost.head()"
   ]
  },
  {
   "cell_type": "code",
   "execution_count": 84,
   "id": "2b63acb0",
   "metadata": {},
   "outputs": [],
   "source": [
    "y_pred_test_gradientboost.to_csv('submission_file-gradientBoosting.csv', index=False)"
   ]
  }
 ],
 "metadata": {
  "kernelspec": {
   "display_name": "Python 3 (ipykernel)",
   "language": "python",
   "name": "python3"
  },
  "language_info": {
   "codemirror_mode": {
    "name": "ipython",
    "version": 3
   },
   "file_extension": ".py",
   "mimetype": "text/x-python",
   "name": "python",
   "nbconvert_exporter": "python",
   "pygments_lexer": "ipython3",
   "version": "3.9.7"
  },
  "varInspector": {
   "cols": {
    "lenName": 16,
    "lenType": 16,
    "lenVar": 40
   },
   "kernels_config": {
    "python": {
     "delete_cmd_postfix": "",
     "delete_cmd_prefix": "del ",
     "library": "var_list.py",
     "varRefreshCmd": "print(var_dic_list())"
    },
    "r": {
     "delete_cmd_postfix": ") ",
     "delete_cmd_prefix": "rm(",
     "library": "var_list.r",
     "varRefreshCmd": "cat(var_dic_list()) "
    }
   },
   "types_to_exclude": [
    "module",
    "function",
    "builtin_function_or_method",
    "instance",
    "_Feature"
   ],
   "window_display": false
  }
 },
 "nbformat": 4,
 "nbformat_minor": 5
}
