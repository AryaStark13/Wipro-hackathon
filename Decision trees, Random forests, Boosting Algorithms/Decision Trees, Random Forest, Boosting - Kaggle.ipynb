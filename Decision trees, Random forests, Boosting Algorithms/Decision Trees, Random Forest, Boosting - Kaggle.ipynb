{
 "cells": [
  {
   "cell_type": "markdown",
   "id": "8c7f7c76",
   "metadata": {},
   "source": [
    "In this notebook, I have tried to solve the problem statement of the <a href='https://machinehack.com/hackathon/wipro_sustainability_machine_learning_challenge/overview'>Wipro Hiring Hackathon</a> using a few different methods. <br>\n",
    "Models used: \n",
    "* Decision Tree Regressor\n",
    "* Random Forest Regressor\n",
    "* AdaBoost Regressor\n",
    "* GradientBoost Regressor "
   ]
  },
  {
   "cell_type": "code",
   "execution_count": 1,
   "id": "b3937287",
   "metadata": {
    "ExecuteTime": {
     "end_time": "2022-02-22T06:14:48.451915Z",
     "start_time": "2022-02-22T06:14:46.249655Z"
    }
   },
   "outputs": [],
   "source": [
    "import pandas as pd\n",
    "import numpy as np\n",
    "import matplotlib.pyplot as plt\n",
    "import seaborn as sns"
   ]
  },
  {
   "cell_type": "markdown",
   "id": "9a29a899",
   "metadata": {
    "ExecuteTime": {
     "end_time": "2022-02-20T07:38:59.448925Z",
     "start_time": "2022-02-20T07:38:59.432967Z"
    }
   },
   "source": [
    "# Train set Analysis and transformation\n",
    "Importing the training set"
   ]
  },
  {
   "cell_type": "code",
   "execution_count": 2,
   "id": "5f2f57f2",
   "metadata": {
    "ExecuteTime": {
     "end_time": "2022-02-22T06:14:48.741498Z",
     "start_time": "2022-02-22T06:14:48.451915Z"
    }
   },
   "outputs": [
    {
     "data": {
      "text/html": [
       "<div>\n",
       "<style scoped>\n",
       "    .dataframe tbody tr th:only-of-type {\n",
       "        vertical-align: middle;\n",
       "    }\n",
       "\n",
       "    .dataframe tbody tr th {\n",
       "        vertical-align: top;\n",
       "    }\n",
       "\n",
       "    .dataframe thead th {\n",
       "        text-align: right;\n",
       "    }\n",
       "</style>\n",
       "<table border=\"1\" class=\"dataframe\">\n",
       "  <thead>\n",
       "    <tr style=\"text-align: right;\">\n",
       "      <th></th>\n",
       "      <th>Year</th>\n",
       "      <th>Month</th>\n",
       "      <th>Day</th>\n",
       "      <th>Hour</th>\n",
       "      <th>Minute</th>\n",
       "      <th>Clearsky DHI</th>\n",
       "      <th>Clearsky DNI</th>\n",
       "      <th>Clearsky GHI</th>\n",
       "      <th>Cloud Type</th>\n",
       "      <th>Dew Point</th>\n",
       "      <th>Temperature</th>\n",
       "      <th>Pressure</th>\n",
       "      <th>Relative Humidity</th>\n",
       "      <th>Solar Zenith Angle</th>\n",
       "      <th>Precipitable Water</th>\n",
       "      <th>Wind Direction</th>\n",
       "      <th>Wind Speed</th>\n",
       "      <th>Fill Flag</th>\n",
       "    </tr>\n",
       "  </thead>\n",
       "  <tbody>\n",
       "    <tr>\n",
       "      <th>0</th>\n",
       "      <td>2009</td>\n",
       "      <td>1</td>\n",
       "      <td>1</td>\n",
       "      <td>0</td>\n",
       "      <td>0</td>\n",
       "      <td>0</td>\n",
       "      <td>0</td>\n",
       "      <td>0</td>\n",
       "      <td>0</td>\n",
       "      <td>0.0</td>\n",
       "      <td>5.0</td>\n",
       "      <td>1010</td>\n",
       "      <td>75.34</td>\n",
       "      <td>106.15</td>\n",
       "      <td>0.499</td>\n",
       "      <td>346.1</td>\n",
       "      <td>3.1</td>\n",
       "      <td>0</td>\n",
       "    </tr>\n",
       "    <tr>\n",
       "      <th>1</th>\n",
       "      <td>2009</td>\n",
       "      <td>1</td>\n",
       "      <td>1</td>\n",
       "      <td>0</td>\n",
       "      <td>30</td>\n",
       "      <td>0</td>\n",
       "      <td>0</td>\n",
       "      <td>0</td>\n",
       "      <td>0</td>\n",
       "      <td>1.0</td>\n",
       "      <td>5.0</td>\n",
       "      <td>1010</td>\n",
       "      <td>80.81</td>\n",
       "      <td>112.28</td>\n",
       "      <td>0.490</td>\n",
       "      <td>346.1</td>\n",
       "      <td>3.1</td>\n",
       "      <td>0</td>\n",
       "    </tr>\n",
       "    <tr>\n",
       "      <th>2</th>\n",
       "      <td>2009</td>\n",
       "      <td>1</td>\n",
       "      <td>1</td>\n",
       "      <td>1</td>\n",
       "      <td>0</td>\n",
       "      <td>0</td>\n",
       "      <td>0</td>\n",
       "      <td>0</td>\n",
       "      <td>4</td>\n",
       "      <td>0.0</td>\n",
       "      <td>5.0</td>\n",
       "      <td>1010</td>\n",
       "      <td>78.27</td>\n",
       "      <td>118.50</td>\n",
       "      <td>0.482</td>\n",
       "      <td>347.9</td>\n",
       "      <td>3.2</td>\n",
       "      <td>0</td>\n",
       "    </tr>\n",
       "    <tr>\n",
       "      <th>3</th>\n",
       "      <td>2009</td>\n",
       "      <td>1</td>\n",
       "      <td>1</td>\n",
       "      <td>1</td>\n",
       "      <td>30</td>\n",
       "      <td>0</td>\n",
       "      <td>0</td>\n",
       "      <td>0</td>\n",
       "      <td>4</td>\n",
       "      <td>0.0</td>\n",
       "      <td>4.0</td>\n",
       "      <td>1010</td>\n",
       "      <td>78.27</td>\n",
       "      <td>124.78</td>\n",
       "      <td>0.478</td>\n",
       "      <td>347.9</td>\n",
       "      <td>3.1</td>\n",
       "      <td>0</td>\n",
       "    </tr>\n",
       "    <tr>\n",
       "      <th>4</th>\n",
       "      <td>2009</td>\n",
       "      <td>1</td>\n",
       "      <td>1</td>\n",
       "      <td>2</td>\n",
       "      <td>0</td>\n",
       "      <td>0</td>\n",
       "      <td>0</td>\n",
       "      <td>0</td>\n",
       "      <td>4</td>\n",
       "      <td>0.0</td>\n",
       "      <td>4.0</td>\n",
       "      <td>1010</td>\n",
       "      <td>76.45</td>\n",
       "      <td>131.12</td>\n",
       "      <td>0.475</td>\n",
       "      <td>350.0</td>\n",
       "      <td>3.0</td>\n",
       "      <td>0</td>\n",
       "    </tr>\n",
       "  </tbody>\n",
       "</table>\n",
       "</div>"
      ],
      "text/plain": [
       "   Year  Month  Day  Hour  Minute  Clearsky DHI  Clearsky DNI  Clearsky GHI  \\\n",
       "0  2009      1    1     0       0             0             0             0   \n",
       "1  2009      1    1     0      30             0             0             0   \n",
       "2  2009      1    1     1       0             0             0             0   \n",
       "3  2009      1    1     1      30             0             0             0   \n",
       "4  2009      1    1     2       0             0             0             0   \n",
       "\n",
       "   Cloud Type  Dew Point  Temperature  Pressure  Relative Humidity  \\\n",
       "0           0        0.0          5.0      1010              75.34   \n",
       "1           0        1.0          5.0      1010              80.81   \n",
       "2           4        0.0          5.0      1010              78.27   \n",
       "3           4        0.0          4.0      1010              78.27   \n",
       "4           4        0.0          4.0      1010              76.45   \n",
       "\n",
       "   Solar Zenith Angle  Precipitable Water  Wind Direction  Wind Speed  \\\n",
       "0              106.15               0.499           346.1         3.1   \n",
       "1              112.28               0.490           346.1         3.1   \n",
       "2              118.50               0.482           347.9         3.2   \n",
       "3              124.78               0.478           347.9         3.1   \n",
       "4              131.12               0.475           350.0         3.0   \n",
       "\n",
       "   Fill Flag  \n",
       "0          0  \n",
       "1          0  \n",
       "2          0  \n",
       "3          0  \n",
       "4          0  "
      ]
     },
     "execution_count": 2,
     "metadata": {},
     "output_type": "execute_result"
    }
   ],
   "source": [
    "df = pd.read_csv(r\"C:\\Users\\ariha\\Desktop\\Hackathons & Projects\\Wipro Hackathon\\Data + Sample Submission\\train.csv\")\n",
    "df.head()"
   ]
  },
  {
   "cell_type": "code",
   "execution_count": 3,
   "id": "a688f2a4",
   "metadata": {
    "ExecuteTime": {
     "end_time": "2022-02-22T06:14:48.757089Z",
     "start_time": "2022-02-22T06:14:48.741498Z"
    }
   },
   "outputs": [
    {
     "data": {
      "text/plain": [
       "(175296, 18)"
      ]
     },
     "execution_count": 3,
     "metadata": {},
     "output_type": "execute_result"
    }
   ],
   "source": [
    "df.shape"
   ]
  },
  {
   "cell_type": "markdown",
   "id": "ed9c7c3b",
   "metadata": {},
   "source": [
    "Creating a single Date-Time column instead of Year, Month, etc being represented individually "
   ]
  },
  {
   "cell_type": "code",
   "execution_count": 4,
   "id": "a7348426",
   "metadata": {
    "ExecuteTime": {
     "end_time": "2022-02-22T06:14:48.815777Z",
     "start_time": "2022-02-22T06:14:48.757089Z"
    }
   },
   "outputs": [
    {
     "data": {
      "text/html": [
       "<div>\n",
       "<style scoped>\n",
       "    .dataframe tbody tr th:only-of-type {\n",
       "        vertical-align: middle;\n",
       "    }\n",
       "\n",
       "    .dataframe tbody tr th {\n",
       "        vertical-align: top;\n",
       "    }\n",
       "\n",
       "    .dataframe thead th {\n",
       "        text-align: right;\n",
       "    }\n",
       "</style>\n",
       "<table border=\"1\" class=\"dataframe\">\n",
       "  <thead>\n",
       "    <tr style=\"text-align: right;\">\n",
       "      <th></th>\n",
       "      <th>Year</th>\n",
       "      <th>Month</th>\n",
       "      <th>Day</th>\n",
       "      <th>Hour</th>\n",
       "      <th>Minute</th>\n",
       "      <th>Clearsky DHI</th>\n",
       "      <th>Clearsky DNI</th>\n",
       "      <th>Clearsky GHI</th>\n",
       "      <th>Cloud Type</th>\n",
       "      <th>Dew Point</th>\n",
       "      <th>Temperature</th>\n",
       "      <th>Pressure</th>\n",
       "      <th>Relative Humidity</th>\n",
       "      <th>Solar Zenith Angle</th>\n",
       "      <th>Precipitable Water</th>\n",
       "      <th>Wind Direction</th>\n",
       "      <th>Wind Speed</th>\n",
       "      <th>Fill Flag</th>\n",
       "      <th>Date-Time</th>\n",
       "    </tr>\n",
       "  </thead>\n",
       "  <tbody>\n",
       "    <tr>\n",
       "      <th>0</th>\n",
       "      <td>2009</td>\n",
       "      <td>1</td>\n",
       "      <td>1</td>\n",
       "      <td>0</td>\n",
       "      <td>0</td>\n",
       "      <td>0</td>\n",
       "      <td>0</td>\n",
       "      <td>0</td>\n",
       "      <td>0</td>\n",
       "      <td>0.0</td>\n",
       "      <td>5.0</td>\n",
       "      <td>1010</td>\n",
       "      <td>75.34</td>\n",
       "      <td>106.15</td>\n",
       "      <td>0.499</td>\n",
       "      <td>346.1</td>\n",
       "      <td>3.1</td>\n",
       "      <td>0</td>\n",
       "      <td>2009-01-01 00:00:00</td>\n",
       "    </tr>\n",
       "    <tr>\n",
       "      <th>1</th>\n",
       "      <td>2009</td>\n",
       "      <td>1</td>\n",
       "      <td>1</td>\n",
       "      <td>0</td>\n",
       "      <td>30</td>\n",
       "      <td>0</td>\n",
       "      <td>0</td>\n",
       "      <td>0</td>\n",
       "      <td>0</td>\n",
       "      <td>1.0</td>\n",
       "      <td>5.0</td>\n",
       "      <td>1010</td>\n",
       "      <td>80.81</td>\n",
       "      <td>112.28</td>\n",
       "      <td>0.490</td>\n",
       "      <td>346.1</td>\n",
       "      <td>3.1</td>\n",
       "      <td>0</td>\n",
       "      <td>2009-01-01 00:30:00</td>\n",
       "    </tr>\n",
       "    <tr>\n",
       "      <th>2</th>\n",
       "      <td>2009</td>\n",
       "      <td>1</td>\n",
       "      <td>1</td>\n",
       "      <td>1</td>\n",
       "      <td>0</td>\n",
       "      <td>0</td>\n",
       "      <td>0</td>\n",
       "      <td>0</td>\n",
       "      <td>4</td>\n",
       "      <td>0.0</td>\n",
       "      <td>5.0</td>\n",
       "      <td>1010</td>\n",
       "      <td>78.27</td>\n",
       "      <td>118.50</td>\n",
       "      <td>0.482</td>\n",
       "      <td>347.9</td>\n",
       "      <td>3.2</td>\n",
       "      <td>0</td>\n",
       "      <td>2009-01-01 01:00:00</td>\n",
       "    </tr>\n",
       "    <tr>\n",
       "      <th>3</th>\n",
       "      <td>2009</td>\n",
       "      <td>1</td>\n",
       "      <td>1</td>\n",
       "      <td>1</td>\n",
       "      <td>30</td>\n",
       "      <td>0</td>\n",
       "      <td>0</td>\n",
       "      <td>0</td>\n",
       "      <td>4</td>\n",
       "      <td>0.0</td>\n",
       "      <td>4.0</td>\n",
       "      <td>1010</td>\n",
       "      <td>78.27</td>\n",
       "      <td>124.78</td>\n",
       "      <td>0.478</td>\n",
       "      <td>347.9</td>\n",
       "      <td>3.1</td>\n",
       "      <td>0</td>\n",
       "      <td>2009-01-01 01:30:00</td>\n",
       "    </tr>\n",
       "    <tr>\n",
       "      <th>4</th>\n",
       "      <td>2009</td>\n",
       "      <td>1</td>\n",
       "      <td>1</td>\n",
       "      <td>2</td>\n",
       "      <td>0</td>\n",
       "      <td>0</td>\n",
       "      <td>0</td>\n",
       "      <td>0</td>\n",
       "      <td>4</td>\n",
       "      <td>0.0</td>\n",
       "      <td>4.0</td>\n",
       "      <td>1010</td>\n",
       "      <td>76.45</td>\n",
       "      <td>131.12</td>\n",
       "      <td>0.475</td>\n",
       "      <td>350.0</td>\n",
       "      <td>3.0</td>\n",
       "      <td>0</td>\n",
       "      <td>2009-01-01 02:00:00</td>\n",
       "    </tr>\n",
       "  </tbody>\n",
       "</table>\n",
       "</div>"
      ],
      "text/plain": [
       "   Year  Month  Day  Hour  Minute  Clearsky DHI  Clearsky DNI  Clearsky GHI  \\\n",
       "0  2009      1    1     0       0             0             0             0   \n",
       "1  2009      1    1     0      30             0             0             0   \n",
       "2  2009      1    1     1       0             0             0             0   \n",
       "3  2009      1    1     1      30             0             0             0   \n",
       "4  2009      1    1     2       0             0             0             0   \n",
       "\n",
       "   Cloud Type  Dew Point  Temperature  Pressure  Relative Humidity  \\\n",
       "0           0        0.0          5.0      1010              75.34   \n",
       "1           0        1.0          5.0      1010              80.81   \n",
       "2           4        0.0          5.0      1010              78.27   \n",
       "3           4        0.0          4.0      1010              78.27   \n",
       "4           4        0.0          4.0      1010              76.45   \n",
       "\n",
       "   Solar Zenith Angle  Precipitable Water  Wind Direction  Wind Speed  \\\n",
       "0              106.15               0.499           346.1         3.1   \n",
       "1              112.28               0.490           346.1         3.1   \n",
       "2              118.50               0.482           347.9         3.2   \n",
       "3              124.78               0.478           347.9         3.1   \n",
       "4              131.12               0.475           350.0         3.0   \n",
       "\n",
       "   Fill Flag           Date-Time  \n",
       "0          0 2009-01-01 00:00:00  \n",
       "1          0 2009-01-01 00:30:00  \n",
       "2          0 2009-01-01 01:00:00  \n",
       "3          0 2009-01-01 01:30:00  \n",
       "4          0 2009-01-01 02:00:00  "
      ]
     },
     "execution_count": 4,
     "metadata": {},
     "output_type": "execute_result"
    }
   ],
   "source": [
    "df['Date-Time'] = pd.to_datetime(df[['Year', 'Month', 'Day', 'Hour', 'Minute']])\n",
    "df.head()"
   ]
  },
  {
   "cell_type": "markdown",
   "id": "47e38e7a",
   "metadata": {},
   "source": [
    "We do not require these columns now"
   ]
  },
  {
   "cell_type": "code",
   "execution_count": 5,
   "id": "93d9d421",
   "metadata": {
    "ExecuteTime": {
     "end_time": "2022-02-22T06:14:48.829615Z",
     "start_time": "2022-02-22T06:14:48.815777Z"
    }
   },
   "outputs": [],
   "source": [
    "df.drop(columns=['Year', 'Month', 'Day', 'Hour', 'Minute'], axis=1, inplace=True)"
   ]
  },
  {
   "cell_type": "markdown",
   "id": "180ad9ab",
   "metadata": {},
   "source": [
    "Now we will check the correlation between all the different variables with themselves and with the values that we have to predict as well - Clearsky DHI, Clearsky DNI, Clearsky GHI"
   ]
  },
  {
   "cell_type": "code",
   "execution_count": 6,
   "id": "e699f255",
   "metadata": {},
   "outputs": [
    {
     "data": {
      "text/html": [
       "<div>\n",
       "<style scoped>\n",
       "    .dataframe tbody tr th:only-of-type {\n",
       "        vertical-align: middle;\n",
       "    }\n",
       "\n",
       "    .dataframe tbody tr th {\n",
       "        vertical-align: top;\n",
       "    }\n",
       "\n",
       "    .dataframe thead th {\n",
       "        text-align: right;\n",
       "    }\n",
       "</style>\n",
       "<table border=\"1\" class=\"dataframe\">\n",
       "  <thead>\n",
       "    <tr style=\"text-align: right;\">\n",
       "      <th></th>\n",
       "      <th>Clearsky DHI</th>\n",
       "      <th>Clearsky DNI</th>\n",
       "      <th>Clearsky GHI</th>\n",
       "      <th>Cloud Type</th>\n",
       "      <th>Dew Point</th>\n",
       "      <th>Temperature</th>\n",
       "      <th>Pressure</th>\n",
       "      <th>Relative Humidity</th>\n",
       "      <th>Solar Zenith Angle</th>\n",
       "      <th>Precipitable Water</th>\n",
       "      <th>Wind Direction</th>\n",
       "      <th>Wind Speed</th>\n",
       "      <th>Fill Flag</th>\n",
       "    </tr>\n",
       "  </thead>\n",
       "  <tbody>\n",
       "    <tr>\n",
       "      <th>Clearsky DHI</th>\n",
       "      <td>1.000000</td>\n",
       "      <td>0.860988</td>\n",
       "      <td>0.912991</td>\n",
       "      <td>0.022479</td>\n",
       "      <td>0.222931</td>\n",
       "      <td>0.503409</td>\n",
       "      <td>-0.093766</td>\n",
       "      <td>-0.559766</td>\n",
       "      <td>-0.873421</td>\n",
       "      <td>0.207504</td>\n",
       "      <td>-0.000195</td>\n",
       "      <td>0.315655</td>\n",
       "      <td>0.000740</td>\n",
       "    </tr>\n",
       "    <tr>\n",
       "      <th>Clearsky DNI</th>\n",
       "      <td>0.860988</td>\n",
       "      <td>1.000000</td>\n",
       "      <td>0.927926</td>\n",
       "      <td>-0.073302</td>\n",
       "      <td>0.033601</td>\n",
       "      <td>0.384353</td>\n",
       "      <td>0.007043</td>\n",
       "      <td>-0.680471</td>\n",
       "      <td>-0.886323</td>\n",
       "      <td>-0.002180</td>\n",
       "      <td>0.006256</td>\n",
       "      <td>0.381162</td>\n",
       "      <td>0.006318</td>\n",
       "    </tr>\n",
       "    <tr>\n",
       "      <th>Clearsky GHI</th>\n",
       "      <td>0.912991</td>\n",
       "      <td>0.927926</td>\n",
       "      <td>1.000000</td>\n",
       "      <td>-0.047297</td>\n",
       "      <td>0.140420</td>\n",
       "      <td>0.478273</td>\n",
       "      <td>-0.050556</td>\n",
       "      <td>-0.655765</td>\n",
       "      <td>-0.891033</td>\n",
       "      <td>0.108725</td>\n",
       "      <td>0.004944</td>\n",
       "      <td>0.349180</td>\n",
       "      <td>-0.030297</td>\n",
       "    </tr>\n",
       "    <tr>\n",
       "      <th>Cloud Type</th>\n",
       "      <td>0.022479</td>\n",
       "      <td>-0.073302</td>\n",
       "      <td>-0.047297</td>\n",
       "      <td>1.000000</td>\n",
       "      <td>0.202096</td>\n",
       "      <td>0.066777</td>\n",
       "      <td>-0.137158</td>\n",
       "      <td>0.235374</td>\n",
       "      <td>0.026873</td>\n",
       "      <td>0.326904</td>\n",
       "      <td>-0.081565</td>\n",
       "      <td>0.072632</td>\n",
       "      <td>0.090161</td>\n",
       "    </tr>\n",
       "    <tr>\n",
       "      <th>Dew Point</th>\n",
       "      <td>0.222931</td>\n",
       "      <td>0.033601</td>\n",
       "      <td>0.140420</td>\n",
       "      <td>0.202096</td>\n",
       "      <td>1.000000</td>\n",
       "      <td>0.848948</td>\n",
       "      <td>-0.419534</td>\n",
       "      <td>0.193455</td>\n",
       "      <td>-0.222336</td>\n",
       "      <td>0.881881</td>\n",
       "      <td>-0.076357</td>\n",
       "      <td>-0.140699</td>\n",
       "      <td>0.036851</td>\n",
       "    </tr>\n",
       "    <tr>\n",
       "      <th>Temperature</th>\n",
       "      <td>0.503409</td>\n",
       "      <td>0.384353</td>\n",
       "      <td>0.478273</td>\n",
       "      <td>0.066777</td>\n",
       "      <td>0.848948</td>\n",
       "      <td>1.000000</td>\n",
       "      <td>-0.371395</td>\n",
       "      <td>-0.341914</td>\n",
       "      <td>-0.526548</td>\n",
       "      <td>0.742449</td>\n",
       "      <td>-0.066673</td>\n",
       "      <td>-0.046694</td>\n",
       "      <td>0.015734</td>\n",
       "    </tr>\n",
       "    <tr>\n",
       "      <th>Pressure</th>\n",
       "      <td>-0.093766</td>\n",
       "      <td>0.007043</td>\n",
       "      <td>-0.050556</td>\n",
       "      <td>-0.137158</td>\n",
       "      <td>-0.419534</td>\n",
       "      <td>-0.371395</td>\n",
       "      <td>1.000000</td>\n",
       "      <td>-0.085004</td>\n",
       "      <td>0.078900</td>\n",
       "      <td>-0.365342</td>\n",
       "      <td>-0.182006</td>\n",
       "      <td>-0.122674</td>\n",
       "      <td>0.052521</td>\n",
       "    </tr>\n",
       "    <tr>\n",
       "      <th>Relative Humidity</th>\n",
       "      <td>-0.559766</td>\n",
       "      <td>-0.680471</td>\n",
       "      <td>-0.655765</td>\n",
       "      <td>0.235374</td>\n",
       "      <td>0.193455</td>\n",
       "      <td>-0.341914</td>\n",
       "      <td>-0.085004</td>\n",
       "      <td>1.000000</td>\n",
       "      <td>0.607108</td>\n",
       "      <td>0.182658</td>\n",
       "      <td>-0.019108</td>\n",
       "      <td>-0.172248</td>\n",
       "      <td>0.023674</td>\n",
       "    </tr>\n",
       "    <tr>\n",
       "      <th>Solar Zenith Angle</th>\n",
       "      <td>-0.873421</td>\n",
       "      <td>-0.886323</td>\n",
       "      <td>-0.891033</td>\n",
       "      <td>0.026873</td>\n",
       "      <td>-0.222336</td>\n",
       "      <td>-0.526548</td>\n",
       "      <td>0.078900</td>\n",
       "      <td>0.607108</td>\n",
       "      <td>1.000000</td>\n",
       "      <td>-0.182529</td>\n",
       "      <td>0.003802</td>\n",
       "      <td>-0.295927</td>\n",
       "      <td>-0.029150</td>\n",
       "    </tr>\n",
       "    <tr>\n",
       "      <th>Precipitable Water</th>\n",
       "      <td>0.207504</td>\n",
       "      <td>-0.002180</td>\n",
       "      <td>0.108725</td>\n",
       "      <td>0.326904</td>\n",
       "      <td>0.881881</td>\n",
       "      <td>0.742449</td>\n",
       "      <td>-0.365342</td>\n",
       "      <td>0.182658</td>\n",
       "      <td>-0.182529</td>\n",
       "      <td>1.000000</td>\n",
       "      <td>-0.105735</td>\n",
       "      <td>-0.106892</td>\n",
       "      <td>0.044106</td>\n",
       "    </tr>\n",
       "    <tr>\n",
       "      <th>Wind Direction</th>\n",
       "      <td>-0.000195</td>\n",
       "      <td>0.006256</td>\n",
       "      <td>0.004944</td>\n",
       "      <td>-0.081565</td>\n",
       "      <td>-0.076357</td>\n",
       "      <td>-0.066673</td>\n",
       "      <td>-0.182006</td>\n",
       "      <td>-0.019108</td>\n",
       "      <td>0.003802</td>\n",
       "      <td>-0.105735</td>\n",
       "      <td>1.000000</td>\n",
       "      <td>0.035634</td>\n",
       "      <td>-0.017124</td>\n",
       "    </tr>\n",
       "    <tr>\n",
       "      <th>Wind Speed</th>\n",
       "      <td>0.315655</td>\n",
       "      <td>0.381162</td>\n",
       "      <td>0.349180</td>\n",
       "      <td>0.072632</td>\n",
       "      <td>-0.140699</td>\n",
       "      <td>-0.046694</td>\n",
       "      <td>-0.122674</td>\n",
       "      <td>-0.172248</td>\n",
       "      <td>-0.295927</td>\n",
       "      <td>-0.106892</td>\n",
       "      <td>0.035634</td>\n",
       "      <td>1.000000</td>\n",
       "      <td>0.000447</td>\n",
       "    </tr>\n",
       "    <tr>\n",
       "      <th>Fill Flag</th>\n",
       "      <td>0.000740</td>\n",
       "      <td>0.006318</td>\n",
       "      <td>-0.030297</td>\n",
       "      <td>0.090161</td>\n",
       "      <td>0.036851</td>\n",
       "      <td>0.015734</td>\n",
       "      <td>0.052521</td>\n",
       "      <td>0.023674</td>\n",
       "      <td>-0.029150</td>\n",
       "      <td>0.044106</td>\n",
       "      <td>-0.017124</td>\n",
       "      <td>0.000447</td>\n",
       "      <td>1.000000</td>\n",
       "    </tr>\n",
       "  </tbody>\n",
       "</table>\n",
       "</div>"
      ],
      "text/plain": [
       "                    Clearsky DHI  Clearsky DNI  Clearsky GHI  Cloud Type  \\\n",
       "Clearsky DHI            1.000000      0.860988      0.912991    0.022479   \n",
       "Clearsky DNI            0.860988      1.000000      0.927926   -0.073302   \n",
       "Clearsky GHI            0.912991      0.927926      1.000000   -0.047297   \n",
       "Cloud Type              0.022479     -0.073302     -0.047297    1.000000   \n",
       "Dew Point               0.222931      0.033601      0.140420    0.202096   \n",
       "Temperature             0.503409      0.384353      0.478273    0.066777   \n",
       "Pressure               -0.093766      0.007043     -0.050556   -0.137158   \n",
       "Relative Humidity      -0.559766     -0.680471     -0.655765    0.235374   \n",
       "Solar Zenith Angle     -0.873421     -0.886323     -0.891033    0.026873   \n",
       "Precipitable Water      0.207504     -0.002180      0.108725    0.326904   \n",
       "Wind Direction         -0.000195      0.006256      0.004944   -0.081565   \n",
       "Wind Speed              0.315655      0.381162      0.349180    0.072632   \n",
       "Fill Flag               0.000740      0.006318     -0.030297    0.090161   \n",
       "\n",
       "                    Dew Point  Temperature  Pressure  Relative Humidity  \\\n",
       "Clearsky DHI         0.222931     0.503409 -0.093766          -0.559766   \n",
       "Clearsky DNI         0.033601     0.384353  0.007043          -0.680471   \n",
       "Clearsky GHI         0.140420     0.478273 -0.050556          -0.655765   \n",
       "Cloud Type           0.202096     0.066777 -0.137158           0.235374   \n",
       "Dew Point            1.000000     0.848948 -0.419534           0.193455   \n",
       "Temperature          0.848948     1.000000 -0.371395          -0.341914   \n",
       "Pressure            -0.419534    -0.371395  1.000000          -0.085004   \n",
       "Relative Humidity    0.193455    -0.341914 -0.085004           1.000000   \n",
       "Solar Zenith Angle  -0.222336    -0.526548  0.078900           0.607108   \n",
       "Precipitable Water   0.881881     0.742449 -0.365342           0.182658   \n",
       "Wind Direction      -0.076357    -0.066673 -0.182006          -0.019108   \n",
       "Wind Speed          -0.140699    -0.046694 -0.122674          -0.172248   \n",
       "Fill Flag            0.036851     0.015734  0.052521           0.023674   \n",
       "\n",
       "                    Solar Zenith Angle  Precipitable Water  Wind Direction  \\\n",
       "Clearsky DHI                 -0.873421            0.207504       -0.000195   \n",
       "Clearsky DNI                 -0.886323           -0.002180        0.006256   \n",
       "Clearsky GHI                 -0.891033            0.108725        0.004944   \n",
       "Cloud Type                    0.026873            0.326904       -0.081565   \n",
       "Dew Point                    -0.222336            0.881881       -0.076357   \n",
       "Temperature                  -0.526548            0.742449       -0.066673   \n",
       "Pressure                      0.078900           -0.365342       -0.182006   \n",
       "Relative Humidity             0.607108            0.182658       -0.019108   \n",
       "Solar Zenith Angle            1.000000           -0.182529        0.003802   \n",
       "Precipitable Water           -0.182529            1.000000       -0.105735   \n",
       "Wind Direction                0.003802           -0.105735        1.000000   \n",
       "Wind Speed                   -0.295927           -0.106892        0.035634   \n",
       "Fill Flag                    -0.029150            0.044106       -0.017124   \n",
       "\n",
       "                    Wind Speed  Fill Flag  \n",
       "Clearsky DHI          0.315655   0.000740  \n",
       "Clearsky DNI          0.381162   0.006318  \n",
       "Clearsky GHI          0.349180  -0.030297  \n",
       "Cloud Type            0.072632   0.090161  \n",
       "Dew Point            -0.140699   0.036851  \n",
       "Temperature          -0.046694   0.015734  \n",
       "Pressure             -0.122674   0.052521  \n",
       "Relative Humidity    -0.172248   0.023674  \n",
       "Solar Zenith Angle   -0.295927  -0.029150  \n",
       "Precipitable Water   -0.106892   0.044106  \n",
       "Wind Direction        0.035634  -0.017124  \n",
       "Wind Speed            1.000000   0.000447  \n",
       "Fill Flag             0.000447   1.000000  "
      ]
     },
     "execution_count": 6,
     "metadata": {},
     "output_type": "execute_result"
    }
   ],
   "source": [
    "corr_matrix = df.corr()\n",
    "corr_matrix"
   ]
  },
  {
   "cell_type": "markdown",
   "id": "a2539ad9",
   "metadata": {},
   "source": [
    "Converting it into an upper triangular matrix so that it is faster and easier to loop through"
   ]
  },
  {
   "cell_type": "code",
   "execution_count": 7,
   "id": "b192d88b",
   "metadata": {},
   "outputs": [
    {
     "name": "stderr",
     "output_type": "stream",
     "text": [
      "C:\\Users\\ariha\\AppData\\Local\\Temp/ipykernel_7072/2621372733.py:1: DeprecationWarning: `np.bool` is a deprecated alias for the builtin `bool`. To silence this warning, use `bool` by itself. Doing this will not modify any behavior and is safe. If you specifically wanted the numpy scalar type, use `np.bool_` here.\n",
      "Deprecated in NumPy 1.20; for more details and guidance: https://numpy.org/devdocs/release/1.20.0-notes.html#deprecations\n",
      "  upper = corr_matrix.where(np.triu(np.ones(corr_matrix.shape), k=1).astype(np.bool))\n"
     ]
    },
    {
     "data": {
      "text/html": [
       "<div>\n",
       "<style scoped>\n",
       "    .dataframe tbody tr th:only-of-type {\n",
       "        vertical-align: middle;\n",
       "    }\n",
       "\n",
       "    .dataframe tbody tr th {\n",
       "        vertical-align: top;\n",
       "    }\n",
       "\n",
       "    .dataframe thead th {\n",
       "        text-align: right;\n",
       "    }\n",
       "</style>\n",
       "<table border=\"1\" class=\"dataframe\">\n",
       "  <thead>\n",
       "    <tr style=\"text-align: right;\">\n",
       "      <th></th>\n",
       "      <th>Clearsky DHI</th>\n",
       "      <th>Clearsky DNI</th>\n",
       "      <th>Clearsky GHI</th>\n",
       "      <th>Cloud Type</th>\n",
       "      <th>Dew Point</th>\n",
       "      <th>Temperature</th>\n",
       "      <th>Pressure</th>\n",
       "      <th>Relative Humidity</th>\n",
       "      <th>Solar Zenith Angle</th>\n",
       "      <th>Precipitable Water</th>\n",
       "      <th>Wind Direction</th>\n",
       "      <th>Wind Speed</th>\n",
       "      <th>Fill Flag</th>\n",
       "    </tr>\n",
       "  </thead>\n",
       "  <tbody>\n",
       "    <tr>\n",
       "      <th>Clearsky DHI</th>\n",
       "      <td>NaN</td>\n",
       "      <td>0.860988</td>\n",
       "      <td>0.912991</td>\n",
       "      <td>0.022479</td>\n",
       "      <td>0.222931</td>\n",
       "      <td>0.503409</td>\n",
       "      <td>-0.093766</td>\n",
       "      <td>-0.559766</td>\n",
       "      <td>-0.873421</td>\n",
       "      <td>0.207504</td>\n",
       "      <td>-0.000195</td>\n",
       "      <td>0.315655</td>\n",
       "      <td>0.000740</td>\n",
       "    </tr>\n",
       "    <tr>\n",
       "      <th>Clearsky DNI</th>\n",
       "      <td>NaN</td>\n",
       "      <td>NaN</td>\n",
       "      <td>0.927926</td>\n",
       "      <td>-0.073302</td>\n",
       "      <td>0.033601</td>\n",
       "      <td>0.384353</td>\n",
       "      <td>0.007043</td>\n",
       "      <td>-0.680471</td>\n",
       "      <td>-0.886323</td>\n",
       "      <td>-0.002180</td>\n",
       "      <td>0.006256</td>\n",
       "      <td>0.381162</td>\n",
       "      <td>0.006318</td>\n",
       "    </tr>\n",
       "    <tr>\n",
       "      <th>Clearsky GHI</th>\n",
       "      <td>NaN</td>\n",
       "      <td>NaN</td>\n",
       "      <td>NaN</td>\n",
       "      <td>-0.047297</td>\n",
       "      <td>0.140420</td>\n",
       "      <td>0.478273</td>\n",
       "      <td>-0.050556</td>\n",
       "      <td>-0.655765</td>\n",
       "      <td>-0.891033</td>\n",
       "      <td>0.108725</td>\n",
       "      <td>0.004944</td>\n",
       "      <td>0.349180</td>\n",
       "      <td>-0.030297</td>\n",
       "    </tr>\n",
       "    <tr>\n",
       "      <th>Cloud Type</th>\n",
       "      <td>NaN</td>\n",
       "      <td>NaN</td>\n",
       "      <td>NaN</td>\n",
       "      <td>NaN</td>\n",
       "      <td>0.202096</td>\n",
       "      <td>0.066777</td>\n",
       "      <td>-0.137158</td>\n",
       "      <td>0.235374</td>\n",
       "      <td>0.026873</td>\n",
       "      <td>0.326904</td>\n",
       "      <td>-0.081565</td>\n",
       "      <td>0.072632</td>\n",
       "      <td>0.090161</td>\n",
       "    </tr>\n",
       "    <tr>\n",
       "      <th>Dew Point</th>\n",
       "      <td>NaN</td>\n",
       "      <td>NaN</td>\n",
       "      <td>NaN</td>\n",
       "      <td>NaN</td>\n",
       "      <td>NaN</td>\n",
       "      <td>0.848948</td>\n",
       "      <td>-0.419534</td>\n",
       "      <td>0.193455</td>\n",
       "      <td>-0.222336</td>\n",
       "      <td>0.881881</td>\n",
       "      <td>-0.076357</td>\n",
       "      <td>-0.140699</td>\n",
       "      <td>0.036851</td>\n",
       "    </tr>\n",
       "    <tr>\n",
       "      <th>Temperature</th>\n",
       "      <td>NaN</td>\n",
       "      <td>NaN</td>\n",
       "      <td>NaN</td>\n",
       "      <td>NaN</td>\n",
       "      <td>NaN</td>\n",
       "      <td>NaN</td>\n",
       "      <td>-0.371395</td>\n",
       "      <td>-0.341914</td>\n",
       "      <td>-0.526548</td>\n",
       "      <td>0.742449</td>\n",
       "      <td>-0.066673</td>\n",
       "      <td>-0.046694</td>\n",
       "      <td>0.015734</td>\n",
       "    </tr>\n",
       "    <tr>\n",
       "      <th>Pressure</th>\n",
       "      <td>NaN</td>\n",
       "      <td>NaN</td>\n",
       "      <td>NaN</td>\n",
       "      <td>NaN</td>\n",
       "      <td>NaN</td>\n",
       "      <td>NaN</td>\n",
       "      <td>NaN</td>\n",
       "      <td>-0.085004</td>\n",
       "      <td>0.078900</td>\n",
       "      <td>-0.365342</td>\n",
       "      <td>-0.182006</td>\n",
       "      <td>-0.122674</td>\n",
       "      <td>0.052521</td>\n",
       "    </tr>\n",
       "    <tr>\n",
       "      <th>Relative Humidity</th>\n",
       "      <td>NaN</td>\n",
       "      <td>NaN</td>\n",
       "      <td>NaN</td>\n",
       "      <td>NaN</td>\n",
       "      <td>NaN</td>\n",
       "      <td>NaN</td>\n",
       "      <td>NaN</td>\n",
       "      <td>NaN</td>\n",
       "      <td>0.607108</td>\n",
       "      <td>0.182658</td>\n",
       "      <td>-0.019108</td>\n",
       "      <td>-0.172248</td>\n",
       "      <td>0.023674</td>\n",
       "    </tr>\n",
       "    <tr>\n",
       "      <th>Solar Zenith Angle</th>\n",
       "      <td>NaN</td>\n",
       "      <td>NaN</td>\n",
       "      <td>NaN</td>\n",
       "      <td>NaN</td>\n",
       "      <td>NaN</td>\n",
       "      <td>NaN</td>\n",
       "      <td>NaN</td>\n",
       "      <td>NaN</td>\n",
       "      <td>NaN</td>\n",
       "      <td>-0.182529</td>\n",
       "      <td>0.003802</td>\n",
       "      <td>-0.295927</td>\n",
       "      <td>-0.029150</td>\n",
       "    </tr>\n",
       "    <tr>\n",
       "      <th>Precipitable Water</th>\n",
       "      <td>NaN</td>\n",
       "      <td>NaN</td>\n",
       "      <td>NaN</td>\n",
       "      <td>NaN</td>\n",
       "      <td>NaN</td>\n",
       "      <td>NaN</td>\n",
       "      <td>NaN</td>\n",
       "      <td>NaN</td>\n",
       "      <td>NaN</td>\n",
       "      <td>NaN</td>\n",
       "      <td>-0.105735</td>\n",
       "      <td>-0.106892</td>\n",
       "      <td>0.044106</td>\n",
       "    </tr>\n",
       "    <tr>\n",
       "      <th>Wind Direction</th>\n",
       "      <td>NaN</td>\n",
       "      <td>NaN</td>\n",
       "      <td>NaN</td>\n",
       "      <td>NaN</td>\n",
       "      <td>NaN</td>\n",
       "      <td>NaN</td>\n",
       "      <td>NaN</td>\n",
       "      <td>NaN</td>\n",
       "      <td>NaN</td>\n",
       "      <td>NaN</td>\n",
       "      <td>NaN</td>\n",
       "      <td>0.035634</td>\n",
       "      <td>-0.017124</td>\n",
       "    </tr>\n",
       "    <tr>\n",
       "      <th>Wind Speed</th>\n",
       "      <td>NaN</td>\n",
       "      <td>NaN</td>\n",
       "      <td>NaN</td>\n",
       "      <td>NaN</td>\n",
       "      <td>NaN</td>\n",
       "      <td>NaN</td>\n",
       "      <td>NaN</td>\n",
       "      <td>NaN</td>\n",
       "      <td>NaN</td>\n",
       "      <td>NaN</td>\n",
       "      <td>NaN</td>\n",
       "      <td>NaN</td>\n",
       "      <td>0.000447</td>\n",
       "    </tr>\n",
       "    <tr>\n",
       "      <th>Fill Flag</th>\n",
       "      <td>NaN</td>\n",
       "      <td>NaN</td>\n",
       "      <td>NaN</td>\n",
       "      <td>NaN</td>\n",
       "      <td>NaN</td>\n",
       "      <td>NaN</td>\n",
       "      <td>NaN</td>\n",
       "      <td>NaN</td>\n",
       "      <td>NaN</td>\n",
       "      <td>NaN</td>\n",
       "      <td>NaN</td>\n",
       "      <td>NaN</td>\n",
       "      <td>NaN</td>\n",
       "    </tr>\n",
       "  </tbody>\n",
       "</table>\n",
       "</div>"
      ],
      "text/plain": [
       "                    Clearsky DHI  Clearsky DNI  Clearsky GHI  Cloud Type  \\\n",
       "Clearsky DHI                 NaN      0.860988      0.912991    0.022479   \n",
       "Clearsky DNI                 NaN           NaN      0.927926   -0.073302   \n",
       "Clearsky GHI                 NaN           NaN           NaN   -0.047297   \n",
       "Cloud Type                   NaN           NaN           NaN         NaN   \n",
       "Dew Point                    NaN           NaN           NaN         NaN   \n",
       "Temperature                  NaN           NaN           NaN         NaN   \n",
       "Pressure                     NaN           NaN           NaN         NaN   \n",
       "Relative Humidity            NaN           NaN           NaN         NaN   \n",
       "Solar Zenith Angle           NaN           NaN           NaN         NaN   \n",
       "Precipitable Water           NaN           NaN           NaN         NaN   \n",
       "Wind Direction               NaN           NaN           NaN         NaN   \n",
       "Wind Speed                   NaN           NaN           NaN         NaN   \n",
       "Fill Flag                    NaN           NaN           NaN         NaN   \n",
       "\n",
       "                    Dew Point  Temperature  Pressure  Relative Humidity  \\\n",
       "Clearsky DHI         0.222931     0.503409 -0.093766          -0.559766   \n",
       "Clearsky DNI         0.033601     0.384353  0.007043          -0.680471   \n",
       "Clearsky GHI         0.140420     0.478273 -0.050556          -0.655765   \n",
       "Cloud Type           0.202096     0.066777 -0.137158           0.235374   \n",
       "Dew Point                 NaN     0.848948 -0.419534           0.193455   \n",
       "Temperature               NaN          NaN -0.371395          -0.341914   \n",
       "Pressure                  NaN          NaN       NaN          -0.085004   \n",
       "Relative Humidity         NaN          NaN       NaN                NaN   \n",
       "Solar Zenith Angle        NaN          NaN       NaN                NaN   \n",
       "Precipitable Water        NaN          NaN       NaN                NaN   \n",
       "Wind Direction            NaN          NaN       NaN                NaN   \n",
       "Wind Speed                NaN          NaN       NaN                NaN   \n",
       "Fill Flag                 NaN          NaN       NaN                NaN   \n",
       "\n",
       "                    Solar Zenith Angle  Precipitable Water  Wind Direction  \\\n",
       "Clearsky DHI                 -0.873421            0.207504       -0.000195   \n",
       "Clearsky DNI                 -0.886323           -0.002180        0.006256   \n",
       "Clearsky GHI                 -0.891033            0.108725        0.004944   \n",
       "Cloud Type                    0.026873            0.326904       -0.081565   \n",
       "Dew Point                    -0.222336            0.881881       -0.076357   \n",
       "Temperature                  -0.526548            0.742449       -0.066673   \n",
       "Pressure                      0.078900           -0.365342       -0.182006   \n",
       "Relative Humidity             0.607108            0.182658       -0.019108   \n",
       "Solar Zenith Angle                 NaN           -0.182529        0.003802   \n",
       "Precipitable Water                 NaN                 NaN       -0.105735   \n",
       "Wind Direction                     NaN                 NaN             NaN   \n",
       "Wind Speed                         NaN                 NaN             NaN   \n",
       "Fill Flag                          NaN                 NaN             NaN   \n",
       "\n",
       "                    Wind Speed  Fill Flag  \n",
       "Clearsky DHI          0.315655   0.000740  \n",
       "Clearsky DNI          0.381162   0.006318  \n",
       "Clearsky GHI          0.349180  -0.030297  \n",
       "Cloud Type            0.072632   0.090161  \n",
       "Dew Point            -0.140699   0.036851  \n",
       "Temperature          -0.046694   0.015734  \n",
       "Pressure             -0.122674   0.052521  \n",
       "Relative Humidity    -0.172248   0.023674  \n",
       "Solar Zenith Angle   -0.295927  -0.029150  \n",
       "Precipitable Water   -0.106892   0.044106  \n",
       "Wind Direction        0.035634  -0.017124  \n",
       "Wind Speed                 NaN   0.000447  \n",
       "Fill Flag                  NaN        NaN  "
      ]
     },
     "execution_count": 7,
     "metadata": {},
     "output_type": "execute_result"
    }
   ],
   "source": [
    "upper = corr_matrix.where(np.triu(np.ones(corr_matrix.shape), k=1).astype(np.bool))\n",
    "upper"
   ]
  },
  {
   "cell_type": "markdown",
   "id": "0beef132",
   "metadata": {},
   "source": [
    "Selecting all columns and creating a list where correlation factor > 0.75 which shows that columns are highly correlated and hence we dont require them"
   ]
  },
  {
   "cell_type": "code",
   "execution_count": 8,
   "id": "c9f7107f",
   "metadata": {},
   "outputs": [
    {
     "data": {
      "text/plain": [
       "['Clearsky DNI', 'Clearsky GHI', 'Temperature', 'Precipitable Water']"
      ]
     },
     "execution_count": 8,
     "metadata": {},
     "output_type": "execute_result"
    }
   ],
   "source": [
    "columns_to_drop = []\n",
    "for cols in upper.columns:\n",
    "    if any (upper[cols] > 0.75):\n",
    "        columns_to_drop.append(cols)\n",
    "columns_to_drop"
   ]
  },
  {
   "cell_type": "markdown",
   "id": "06631f13",
   "metadata": {},
   "source": [
    "Removing 'Clearsky DNI' and 'Clearsky GHI' since those are columns we have to predict"
   ]
  },
  {
   "cell_type": "code",
   "execution_count": 9,
   "id": "2fd107f4",
   "metadata": {},
   "outputs": [
    {
     "data": {
      "text/plain": [
       "['Temperature', 'Precipitable Water']"
      ]
     },
     "execution_count": 9,
     "metadata": {},
     "output_type": "execute_result"
    }
   ],
   "source": [
    "columns_to_drop.pop(0)\n",
    "columns_to_drop.pop(0)\n",
    "columns_to_drop"
   ]
  },
  {
   "cell_type": "markdown",
   "id": "a17866b6",
   "metadata": {},
   "source": [
    "Dropping the columns we found that had high correlation"
   ]
  },
  {
   "cell_type": "code",
   "execution_count": 10,
   "id": "db95a9d3",
   "metadata": {},
   "outputs": [
    {
     "data": {
      "text/html": [
       "<div>\n",
       "<style scoped>\n",
       "    .dataframe tbody tr th:only-of-type {\n",
       "        vertical-align: middle;\n",
       "    }\n",
       "\n",
       "    .dataframe tbody tr th {\n",
       "        vertical-align: top;\n",
       "    }\n",
       "\n",
       "    .dataframe thead th {\n",
       "        text-align: right;\n",
       "    }\n",
       "</style>\n",
       "<table border=\"1\" class=\"dataframe\">\n",
       "  <thead>\n",
       "    <tr style=\"text-align: right;\">\n",
       "      <th></th>\n",
       "      <th>Clearsky DHI</th>\n",
       "      <th>Clearsky DNI</th>\n",
       "      <th>Clearsky GHI</th>\n",
       "      <th>Cloud Type</th>\n",
       "      <th>Dew Point</th>\n",
       "      <th>Pressure</th>\n",
       "      <th>Relative Humidity</th>\n",
       "      <th>Solar Zenith Angle</th>\n",
       "      <th>Wind Direction</th>\n",
       "      <th>Wind Speed</th>\n",
       "      <th>Fill Flag</th>\n",
       "      <th>Date-Time</th>\n",
       "    </tr>\n",
       "  </thead>\n",
       "  <tbody>\n",
       "    <tr>\n",
       "      <th>0</th>\n",
       "      <td>0</td>\n",
       "      <td>0</td>\n",
       "      <td>0</td>\n",
       "      <td>0</td>\n",
       "      <td>0.0</td>\n",
       "      <td>1010</td>\n",
       "      <td>75.34</td>\n",
       "      <td>106.15</td>\n",
       "      <td>346.1</td>\n",
       "      <td>3.1</td>\n",
       "      <td>0</td>\n",
       "      <td>2009-01-01 00:00:00</td>\n",
       "    </tr>\n",
       "    <tr>\n",
       "      <th>1</th>\n",
       "      <td>0</td>\n",
       "      <td>0</td>\n",
       "      <td>0</td>\n",
       "      <td>0</td>\n",
       "      <td>1.0</td>\n",
       "      <td>1010</td>\n",
       "      <td>80.81</td>\n",
       "      <td>112.28</td>\n",
       "      <td>346.1</td>\n",
       "      <td>3.1</td>\n",
       "      <td>0</td>\n",
       "      <td>2009-01-01 00:30:00</td>\n",
       "    </tr>\n",
       "    <tr>\n",
       "      <th>2</th>\n",
       "      <td>0</td>\n",
       "      <td>0</td>\n",
       "      <td>0</td>\n",
       "      <td>4</td>\n",
       "      <td>0.0</td>\n",
       "      <td>1010</td>\n",
       "      <td>78.27</td>\n",
       "      <td>118.50</td>\n",
       "      <td>347.9</td>\n",
       "      <td>3.2</td>\n",
       "      <td>0</td>\n",
       "      <td>2009-01-01 01:00:00</td>\n",
       "    </tr>\n",
       "    <tr>\n",
       "      <th>3</th>\n",
       "      <td>0</td>\n",
       "      <td>0</td>\n",
       "      <td>0</td>\n",
       "      <td>4</td>\n",
       "      <td>0.0</td>\n",
       "      <td>1010</td>\n",
       "      <td>78.27</td>\n",
       "      <td>124.78</td>\n",
       "      <td>347.9</td>\n",
       "      <td>3.1</td>\n",
       "      <td>0</td>\n",
       "      <td>2009-01-01 01:30:00</td>\n",
       "    </tr>\n",
       "    <tr>\n",
       "      <th>4</th>\n",
       "      <td>0</td>\n",
       "      <td>0</td>\n",
       "      <td>0</td>\n",
       "      <td>4</td>\n",
       "      <td>0.0</td>\n",
       "      <td>1010</td>\n",
       "      <td>76.45</td>\n",
       "      <td>131.12</td>\n",
       "      <td>350.0</td>\n",
       "      <td>3.0</td>\n",
       "      <td>0</td>\n",
       "      <td>2009-01-01 02:00:00</td>\n",
       "    </tr>\n",
       "  </tbody>\n",
       "</table>\n",
       "</div>"
      ],
      "text/plain": [
       "   Clearsky DHI  Clearsky DNI  Clearsky GHI  Cloud Type  Dew Point  Pressure  \\\n",
       "0             0             0             0           0        0.0      1010   \n",
       "1             0             0             0           0        1.0      1010   \n",
       "2             0             0             0           4        0.0      1010   \n",
       "3             0             0             0           4        0.0      1010   \n",
       "4             0             0             0           4        0.0      1010   \n",
       "\n",
       "   Relative Humidity  Solar Zenith Angle  Wind Direction  Wind Speed  \\\n",
       "0              75.34              106.15           346.1         3.1   \n",
       "1              80.81              112.28           346.1         3.1   \n",
       "2              78.27              118.50           347.9         3.2   \n",
       "3              78.27              124.78           347.9         3.1   \n",
       "4              76.45              131.12           350.0         3.0   \n",
       "\n",
       "   Fill Flag           Date-Time  \n",
       "0          0 2009-01-01 00:00:00  \n",
       "1          0 2009-01-01 00:30:00  \n",
       "2          0 2009-01-01 01:00:00  \n",
       "3          0 2009-01-01 01:30:00  \n",
       "4          0 2009-01-01 02:00:00  "
      ]
     },
     "execution_count": 10,
     "metadata": {},
     "output_type": "execute_result"
    }
   ],
   "source": [
    "df.drop(columns_to_drop, axis=1, inplace=True)\n",
    "df.head()"
   ]
  },
  {
   "cell_type": "markdown",
   "id": "ff4998c8",
   "metadata": {},
   "source": [
    "Updating the correlation matrix after dropping the columns"
   ]
  },
  {
   "cell_type": "code",
   "execution_count": 11,
   "id": "9be27f26",
   "metadata": {},
   "outputs": [
    {
     "data": {
      "text/html": [
       "<div>\n",
       "<style scoped>\n",
       "    .dataframe tbody tr th:only-of-type {\n",
       "        vertical-align: middle;\n",
       "    }\n",
       "\n",
       "    .dataframe tbody tr th {\n",
       "        vertical-align: top;\n",
       "    }\n",
       "\n",
       "    .dataframe thead th {\n",
       "        text-align: right;\n",
       "    }\n",
       "</style>\n",
       "<table border=\"1\" class=\"dataframe\">\n",
       "  <thead>\n",
       "    <tr style=\"text-align: right;\">\n",
       "      <th></th>\n",
       "      <th>Clearsky DHI</th>\n",
       "      <th>Clearsky DNI</th>\n",
       "      <th>Clearsky GHI</th>\n",
       "      <th>Cloud Type</th>\n",
       "      <th>Dew Point</th>\n",
       "      <th>Pressure</th>\n",
       "      <th>Relative Humidity</th>\n",
       "      <th>Solar Zenith Angle</th>\n",
       "      <th>Wind Direction</th>\n",
       "      <th>Wind Speed</th>\n",
       "      <th>Fill Flag</th>\n",
       "    </tr>\n",
       "  </thead>\n",
       "  <tbody>\n",
       "    <tr>\n",
       "      <th>Clearsky DHI</th>\n",
       "      <td>1.000000</td>\n",
       "      <td>0.860988</td>\n",
       "      <td>0.912991</td>\n",
       "      <td>0.022479</td>\n",
       "      <td>0.222931</td>\n",
       "      <td>-0.093766</td>\n",
       "      <td>-0.559766</td>\n",
       "      <td>-0.873421</td>\n",
       "      <td>-0.000195</td>\n",
       "      <td>0.315655</td>\n",
       "      <td>0.000740</td>\n",
       "    </tr>\n",
       "    <tr>\n",
       "      <th>Clearsky DNI</th>\n",
       "      <td>0.860988</td>\n",
       "      <td>1.000000</td>\n",
       "      <td>0.927926</td>\n",
       "      <td>-0.073302</td>\n",
       "      <td>0.033601</td>\n",
       "      <td>0.007043</td>\n",
       "      <td>-0.680471</td>\n",
       "      <td>-0.886323</td>\n",
       "      <td>0.006256</td>\n",
       "      <td>0.381162</td>\n",
       "      <td>0.006318</td>\n",
       "    </tr>\n",
       "    <tr>\n",
       "      <th>Clearsky GHI</th>\n",
       "      <td>0.912991</td>\n",
       "      <td>0.927926</td>\n",
       "      <td>1.000000</td>\n",
       "      <td>-0.047297</td>\n",
       "      <td>0.140420</td>\n",
       "      <td>-0.050556</td>\n",
       "      <td>-0.655765</td>\n",
       "      <td>-0.891033</td>\n",
       "      <td>0.004944</td>\n",
       "      <td>0.349180</td>\n",
       "      <td>-0.030297</td>\n",
       "    </tr>\n",
       "    <tr>\n",
       "      <th>Cloud Type</th>\n",
       "      <td>0.022479</td>\n",
       "      <td>-0.073302</td>\n",
       "      <td>-0.047297</td>\n",
       "      <td>1.000000</td>\n",
       "      <td>0.202096</td>\n",
       "      <td>-0.137158</td>\n",
       "      <td>0.235374</td>\n",
       "      <td>0.026873</td>\n",
       "      <td>-0.081565</td>\n",
       "      <td>0.072632</td>\n",
       "      <td>0.090161</td>\n",
       "    </tr>\n",
       "    <tr>\n",
       "      <th>Dew Point</th>\n",
       "      <td>0.222931</td>\n",
       "      <td>0.033601</td>\n",
       "      <td>0.140420</td>\n",
       "      <td>0.202096</td>\n",
       "      <td>1.000000</td>\n",
       "      <td>-0.419534</td>\n",
       "      <td>0.193455</td>\n",
       "      <td>-0.222336</td>\n",
       "      <td>-0.076357</td>\n",
       "      <td>-0.140699</td>\n",
       "      <td>0.036851</td>\n",
       "    </tr>\n",
       "    <tr>\n",
       "      <th>Pressure</th>\n",
       "      <td>-0.093766</td>\n",
       "      <td>0.007043</td>\n",
       "      <td>-0.050556</td>\n",
       "      <td>-0.137158</td>\n",
       "      <td>-0.419534</td>\n",
       "      <td>1.000000</td>\n",
       "      <td>-0.085004</td>\n",
       "      <td>0.078900</td>\n",
       "      <td>-0.182006</td>\n",
       "      <td>-0.122674</td>\n",
       "      <td>0.052521</td>\n",
       "    </tr>\n",
       "    <tr>\n",
       "      <th>Relative Humidity</th>\n",
       "      <td>-0.559766</td>\n",
       "      <td>-0.680471</td>\n",
       "      <td>-0.655765</td>\n",
       "      <td>0.235374</td>\n",
       "      <td>0.193455</td>\n",
       "      <td>-0.085004</td>\n",
       "      <td>1.000000</td>\n",
       "      <td>0.607108</td>\n",
       "      <td>-0.019108</td>\n",
       "      <td>-0.172248</td>\n",
       "      <td>0.023674</td>\n",
       "    </tr>\n",
       "    <tr>\n",
       "      <th>Solar Zenith Angle</th>\n",
       "      <td>-0.873421</td>\n",
       "      <td>-0.886323</td>\n",
       "      <td>-0.891033</td>\n",
       "      <td>0.026873</td>\n",
       "      <td>-0.222336</td>\n",
       "      <td>0.078900</td>\n",
       "      <td>0.607108</td>\n",
       "      <td>1.000000</td>\n",
       "      <td>0.003802</td>\n",
       "      <td>-0.295927</td>\n",
       "      <td>-0.029150</td>\n",
       "    </tr>\n",
       "    <tr>\n",
       "      <th>Wind Direction</th>\n",
       "      <td>-0.000195</td>\n",
       "      <td>0.006256</td>\n",
       "      <td>0.004944</td>\n",
       "      <td>-0.081565</td>\n",
       "      <td>-0.076357</td>\n",
       "      <td>-0.182006</td>\n",
       "      <td>-0.019108</td>\n",
       "      <td>0.003802</td>\n",
       "      <td>1.000000</td>\n",
       "      <td>0.035634</td>\n",
       "      <td>-0.017124</td>\n",
       "    </tr>\n",
       "    <tr>\n",
       "      <th>Wind Speed</th>\n",
       "      <td>0.315655</td>\n",
       "      <td>0.381162</td>\n",
       "      <td>0.349180</td>\n",
       "      <td>0.072632</td>\n",
       "      <td>-0.140699</td>\n",
       "      <td>-0.122674</td>\n",
       "      <td>-0.172248</td>\n",
       "      <td>-0.295927</td>\n",
       "      <td>0.035634</td>\n",
       "      <td>1.000000</td>\n",
       "      <td>0.000447</td>\n",
       "    </tr>\n",
       "    <tr>\n",
       "      <th>Fill Flag</th>\n",
       "      <td>0.000740</td>\n",
       "      <td>0.006318</td>\n",
       "      <td>-0.030297</td>\n",
       "      <td>0.090161</td>\n",
       "      <td>0.036851</td>\n",
       "      <td>0.052521</td>\n",
       "      <td>0.023674</td>\n",
       "      <td>-0.029150</td>\n",
       "      <td>-0.017124</td>\n",
       "      <td>0.000447</td>\n",
       "      <td>1.000000</td>\n",
       "    </tr>\n",
       "  </tbody>\n",
       "</table>\n",
       "</div>"
      ],
      "text/plain": [
       "                    Clearsky DHI  Clearsky DNI  Clearsky GHI  Cloud Type  \\\n",
       "Clearsky DHI            1.000000      0.860988      0.912991    0.022479   \n",
       "Clearsky DNI            0.860988      1.000000      0.927926   -0.073302   \n",
       "Clearsky GHI            0.912991      0.927926      1.000000   -0.047297   \n",
       "Cloud Type              0.022479     -0.073302     -0.047297    1.000000   \n",
       "Dew Point               0.222931      0.033601      0.140420    0.202096   \n",
       "Pressure               -0.093766      0.007043     -0.050556   -0.137158   \n",
       "Relative Humidity      -0.559766     -0.680471     -0.655765    0.235374   \n",
       "Solar Zenith Angle     -0.873421     -0.886323     -0.891033    0.026873   \n",
       "Wind Direction         -0.000195      0.006256      0.004944   -0.081565   \n",
       "Wind Speed              0.315655      0.381162      0.349180    0.072632   \n",
       "Fill Flag               0.000740      0.006318     -0.030297    0.090161   \n",
       "\n",
       "                    Dew Point  Pressure  Relative Humidity  \\\n",
       "Clearsky DHI         0.222931 -0.093766          -0.559766   \n",
       "Clearsky DNI         0.033601  0.007043          -0.680471   \n",
       "Clearsky GHI         0.140420 -0.050556          -0.655765   \n",
       "Cloud Type           0.202096 -0.137158           0.235374   \n",
       "Dew Point            1.000000 -0.419534           0.193455   \n",
       "Pressure            -0.419534  1.000000          -0.085004   \n",
       "Relative Humidity    0.193455 -0.085004           1.000000   \n",
       "Solar Zenith Angle  -0.222336  0.078900           0.607108   \n",
       "Wind Direction      -0.076357 -0.182006          -0.019108   \n",
       "Wind Speed          -0.140699 -0.122674          -0.172248   \n",
       "Fill Flag            0.036851  0.052521           0.023674   \n",
       "\n",
       "                    Solar Zenith Angle  Wind Direction  Wind Speed  Fill Flag  \n",
       "Clearsky DHI                 -0.873421       -0.000195    0.315655   0.000740  \n",
       "Clearsky DNI                 -0.886323        0.006256    0.381162   0.006318  \n",
       "Clearsky GHI                 -0.891033        0.004944    0.349180  -0.030297  \n",
       "Cloud Type                    0.026873       -0.081565    0.072632   0.090161  \n",
       "Dew Point                    -0.222336       -0.076357   -0.140699   0.036851  \n",
       "Pressure                      0.078900       -0.182006   -0.122674   0.052521  \n",
       "Relative Humidity             0.607108       -0.019108   -0.172248   0.023674  \n",
       "Solar Zenith Angle            1.000000        0.003802   -0.295927  -0.029150  \n",
       "Wind Direction                0.003802        1.000000    0.035634  -0.017124  \n",
       "Wind Speed                   -0.295927        0.035634    1.000000   0.000447  \n",
       "Fill Flag                    -0.029150       -0.017124    0.000447   1.000000  "
      ]
     },
     "execution_count": 11,
     "metadata": {},
     "output_type": "execute_result"
    }
   ],
   "source": [
    "corr_matrix = df.corr()\n",
    "corr_matrix"
   ]
  },
  {
   "cell_type": "markdown",
   "id": "e961a651",
   "metadata": {},
   "source": [
    "In this matrix, we can see that 'Pressure', 'Wind Direction', 'Fill Flag' all 3 have almost 0 correlation to the values that we want to predict. <br>\n",
    "Hence we can remove those columns as well as it will not affect our final predictions"
   ]
  },
  {
   "cell_type": "code",
   "execution_count": 12,
   "id": "ed34a20e",
   "metadata": {
    "ExecuteTime": {
     "end_time": "2022-02-22T06:14:49.479324Z",
     "start_time": "2022-02-22T06:14:49.458401Z"
    }
   },
   "outputs": [],
   "source": [
    "df.drop(columns=['Pressure', 'Wind Direction', 'Fill Flag'], axis=1, inplace=True)"
   ]
  },
  {
   "cell_type": "code",
   "execution_count": 13,
   "id": "17595dac",
   "metadata": {
    "ExecuteTime": {
     "end_time": "2022-02-22T06:14:49.502893Z",
     "start_time": "2022-02-22T06:14:49.479324Z"
    }
   },
   "outputs": [
    {
     "data": {
      "text/html": [
       "<div>\n",
       "<style scoped>\n",
       "    .dataframe tbody tr th:only-of-type {\n",
       "        vertical-align: middle;\n",
       "    }\n",
       "\n",
       "    .dataframe tbody tr th {\n",
       "        vertical-align: top;\n",
       "    }\n",
       "\n",
       "    .dataframe thead th {\n",
       "        text-align: right;\n",
       "    }\n",
       "</style>\n",
       "<table border=\"1\" class=\"dataframe\">\n",
       "  <thead>\n",
       "    <tr style=\"text-align: right;\">\n",
       "      <th></th>\n",
       "      <th>Clearsky DHI</th>\n",
       "      <th>Clearsky DNI</th>\n",
       "      <th>Clearsky GHI</th>\n",
       "      <th>Cloud Type</th>\n",
       "      <th>Dew Point</th>\n",
       "      <th>Relative Humidity</th>\n",
       "      <th>Solar Zenith Angle</th>\n",
       "      <th>Wind Speed</th>\n",
       "      <th>Date-Time</th>\n",
       "    </tr>\n",
       "  </thead>\n",
       "  <tbody>\n",
       "    <tr>\n",
       "      <th>0</th>\n",
       "      <td>0</td>\n",
       "      <td>0</td>\n",
       "      <td>0</td>\n",
       "      <td>0</td>\n",
       "      <td>0.0</td>\n",
       "      <td>75.34</td>\n",
       "      <td>106.15</td>\n",
       "      <td>3.1</td>\n",
       "      <td>2009-01-01 00:00:00</td>\n",
       "    </tr>\n",
       "    <tr>\n",
       "      <th>1</th>\n",
       "      <td>0</td>\n",
       "      <td>0</td>\n",
       "      <td>0</td>\n",
       "      <td>0</td>\n",
       "      <td>1.0</td>\n",
       "      <td>80.81</td>\n",
       "      <td>112.28</td>\n",
       "      <td>3.1</td>\n",
       "      <td>2009-01-01 00:30:00</td>\n",
       "    </tr>\n",
       "    <tr>\n",
       "      <th>2</th>\n",
       "      <td>0</td>\n",
       "      <td>0</td>\n",
       "      <td>0</td>\n",
       "      <td>4</td>\n",
       "      <td>0.0</td>\n",
       "      <td>78.27</td>\n",
       "      <td>118.50</td>\n",
       "      <td>3.2</td>\n",
       "      <td>2009-01-01 01:00:00</td>\n",
       "    </tr>\n",
       "    <tr>\n",
       "      <th>3</th>\n",
       "      <td>0</td>\n",
       "      <td>0</td>\n",
       "      <td>0</td>\n",
       "      <td>4</td>\n",
       "      <td>0.0</td>\n",
       "      <td>78.27</td>\n",
       "      <td>124.78</td>\n",
       "      <td>3.1</td>\n",
       "      <td>2009-01-01 01:30:00</td>\n",
       "    </tr>\n",
       "    <tr>\n",
       "      <th>4</th>\n",
       "      <td>0</td>\n",
       "      <td>0</td>\n",
       "      <td>0</td>\n",
       "      <td>4</td>\n",
       "      <td>0.0</td>\n",
       "      <td>76.45</td>\n",
       "      <td>131.12</td>\n",
       "      <td>3.0</td>\n",
       "      <td>2009-01-01 02:00:00</td>\n",
       "    </tr>\n",
       "  </tbody>\n",
       "</table>\n",
       "</div>"
      ],
      "text/plain": [
       "   Clearsky DHI  Clearsky DNI  Clearsky GHI  Cloud Type  Dew Point  \\\n",
       "0             0             0             0           0        0.0   \n",
       "1             0             0             0           0        1.0   \n",
       "2             0             0             0           4        0.0   \n",
       "3             0             0             0           4        0.0   \n",
       "4             0             0             0           4        0.0   \n",
       "\n",
       "   Relative Humidity  Solar Zenith Angle  Wind Speed           Date-Time  \n",
       "0              75.34              106.15         3.1 2009-01-01 00:00:00  \n",
       "1              80.81              112.28         3.1 2009-01-01 00:30:00  \n",
       "2              78.27              118.50         3.2 2009-01-01 01:00:00  \n",
       "3              78.27              124.78         3.1 2009-01-01 01:30:00  \n",
       "4              76.45              131.12         3.0 2009-01-01 02:00:00  "
      ]
     },
     "execution_count": 13,
     "metadata": {},
     "output_type": "execute_result"
    }
   ],
   "source": [
    "df.head()"
   ]
  },
  {
   "cell_type": "markdown",
   "id": "58d61eed",
   "metadata": {},
   "source": [
    "Now, after looking at the information about the data via the <a href=\"https://machinehack.com/hackathon/wipro_sustainability_machine_learning_challenge/data\">MachineHack</a> website, we get to know that Cloud Type is a categorical variable and not a conitnuous variable. <br> \n",
    "So, we apply one-hot encoding to convert it into continuous variables"
   ]
  },
  {
   "cell_type": "code",
   "execution_count": 14,
   "id": "5221d232",
   "metadata": {},
   "outputs": [
    {
     "data": {
      "text/plain": [
       "array([ 0,  4,  1,  7,  8,  3,  2,  6,  9, 10], dtype=int64)"
      ]
     },
     "execution_count": 14,
     "metadata": {},
     "output_type": "execute_result"
    }
   ],
   "source": [
    "df['Cloud Type'].unique()"
   ]
  },
  {
   "cell_type": "markdown",
   "id": "d2ba7ba4",
   "metadata": {},
   "source": [
    "Pandas has a built-in function called pd.get_dummies that performs one-hot encoding. You can learn more about it through it's <a href='https://pandas.pydata.org/docs/reference/api/pandas.get_dummies.html'>documentation</a>."
   ]
  },
  {
   "cell_type": "code",
   "execution_count": 15,
   "id": "838943e7",
   "metadata": {},
   "outputs": [
    {
     "data": {
      "text/html": [
       "<div>\n",
       "<style scoped>\n",
       "    .dataframe tbody tr th:only-of-type {\n",
       "        vertical-align: middle;\n",
       "    }\n",
       "\n",
       "    .dataframe tbody tr th {\n",
       "        vertical-align: top;\n",
       "    }\n",
       "\n",
       "    .dataframe thead th {\n",
       "        text-align: right;\n",
       "    }\n",
       "</style>\n",
       "<table border=\"1\" class=\"dataframe\">\n",
       "  <thead>\n",
       "    <tr style=\"text-align: right;\">\n",
       "      <th></th>\n",
       "      <th>Clearsky DHI</th>\n",
       "      <th>Clearsky DNI</th>\n",
       "      <th>Clearsky GHI</th>\n",
       "      <th>Dew Point</th>\n",
       "      <th>Relative Humidity</th>\n",
       "      <th>Solar Zenith Angle</th>\n",
       "      <th>Wind Speed</th>\n",
       "      <th>Date-Time</th>\n",
       "      <th>Cloud Type_0</th>\n",
       "      <th>Cloud Type_1</th>\n",
       "      <th>Cloud Type_2</th>\n",
       "      <th>Cloud Type_3</th>\n",
       "      <th>Cloud Type_4</th>\n",
       "      <th>Cloud Type_6</th>\n",
       "      <th>Cloud Type_7</th>\n",
       "      <th>Cloud Type_8</th>\n",
       "      <th>Cloud Type_9</th>\n",
       "      <th>Cloud Type_10</th>\n",
       "    </tr>\n",
       "  </thead>\n",
       "  <tbody>\n",
       "    <tr>\n",
       "      <th>0</th>\n",
       "      <td>0</td>\n",
       "      <td>0</td>\n",
       "      <td>0</td>\n",
       "      <td>0.0</td>\n",
       "      <td>75.34</td>\n",
       "      <td>106.15</td>\n",
       "      <td>3.1</td>\n",
       "      <td>2009-01-01 00:00:00</td>\n",
       "      <td>1</td>\n",
       "      <td>0</td>\n",
       "      <td>0</td>\n",
       "      <td>0</td>\n",
       "      <td>0</td>\n",
       "      <td>0</td>\n",
       "      <td>0</td>\n",
       "      <td>0</td>\n",
       "      <td>0</td>\n",
       "      <td>0</td>\n",
       "    </tr>\n",
       "    <tr>\n",
       "      <th>1</th>\n",
       "      <td>0</td>\n",
       "      <td>0</td>\n",
       "      <td>0</td>\n",
       "      <td>1.0</td>\n",
       "      <td>80.81</td>\n",
       "      <td>112.28</td>\n",
       "      <td>3.1</td>\n",
       "      <td>2009-01-01 00:30:00</td>\n",
       "      <td>1</td>\n",
       "      <td>0</td>\n",
       "      <td>0</td>\n",
       "      <td>0</td>\n",
       "      <td>0</td>\n",
       "      <td>0</td>\n",
       "      <td>0</td>\n",
       "      <td>0</td>\n",
       "      <td>0</td>\n",
       "      <td>0</td>\n",
       "    </tr>\n",
       "    <tr>\n",
       "      <th>2</th>\n",
       "      <td>0</td>\n",
       "      <td>0</td>\n",
       "      <td>0</td>\n",
       "      <td>0.0</td>\n",
       "      <td>78.27</td>\n",
       "      <td>118.50</td>\n",
       "      <td>3.2</td>\n",
       "      <td>2009-01-01 01:00:00</td>\n",
       "      <td>0</td>\n",
       "      <td>0</td>\n",
       "      <td>0</td>\n",
       "      <td>0</td>\n",
       "      <td>1</td>\n",
       "      <td>0</td>\n",
       "      <td>0</td>\n",
       "      <td>0</td>\n",
       "      <td>0</td>\n",
       "      <td>0</td>\n",
       "    </tr>\n",
       "    <tr>\n",
       "      <th>3</th>\n",
       "      <td>0</td>\n",
       "      <td>0</td>\n",
       "      <td>0</td>\n",
       "      <td>0.0</td>\n",
       "      <td>78.27</td>\n",
       "      <td>124.78</td>\n",
       "      <td>3.1</td>\n",
       "      <td>2009-01-01 01:30:00</td>\n",
       "      <td>0</td>\n",
       "      <td>0</td>\n",
       "      <td>0</td>\n",
       "      <td>0</td>\n",
       "      <td>1</td>\n",
       "      <td>0</td>\n",
       "      <td>0</td>\n",
       "      <td>0</td>\n",
       "      <td>0</td>\n",
       "      <td>0</td>\n",
       "    </tr>\n",
       "    <tr>\n",
       "      <th>4</th>\n",
       "      <td>0</td>\n",
       "      <td>0</td>\n",
       "      <td>0</td>\n",
       "      <td>0.0</td>\n",
       "      <td>76.45</td>\n",
       "      <td>131.12</td>\n",
       "      <td>3.0</td>\n",
       "      <td>2009-01-01 02:00:00</td>\n",
       "      <td>0</td>\n",
       "      <td>0</td>\n",
       "      <td>0</td>\n",
       "      <td>0</td>\n",
       "      <td>1</td>\n",
       "      <td>0</td>\n",
       "      <td>0</td>\n",
       "      <td>0</td>\n",
       "      <td>0</td>\n",
       "      <td>0</td>\n",
       "    </tr>\n",
       "  </tbody>\n",
       "</table>\n",
       "</div>"
      ],
      "text/plain": [
       "   Clearsky DHI  Clearsky DNI  Clearsky GHI  Dew Point  Relative Humidity  \\\n",
       "0             0             0             0        0.0              75.34   \n",
       "1             0             0             0        1.0              80.81   \n",
       "2             0             0             0        0.0              78.27   \n",
       "3             0             0             0        0.0              78.27   \n",
       "4             0             0             0        0.0              76.45   \n",
       "\n",
       "   Solar Zenith Angle  Wind Speed           Date-Time  Cloud Type_0  \\\n",
       "0              106.15         3.1 2009-01-01 00:00:00             1   \n",
       "1              112.28         3.1 2009-01-01 00:30:00             1   \n",
       "2              118.50         3.2 2009-01-01 01:00:00             0   \n",
       "3              124.78         3.1 2009-01-01 01:30:00             0   \n",
       "4              131.12         3.0 2009-01-01 02:00:00             0   \n",
       "\n",
       "   Cloud Type_1  Cloud Type_2  Cloud Type_3  Cloud Type_4  Cloud Type_6  \\\n",
       "0             0             0             0             0             0   \n",
       "1             0             0             0             0             0   \n",
       "2             0             0             0             1             0   \n",
       "3             0             0             0             1             0   \n",
       "4             0             0             0             1             0   \n",
       "\n",
       "   Cloud Type_7  Cloud Type_8  Cloud Type_9  Cloud Type_10  \n",
       "0             0             0             0              0  \n",
       "1             0             0             0              0  \n",
       "2             0             0             0              0  \n",
       "3             0             0             0              0  \n",
       "4             0             0             0              0  "
      ]
     },
     "execution_count": 15,
     "metadata": {},
     "output_type": "execute_result"
    }
   ],
   "source": [
    "df = pd.get_dummies(df, columns=['Cloud Type'])\n",
    "df.head()"
   ]
  },
  {
   "cell_type": "markdown",
   "id": "8823b0ad",
   "metadata": {},
   "source": [
    "Now, we will just move the date column to the start, so it is easily readable"
   ]
  },
  {
   "cell_type": "code",
   "execution_count": 16,
   "id": "32adefa6",
   "metadata": {},
   "outputs": [
    {
     "data": {
      "text/plain": [
       "['Clearsky DHI',\n",
       " 'Clearsky DNI',\n",
       " 'Clearsky GHI',\n",
       " 'Dew Point',\n",
       " 'Relative Humidity',\n",
       " 'Solar Zenith Angle',\n",
       " 'Wind Speed',\n",
       " 'Date-Time',\n",
       " 'Cloud Type_0',\n",
       " 'Cloud Type_1',\n",
       " 'Cloud Type_2',\n",
       " 'Cloud Type_3',\n",
       " 'Cloud Type_4',\n",
       " 'Cloud Type_6',\n",
       " 'Cloud Type_7',\n",
       " 'Cloud Type_8',\n",
       " 'Cloud Type_9',\n",
       " 'Cloud Type_10']"
      ]
     },
     "execution_count": 16,
     "metadata": {},
     "output_type": "execute_result"
    }
   ],
   "source": [
    "columns_list = []\n",
    "for cols in df.columns:\n",
    "    columns_list.append(cols)\n",
    "columns_list"
   ]
  },
  {
   "cell_type": "code",
   "execution_count": 17,
   "id": "7f1b4c0e",
   "metadata": {},
   "outputs": [
    {
     "data": {
      "text/plain": [
       "['Date-Time',\n",
       " 'Clearsky DHI',\n",
       " 'Clearsky DNI',\n",
       " 'Clearsky GHI',\n",
       " 'Dew Point',\n",
       " 'Relative Humidity',\n",
       " 'Solar Zenith Angle',\n",
       " 'Wind Speed',\n",
       " 'Cloud Type_0',\n",
       " 'Cloud Type_1',\n",
       " 'Cloud Type_2',\n",
       " 'Cloud Type_3',\n",
       " 'Cloud Type_4',\n",
       " 'Cloud Type_6',\n",
       " 'Cloud Type_7',\n",
       " 'Cloud Type_8',\n",
       " 'Cloud Type_9',\n",
       " 'Cloud Type_10']"
      ]
     },
     "execution_count": 17,
     "metadata": {},
     "output_type": "execute_result"
    }
   ],
   "source": [
    "columns_list = columns_list[7:8] + columns_list[:7] + columns_list[8:]\n",
    "columns_list"
   ]
  },
  {
   "cell_type": "code",
   "execution_count": 18,
   "id": "fff207bf",
   "metadata": {},
   "outputs": [
    {
     "data": {
      "text/html": [
       "<div>\n",
       "<style scoped>\n",
       "    .dataframe tbody tr th:only-of-type {\n",
       "        vertical-align: middle;\n",
       "    }\n",
       "\n",
       "    .dataframe tbody tr th {\n",
       "        vertical-align: top;\n",
       "    }\n",
       "\n",
       "    .dataframe thead th {\n",
       "        text-align: right;\n",
       "    }\n",
       "</style>\n",
       "<table border=\"1\" class=\"dataframe\">\n",
       "  <thead>\n",
       "    <tr style=\"text-align: right;\">\n",
       "      <th></th>\n",
       "      <th>Date-Time</th>\n",
       "      <th>Clearsky DHI</th>\n",
       "      <th>Clearsky DNI</th>\n",
       "      <th>Clearsky GHI</th>\n",
       "      <th>Dew Point</th>\n",
       "      <th>Relative Humidity</th>\n",
       "      <th>Solar Zenith Angle</th>\n",
       "      <th>Wind Speed</th>\n",
       "      <th>Cloud Type_0</th>\n",
       "      <th>Cloud Type_1</th>\n",
       "      <th>Cloud Type_2</th>\n",
       "      <th>Cloud Type_3</th>\n",
       "      <th>Cloud Type_4</th>\n",
       "      <th>Cloud Type_6</th>\n",
       "      <th>Cloud Type_7</th>\n",
       "      <th>Cloud Type_8</th>\n",
       "      <th>Cloud Type_9</th>\n",
       "      <th>Cloud Type_10</th>\n",
       "    </tr>\n",
       "  </thead>\n",
       "  <tbody>\n",
       "    <tr>\n",
       "      <th>0</th>\n",
       "      <td>2009-01-01 00:00:00</td>\n",
       "      <td>0</td>\n",
       "      <td>0</td>\n",
       "      <td>0</td>\n",
       "      <td>0.0</td>\n",
       "      <td>75.34</td>\n",
       "      <td>106.15</td>\n",
       "      <td>3.1</td>\n",
       "      <td>1</td>\n",
       "      <td>0</td>\n",
       "      <td>0</td>\n",
       "      <td>0</td>\n",
       "      <td>0</td>\n",
       "      <td>0</td>\n",
       "      <td>0</td>\n",
       "      <td>0</td>\n",
       "      <td>0</td>\n",
       "      <td>0</td>\n",
       "    </tr>\n",
       "    <tr>\n",
       "      <th>1</th>\n",
       "      <td>2009-01-01 00:30:00</td>\n",
       "      <td>0</td>\n",
       "      <td>0</td>\n",
       "      <td>0</td>\n",
       "      <td>1.0</td>\n",
       "      <td>80.81</td>\n",
       "      <td>112.28</td>\n",
       "      <td>3.1</td>\n",
       "      <td>1</td>\n",
       "      <td>0</td>\n",
       "      <td>0</td>\n",
       "      <td>0</td>\n",
       "      <td>0</td>\n",
       "      <td>0</td>\n",
       "      <td>0</td>\n",
       "      <td>0</td>\n",
       "      <td>0</td>\n",
       "      <td>0</td>\n",
       "    </tr>\n",
       "    <tr>\n",
       "      <th>2</th>\n",
       "      <td>2009-01-01 01:00:00</td>\n",
       "      <td>0</td>\n",
       "      <td>0</td>\n",
       "      <td>0</td>\n",
       "      <td>0.0</td>\n",
       "      <td>78.27</td>\n",
       "      <td>118.50</td>\n",
       "      <td>3.2</td>\n",
       "      <td>0</td>\n",
       "      <td>0</td>\n",
       "      <td>0</td>\n",
       "      <td>0</td>\n",
       "      <td>1</td>\n",
       "      <td>0</td>\n",
       "      <td>0</td>\n",
       "      <td>0</td>\n",
       "      <td>0</td>\n",
       "      <td>0</td>\n",
       "    </tr>\n",
       "    <tr>\n",
       "      <th>3</th>\n",
       "      <td>2009-01-01 01:30:00</td>\n",
       "      <td>0</td>\n",
       "      <td>0</td>\n",
       "      <td>0</td>\n",
       "      <td>0.0</td>\n",
       "      <td>78.27</td>\n",
       "      <td>124.78</td>\n",
       "      <td>3.1</td>\n",
       "      <td>0</td>\n",
       "      <td>0</td>\n",
       "      <td>0</td>\n",
       "      <td>0</td>\n",
       "      <td>1</td>\n",
       "      <td>0</td>\n",
       "      <td>0</td>\n",
       "      <td>0</td>\n",
       "      <td>0</td>\n",
       "      <td>0</td>\n",
       "    </tr>\n",
       "    <tr>\n",
       "      <th>4</th>\n",
       "      <td>2009-01-01 02:00:00</td>\n",
       "      <td>0</td>\n",
       "      <td>0</td>\n",
       "      <td>0</td>\n",
       "      <td>0.0</td>\n",
       "      <td>76.45</td>\n",
       "      <td>131.12</td>\n",
       "      <td>3.0</td>\n",
       "      <td>0</td>\n",
       "      <td>0</td>\n",
       "      <td>0</td>\n",
       "      <td>0</td>\n",
       "      <td>1</td>\n",
       "      <td>0</td>\n",
       "      <td>0</td>\n",
       "      <td>0</td>\n",
       "      <td>0</td>\n",
       "      <td>0</td>\n",
       "    </tr>\n",
       "  </tbody>\n",
       "</table>\n",
       "</div>"
      ],
      "text/plain": [
       "            Date-Time  Clearsky DHI  Clearsky DNI  Clearsky GHI  Dew Point  \\\n",
       "0 2009-01-01 00:00:00             0             0             0        0.0   \n",
       "1 2009-01-01 00:30:00             0             0             0        1.0   \n",
       "2 2009-01-01 01:00:00             0             0             0        0.0   \n",
       "3 2009-01-01 01:30:00             0             0             0        0.0   \n",
       "4 2009-01-01 02:00:00             0             0             0        0.0   \n",
       "\n",
       "   Relative Humidity  Solar Zenith Angle  Wind Speed  Cloud Type_0  \\\n",
       "0              75.34              106.15         3.1             1   \n",
       "1              80.81              112.28         3.1             1   \n",
       "2              78.27              118.50         3.2             0   \n",
       "3              78.27              124.78         3.1             0   \n",
       "4              76.45              131.12         3.0             0   \n",
       "\n",
       "   Cloud Type_1  Cloud Type_2  Cloud Type_3  Cloud Type_4  Cloud Type_6  \\\n",
       "0             0             0             0             0             0   \n",
       "1             0             0             0             0             0   \n",
       "2             0             0             0             1             0   \n",
       "3             0             0             0             1             0   \n",
       "4             0             0             0             1             0   \n",
       "\n",
       "   Cloud Type_7  Cloud Type_8  Cloud Type_9  Cloud Type_10  \n",
       "0             0             0             0              0  \n",
       "1             0             0             0              0  \n",
       "2             0             0             0              0  \n",
       "3             0             0             0              0  \n",
       "4             0             0             0              0  "
      ]
     },
     "execution_count": 18,
     "metadata": {},
     "output_type": "execute_result"
    }
   ],
   "source": [
    "df = df[columns_list]\n",
    "df.head()"
   ]
  },
  {
   "cell_type": "markdown",
   "id": "8c7619c6",
   "metadata": {},
   "source": [
    "We have completed the EDA and cleaning and this is what our final dataset looks like."
   ]
  },
  {
   "cell_type": "markdown",
   "id": "0b542b87",
   "metadata": {},
   "source": [
    "# Splitting the final pre-processed data into train and validation sets"
   ]
  },
  {
   "cell_type": "markdown",
   "id": "fe867caa",
   "metadata": {},
   "source": [
    "Converting cleaned dataframe into x and y variables first and then into training and validations sets"
   ]
  },
  {
   "cell_type": "code",
   "execution_count": 19,
   "id": "69e413af",
   "metadata": {
    "ExecuteTime": {
     "end_time": "2022-02-22T06:14:49.533317Z",
     "start_time": "2022-02-22T06:14:49.502893Z"
    }
   },
   "outputs": [],
   "source": [
    "x = df.iloc[:, 4:].copy()"
   ]
  },
  {
   "cell_type": "code",
   "execution_count": 20,
   "id": "9300ca71",
   "metadata": {
    "ExecuteTime": {
     "end_time": "2022-02-22T06:14:49.544732Z",
     "start_time": "2022-02-22T06:14:49.533317Z"
    }
   },
   "outputs": [
    {
     "data": {
      "text/html": [
       "<div>\n",
       "<style scoped>\n",
       "    .dataframe tbody tr th:only-of-type {\n",
       "        vertical-align: middle;\n",
       "    }\n",
       "\n",
       "    .dataframe tbody tr th {\n",
       "        vertical-align: top;\n",
       "    }\n",
       "\n",
       "    .dataframe thead th {\n",
       "        text-align: right;\n",
       "    }\n",
       "</style>\n",
       "<table border=\"1\" class=\"dataframe\">\n",
       "  <thead>\n",
       "    <tr style=\"text-align: right;\">\n",
       "      <th></th>\n",
       "      <th>Dew Point</th>\n",
       "      <th>Relative Humidity</th>\n",
       "      <th>Solar Zenith Angle</th>\n",
       "      <th>Wind Speed</th>\n",
       "      <th>Cloud Type_0</th>\n",
       "      <th>Cloud Type_1</th>\n",
       "      <th>Cloud Type_2</th>\n",
       "      <th>Cloud Type_3</th>\n",
       "      <th>Cloud Type_4</th>\n",
       "      <th>Cloud Type_6</th>\n",
       "      <th>Cloud Type_7</th>\n",
       "      <th>Cloud Type_8</th>\n",
       "      <th>Cloud Type_9</th>\n",
       "      <th>Cloud Type_10</th>\n",
       "    </tr>\n",
       "  </thead>\n",
       "  <tbody>\n",
       "    <tr>\n",
       "      <th>0</th>\n",
       "      <td>0.0</td>\n",
       "      <td>75.34</td>\n",
       "      <td>106.15</td>\n",
       "      <td>3.1</td>\n",
       "      <td>1</td>\n",
       "      <td>0</td>\n",
       "      <td>0</td>\n",
       "      <td>0</td>\n",
       "      <td>0</td>\n",
       "      <td>0</td>\n",
       "      <td>0</td>\n",
       "      <td>0</td>\n",
       "      <td>0</td>\n",
       "      <td>0</td>\n",
       "    </tr>\n",
       "    <tr>\n",
       "      <th>1</th>\n",
       "      <td>1.0</td>\n",
       "      <td>80.81</td>\n",
       "      <td>112.28</td>\n",
       "      <td>3.1</td>\n",
       "      <td>1</td>\n",
       "      <td>0</td>\n",
       "      <td>0</td>\n",
       "      <td>0</td>\n",
       "      <td>0</td>\n",
       "      <td>0</td>\n",
       "      <td>0</td>\n",
       "      <td>0</td>\n",
       "      <td>0</td>\n",
       "      <td>0</td>\n",
       "    </tr>\n",
       "    <tr>\n",
       "      <th>2</th>\n",
       "      <td>0.0</td>\n",
       "      <td>78.27</td>\n",
       "      <td>118.50</td>\n",
       "      <td>3.2</td>\n",
       "      <td>0</td>\n",
       "      <td>0</td>\n",
       "      <td>0</td>\n",
       "      <td>0</td>\n",
       "      <td>1</td>\n",
       "      <td>0</td>\n",
       "      <td>0</td>\n",
       "      <td>0</td>\n",
       "      <td>0</td>\n",
       "      <td>0</td>\n",
       "    </tr>\n",
       "    <tr>\n",
       "      <th>3</th>\n",
       "      <td>0.0</td>\n",
       "      <td>78.27</td>\n",
       "      <td>124.78</td>\n",
       "      <td>3.1</td>\n",
       "      <td>0</td>\n",
       "      <td>0</td>\n",
       "      <td>0</td>\n",
       "      <td>0</td>\n",
       "      <td>1</td>\n",
       "      <td>0</td>\n",
       "      <td>0</td>\n",
       "      <td>0</td>\n",
       "      <td>0</td>\n",
       "      <td>0</td>\n",
       "    </tr>\n",
       "    <tr>\n",
       "      <th>4</th>\n",
       "      <td>0.0</td>\n",
       "      <td>76.45</td>\n",
       "      <td>131.12</td>\n",
       "      <td>3.0</td>\n",
       "      <td>0</td>\n",
       "      <td>0</td>\n",
       "      <td>0</td>\n",
       "      <td>0</td>\n",
       "      <td>1</td>\n",
       "      <td>0</td>\n",
       "      <td>0</td>\n",
       "      <td>0</td>\n",
       "      <td>0</td>\n",
       "      <td>0</td>\n",
       "    </tr>\n",
       "  </tbody>\n",
       "</table>\n",
       "</div>"
      ],
      "text/plain": [
       "   Dew Point  Relative Humidity  Solar Zenith Angle  Wind Speed  Cloud Type_0  \\\n",
       "0        0.0              75.34              106.15         3.1             1   \n",
       "1        1.0              80.81              112.28         3.1             1   \n",
       "2        0.0              78.27              118.50         3.2             0   \n",
       "3        0.0              78.27              124.78         3.1             0   \n",
       "4        0.0              76.45              131.12         3.0             0   \n",
       "\n",
       "   Cloud Type_1  Cloud Type_2  Cloud Type_3  Cloud Type_4  Cloud Type_6  \\\n",
       "0             0             0             0             0             0   \n",
       "1             0             0             0             0             0   \n",
       "2             0             0             0             1             0   \n",
       "3             0             0             0             1             0   \n",
       "4             0             0             0             1             0   \n",
       "\n",
       "   Cloud Type_7  Cloud Type_8  Cloud Type_9  Cloud Type_10  \n",
       "0             0             0             0              0  \n",
       "1             0             0             0              0  \n",
       "2             0             0             0              0  \n",
       "3             0             0             0              0  \n",
       "4             0             0             0              0  "
      ]
     },
     "execution_count": 20,
     "metadata": {},
     "output_type": "execute_result"
    }
   ],
   "source": [
    "x.head()"
   ]
  },
  {
   "cell_type": "code",
   "execution_count": 21,
   "id": "e8a87957",
   "metadata": {
    "ExecuteTime": {
     "end_time": "2022-02-22T06:14:49.556129Z",
     "start_time": "2022-02-22T06:14:49.545159Z"
    }
   },
   "outputs": [],
   "source": [
    "y = df.iloc[:, 1:4].copy()"
   ]
  },
  {
   "cell_type": "code",
   "execution_count": 22,
   "id": "623eab09",
   "metadata": {
    "ExecuteTime": {
     "end_time": "2022-02-22T06:14:49.572169Z",
     "start_time": "2022-02-22T06:14:49.556129Z"
    }
   },
   "outputs": [
    {
     "data": {
      "text/html": [
       "<div>\n",
       "<style scoped>\n",
       "    .dataframe tbody tr th:only-of-type {\n",
       "        vertical-align: middle;\n",
       "    }\n",
       "\n",
       "    .dataframe tbody tr th {\n",
       "        vertical-align: top;\n",
       "    }\n",
       "\n",
       "    .dataframe thead th {\n",
       "        text-align: right;\n",
       "    }\n",
       "</style>\n",
       "<table border=\"1\" class=\"dataframe\">\n",
       "  <thead>\n",
       "    <tr style=\"text-align: right;\">\n",
       "      <th></th>\n",
       "      <th>Clearsky DHI</th>\n",
       "      <th>Clearsky DNI</th>\n",
       "      <th>Clearsky GHI</th>\n",
       "    </tr>\n",
       "  </thead>\n",
       "  <tbody>\n",
       "    <tr>\n",
       "      <th>0</th>\n",
       "      <td>0</td>\n",
       "      <td>0</td>\n",
       "      <td>0</td>\n",
       "    </tr>\n",
       "    <tr>\n",
       "      <th>1</th>\n",
       "      <td>0</td>\n",
       "      <td>0</td>\n",
       "      <td>0</td>\n",
       "    </tr>\n",
       "    <tr>\n",
       "      <th>2</th>\n",
       "      <td>0</td>\n",
       "      <td>0</td>\n",
       "      <td>0</td>\n",
       "    </tr>\n",
       "    <tr>\n",
       "      <th>3</th>\n",
       "      <td>0</td>\n",
       "      <td>0</td>\n",
       "      <td>0</td>\n",
       "    </tr>\n",
       "    <tr>\n",
       "      <th>4</th>\n",
       "      <td>0</td>\n",
       "      <td>0</td>\n",
       "      <td>0</td>\n",
       "    </tr>\n",
       "  </tbody>\n",
       "</table>\n",
       "</div>"
      ],
      "text/plain": [
       "   Clearsky DHI  Clearsky DNI  Clearsky GHI\n",
       "0             0             0             0\n",
       "1             0             0             0\n",
       "2             0             0             0\n",
       "3             0             0             0\n",
       "4             0             0             0"
      ]
     },
     "execution_count": 22,
     "metadata": {},
     "output_type": "execute_result"
    }
   ],
   "source": [
    "y.head()"
   ]
  },
  {
   "cell_type": "markdown",
   "id": "f39f0468",
   "metadata": {},
   "source": [
    "Since this is a time-series data, we cannot randomly split the data into training and testing sets. <br>\n",
    "And since this is a fairly large data set with 175296 rows, we will keep the first 90% data for training and the final 10% for validation"
   ]
  },
  {
   "cell_type": "code",
   "execution_count": 23,
   "id": "f42dba98",
   "metadata": {
    "ExecuteTime": {
     "end_time": "2022-02-22T06:14:49.712766Z",
     "start_time": "2022-02-22T06:14:49.696265Z"
    }
   },
   "outputs": [],
   "source": [
    "x_train = x.iloc[:int(len(x) * 0.90), :]\n",
    "x_val = x.iloc[int(len(x) * 0.90):, :]\n",
    "\n",
    "y_train = y.iloc[:int(len(y) * 0.90), :]\n",
    "y_val = y.iloc[int(len(y) * 0.90):, :]"
   ]
  },
  {
   "cell_type": "code",
   "execution_count": 24,
   "id": "d48fe21f",
   "metadata": {
    "ExecuteTime": {
     "end_time": "2022-02-22T06:14:49.721089Z",
     "start_time": "2022-02-22T06:14:49.712766Z"
    }
   },
   "outputs": [
    {
     "data": {
      "text/plain": [
       "(157766, 14)"
      ]
     },
     "execution_count": 24,
     "metadata": {},
     "output_type": "execute_result"
    }
   ],
   "source": [
    "x_train.shape"
   ]
  },
  {
   "cell_type": "code",
   "execution_count": 25,
   "id": "41f105c3",
   "metadata": {
    "ExecuteTime": {
     "end_time": "2022-02-22T06:14:49.737269Z",
     "start_time": "2022-02-22T06:14:49.721089Z"
    }
   },
   "outputs": [
    {
     "data": {
      "text/plain": [
       "(17530, 14)"
      ]
     },
     "execution_count": 25,
     "metadata": {},
     "output_type": "execute_result"
    }
   ],
   "source": [
    "x_val.shape"
   ]
  },
  {
   "cell_type": "code",
   "execution_count": 26,
   "id": "6414a647",
   "metadata": {
    "ExecuteTime": {
     "end_time": "2022-02-22T06:14:49.753513Z",
     "start_time": "2022-02-22T06:14:49.738946Z"
    }
   },
   "outputs": [
    {
     "data": {
      "text/plain": [
       "(157766, 3)"
      ]
     },
     "execution_count": 26,
     "metadata": {},
     "output_type": "execute_result"
    }
   ],
   "source": [
    "y_train.shape"
   ]
  },
  {
   "cell_type": "code",
   "execution_count": 27,
   "id": "698c920b",
   "metadata": {
    "ExecuteTime": {
     "end_time": "2022-02-22T06:14:49.762338Z",
     "start_time": "2022-02-22T06:14:49.755804Z"
    }
   },
   "outputs": [
    {
     "data": {
      "text/plain": [
       "(17530, 3)"
      ]
     },
     "execution_count": 27,
     "metadata": {},
     "output_type": "execute_result"
    }
   ],
   "source": [
    "y_val.shape"
   ]
  },
  {
   "cell_type": "markdown",
   "id": "22ee11d4",
   "metadata": {
    "ExecuteTime": {
     "end_time": "2022-02-20T08:16:13.649831Z",
     "start_time": "2022-02-20T08:16:13.635205Z"
    }
   },
   "source": [
    "# Creating Regression Tree"
   ]
  },
  {
   "cell_type": "code",
   "execution_count": 28,
   "id": "d23f447b",
   "metadata": {
    "ExecuteTime": {
     "end_time": "2022-02-22T06:14:49.989000Z",
     "start_time": "2022-02-22T06:14:49.762338Z"
    }
   },
   "outputs": [],
   "source": [
    "from sklearn.tree import DecisionTreeRegressor\n",
    "from sklearn.metrics import mean_squared_error"
   ]
  },
  {
   "cell_type": "code",
   "execution_count": 29,
   "id": "420aa3df",
   "metadata": {
    "ExecuteTime": {
     "end_time": "2022-02-22T06:14:50.640012Z",
     "start_time": "2022-02-22T06:14:49.989000Z"
    }
   },
   "outputs": [],
   "source": [
    "regressionTree = DecisionTreeRegressor(max_depth=20, max_leaf_nodes=20000, max_features=10)\n",
    "regressionTree = regressionTree.fit(x_train, y_train)"
   ]
  },
  {
   "cell_type": "code",
   "execution_count": 30,
   "id": "05a781dc",
   "metadata": {
    "ExecuteTime": {
     "end_time": "2022-02-22T06:14:50.655863Z",
     "start_time": "2022-02-22T06:14:50.640012Z"
    }
   },
   "outputs": [],
   "source": [
    "y_pred_val_decisionTree = regressionTree.predict(x_val)"
   ]
  },
  {
   "cell_type": "code",
   "execution_count": 31,
   "id": "de09865e",
   "metadata": {
    "ExecuteTime": {
     "end_time": "2022-02-22T06:14:50.679590Z",
     "start_time": "2022-02-22T06:14:50.667867Z"
    }
   },
   "outputs": [
    {
     "data": {
      "text/html": [
       "<div>\n",
       "<style scoped>\n",
       "    .dataframe tbody tr th:only-of-type {\n",
       "        vertical-align: middle;\n",
       "    }\n",
       "\n",
       "    .dataframe tbody tr th {\n",
       "        vertical-align: top;\n",
       "    }\n",
       "\n",
       "    .dataframe thead th {\n",
       "        text-align: right;\n",
       "    }\n",
       "</style>\n",
       "<table border=\"1\" class=\"dataframe\">\n",
       "  <thead>\n",
       "    <tr style=\"text-align: right;\">\n",
       "      <th></th>\n",
       "      <th>Clearsky DHI</th>\n",
       "      <th>Clearsky DNI</th>\n",
       "      <th>Clearsky GHI</th>\n",
       "    </tr>\n",
       "  </thead>\n",
       "  <tbody>\n",
       "    <tr>\n",
       "      <th>0</th>\n",
       "      <td>80.800000</td>\n",
       "      <td>907.000000</td>\n",
       "      <td>557.400000</td>\n",
       "    </tr>\n",
       "    <tr>\n",
       "      <th>1</th>\n",
       "      <td>81.250000</td>\n",
       "      <td>864.000000</td>\n",
       "      <td>499.750000</td>\n",
       "    </tr>\n",
       "    <tr>\n",
       "      <th>2</th>\n",
       "      <td>75.333333</td>\n",
       "      <td>848.666667</td>\n",
       "      <td>449.555556</td>\n",
       "    </tr>\n",
       "    <tr>\n",
       "      <th>3</th>\n",
       "      <td>89.750000</td>\n",
       "      <td>689.500000</td>\n",
       "      <td>346.750000</td>\n",
       "    </tr>\n",
       "    <tr>\n",
       "      <th>4</th>\n",
       "      <td>71.000000</td>\n",
       "      <td>649.000000</td>\n",
       "      <td>258.000000</td>\n",
       "    </tr>\n",
       "  </tbody>\n",
       "</table>\n",
       "</div>"
      ],
      "text/plain": [
       "   Clearsky DHI  Clearsky DNI  Clearsky GHI\n",
       "0     80.800000    907.000000    557.400000\n",
       "1     81.250000    864.000000    499.750000\n",
       "2     75.333333    848.666667    449.555556\n",
       "3     89.750000    689.500000    346.750000\n",
       "4     71.000000    649.000000    258.000000"
      ]
     },
     "execution_count": 31,
     "metadata": {},
     "output_type": "execute_result"
    }
   ],
   "source": [
    "y_pred_val_decisionTree = pd.DataFrame(y_pred_val_decisionTree, columns=y_val.columns)\n",
    "y_pred_val_decisionTree.head()"
   ]
  },
  {
   "cell_type": "code",
   "execution_count": 32,
   "id": "3f803772",
   "metadata": {
    "ExecuteTime": {
     "end_time": "2022-02-22T06:14:50.692606Z",
     "start_time": "2022-02-22T06:14:50.679590Z"
    }
   },
   "outputs": [],
   "source": [
    "y_pred_val_decisionTree = y_pred_val_decisionTree.astype('int')"
   ]
  },
  {
   "cell_type": "code",
   "execution_count": 33,
   "id": "823d2d48",
   "metadata": {},
   "outputs": [],
   "source": [
    "for col in y_pred_val_decisionTree:\n",
    "    for i in range(len(y_pred_val_decisionTree[col])):\n",
    "        if y_pred_val_decisionTree.loc[i, col] < 0:\n",
    "            y_pred_val_decisionTree.loc[i, col] = 0"
   ]
  },
  {
   "cell_type": "code",
   "execution_count": 34,
   "id": "31e8e55f",
   "metadata": {
    "ExecuteTime": {
     "end_time": "2022-02-22T06:14:50.705575Z",
     "start_time": "2022-02-22T06:14:50.692606Z"
    }
   },
   "outputs": [
    {
     "data": {
      "text/html": [
       "<div>\n",
       "<style scoped>\n",
       "    .dataframe tbody tr th:only-of-type {\n",
       "        vertical-align: middle;\n",
       "    }\n",
       "\n",
       "    .dataframe tbody tr th {\n",
       "        vertical-align: top;\n",
       "    }\n",
       "\n",
       "    .dataframe thead th {\n",
       "        text-align: right;\n",
       "    }\n",
       "</style>\n",
       "<table border=\"1\" class=\"dataframe\">\n",
       "  <thead>\n",
       "    <tr style=\"text-align: right;\">\n",
       "      <th></th>\n",
       "      <th>Clearsky DHI</th>\n",
       "      <th>Clearsky DNI</th>\n",
       "      <th>Clearsky GHI</th>\n",
       "    </tr>\n",
       "  </thead>\n",
       "  <tbody>\n",
       "    <tr>\n",
       "      <th>0</th>\n",
       "      <td>80</td>\n",
       "      <td>907</td>\n",
       "      <td>557</td>\n",
       "    </tr>\n",
       "    <tr>\n",
       "      <th>1</th>\n",
       "      <td>81</td>\n",
       "      <td>864</td>\n",
       "      <td>499</td>\n",
       "    </tr>\n",
       "    <tr>\n",
       "      <th>2</th>\n",
       "      <td>75</td>\n",
       "      <td>848</td>\n",
       "      <td>449</td>\n",
       "    </tr>\n",
       "    <tr>\n",
       "      <th>3</th>\n",
       "      <td>89</td>\n",
       "      <td>689</td>\n",
       "      <td>346</td>\n",
       "    </tr>\n",
       "    <tr>\n",
       "      <th>4</th>\n",
       "      <td>71</td>\n",
       "      <td>649</td>\n",
       "      <td>258</td>\n",
       "    </tr>\n",
       "  </tbody>\n",
       "</table>\n",
       "</div>"
      ],
      "text/plain": [
       "   Clearsky DHI  Clearsky DNI  Clearsky GHI\n",
       "0            80           907           557\n",
       "1            81           864           499\n",
       "2            75           848           449\n",
       "3            89           689           346\n",
       "4            71           649           258"
      ]
     },
     "execution_count": 34,
     "metadata": {},
     "output_type": "execute_result"
    }
   ],
   "source": [
    "y_pred_val_decisionTree.head()"
   ]
  },
  {
   "cell_type": "code",
   "execution_count": 35,
   "id": "04de53dc",
   "metadata": {
    "ExecuteTime": {
     "end_time": "2022-02-22T06:14:50.667867Z",
     "start_time": "2022-02-22T06:14:50.655863Z"
    }
   },
   "outputs": [],
   "source": [
    "mse_decisionTree = mean_squared_error(y_val, y_pred_val_decisionTree)"
   ]
  },
  {
   "cell_type": "markdown",
   "id": "a859432b",
   "metadata": {
    "ExecuteTime": {
     "end_time": "2022-02-22T06:15:19.933628Z",
     "start_time": "2022-02-22T06:15:19.917405Z"
    }
   },
   "source": [
    "# Regression using Random Forest"
   ]
  },
  {
   "cell_type": "code",
   "execution_count": 36,
   "id": "9b6abe36",
   "metadata": {
    "ExecuteTime": {
     "end_time": "2022-02-22T06:39:12.014903Z",
     "start_time": "2022-02-22T06:39:11.999618Z"
    }
   },
   "outputs": [],
   "source": [
    "from sklearn.ensemble import RandomForestRegressor\n",
    "randomForest = RandomForestRegressor()"
   ]
  },
  {
   "cell_type": "code",
   "execution_count": 37,
   "id": "256a13a7",
   "metadata": {
    "ExecuteTime": {
     "end_time": "2022-02-22T06:39:49.794389Z",
     "start_time": "2022-02-22T06:39:12.017095Z"
    }
   },
   "outputs": [],
   "source": [
    "randomForest = randomForest.fit(x_train, y_train)"
   ]
  },
  {
   "cell_type": "code",
   "execution_count": 38,
   "id": "ad4d2e86",
   "metadata": {
    "ExecuteTime": {
     "end_time": "2022-02-22T06:39:50.182345Z",
     "start_time": "2022-02-22T06:39:49.794389Z"
    }
   },
   "outputs": [],
   "source": [
    "y_pred_val_forest = randomForest.predict(x_val)"
   ]
  },
  {
   "cell_type": "code",
   "execution_count": 39,
   "id": "43739e56",
   "metadata": {
    "ExecuteTime": {
     "end_time": "2022-02-22T06:39:50.198072Z",
     "start_time": "2022-02-22T06:39:50.182345Z"
    }
   },
   "outputs": [
    {
     "data": {
      "text/html": [
       "<div>\n",
       "<style scoped>\n",
       "    .dataframe tbody tr th:only-of-type {\n",
       "        vertical-align: middle;\n",
       "    }\n",
       "\n",
       "    .dataframe tbody tr th {\n",
       "        vertical-align: top;\n",
       "    }\n",
       "\n",
       "    .dataframe thead th {\n",
       "        text-align: right;\n",
       "    }\n",
       "</style>\n",
       "<table border=\"1\" class=\"dataframe\">\n",
       "  <thead>\n",
       "    <tr style=\"text-align: right;\">\n",
       "      <th></th>\n",
       "      <th>Clearsky DHI</th>\n",
       "      <th>Clearsky DNI</th>\n",
       "      <th>Clearsky GHI</th>\n",
       "    </tr>\n",
       "  </thead>\n",
       "  <tbody>\n",
       "    <tr>\n",
       "      <th>0</th>\n",
       "      <td>94.56</td>\n",
       "      <td>859.92</td>\n",
       "      <td>548.54</td>\n",
       "    </tr>\n",
       "    <tr>\n",
       "      <th>1</th>\n",
       "      <td>109.11</td>\n",
       "      <td>757.35</td>\n",
       "      <td>477.48</td>\n",
       "    </tr>\n",
       "    <tr>\n",
       "      <th>2</th>\n",
       "      <td>86.17</td>\n",
       "      <td>793.39</td>\n",
       "      <td>428.34</td>\n",
       "    </tr>\n",
       "    <tr>\n",
       "      <th>3</th>\n",
       "      <td>82.45</td>\n",
       "      <td>718.81</td>\n",
       "      <td>342.23</td>\n",
       "    </tr>\n",
       "    <tr>\n",
       "      <th>4</th>\n",
       "      <td>65.05</td>\n",
       "      <td>700.42</td>\n",
       "      <td>268.04</td>\n",
       "    </tr>\n",
       "  </tbody>\n",
       "</table>\n",
       "</div>"
      ],
      "text/plain": [
       "   Clearsky DHI  Clearsky DNI  Clearsky GHI\n",
       "0         94.56        859.92        548.54\n",
       "1        109.11        757.35        477.48\n",
       "2         86.17        793.39        428.34\n",
       "3         82.45        718.81        342.23\n",
       "4         65.05        700.42        268.04"
      ]
     },
     "execution_count": 39,
     "metadata": {},
     "output_type": "execute_result"
    }
   ],
   "source": [
    "y_pred_val_forest = pd.DataFrame(y_pred_val_forest, columns=y_val.columns)\n",
    "y_pred_val_forest.head()"
   ]
  },
  {
   "cell_type": "code",
   "execution_count": 40,
   "id": "22dd9be3",
   "metadata": {
    "ExecuteTime": {
     "end_time": "2022-02-22T06:39:50.214103Z",
     "start_time": "2022-02-22T06:39:50.198072Z"
    }
   },
   "outputs": [],
   "source": [
    "y_pred_val_forest = y_pred_val_forest.astype('int')"
   ]
  },
  {
   "cell_type": "code",
   "execution_count": 41,
   "id": "b3d25288",
   "metadata": {},
   "outputs": [],
   "source": [
    "for col in y_pred_val_forest:\n",
    "    for i in range(len(y_pred_val_forest[col])):\n",
    "        if y_pred_val_forest.loc[i, col] < 0:\n",
    "            y_pred_val_forest.loc[i, col] = 0"
   ]
  },
  {
   "cell_type": "code",
   "execution_count": 42,
   "id": "4c997cff",
   "metadata": {
    "ExecuteTime": {
     "end_time": "2022-02-22T06:39:50.230073Z",
     "start_time": "2022-02-22T06:39:50.214103Z"
    }
   },
   "outputs": [
    {
     "data": {
      "text/plain": [
       "1121.620498193573"
      ]
     },
     "execution_count": 42,
     "metadata": {},
     "output_type": "execute_result"
    }
   ],
   "source": [
    "mse_randomForest = mean_squared_error(y_val, y_pred_val_forest)\n",
    "mse_randomForest"
   ]
  },
  {
   "cell_type": "markdown",
   "id": "fe333e38",
   "metadata": {
    "ExecuteTime": {
     "end_time": "2022-02-22T06:42:37.958660Z",
     "start_time": "2022-02-22T06:42:37.942657Z"
    }
   },
   "source": [
    "# Regression using AdaBoost"
   ]
  },
  {
   "cell_type": "code",
   "execution_count": 43,
   "id": "3419f38a",
   "metadata": {
    "ExecuteTime": {
     "end_time": "2022-02-22T06:53:20.609518Z",
     "start_time": "2022-02-22T06:52:48.449446Z"
    }
   },
   "outputs": [],
   "source": [
    "from sklearn.multioutput import MultiOutputRegressor\n",
    "from sklearn.ensemble import AdaBoostRegressor\n",
    "adaBoost = MultiOutputRegressor(AdaBoostRegressor())"
   ]
  },
  {
   "cell_type": "code",
   "execution_count": 44,
   "id": "afc4354f",
   "metadata": {},
   "outputs": [],
   "source": [
    "adaBoost = adaBoost.fit(x_train, y_train)"
   ]
  },
  {
   "cell_type": "code",
   "execution_count": 45,
   "id": "fefaf619",
   "metadata": {
    "ExecuteTime": {
     "end_time": "2022-02-22T06:57:47.133073Z",
     "start_time": "2022-02-22T06:57:46.880407Z"
    }
   },
   "outputs": [],
   "source": [
    "y_pred_val_adaboost = adaBoost.predict(x_val)"
   ]
  },
  {
   "cell_type": "code",
   "execution_count": 46,
   "id": "af7ed03d",
   "metadata": {},
   "outputs": [],
   "source": [
    "y_pred_val_adaboost = pd.DataFrame(y_pred_val_adaboost, columns=y_val.columns)"
   ]
  },
  {
   "cell_type": "code",
   "execution_count": 47,
   "id": "c12cfaaf",
   "metadata": {},
   "outputs": [],
   "source": [
    "y_pred_val_adaboost = y_pred_val_adaboost.astype('int')"
   ]
  },
  {
   "cell_type": "code",
   "execution_count": 48,
   "id": "e5ca0eaa",
   "metadata": {},
   "outputs": [],
   "source": [
    "for col in y_pred_val_adaboost:\n",
    "    for i in range(len(y_pred_val_adaboost[col])):\n",
    "        if y_pred_val_adaboost.loc[i, col] < 0:\n",
    "            y_pred_val_adaboost.loc[i, col] = 0"
   ]
  },
  {
   "cell_type": "code",
   "execution_count": 49,
   "id": "3128ebad",
   "metadata": {},
   "outputs": [
    {
     "data": {
      "text/html": [
       "<div>\n",
       "<style scoped>\n",
       "    .dataframe tbody tr th:only-of-type {\n",
       "        vertical-align: middle;\n",
       "    }\n",
       "\n",
       "    .dataframe tbody tr th {\n",
       "        vertical-align: top;\n",
       "    }\n",
       "\n",
       "    .dataframe thead th {\n",
       "        text-align: right;\n",
       "    }\n",
       "</style>\n",
       "<table border=\"1\" class=\"dataframe\">\n",
       "  <thead>\n",
       "    <tr style=\"text-align: right;\">\n",
       "      <th></th>\n",
       "      <th>Clearsky DHI</th>\n",
       "      <th>Clearsky DNI</th>\n",
       "      <th>Clearsky GHI</th>\n",
       "    </tr>\n",
       "  </thead>\n",
       "  <tbody>\n",
       "    <tr>\n",
       "      <th>0</th>\n",
       "      <td>134</td>\n",
       "      <td>754</td>\n",
       "      <td>533</td>\n",
       "    </tr>\n",
       "    <tr>\n",
       "      <th>1</th>\n",
       "      <td>134</td>\n",
       "      <td>691</td>\n",
       "      <td>484</td>\n",
       "    </tr>\n",
       "    <tr>\n",
       "      <th>2</th>\n",
       "      <td>118</td>\n",
       "      <td>690</td>\n",
       "      <td>400</td>\n",
       "    </tr>\n",
       "    <tr>\n",
       "      <th>3</th>\n",
       "      <td>103</td>\n",
       "      <td>609</td>\n",
       "      <td>324</td>\n",
       "    </tr>\n",
       "    <tr>\n",
       "      <th>4</th>\n",
       "      <td>87</td>\n",
       "      <td>606</td>\n",
       "      <td>247</td>\n",
       "    </tr>\n",
       "  </tbody>\n",
       "</table>\n",
       "</div>"
      ],
      "text/plain": [
       "   Clearsky DHI  Clearsky DNI  Clearsky GHI\n",
       "0           134           754           533\n",
       "1           134           691           484\n",
       "2           118           690           400\n",
       "3           103           609           324\n",
       "4            87           606           247"
      ]
     },
     "execution_count": 49,
     "metadata": {},
     "output_type": "execute_result"
    }
   ],
   "source": [
    "y_pred_val_adaboost.head()"
   ]
  },
  {
   "cell_type": "code",
   "execution_count": 50,
   "id": "bc8d9f78",
   "metadata": {
    "ExecuteTime": {
     "end_time": "2022-02-22T06:57:57.493334Z",
     "start_time": "2022-02-22T06:57:57.477430Z"
    }
   },
   "outputs": [
    {
     "data": {
      "text/plain": [
       "2753.6113709830765"
      ]
     },
     "execution_count": 50,
     "metadata": {},
     "output_type": "execute_result"
    }
   ],
   "source": [
    "mse_adaBoost = mean_squared_error(y_val, y_pred_val_adaboost)\n",
    "mse_adaBoost"
   ]
  },
  {
   "cell_type": "markdown",
   "id": "dedd0f20",
   "metadata": {
    "ExecuteTime": {
     "end_time": "2022-02-22T07:01:50.355922Z",
     "start_time": "2022-02-22T07:01:50.347580Z"
    }
   },
   "source": [
    "# Regression using Gradient Boost"
   ]
  },
  {
   "cell_type": "code",
   "execution_count": 2,
   "id": "0e6079b0",
   "metadata": {
    "ExecuteTime": {
     "end_time": "2022-02-22T07:18:39.890629Z",
     "start_time": "2022-02-22T07:17:42.376736Z"
    }
   },
   "outputs": [],
   "source": [
    "from sklearn.ensemble import GradientBoostingRegressor\n",
    "from sklearn.multioutput import MultiOutputRegressor\n",
    "gradientBoost = MultiOutputRegressor(GradientBoostingRegressor())"
   ]
  },
  {
   "cell_type": "code",
   "execution_count": 52,
   "id": "e2338d97",
   "metadata": {},
   "outputs": [],
   "source": [
    "gradientBoost = gradientBoost.fit(x_train, y_train)"
   ]
  },
  {
   "cell_type": "code",
   "execution_count": 53,
   "id": "39083817",
   "metadata": {
    "ExecuteTime": {
     "end_time": "2022-02-22T07:19:05.286352Z",
     "start_time": "2022-02-22T07:19:05.211156Z"
    }
   },
   "outputs": [],
   "source": [
    "y_pred_val_gradientboost = gradientBoost.predict(x_val)"
   ]
  },
  {
   "cell_type": "code",
   "execution_count": 54,
   "id": "b2f097e3",
   "metadata": {
    "ExecuteTime": {
     "end_time": "2022-02-22T08:29:00.660950Z",
     "start_time": "2022-02-22T08:29:00.643995Z"
    }
   },
   "outputs": [],
   "source": [
    "y_pred_val_gradientboost = pd.DataFrame(y_pred_val_gradientboost, columns=y_val.columns)"
   ]
  },
  {
   "cell_type": "code",
   "execution_count": 55,
   "id": "65a90356",
   "metadata": {
    "ExecuteTime": {
     "end_time": "2022-02-22T08:29:12.229071Z",
     "start_time": "2022-02-22T08:29:12.211119Z"
    }
   },
   "outputs": [],
   "source": [
    "y_pred_val_gradientboost = y_pred_val_gradientboost.astype('int')"
   ]
  },
  {
   "cell_type": "code",
   "execution_count": 56,
   "id": "59ea71ee",
   "metadata": {},
   "outputs": [],
   "source": [
    "for col in y_pred_val_gradientboost:\n",
    "    for i in range(len(y_pred_val_gradientboost[col])):\n",
    "        if y_pred_val_gradientboost.loc[i, col] < 0:\n",
    "            y_pred_val_gradientboost.loc[i, col] = 0"
   ]
  },
  {
   "cell_type": "code",
   "execution_count": 57,
   "id": "77c4fcae",
   "metadata": {
    "ExecuteTime": {
     "end_time": "2022-02-22T08:29:29.993370Z",
     "start_time": "2022-02-22T08:29:29.986388Z"
    }
   },
   "outputs": [
    {
     "data": {
      "text/plain": [
       "997.3773340939342"
      ]
     },
     "execution_count": 57,
     "metadata": {},
     "output_type": "execute_result"
    }
   ],
   "source": [
    "mse_gradientBoost = mean_squared_error(y_val, y_pred_val_gradientboost)\n",
    "mse_gradientBoost"
   ]
  },
  {
   "cell_type": "markdown",
   "id": "a7e49965",
   "metadata": {},
   "source": [
    "# Comparing the MSE scores for all the different models tried"
   ]
  },
  {
   "cell_type": "code",
   "execution_count": 58,
   "id": "a4ca0645",
   "metadata": {},
   "outputs": [],
   "source": [
    "scores = []\n",
    "scores.append(['Simple Decision Tree' ,mse_decisionTree])\n",
    "scores.append(['Random Forest' ,mse_randomForest])\n",
    "scores.append(['AdaBoost' ,mse_adaBoost])\n",
    "scores.append(['GradientBoost' ,mse_gradientBoost])"
   ]
  },
  {
   "cell_type": "code",
   "execution_count": 59,
   "id": "75e26dd0",
   "metadata": {},
   "outputs": [],
   "source": [
    "scores = pd.DataFrame(scores, columns=['Model', 'MSE Score'])"
   ]
  },
  {
   "cell_type": "code",
   "execution_count": 60,
   "id": "d222648f",
   "metadata": {},
   "outputs": [
    {
     "data": {
      "text/html": [
       "<div>\n",
       "<style scoped>\n",
       "    .dataframe tbody tr th:only-of-type {\n",
       "        vertical-align: middle;\n",
       "    }\n",
       "\n",
       "    .dataframe tbody tr th {\n",
       "        vertical-align: top;\n",
       "    }\n",
       "\n",
       "    .dataframe thead th {\n",
       "        text-align: right;\n",
       "    }\n",
       "</style>\n",
       "<table border=\"1\" class=\"dataframe\">\n",
       "  <thead>\n",
       "    <tr style=\"text-align: right;\">\n",
       "      <th></th>\n",
       "      <th>Model</th>\n",
       "      <th>MSE Score</th>\n",
       "    </tr>\n",
       "  </thead>\n",
       "  <tbody>\n",
       "    <tr>\n",
       "      <th>0</th>\n",
       "      <td>Simple Decision Tree</td>\n",
       "      <td>1840.508842</td>\n",
       "    </tr>\n",
       "    <tr>\n",
       "      <th>1</th>\n",
       "      <td>Random Forest</td>\n",
       "      <td>1121.620498</td>\n",
       "    </tr>\n",
       "    <tr>\n",
       "      <th>2</th>\n",
       "      <td>AdaBoost</td>\n",
       "      <td>2753.611371</td>\n",
       "    </tr>\n",
       "    <tr>\n",
       "      <th>3</th>\n",
       "      <td>GradientBoost</td>\n",
       "      <td>997.377334</td>\n",
       "    </tr>\n",
       "  </tbody>\n",
       "</table>\n",
       "</div>"
      ],
      "text/plain": [
       "                  Model    MSE Score\n",
       "0  Simple Decision Tree  1840.508842\n",
       "1         Random Forest  1121.620498\n",
       "2              AdaBoost  2753.611371\n",
       "3         GradientBoost   997.377334"
      ]
     },
     "execution_count": 60,
     "metadata": {},
     "output_type": "execute_result"
    }
   ],
   "source": [
    "scores.head()"
   ]
  }
 ],
 "metadata": {
  "kernelspec": {
   "display_name": "Python 3 (ipykernel)",
   "language": "python",
   "name": "python3"
  },
  "language_info": {
   "codemirror_mode": {
    "name": "ipython",
    "version": 3
   },
   "file_extension": ".py",
   "mimetype": "text/x-python",
   "name": "python",
   "nbconvert_exporter": "python",
   "pygments_lexer": "ipython3",
   "version": "3.9.7"
  },
  "varInspector": {
   "cols": {
    "lenName": 16,
    "lenType": 16,
    "lenVar": 40
   },
   "kernels_config": {
    "python": {
     "delete_cmd_postfix": "",
     "delete_cmd_prefix": "del ",
     "library": "var_list.py",
     "varRefreshCmd": "print(var_dic_list())"
    },
    "r": {
     "delete_cmd_postfix": ") ",
     "delete_cmd_prefix": "rm(",
     "library": "var_list.r",
     "varRefreshCmd": "cat(var_dic_list()) "
    }
   },
   "types_to_exclude": [
    "module",
    "function",
    "builtin_function_or_method",
    "instance",
    "_Feature"
   ],
   "window_display": false
  }
 },
 "nbformat": 4,
 "nbformat_minor": 5
}
